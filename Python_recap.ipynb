{
 "cells": [
  {
   "cell_type": "markdown",
   "metadata": {
    "jp-MarkdownHeadingCollapsed": true
   },
   "source": [
    "# **🌟 1. Bölüm: Giriş**"
   ]
  },
  {
   "cell_type": "markdown",
   "metadata": {
    "jp-MarkdownHeadingCollapsed": true
   },
   "source": [
    "## **▶️▶️ 1.1 Variables (Değişken Atama)**"
   ]
  },
  {
   "cell_type": "markdown",
   "metadata": {
    "jp-MarkdownHeadingCollapsed": true
   },
   "source": [
    "### **▶️ 1.1.1 Konu Anlatımı**"
   ]
  },
  {
   "cell_type": "markdown",
   "metadata": {},
   "source": [
    "> course = \"Techpro Education\"\n",
    "\n",
    "> Yukarıdaki ifade course bir variable'dır. Ve eşitliğin sağındaki kısım ise value'dir.\n",
    "\n",
    "> Yeni bir değişken yaratırken dikkat edilmesi gereken bazı hususlar vardır. Bunlar değişken isminin özel bir ifade ile başlamaması; gereğinden uzun veya gereğinden kısa olmaması gibi birtakım mantıklı ve zaten dikkat edilecek olan şeylerdir."
   ]
  },
  {
   "cell_type": "code",
   "execution_count": 1,
   "metadata": {},
   "outputs": [
    {
     "ename": "SyntaxError",
     "evalue": "invalid decimal literal (2535384460.py, line 13)",
     "output_type": "error",
     "traceback": [
      "\u001b[1;36m  Cell \u001b[1;32mIn[1], line 13\u001b[1;36m\u001b[0m\n\u001b[1;33m    4_name = \"İrem\"\u001b[0m\n\u001b[1;37m     ^\u001b[0m\n\u001b[1;31mSyntaxError\u001b[0m\u001b[1;31m:\u001b[0m invalid decimal literal\n"
     ]
    }
   ],
   "source": [
    "# Aşağıda birtakım başarılı değişken atama işlemi gösterilmiştir.\n",
    "\n",
    "# Uygun olanlar:\n",
    "\n",
    "course = 'Techpro Education'\n",
    "age = 2\n",
    "name = 'Sedat'\n",
    "name_2 = 'Emre'\n",
    "pi_number = 3.14\n",
    "\n",
    "# Uygun olmayanlar:\n",
    "\n",
    "4_name = \"İrem\"\n",
    "pi-number = 3.14"
   ]
  },
  {
   "cell_type": "code",
   "execution_count": null,
   "metadata": {},
   "outputs": [],
   "source": [
    "# Birden fazla değişkeni tek satırda atayabiliriz. Aşağıdaki uygun örnekler verilmiştir.\n",
    "\n",
    "# Uygun olanlar:\n",
    "\n",
    "name_1, name_2 = 'Emre', 'İrem'\n",
    "name, not_ = 'Emre', 'Hoşgeldiniz Emre Bey. Size daha iyi hizmet sunabilmemiz için bize yaşınızı söyler misiniz lütfen'\n",
    "sayı_1, sayı_2 = 123, 321\n",
    "isim, soyisim, yaş, boy = 'Emre', \"Çakır\", 27, 1.81 \n",
    "\n",
    "# uygun olmayanlar\n",
    "\n",
    "name_9, name_10 = \"Emre\""
   ]
  },
  {
   "cell_type": "code",
   "execution_count": null,
   "metadata": {},
   "outputs": [],
   "source": [
    "# Birden fazla değişkeni tek değer şu şekilde atayabiliriz:\n",
    "\n",
    "# uygun olanlar: \n",
    "\n",
    "name = isim = \"Emre\"\n",
    "yaş = doğum_yaşı = 27\n",
    "\n",
    "# Uygun olmayanlar:\n",
    "\n",
    "name, isim = \"Emre\"\n",
    "yaş = doğum_yaşı = 27, 27"
   ]
  },
  {
   "cell_type": "code",
   "execution_count": null,
   "metadata": {},
   "outputs": [],
   "source": [
    "# Değişken atarken çok gereksiz kısa olmamalı değişkenler:\n",
    "\n",
    "# Uygun olanlar:\n",
    "\n",
    "first_name = 'emre'\n",
    "last_name = 'çakır'\n",
    "\n",
    "# Uygun olmayanlar:\n",
    "\n",
    "first_name = 'emre'\n",
    "l_n = 'çakır'"
   ]
  },
  {
   "cell_type": "markdown",
   "metadata": {
    "jp-MarkdownHeadingCollapsed": true
   },
   "source": [
    "### **▶️ 1.1.2 Exersizler**"
   ]
  },
  {
   "cell_type": "markdown",
   "metadata": {},
   "source": [
    "> 1) Kullanıcıdan bir dairenin yarıçapını alarak, dairenin çevresini hesaplayan bir Python programı yazın."
   ]
  },
  {
   "cell_type": "code",
   "execution_count": null,
   "metadata": {},
   "outputs": [
    {
     "name": "stdout",
     "output_type": "stream",
     "text": [
      "131\n"
     ]
    }
   ],
   "source": [
    "yaricap = float(input('Lütfen bir yarıçap giriniz: '))\n",
    "\n",
    "pi_number = 3.14\n",
    "dairenin_cevresi = yaricap * 2 * pi_number\n",
    "\n",
    "print(int(dairenin_cevresi))"
   ]
  },
  {
   "cell_type": "markdown",
   "metadata": {},
   "source": [
    "> 2. Bir kullanıcının yaşını ve ortalama uyku süresini alarak, kullanıcının yaşının uyku süresiyle çarpımını hesaplayan bir Python programı yazın."
   ]
  },
  {
   "cell_type": "code",
   "execution_count": null,
   "metadata": {},
   "outputs": [
    {
     "name": "stdout",
     "output_type": "stream",
     "text": [
      "224\n"
     ]
    }
   ],
   "source": [
    "yas = int(input('Yaşınızı giriniz: '))\n",
    "uyku_suresi = int(input('\"HAFTA KAPANIŞLARI\"'))\n",
    "\n",
    "sonuc = yas * uyku_suresi\n",
    "\n",
    "print(sonuc)"
   ]
  },
  {
   "cell_type": "markdown",
   "metadata": {},
   "source": [
    "> 3. Kullanıcıdan üç farklı sayı alarak, bu sayıların ortalamasını bulan bir Python programı yazın.\n"
   ]
  },
  {
   "cell_type": "code",
   "execution_count": null,
   "metadata": {},
   "outputs": [
    {
     "name": "stdout",
     "output_type": "stream",
     "text": [
      "5\n"
     ]
    }
   ],
   "source": [
    "sayi_1 = float(input('1. sayıyı giriniz: '))\n",
    "sayi_2 = float(input('2. sayıyı giriniz: '))\n",
    "sayi_3 = float(input('3. sayıyı giriniz: '))\n",
    "\n",
    "ortalama = (sayi_1 + sayi_2 + sayi_3) / 3\n",
    "\n",
    "print(int(ortalama))"
   ]
  },
  {
   "cell_type": "markdown",
   "metadata": {},
   "source": [
    "> 4. Kullanıcıdan alınan bir sıcaklık değerini Fahrenheit'ten Celsius'a çeviren bir Python programı yazın."
   ]
  },
  {
   "cell_type": "code",
   "execution_count": null,
   "metadata": {},
   "outputs": [
    {
     "name": "stdout",
     "output_type": "stream",
     "text": [
      "50\n"
     ]
    }
   ],
   "source": [
    "fahrenheit = float(input('Sıcaklık değerini Fahrenheit olarak giriniz: ')) \n",
    "\n",
    "celcius = (fahrenheit - 32) / 1.8\n",
    "\n",
    "print(int(celcius))"
   ]
  },
  {
   "cell_type": "markdown",
   "metadata": {},
   "source": [
    "> 5. Kullanıcıdan alınan iki sayının karesi farkını bulan bir Python programı yazın."
   ]
  },
  {
   "cell_type": "code",
   "execution_count": null,
   "metadata": {},
   "outputs": [
    {
     "name": "stdout",
     "output_type": "stream",
     "text": [
      "14985.0\n"
     ]
    }
   ],
   "source": [
    "sayi_1 = float(input('1. Sayıyı giriniz: '))\n",
    "sayi_2 = float(input('2. Sayıyı giriniz: '))\n",
    "\n",
    "kare_fark = (sayi_1 ** 2) - (sayi_2 ** 2)\n",
    "\n",
    "print(kare_fark)"
   ]
  },
  {
   "cell_type": "markdown",
   "metadata": {
    "jp-MarkdownHeadingCollapsed": true
   },
   "source": [
    "## **▶️▶️ 1.2 Arithmetic Operations**"
   ]
  },
  {
   "cell_type": "markdown",
   "metadata": {},
   "source": [
    "> bu konuda herhangi bir konu anlatımı yapma gereği duymadım"
   ]
  },
  {
   "cell_type": "markdown",
   "metadata": {
    "jp-MarkdownHeadingCollapsed": true
   },
   "source": [
    "### **▶️ 1.2.1. Exersizler**"
   ]
  },
  {
   "cell_type": "markdown",
   "metadata": {},
   "source": [
    "> 1) Kullanıcıdan iki sayı alın ve bu sayıların toplamını, farkını, çarpımını ve bölümünü hesaplayan bir Python programı yazın."
   ]
  },
  {
   "cell_type": "code",
   "execution_count": null,
   "metadata": {},
   "outputs": [
    {
     "name": "stdout",
     "output_type": "stream",
     "text": [
      "14\n",
      "10\n",
      "24\n",
      "6.0\n",
      "6\n"
     ]
    }
   ],
   "source": [
    "sayi_1 = int(input('1. sayıyı giriniz: '))\n",
    "sayi_2 = int(input('2. sayıyı giriniz: '))\n",
    "\n",
    "toplam = sayi_1 + sayi_2\n",
    "fark = sayi_1 - sayi_2\n",
    "carpim = sayi_1 * sayi_2\n",
    "bolum = sayi_1 / sayi_2\n",
    "bolum_kalansız = sayi_1 // sayi_2\n",
    "\n",
    "print(toplam)\n",
    "print(fark)\n",
    "print(carpim)\n",
    "print(bolum)\n",
    "print(bolum_kalansız)"
   ]
  },
  {
   "cell_type": "markdown",
   "metadata": {},
   "source": [
    "> 2. Bir öğrencinin matematik, fen bilgisi, Türkçe, sosyal bilgiler ve İngilizce derslerinde aldığı notları içeren bir liste oluşturun. Bu notları kullanarak, öğrencinin derslerinin toplam notunu ve ortalama notunu hesaplayın."
   ]
  },
  {
   "cell_type": "code",
   "execution_count": null,
   "metadata": {},
   "outputs": [
    {
     "name": "stdout",
     "output_type": "stream",
     "text": [
      "400\n",
      "80.0\n"
     ]
    }
   ],
   "source": [
    "math = int(input('Matematik Sınav Sonucu: '))\n",
    "fen = int(input('Fen Sınav Sonucu: '))\n",
    "turkce = int(input('Turkce Sınav Sonucu: '))\n",
    "sosyal = int(input('Sosyal Sınav Sonucu: '))\n",
    "ingilizce = int(input('İngilizce Sınav Sonucu: '))\n",
    "\n",
    "toplam = math + fen + turkce + sosyal + ingilizce\n",
    "ortalama = (math + fen + turkce + sosyal + ingilizce) / 5\n",
    "\n",
    "print(toplam)\n",
    "print(ortalama)"
   ]
  },
  {
   "cell_type": "markdown",
   "metadata": {},
   "source": [
    "> 3. Kullanıcıdan bir dik üçgenin üç kenar uzunluğunu alarak, bu üçgenin alanını hesaplayan bir Python programı yazın."
   ]
  },
  {
   "cell_type": "code",
   "execution_count": null,
   "metadata": {},
   "outputs": [
    {
     "name": "stdout",
     "output_type": "stream",
     "text": [
      "6.0\n"
     ]
    },
    {
     "data": {
      "text/plain": [
       "6.0"
      ]
     },
     "execution_count": 60,
     "metadata": {},
     "output_type": "execute_result"
    }
   ],
   "source": [
    "sayi_1 = int(input('1. kenar uzunluğu: '))\n",
    "sayi_2 = int(input('2. kenar uzunluğu: '))\n",
    "sayi_3 = int(input('3. kenar uzunluğu: '))\n",
    "\n",
    "if sayi_1 > sayi_2 and sayi_1 > sayi_3:\n",
    "    max_sayi = sayi_1\n",
    "    asıl_sayi_1 = sayi_2\n",
    "    asıl_sayi_2 = sayi_3\n",
    "elif sayi_2 > sayi_1 and sayi_2 > sayi_3:\n",
    "    max_sayi = sayi_2\n",
    "    asıl_sayi_1 = sayi_1\n",
    "    asıl_sayi_2 = sayi_3\n",
    "elif sayi_3 > sayi_1 and sayi_3 > sayi_2:\n",
    "    max_sayi = sayi_3\n",
    "    asıl_sayi_1 = sayi_1\n",
    "    asıl_sayi_2 = sayi_2\n",
    "ucgen_alan = (asıl_sayi_1 * asıl_sayi_2) / 2\n",
    "\n",
    "print(ucgen_alan)"
   ]
  },
  {
   "cell_type": "markdown",
   "metadata": {
    "jp-MarkdownHeadingCollapsed": true
   },
   "source": [
    "## **▶️▶️ 1.3 Print()**"
   ]
  },
  {
   "cell_type": "markdown",
   "metadata": {
    "jp-MarkdownHeadingCollapsed": true
   },
   "source": [
    "### **▶️ 1.3.1 Konu Anlatımı**"
   ]
  },
  {
   "cell_type": "markdown",
   "metadata": {},
   "source": [
    "> print() en çok kullandığımız function. O sebeple sadece kısa bilgiler yazıp geçeceğim"
   ]
  },
  {
   "cell_type": "code",
   "execution_count": null,
   "metadata": {},
   "outputs": [
    {
     "name": "stdout",
     "output_type": "stream",
     "text": [
      "İçerisinde string, int, dict vs. tüm type'ları yazabileceğimiz ve çıktısını alabileceğimiz bir fonksyondur.\n"
     ]
    }
   ],
   "source": [
    "# en temel haliye:\n",
    "\n",
    "print(\"İçerisinde string, int, dict vs. tüm type'ları yazabileceğimiz ve çıktısını alabileceğimiz bir fonksyondur.\")"
   ]
  },
  {
   "cell_type": "code",
   "execution_count": null,
   "metadata": {},
   "outputs": [
    {
     "name": "stdout",
     "output_type": "stream",
     "text": [
      "Emre-Cakir\n",
      "Emre***Cakir\n",
      "Emre/Cakir\n",
      "Emre💢Cakir\n"
     ]
    }
   ],
   "source": [
    "# \"sep\" operatorü:\n",
    "\n",
    "print(\"Emre\", \"Cakir\", sep = \"-\")   # sep değeri default olarak \" \" şeklindedir. ona istediğimiz herhangi bir şeyi atayabiliyoruz.\n",
    "print(\"Emre\", \"Cakir\", sep = \"***\")\n",
    "print(\"Emre\", \"Cakir\", sep = \"/\")\n",
    "print(\"Emre\", \"Cakir\", sep = \"💢\")"
   ]
  },
  {
   "cell_type": "code",
   "execution_count": null,
   "metadata": {},
   "outputs": [
    {
     "name": "stdout",
     "output_type": "stream",
     "text": [
      "Emre Cakir-Emre Cakir***Emre Cakir/Emre Cakir💢"
     ]
    }
   ],
   "source": [
    "# \"end\" operatorü:\n",
    "\n",
    "print(\"Emre\", \"Cakir\", end = \"-\")           # normalde end = \"\\\" şeklinde olduğu için her print sonrası bir satır aşağı gidilir. \n",
    "print(\"Emre\", \"Cakir\", end = \"***\")\n",
    "print(\"Emre\", \"Cakir\", end = \"/\")\n",
    "print(\"Emre\", \"Cakir\", end = \"💢\")\n"
   ]
  },
  {
   "cell_type": "markdown",
   "metadata": {
    "jp-MarkdownHeadingCollapsed": true
   },
   "source": [
    "### **▶️ 1.3.2 Exersizler**"
   ]
  },
  {
   "cell_type": "markdown",
   "metadata": {},
   "source": [
    "> 1. Bir kullanıcının adını ve soyadını alarak, bu bilgileri bir araya getirip ekrana \"Merhaba, [ad] [soyad]!\" şeklinde yazdıran bir Python programı yazın."
   ]
  },
  {
   "cell_type": "code",
   "execution_count": null,
   "metadata": {},
   "outputs": [
    {
     "name": "stdout",
     "output_type": "stream",
     "text": [
      "Merhaba, Emre Çakır!\n"
     ]
    }
   ],
   "source": [
    "isim = input('İsim: ')\n",
    "soyisim = input('Soyisim: ')\n",
    "\n",
    "print('Merhaba, ' + isim + ' ' + soyisim + \"!\" )"
   ]
  },
  {
   "cell_type": "markdown",
   "metadata": {},
   "source": [
    "> 2. Bir kullanıcıdan yaşını alarak, kullanıcının doğum tarihini hesaplayın ve ekrana \"Doğum tarihiniz [doğum tarihi]!\" şeklinde yazdırın."
   ]
  },
  {
   "cell_type": "code",
   "execution_count": null,
   "metadata": {},
   "outputs": [
    {
     "name": "stdout",
     "output_type": "stream",
     "text": [
      "Doğum tarihiniz: 1996\n"
     ]
    }
   ],
   "source": [
    "yas = int(input('Yaş: '))\n",
    "d_tarih = 2024 - yas\n",
    "\n",
    "print('Doğum tarihiniz: ' + str(d_tarih))"
   ]
  },
  {
   "cell_type": "markdown",
   "metadata": {},
   "source": [
    "> 3. Birkaç kelime içeren bir liste oluşturun ve bu kelimeleri alt alta yazdırın, her kelimeyi ayrı bir satırda gösterin."
   ]
  },
  {
   "cell_type": "code",
   "execution_count": null,
   "metadata": {},
   "outputs": [
    {
     "name": "stdout",
     "output_type": "stream",
     "text": [
      "at\n",
      "avrat\n",
      "silah\n"
     ]
    }
   ],
   "source": [
    "kelime_listem = ['at', 'avrat', 'silah']\n",
    "print(kelime_listem[0], kelime_listem[1], kelime_listem[2], sep='\\n')"
   ]
  },
  {
   "cell_type": "markdown",
   "metadata": {},
   "source": [
    "> 4. Bir kullanıcıdan bir sayı alarak, bu sayının karesini ve küpünü ekrana yazdırın."
   ]
  },
  {
   "cell_type": "code",
   "execution_count": null,
   "metadata": {},
   "outputs": [
    {
     "name": "stdout",
     "output_type": "stream",
     "text": [
      "21'nin karesi ve küpü sırasıyla şöyledir --> 441 ve 9261\n"
     ]
    }
   ],
   "source": [
    "sayi = int(input('Bir sayı giriniz: '))\n",
    "\n",
    "kare = sayi ** 2\n",
    "küp = sayi ** 3\n",
    "\n",
    "print(f\"{sayi}'nin karesi ve küpü sırasıyla şöyledir -->\", kare, \"ve\", küp)"
   ]
  },
  {
   "cell_type": "markdown",
   "metadata": {},
   "source": [
    "> 5. Kullanıcıya bir kelime veya cümle yazmasını isteyin ve bu yazıyı ters çevirerek ekrana yazdırın."
   ]
  },
  {
   "cell_type": "code",
   "execution_count": null,
   "metadata": {},
   "outputs": [
    {
     "data": {
      "text/plain": [
       "'erme'"
      ]
     },
     "execution_count": 91,
     "metadata": {},
     "output_type": "execute_result"
    }
   ],
   "source": [
    "metin = input('Bir yazı giriniz: ')\n",
    "\n",
    "metin[-1::-1]"
   ]
  },
  {
   "cell_type": "markdown",
   "metadata": {},
   "source": [
    "> 6. Kullanıcıdan adını, soyadını ve yaşını alarak, bu bilgileri virgülle ayrılmış şekilde ekrana yazdıran bir Python programı yazın."
   ]
  },
  {
   "cell_type": "code",
   "execution_count": null,
   "metadata": {},
   "outputs": [
    {
     "name": "stdout",
     "output_type": "stream",
     "text": [
      "emre, çakır, 28\n"
     ]
    }
   ],
   "source": [
    "isim = input('İsim: ')\n",
    "soyisim = input('Soyisim: ')\n",
    "yas = input('Yaş: ')\n",
    "\n",
    "print(isim, soyisim, yas, sep=', ')"
   ]
  },
  {
   "cell_type": "markdown",
   "metadata": {},
   "source": [
    "> 7. Birkaç kelime içeren bir liste oluşturun ve bu kelimeleri alt alta yazdırın, ancak her kelimenin sonuna bir nokta koyun. "
   ]
  },
  {
   "cell_type": "code",
   "execution_count": null,
   "metadata": {},
   "outputs": [
    {
     "name": "stdout",
     "output_type": "stream",
     "text": [
      "emre.\n",
      "çakır.\n",
      "irem.\n",
      "çukurlu."
     ]
    }
   ],
   "source": [
    "birinci_kelime = input('kelime gir: ')\n",
    "ikinci_kelime = input('kelime gir: ')\n",
    "ucuncu_kelime = input('kelime gir: ')\n",
    "dorduncu_kelime = input('kelime gir: ')\n",
    "\n",
    "my_list = [birinci_kelime, ikinci_kelime, ucuncu_kelime, dorduncu_kelime]\n",
    "\n",
    "print(my_list[0], my_list[1], my_list[2], my_list[3], sep='.\\n', end='.')"
   ]
  },
  {
   "cell_type": "markdown",
   "metadata": {},
   "source": [
    "> 8. Bir kullanıcıdan alınan üç sayıyı toplayarak ekrana yazdırın. Ancak, her sayının sonuna bir defa \"+\" işareti koyarak, toplam işlemin sonuna ise \"=\" işareti koyarak sonlandırın. "
   ]
  },
  {
   "cell_type": "code",
   "execution_count": null,
   "metadata": {},
   "outputs": [
    {
     "name": "stdout",
     "output_type": "stream",
     "text": [
      "12 + 23 + 62 = 97\n"
     ]
    }
   ],
   "source": [
    "birinci_sayi = int(input('1. Sayıyı Giriniz: '))\n",
    "ikinci_sayi = int(input('2. Sayıyı Giriniz: '))\n",
    "ucuncu_sayi = int(input('3. Sayıyı Giriniz: '))\n",
    "\n",
    "toplam = birinci_sayi + ikinci_sayi + ucuncu_sayi\n",
    "\n",
    "print(birinci_sayi, '+', ikinci_sayi, '+', ucuncu_sayi, '=', toplam )\n"
   ]
  },
  {
   "cell_type": "markdown",
   "metadata": {
    "jp-MarkdownHeadingCollapsed": true
   },
   "source": [
    "## **▶️▶️ 1.4 Input()**"
   ]
  },
  {
   "cell_type": "markdown",
   "metadata": {},
   "source": [
    "> genel olarak bildiğimiz bir fonksiyondu"
   ]
  },
  {
   "cell_type": "code",
   "execution_count": null,
   "metadata": {},
   "outputs": [
    {
     "name": "stdout",
     "output_type": "stream",
     "text": [
      "Dogum yiliniz:  2012\n"
     ]
    }
   ],
   "source": [
    "yas = input(\"Lütfen Yasinizi Girin: \")\n",
    "yas = int(yas)\n",
    "dogum_yili = 2024 - yas\n",
    "print(\"Dogum yiliniz: \", dogum_yili)"
   ]
  },
  {
   "cell_type": "code",
   "execution_count": null,
   "metadata": {},
   "outputs": [
    {
     "name": "stdout",
     "output_type": "stream",
     "text": [
      "Vücut kitle endexiniz:  26.59498412879979\n"
     ]
    }
   ],
   "source": [
    "kilo = float(input(\"Kilo: \"))\n",
    "boy = float(input(\"Boy: \"))\n",
    "vke = kilo / boy ** 2 \n",
    "print(\"Vücut kitle endexiniz: \", vke)"
   ]
  },
  {
   "cell_type": "markdown",
   "metadata": {
    "jp-MarkdownHeadingCollapsed": true
   },
   "source": [
    "## **▶️▶️ 1.5 Escape Sequences**"
   ]
  },
  {
   "cell_type": "markdown",
   "metadata": {},
   "source": [
    "### Hatalardan kaçınmaya yarayan bazı yöntemlerdir.\n",
    "#### 1) Ters Slash : \" \\ \"\n",
    "##### Geldiği yerin hemen ardından gelen karakterin tüm fonksiyonu ölür ve **stringe dönüşür**. \n",
    "#### 2) Ters Slash + n : \" \\n \"\n",
    "##### **enter** tuşu görevi görür.\n",
    "#### 3) Ters Slash + t : \" \\t \"\n",
    "##### **tab** tuşu görevi görür.\n",
    "#### 4) Ters Slash + b : \" \\b \"\n",
    "##### **Backspace** tuşu görevi görür.\n",
    "#### 5) r : r\" ... \"\n",
    "##### Bir stringin önüne \"r\" harfini eklersek, o string içerisindeki **tüm Escape Sequence operatörleri görmezden** gelinir."
   ]
  },
  {
   "cell_type": "code",
   "execution_count": null,
   "metadata": {},
   "outputs": [
    {
     "name": "stdout",
     "output_type": "stream",
     "text": [
      "I'm Python teacher\n",
      "Bu ders çok uzadi sanki. \n",
      "Bi an önce bitse mi acaba\n",
      "Betül\n",
      "Ayse\n",
      "Aytac\n",
      "Betül\tAyse\tAytac\n",
      "Bu ders çok uzadi sanki.Bi an önce bitse mi acaba\n",
      "BetüAysAytac\n",
      "Bizde geri \n",
      "vites olmaz\n",
      "Bizde geri \\nvites olmaz\n"
     ]
    }
   ],
   "source": [
    "# print('I'm python theacher.') soldaki problemi aşağıdaki gibi aşabiliriz:\n",
    "\n",
    "print('I\\'m Python teacher')    # artık kesme işaretinin fonksiyonu ölür ve stringe dönüşür.\n",
    "\n",
    "# \" \\n \" --> bir tane enter tuşuna basmak demektir: (newline'ın n'si kullanılmıştır)\n",
    "\n",
    "print(\"Bu ders çok uzadi sanki. \\nBi an önce bitse mi acaba\")\n",
    "\n",
    "print(\"Betül\", \"Ayse\", \"Aytac\", sep = \"\\n\") \n",
    "print(\"Betül\", \"Ayse\", \"Aytac\", sep = \"\\t\") # \\t --> bir tane tab tuşuna basmak oluyor.\n",
    "\n",
    "\n",
    "print(\"Bu ders çok uzadi sanki. \\bBi an önce bitse mi acaba\") # \\b --> bir backspace tuşuna basmak oluyor.\n",
    "print(\"Betül\", \"Ayse\", \"Aytac\", sep = \"\\b\") \n",
    "\n",
    "print(\"Bizde geri \\nvites olmaz\")\n",
    "print(r\"Bizde geri \\nvites olmaz\") # burada ki \"r\", string içerisinde bulunan tüm escape'leri yok sayar.\n"
   ]
  },
  {
   "cell_type": "markdown",
   "metadata": {},
   "source": [
    "> 1. Kullanıcıdan bir metin girmesini isteyen bir Python programı yazın. Ardından, bu metni tersten yazdırın ve her karakter arasına bir boşluk ekleyin."
   ]
  },
  {
   "cell_type": "code",
   "execution_count": null,
   "metadata": {},
   "outputs": [
    {
     "name": "stdout",
     "output_type": "stream",
     "text": [
      "m u r o y i v e s   k o ç   a m a   k o ç   i n e s "
     ]
    }
   ],
   "source": [
    "metin = input('Bir metin girin: ')\n",
    "\n",
    "my_list = list(metin[-1::-1])\n",
    "my_list\n",
    "\n",
    "for karakter in my_list:\n",
    "    print(karakter, end=' ')"
   ]
  },
  {
   "cell_type": "markdown",
   "metadata": {
    "jp-MarkdownHeadingCollapsed": true
   },
   "source": [
    "## **▶️▶️ 1.6 Comparison Operators**"
   ]
  },
  {
   "cell_type": "markdown",
   "metadata": {
    "jp-MarkdownHeadingCollapsed": true
   },
   "source": [
    "### **▶️ 1.6.1 Konu Anlatımı**\n"
   ]
  },
  {
   "cell_type": "markdown",
   "metadata": {},
   "source": [
    "> ### Comparison Operators, Python'da bir değer ile başka bir değeri karşılaştırır. Ve bu karşılaştırmaların  sonucu boolean olarak döner yani True veya False olarak.\n",
    "\n",
    ">> 1. Operator, Büyüktür ➡➡➡ >      \n",
    "\n",
    ">> 2. Operator, Küçüktür ➡➡➡ <     \n",
    "\n",
    ">> 4. Operator, Büyük Eşittir ➡➡➡    >=     \n",
    "\n",
    ">> 5. Operator, Küçük Eşittir ➡➡➡    <=   \n",
    "\n",
    ">> 6. Operator, Eşittir ➡➡➡  ==    \n",
    "\n",
    ">> 7. Operator, Eşit Değildir ➡➡➡    !=    \n",
    "\n"
   ]
  },
  {
   "cell_type": "code",
   "execution_count": null,
   "metadata": {},
   "outputs": [],
   "source": [
    "print(5 > 4)\n",
    "print(6 > 6)\n",
    "print(6 < 6)\n",
    "print(6 >= 6)\n",
    "print(6 <= 6)\n",
    "print(8 == 8)\n",
    "print(8 == 9)\n",
    "print(8 != 9)"
   ]
  },
  {
   "cell_type": "code",
   "execution_count": null,
   "metadata": {},
   "outputs": [],
   "source": [
    "type(5 < 7)"
   ]
  },
  {
   "cell_type": "code",
   "execution_count": null,
   "metadata": {},
   "outputs": [
    {
     "data": {
      "text/plain": [
       "True"
      ]
     },
     "execution_count": 20,
     "metadata": {},
     "output_type": "execute_result"
    }
   ],
   "source": [
    "sifre = \"1234\"\n",
    "\n",
    "kull_girisi = input(\"Sifrenizi girin\")\n",
    "\n",
    "sifre == kull_girisi "
   ]
  },
  {
   "cell_type": "code",
   "execution_count": null,
   "metadata": {},
   "outputs": [
    {
     "data": {
      "text/plain": [
       "False"
      ]
     },
     "execution_count": 21,
     "metadata": {},
     "output_type": "execute_result"
    }
   ],
   "source": [
    "True > 0.6 # Matematiksel karşlığı --> 1 > 0.6\n",
    "False > 2"
   ]
  },
  {
   "cell_type": "markdown",
   "metadata": {
    "jp-MarkdownHeadingCollapsed": true
   },
   "source": [
    "### **▶️ 1.6.2 Exersizler**"
   ]
  },
  {
   "cell_type": "markdown",
   "metadata": {},
   "source": [
    "> 1. Bir kullanıcıdan bir sayı girmesini isteyin ve bu sayının pozitif, negatif veya sıfır olduğunu belirleyen bir Python programı yazın."
   ]
  },
  {
   "cell_type": "code",
   "execution_count": null,
   "metadata": {},
   "outputs": [
    {
     "name": "stdout",
     "output_type": "stream",
     "text": [
      "Girilen sayı negatiftir.\n"
     ]
    }
   ],
   "source": [
    "sayi = int(input('Bir sayı giriniz: '))\n",
    "\n",
    "if sayi == 0:\n",
    "    print('Girilen sayı sıfırdır.')\n",
    "elif sayi > 0:\n",
    "    print('Girilen sayı pozitiftir.')\n",
    "else:\n",
    "    print('Girilen sayı negatiftir.')"
   ]
  },
  {
   "cell_type": "markdown",
   "metadata": {},
   "source": [
    "> 2.Kullanıcıya iki sayı girmesini isteyin ve bu sayıların eşit olup olmadığını kontrol eden bir Python programı yazın."
   ]
  },
  {
   "cell_type": "code",
   "execution_count": null,
   "metadata": {},
   "outputs": [
    {
     "name": "stdout",
     "output_type": "stream",
     "text": [
      "Girilen sayılar birbirine eşittir.\n"
     ]
    }
   ],
   "source": [
    "birinci_sayi = int(input('Birinci sayıyı giriniz..'))\n",
    "ikinci_sayi = int(input('İkinci sayıyı giriniz..'))\n",
    "\n",
    "if birinci_sayi == ikinci_sayi:\n",
    "    print('Girilen sayılar birbirine eşittir.')\n",
    "else:\n",
    "    print('Girilen sayılar birbirine eşit değildir.')"
   ]
  },
  {
   "cell_type": "markdown",
   "metadata": {},
   "source": [
    "> 3. Kullanıcıdan iki farklı sayı girmesini isteyin ve bu sayıların büyüklük ilişkisini kontrol eden bir Python programı yazın. Program, kullanıcının girdiği sayıların büyük, küçük veya eşit olduğunu belirtmelidir."
   ]
  },
  {
   "cell_type": "code",
   "execution_count": null,
   "metadata": {},
   "outputs": [
    {
     "name": "stdout",
     "output_type": "stream",
     "text": [
      "Birinci sayı daha büyüktür.\n"
     ]
    }
   ],
   "source": [
    "birinci_sayi = int(input('Birinci sayıyı giriniz. '))\n",
    "ikinci_sayi = int(input('İkinci sayıyı giriniz. '))\n",
    "\n",
    "if birinci_sayi == ikinci_sayi:\n",
    "    print('Sayılar birbirine eşittir.')\n",
    "elif birinci_sayi > ikinci_sayi:\n",
    "    print('Birinci sayı daha büyüktür.')\n",
    "else:\n",
    "    print('İkinci sayı daha büyüktür.')"
   ]
  },
  {
   "cell_type": "markdown",
   "metadata": {},
   "source": [
    "> 4. Bir kullanıcıya bir yıl girmesini isteyin ve bu yılın artık yıl olup olmadığını kontrol eden bir Python programı yazın. Bir yılın artık yıl olduğunu belirleyen kuralı kullanarak programınızı oluşturun."
   ]
  },
  {
   "cell_type": "code",
   "execution_count": null,
   "metadata": {},
   "outputs": [
    {
     "name": "stdout",
     "output_type": "stream",
     "text": [
      "Girilen yıl Artık bir yıldır.\n"
     ]
    }
   ],
   "source": [
    "yil = int(input('Bir yıl giriniz: '))\n",
    "\n",
    "if yil % 4000 == 0:\n",
    "    print('Girilen yıl Artık bir yıl değildir.')\n",
    "elif yil % 100 == 0 and yil % 400 == 0:\n",
    "    print('Girilen yıl Artık bir yıldır.')\n",
    "elif yil % 4 == 0:\n",
    "    print('Girilen yıl Artık bir yıldır.')\n",
    "else:\n",
    "    print('Girilen yıl Artık bir yıl değildir.')    "
   ]
  },
  {
   "cell_type": "markdown",
   "metadata": {},
   "source": [
    "> 5. Kullanıcıya bir kelime girmesini isteyin ve bu kelimenin palindrom (tersinden de okunuşu aynı olan) bir kelime olup olmadığını kontrol eden bir Python programı yazın."
   ]
  },
  {
   "cell_type": "code",
   "execution_count": null,
   "metadata": {},
   "outputs": [
    {
     "name": "stdout",
     "output_type": "stream",
     "text": [
      "Yanlış formatta girdi girilmiştir. \n"
     ]
    }
   ],
   "source": [
    "kelime = input('Bir kelime giriniz: ')\n",
    "\n",
    "if not kelime.isalpha():\n",
    "    print('Yanlış formatta girdi girilmiştir. ')\n",
    "elif kelime == kelime[-1::-1]:\n",
    "    print('Girilen kelime palindorm kelimedir.')\n",
    "else:\n",
    "    print('Girilen kelime palindrom kelime değildir.')"
   ]
  },
  {
   "cell_type": "markdown",
   "metadata": {},
   "source": [
    "> 6. Kullanıcıya bir cümle girmesini isteyin ve bu cümlenin içinde belirli bir kelimenin bulunup bulunmadığını kontrol eden bir Python programı yazın. Kullanıcıdan ayrıca aranacak kelimeyi de alın."
   ]
  },
  {
   "cell_type": "code",
   "execution_count": null,
   "metadata": {},
   "outputs": [
    {
     "name": "stdout",
     "output_type": "stream",
     "text": [
      "Aradığını \"anne\" kelimesi, girmiş olduğunuz metin içerisinde 3 defa yer almaktadır.\n"
     ]
    }
   ],
   "source": [
    "metin = input('Metni girin: ')\n",
    "kelime = input('Metin içerisinde aratmak istediğiniz kelimeyi yazınız: ')\n",
    "\n",
    "if kelime in metin:\n",
    "    sayım = metin.count(kelime)\n",
    "    print(f'Aradığınız \"{kelime}\" kelimesi, girmiş olduğunuz metin içerisinde {sayım} defa yer almaktadır.')\n",
    "else:\n",
    "    print(f'Aradığınız \"{kelime}\" kelimesi, girmiş olduğunuz metin içerisinde yer almamaktadır.')"
   ]
  },
  {
   "cell_type": "markdown",
   "metadata": {},
   "source": [
    "> 7. Kullanıcıya bir sayı girmesini isteyin ve bu sayının asal bir sayı olup olmadığını kontrol eden bir Python programı yazın. Bir sayının asal olup olmadığını belirleyen kuralı kullanarak programınızı oluşturun."
   ]
  },
  {
   "cell_type": "code",
   "execution_count": null,
   "metadata": {},
   "outputs": [
    {
     "name": "stdout",
     "output_type": "stream",
     "text": [
      "Girilen sayı bir asal sayıdır.\n"
     ]
    }
   ],
   "source": [
    "sayi = int(input('Bir sayı giriniz: '))\n",
    "listem  = [2, 3, 4, 5, 7, ]\n",
    "bos_liste = []\n",
    "if sayi == 2:\n",
    "    bos_liste.append(1)\n",
    "    print('Girilen sayı asal sayıdır.')\n",
    "else:\n",
    "    for i in listem:\n",
    "        if sayi % i == 0: \n",
    "            bos_liste.append(1)\n",
    "\n",
    "if bos_liste == []:\n",
    "    print('Girilen sayı bir asal sayıdır.')"
   ]
  },
  {
   "cell_type": "markdown",
   "metadata": {
    "jp-MarkdownHeadingCollapsed": true
   },
   "source": [
    "## **▶️▶️ 1.7 ASCII**"
   ]
  },
  {
   "cell_type": "markdown",
   "metadata": {},
   "source": [
    ">> Her bir karakterin sayısal bir karşılığı varıdır. Bu değerlere ASCII tablosundan bakabiliyoruz. Örneğin büyük A'nın sayısal değeri 65 iken, küçük a'nın sayısal değeri 97'dir. \n",
    "\n",
    ">> İki tane string'i birbiriyle kıyaslarken, Python her bir string'in ilk karakterine bakar. İki string arasında ilk karakterinin sayısal değeri daha büyük olan string diğer sring'den büyük oluyor. ÖR: \"sedat\" > \"istanbul\" ---> True olarak döndürür. Çünkü s harfinin sayısal değeri 115 iken i harfinin sayısal değeri 105'tir. \n",
    "\n",
    ">> Eğer her iki string'de aynı karakter ile başlıyorsa, Python bu iki string'in farklı karakterlerini bulana kadar kıyaslama devam eder. ÖR: \"feda\" > \"fener\" --> False olarak döndürür. Çünkü d'nin sayısal değeri n'den daha küçüktür.\n",
    "\n",
    ">> Bu işlemler sadece 2 tane string arasında olabilir. Mesela bir string ile bir integer arasında yapılamaz.\n",
    "\n",
    "✅ **ord() fonksiyounun içine bir string ifadesini yazarsan, sana o string ifadenin ASCI karşılığını verir. ÖR: ord(\"a\") = 97** \n",
    "\n",
    "✅ **chr() fonksiyonu ise ord() fonksiyonunun tam tersini yapar: chr(105) = 'i'** \n"
   ]
  },
  {
   "cell_type": "code",
   "execution_count": null,
   "metadata": {},
   "outputs": [
    {
     "name": "stdout",
     "output_type": "stream",
     "text": [
      "True\n",
      "97\n",
      "z\n"
     ]
    }
   ],
   "source": [
    "print(\"sedat\" > \"istanbul\") # --> print(115>105) aslında yapılan işlem budur.\n",
    "print(ord(\"a\"))\n",
    "print(chr(122))"
   ]
  },
  {
   "cell_type": "markdown",
   "metadata": {
    "jp-MarkdownHeadingCollapsed": true
   },
   "source": [
    "## **▶️▶️ 1.8 BOOLEAN**"
   ]
  },
  {
   "cell_type": "markdown",
   "metadata": {},
   "source": [
    "> bool() fonksiyonu içerisine yazılan ifadenin boolean karşılığını verir.\n",
    "\n",
    "> boolean karşılığı false olan ifadeler: \"\", 0, 0.0, [], (), {}, None, False"
   ]
  },
  {
   "cell_type": "code",
   "execution_count": null,
   "metadata": {},
   "outputs": [
    {
     "name": "stdout",
     "output_type": "stream",
     "text": [
      "True\n",
      "True\n",
      "False\n",
      "False\n",
      "True\n",
      "True\n",
      "True\n"
     ]
    }
   ],
   "source": [
    "print(bool(\"sedat\"))\n",
    "print(bool(\" \"))\n",
    "print(bool(\"\"))\n",
    "print(bool(0))\n",
    "print(bool(\"0\"))\n",
    "print(bool(0.31211))\n",
    "print(bool(-20))\n"
   ]
  },
  {
   "cell_type": "markdown",
   "metadata": {
    "jp-MarkdownHeadingCollapsed": true
   },
   "source": [
    "## **▶️▶️ 1.8 Logic Expressions**"
   ]
  },
  {
   "cell_type": "markdown",
   "metadata": {
    "jp-MarkdownHeadingCollapsed": true
   },
   "source": [
    "### **▶️ 1.8.1 Konu Anlatımı**\n"
   ]
  },
  {
   "cell_type": "markdown",
   "metadata": {},
   "source": [
    "#### İşlem önceliğine göre:\n",
    "\n",
    "#### **not** --> işlem sonucu her zaman true veya false'tır.\n",
    "\n",
    ">> Bir ifadenin önüne geldiği zaman onun tersini yazdırır.\n",
    "\n",
    "#### **and**\n",
    "\n",
    ">> Hepsi True ise en sondaki elemanı döndürür. Bir tane bile False varsa, ilk gördüğü False'u döndürür.\n",
    "\n",
    "#### **or**\n",
    "\n",
    ">> Hepsi False ise en sondakini döndürür, bir tane bile True varsa ilk gördüğü True'yu döndürür.\n",
    "\n",
    "📝**DİPNOT1: Boolean karşılığı False olan bir ifadeye biz \"Falsy\" ifade diyoruz, aynı şekilde tam tersi olana da \"Truty\" ifade diyoruz.**\n",
    "\n",
    "📝**DİPNOT2: Bütün koşulların True olmasını istiyorsak and kullanırız. Koşullardan bir tanesinin bile True olması yetiyorsa or kullanırız.**"
   ]
  },
  {
   "cell_type": "code",
   "execution_count": null,
   "metadata": {},
   "outputs": [
    {
     "name": "stdout",
     "output_type": "stream",
     "text": [
      "False\n",
      "True\n",
      "True\n",
      "False\n",
      "\n",
      "True\n",
      "False\n",
      "\n",
      "False\n",
      "True\n",
      "\n",
      "False\n",
      "True\n"
     ]
    }
   ],
   "source": [
    "print(5 > 5)\n",
    "print(5 >= 5)\n",
    "print(not False) # --> True yazdırır\n",
    "print(not True) # --> False yazdırır\n",
    "print(\"\")\n",
    "print(bool(\"Techpro\"))\n",
    "print(not \"Techpro\")\n",
    "print(\"\")\n",
    "print(bool(0))\n",
    "print(not 0)\n",
    "print(\"\")\n",
    "print(bool(\"\"))\n",
    "print(not \"\")"
   ]
  },
  {
   "cell_type": "code",
   "execution_count": null,
   "metadata": {},
   "outputs": [
    {
     "name": "stdout",
     "output_type": "stream",
     "text": [
      "True\n",
      "8\n",
      "---1----\n",
      "False\n",
      "0\n",
      "---2----\n",
      "False\n",
      "---3----\n",
      "\n",
      "---4----\n",
      "True\n",
      "---5----\n",
      "False\n",
      "---6----\n",
      "\n",
      "---7----\n",
      "15\n",
      "True\n",
      "---8----\n",
      "3.14\n",
      "True\n",
      "---9----\n",
      "kahoot\n",
      "True\n"
     ]
    }
   ],
   "source": [
    "print(bool(5))\n",
    "print(5 and 8) # 5 ve 8 ifadelerinin booelan karşılığı True olduğu için 8 ifadesini döndürdü.\n",
    "print(\"---1----\")\n",
    "print(bool(0))\n",
    "print(5 and 0 and 8) # --> Boolean karşılığı False olan ilk ifadeyi döndürdük.\n",
    "print(\"---2----\")\n",
    "print(5 and False and 0 and 8)\n",
    "print(\"---3----\")\n",
    "print(\"\" and 0 and False)\n",
    "print(\"---4----\")\n",
    "print(5 and 7 and True)\n",
    "print(\"---5----\")\n",
    "print(0 or False)\n",
    "print(\"---6----\")\n",
    "print(0 or 0.0 or \"\")\n",
    "print(\"---7----\")\n",
    "print(0 or 15 or 20 or True)\n",
    "print(False or 5 and not 0)\n",
    "print(\"---8----\")\n",
    "print(3.14 or True)\n",
    "print(True or 3.14)\n",
    "print(\"---9----\")\n",
    "print(False or not 0 and 6 and \"kahoot\")\n",
    "print(True or False and not 0 and 3 or False) # Bu örnekte \"True or...\" dan sonrasının bi önemi yok. Çünkü or varsa ve True varsa ilk sırada direkt onu seçer zaten.\n"
   ]
  },
  {
   "cell_type": "markdown",
   "metadata": {
    "jp-MarkdownHeadingCollapsed": true
   },
   "source": [
    "### **▶️ 1.8.2 Exersizler**"
   ]
  },
  {
   "cell_type": "markdown",
   "metadata": {},
   "source": [
    "> 1. Bir kullanıcıdan iki sayı girmesini isteyin. Bu sayıların her ikisinin de pozitif sayılar olup olmadığını kontrol eden ve sonucu True veya False olarak döndüren bir Python programı yazın."
   ]
  },
  {
   "cell_type": "code",
   "execution_count": null,
   "metadata": {},
   "outputs": [
    {
     "name": "stdout",
     "output_type": "stream",
     "text": [
      "True\n"
     ]
    }
   ],
   "source": [
    "birinci_sayi = int(input('Bir sayı giriniz: '))\n",
    "ikinci_sayi = int(input('Bir sayı daha giriniz: '))\n",
    "\n",
    "if birinci_sayi > 0 and ikinci_sayi > 0:\n",
    "    print(True)\n",
    "else:\n",
    "    print(False)\n"
   ]
  },
  {
   "cell_type": "markdown",
   "metadata": {},
   "source": [
    "> 2. Kullanıcıya bir yaş girmesini isteyin. Bu yaşın 18 ile 65 arasında olup olmadığını kontrol eden ve sonucu True veya False olarak döndüren bir Python programı yazın."
   ]
  },
  {
   "cell_type": "code",
   "execution_count": null,
   "metadata": {},
   "outputs": [
    {
     "name": "stdout",
     "output_type": "stream",
     "text": [
      "True\n"
     ]
    }
   ],
   "source": [
    "yas = int(input('Yaş: '))\n",
    "\n",
    "if yas > 18 and yas < 65:\n",
    "    print(True)\n",
    "else:\n",
    "    print(False)"
   ]
  },
  {
   "cell_type": "markdown",
   "metadata": {},
   "source": [
    "> 3. Kullanıcıdan bir şehir adı girmesini isteyin. Bu şehir adının \"Ankara\", \"İstanbul\" veya \"İzmir\" olup olmadığını kontrol eden ve sonucu True veya False olarak döndüren bir Python programı yazın."
   ]
  },
  {
   "cell_type": "code",
   "execution_count": null,
   "metadata": {},
   "outputs": [
    {
     "name": "stdout",
     "output_type": "stream",
     "text": [
      "False\n"
     ]
    }
   ],
   "source": [
    "my_list = ['ankara', 'istanbul', 'izmir']\n",
    "sehir = input('Bir şehir ismi giriniz: ')\n",
    "\n",
    "if sehir.lower() in my_list:\n",
    "    print(True)\n",
    "else:\n",
    "    print(False)"
   ]
  },
  {
   "cell_type": "markdown",
   "metadata": {},
   "source": [
    "> 4. Bir kullanıcıya bir karakter girmesini isteyin. Bu karakter bir rakam ise True, rakam değilse False döndüren bir Python programı yazın."
   ]
  },
  {
   "cell_type": "code",
   "execution_count": null,
   "metadata": {},
   "outputs": [
    {
     "name": "stdout",
     "output_type": "stream",
     "text": [
      "False\n"
     ]
    }
   ],
   "source": [
    "karakter = input('Bir karakter giriniz: ')\n",
    "\n",
    "if karakter.isdigit():\n",
    "    print(True)\n",
    "else:\n",
    "    print(False)"
   ]
  },
  {
   "cell_type": "markdown",
   "metadata": {
    "jp-MarkdownHeadingCollapsed": true
   },
   "source": [
    "# **🌟 2. Bölüm: Gelişme**"
   ]
  },
  {
   "cell_type": "markdown",
   "metadata": {
    "jp-MarkdownHeadingCollapsed": true
   },
   "source": [
    "## **▶️▶️ 2.1 Stringler**"
   ]
  },
  {
   "cell_type": "markdown",
   "metadata": {},
   "source": [
    "    immutable (elemanları değiştirelemez)\n",
    "    iterable (elemanlarına index yoluyla ulaşılabilir ve silicing yapılabilir)"
   ]
  },
  {
   "cell_type": "markdown",
   "metadata": {},
   "source": [
    "### **▶️ 2.1.1 Konu Anlatımı**"
   ]
  },
  {
   "cell_type": "markdown",
   "metadata": {},
   "source": [
    ">> 🚧 immutable --> Değiştirilemez. (Bir string'e yeniden bir atama yapılana kadar değiştirilemezler.)\n",
    "\n",
    ">> 🚧 iterable --> Bir stringin her bir karakterine ayrı ayrı ulaşılabilir olmasıdır. Yani itering edilebilir olmasıdır. (for düşünülebilir)"
   ]
  },
  {
   "cell_type": "markdown",
   "metadata": {},
   "source": [
    "#### **▶ 2.1.1.1 Indexing & Slicing**\n"
   ]
  },
  {
   "cell_type": "code",
   "execution_count": null,
   "metadata": {},
   "outputs": [
    {
     "name": "stdout",
     "output_type": "stream",
     "text": [
      "T\n",
      "r\n",
      "n\n",
      "n\n",
      "T\n"
     ]
    }
   ],
   "source": [
    "# a) Indexleme sıfırdan başlar. Aşağıdaki stringin sıfırncı indexi \"T\" harfidir. \n",
    "# b) Birinci indexi ise \"e\" harfidir. \n",
    "# c) Sondan başlayacak olursak da -1 ile başlar. Aşağıdaki string'in -1 inci karakteri \"n\" harfidir.\n",
    "\n",
    "name = \"Techpro Education\" \n",
    "\n",
    "print(name[0])      # T\n",
    "print(name[5])      # r\n",
    "print(name[16])     # n --> son harf 16. index oluyor\n",
    "print(name[-1])     # n --> son harf aynı zamanda -1. index oluyor\n",
    "print(name[-17])    # T"
   ]
  },
  {
   "cell_type": "code",
   "execution_count": null,
   "metadata": {},
   "outputs": [
    {
     "name": "stdout",
     "output_type": "stream",
     "text": [
      "Techpro Education\n",
      "pro\n",
      "pro\n",
      "Education\n",
      "Euain\n",
      "Th\n",
      "Th\n",
      "Thodao\n",
      "tcpo\n",
      "tho\n",
      "tho\n"
     ]
    }
   ],
   "source": [
    "# string içerisinde bellli bir bölümü iki şekilde yapabiliriz yazdırabiliriz:\n",
    "\n",
    "print(name)\n",
    "print(name[4] + name[5] + name[6])   # Burada 'pro' çıktısını alırız ama daha kolay kolu bir alt satırda\n",
    "print(name[4:7])                     # Bu işleme SLICING deniyor.  \n",
    "print(name[8:17])                    # Slicing işleminde son karakter dahil edilmez. Örneğin burası 8 ile başlar ama 17 ile bitmez, 16 ile biter.\n",
    "print(name[8:17:2])                  # Buradaki 2 sayısı işlem adımı (step) dır. \n",
    "print(name[0:6:3])                   # 0'dan başlayıp 6'ya doğru 3'er adım alayarak gidilir.\n",
    "print(name[:6:3])                    # \"start\" kısmına hiçbir şey yazmazsak ilk karakteri alır. Yani sıfırını index.\n",
    "print(name[::3])                     # \"stop\" kısmına hiçbir şey yazmazsak son karakteri alır. \n",
    "print(\"techpro\"[::2])                # sıfırnıcıyı aldım, ardından bir karakter atlayıp 2.yi aldım\n",
    "print(\"techpro\"[::3])                # sıfırıncıyı aldım, ardından iki karakter atlayıp 3.yü aldım\n",
    "print(\"techprom\"[::3])"
   ]
  },
  {
   "cell_type": "code",
   "execution_count": null,
   "metadata": {},
   "outputs": [
    {
     "name": "stdout",
     "output_type": "stream",
     "text": [
      "noitacude orphcet\n",
      "niaueopct\n",
      "aueop\n",
      "ntu p\n",
      "\n",
      "rphc\n",
      "\n",
      "\n",
      "loe\n"
     ]
    }
   ],
   "source": [
    "# Slicing yaparak dersten de yazdırabiliriz. \n",
    "\n",
    "print(\"techpro education\"[::-1])         \n",
    "print(\"techpro education\"[::-2])\n",
    "\n",
    "# Tersten yazdırırken dikkat etmemiz gereken şey \"start\" ile \"stop\" noktalarının \"step\" değeri ile mantık çerçevesinde olması.\n",
    "\n",
    "print(\"techpro education\"[12:2:-2])    # 12. indexten başlar, 2. indexe kadar -2şer adım atlayarak ilerler ve 2. index dahil değildir\n",
    "print(\"techpro education\"[17:3:-3])    # 17. indexten başlar, 3. indexe kadar -3er adım atlayarak ilerler ve 3. index dahil değildir\n",
    "\n",
    "print(\"techpro\"[1:5:-1])            # Burada 1'den 5'e doğru -1'er adım atlayarak ulaşılması mümkün değildir.\n",
    "print(\"techpro\"[5:1:-1])            # start = 5, stop = 1, step = -1 --> 5 den başlayan bir şey 1'e doğru eksilerek devam edebilir.\n",
    "print(\"techpro\"[5:1])               # start = 5, stop = 1, step =1   --> 5'den başlayan bir şey 1 de doğru artarak gidemez. O yüzden boş string döndürür.\n",
    "print(\"Dülgeroğlu\"[2:8:-2])         # start = 2, stop = 8, step = -2 --> 2 den bağşlayıp 8e doğru eksilerek gidilemez.\n",
    "print(\"Dülgeroğlu\"[8:2:-2])         # start = 8, stop = 2, step = -2 --> 8 den başlayan bir şey 2'ye doğru eksilerek devam edebilir.\n"
   ]
  },
  {
   "cell_type": "code",
   "execution_count": null,
   "metadata": {},
   "outputs": [
    {
     "data": {
      "text/plain": [
       "''"
      ]
     },
     "execution_count": 115,
     "metadata": {},
     "output_type": "execute_result"
    }
   ],
   "source": [
    "\"tehpro\"[1:1]           # Boş string döndürür."
   ]
  },
  {
   "cell_type": "code",
   "execution_count": null,
   "metadata": {},
   "outputs": [],
   "source": [
    "# Stringlerde \"+\" işlemi concate ya da concatinate yapar \n",
    "# Stringlerde \"*\" işlemi ile stringi çoğaltabiliriz tekrarlı şekilde.\n",
    "\n",
    "print(\"Techpro\" + \"Education\")  # iki string arasında (çıkarma işlemi yoktur)\n",
    "print(\"Techpro\" * 3)            # string ile integer arasında yapılabilir ancak string ile float arasında olmaz \n",
    "print(\"3\" * 4)                  # 4 adet \"3\" yan yana yazıldı (bölme işlemi yoktur)"
   ]
  },
  {
   "cell_type": "markdown",
   "metadata": {},
   "source": [
    "#### **▶ 2.1.1.2 String Methods**\n"
   ]
  },
  {
   "cell_type": "markdown",
   "metadata": {},
   "source": [
    "> string bir ifadeyi yazdıktan sonra \".\" koyarsak, ardından yapılabilecek tüm **fonksiyonlara** bize method olarak gelir."
   ]
  },
  {
   "cell_type": "code",
   "execution_count": null,
   "metadata": {},
   "outputs": [
    {
     "name": "stdout",
     "output_type": "stream",
     "text": [
      "TECHPRO\n",
      "SEDAT\n",
      "EMRE CAKIR\n",
      "techpro\n",
      "sedat\n",
      "emre cakir\n",
      "Techpro\n",
      "Techpro örneği̇\n",
      "Capitalize bir cümlenin sadece ilk harfini büyük yapar\n",
      "Emre Çakır\n",
      "Title Her Cümlenin Ilk Harfini Büyük Yapar\n",
      "Techpro Education\n"
     ]
    }
   ],
   "source": [
    "# upper() ve lower()\n",
    "\n",
    "print(\"techpro\".upper())        # büyük harfe çevirir\n",
    "print(\"SeDat\".upper())\n",
    "name = \"Emre Cakir\"\n",
    "print(name.upper())\n",
    "print(\"TECHPRO\".lower())        # küçük harfe çevirir \n",
    "print(\"SeDat\".lower())\n",
    "name = \"Emre Cakir\"\n",
    "print(name.lower())\n",
    "\n",
    "# swapcase()                    \n",
    "\n",
    "name = \"Techpro\"\n",
    "name.swapcase()                 # küçükleri büyük, büyükleri küçük harfe çevirir. \n",
    "\n",
    "# capitalize() \n",
    "\n",
    "print(\"techpro\".capitalize())            # sadece ilk kelimenin ilk harfi büyük yapar\n",
    "print(\"teChpro ÖRNEĞİ\".capitalize())     # ilk kelimeyi büyüttüğü gibi geri kalan her şeyi de küçültür. \n",
    "print(\"capitalize bir cümlenin sadece ilk harfini büyük yapar\".capitalize())\n",
    "\n",
    "# title() \n",
    "\n",
    "print(\"emre çakır\".title())             # her kelimenin ilk harfini büyük yapar\n",
    "print(\"title her cümlenin ilk harfini büyük yapar\".title()) \n",
    "print(\"techpro EDUcatiOn\".title())      # her kelimenin ilk harfini büyüttüğü gibi kelimelerin geri kalanını da küçültür."
   ]
  },
  {
   "cell_type": "markdown",
   "metadata": {},
   "source": [
    "### **▶️ 2.1.2 Benim Çalışmalarım**\n"
   ]
  },
  {
   "cell_type": "markdown",
   "metadata": {},
   "source": [
    "#### **▶ 2.1.2.1 Methodlar**\n"
   ]
  },
  {
   "cell_type": "markdown",
   "metadata": {},
   "source": [
    "##### **1. Method: capitalize()**"
   ]
  },
  {
   "cell_type": "markdown",
   "metadata": {},
   "source": [
    "> Bu method stringlerin yalnızca ama yalnızca ilk karakterini büyük harf yapar.\n",
    "\n",
    "> İlk karakterini büyük harf yaparken geriye kalan tüm karakterleri de küçük harf yapar."
   ]
  },
  {
   "cell_type": "code",
   "execution_count": null,
   "metadata": {},
   "outputs": [
    {
     "name": "stdout",
     "output_type": "stream",
     "text": [
      "Emre çakır eski bir makine mühendisidir \n",
      "Emre çakir eski bir makine mühendisidir \n",
      "Emre çakir eski̇ bir makine mühendisidir \n"
     ]
    }
   ],
   "source": [
    "print('emre çakır eski bir makine mühendisidir '.capitalize())         # sadece ilk harfi büyüttü.\n",
    "print('EMRE ÇAKIR ESKI BIR MAKINE MÜHENDISIDIR '.capitalize())         # sadece ilk harfi büyütürken, geriye kalan tüm harfleri küçülttü.\n",
    "print('eMRe çaKIR eSkİ bir MAKINE mühendisidir '.capitalize())         # sadece ilk harfi büyütürken, geriye kalan tüm harfleri küçülttü."
   ]
  },
  {
   "cell_type": "markdown",
   "metadata": {},
   "source": [
    "##### **2. Method: casefold()**"
   ]
  },
  {
   "cell_type": "markdown",
   "metadata": {},
   "source": [
    "> lower() methoduna çok benzer. Türk dili açısından lower ile hiçbir farkı yoktur. Ancak bazı dillerin alfabelerinde 'ß' tarzında değişik harfler vardır. O tür alfabesi olan diller için uygun bir kullanımı vardır. "
   ]
  },
  {
   "cell_type": "code",
   "execution_count": null,
   "metadata": {},
   "outputs": [
    {
     "name": "stdout",
     "output_type": "stream",
     "text": [
      "aßaan\n",
      "assaan\n"
     ]
    }
   ],
   "source": [
    "print(\"aßaan\".lower())          # lower() methodu 'ß' harfini tanıyamadı\n",
    "print(\"aßaan\".casefold())       # casefold() methodu 'ß' harfini tanıyamadı"
   ]
  },
  {
   "cell_type": "markdown",
   "metadata": {},
   "source": [
    "##### **3. Method: center()**"
   ]
  },
  {
   "cell_type": "markdown",
   "metadata": {},
   "source": [
    "> string'i ortalar. Ve eğer parantez içerisinde girdiğimiz sayı, string'in uzunluğundan fazla ise; fazlalığın yarısını stringin sağına ve diğer yarısını da soluna bırakır. En son string ortalanmış olur.\n",
    "\n",
    "> eğer çift sayı kullanırsak sağa sola eşit paylaştırır. eğer tek sayı kullanırsak sol tarafta bir adet fazlamış olur.\n",
    "\n",
    "> center()'in default değerinde space yani boşluk vardır. Ancak bu boşluğu istediğimiz her şey ile değiştirebiliyoruz.\n",
    "\n",
    "> Örnek Kullanım1: \n",
    "\n",
    ">> 'emre'.center(12) --> burada 'emre' 4 harflidir. genişlik ise 12'dir. 12 - 4 = 8'dir. O halde 4 boşluk sola 4 boşluk sağa eklenir.\n",
    "\n",
    "> Örnek Kullanım2: \n",
    "\n",
    ">> 'emre'.center(12, '-') --> burada 'emre' 4 harflidir. genişlik ise 12'dir. 12 - 4 = 8'dir. Bu örnekte boşluk yerine tire (-) kullanılmış. O halde 4 tire sola 4 tire sağa eklenir.\n",
    "\n",
    "> **🚦UYARI🚦** Yalnızca tek bir karakter eklemesi yapılabiliyor, örneğin 'e' harfini yazdırabiliriz ama 'ee' yi yazdıramayız sağına ve soluna\n",
    "\n",
    "\n",
    "\n",
    "> ### **🔥 bir string'in len'i eğer 5 ise. Bize de sorgulanmaksızın en az len'i 10 olan bir string lazım ise bu metodu kullanabiliriz.🔥**"
   ]
  },
  {
   "cell_type": "code",
   "execution_count": null,
   "metadata": {},
   "outputs": [
    {
     "name": "stdout",
     "output_type": "stream",
     "text": [
      "10\n",
      "emre cakir\n",
      "emre cakir\n",
      " emre cakir \n",
      "     emre cakir     \n",
      "               emre cakir               \n",
      "                                   emre cakir                                   \n",
      "                                                                           emre cakir                                                                           \n",
      "                                                                                                                                                           emre cakir                                                                                                                                                           \n"
     ]
    },
    {
     "data": {
      "text/plain": [
       "155"
      ]
     },
     "execution_count": 8,
     "metadata": {},
     "output_type": "execute_result"
    }
   ],
   "source": [
    "print(len('emre cakir'))                    # kullandığımız stringin uzunluğu 10 birimdir. O halde biz center(x) ifadesinde x yerine 10'dan büyük sayılar yazmak zorundayız.\n",
    "\n",
    "print('emre cakir'.center(0))               # x (10) > 0 olduğu için herhangi bir etki olamaz.\n",
    "print('emre cakir'.center(5))               # x (10) > 5 olduğu için herhangi bir etki olamaz.\n",
    "print('emre cakir'.center(12))              # 12 > x (10) olduğu için, stringi ortalar ve hem sağına hem de soluna 1'er tane boşluk bırakır.\n",
    "print('emre cakir'.center(20))\n",
    "print('emre cakir'.center(40))\n",
    "print('emre cakir'.center(80))              # 80 - 10 = 70 olduğuna göre, 35 adet sola ve 35 adet sağa boşluk bırakılır.\n",
    "print('emre cakir'.center(160))\n",
    "print('emre cakir'.center(320))             # 320 - 10 = 310 olduğuna göre, 155 adet sola ve 155 adet sağa boşluk bırakılır."
   ]
  },
  {
   "cell_type": "code",
   "execution_count": null,
   "metadata": {},
   "outputs": [
    {
     "name": "stdout",
     "output_type": "stream",
     "text": [
      "***emre cakir**\n",
      "////////emre cakir////////\n",
      "❤❤❤❤❤❤❤❤❤❤❤❤❤❤irem❤❤❤❤❤❤❤❤❤❤❤❤❤❤\n",
      "❤❤❤❤❤❤❤❤❤❤❤❤❤❤irem❤❤❤❤❤❤❤❤❤❤❤❤❤❤ ❤❤❤❤❤❤❤❤❤❤❤❤❤❤irem❤❤❤❤❤❤❤❤❤❤❤❤❤❤ ❤❤❤❤❤❤❤❤❤❤❤❤❤❤irem❤❤❤❤❤❤❤❤❤❤❤❤❤❤\n"
     ]
    }
   ],
   "source": [
    "print('emre cakir'.center(15, '*'))      # 15-10 = 5 olduğu için 3 asteriks sola ve 2 asteriks sağa yerleştirilir.\n",
    "print('emre cakir'.center(26, '/'))      # 26-10 = 16 olduğu için 8 slash sola ve 8 slash sağa yerleştirilir.\n",
    "print('irem'.center(32, '❤'))\n",
    "print('irem'.center(32, '❤'), 'irem'.center(32, '❤'), 'irem'.center(32, '❤'))"
   ]
  },
  {
   "cell_type": "markdown",
   "metadata": {},
   "source": [
    ">> Örnek: Kullanıcıdan isim soyisim iste. Bizim bu isim soyismi database'imize ekleyebilmemiz için en az 25 karakter olduğunu kabul edelim. \"result_name\" isimli değişkende istenilen şartı sağlayan bir isim soyisim yazılı olsun."
   ]
  },
  {
   "cell_type": "code",
   "execution_count": null,
   "metadata": {},
   "outputs": [
    {
     "name": "stdout",
     "output_type": "stream",
     "text": [
      "İstenilen isim soyismin karakter sayısı --> 25\n"
     ]
    }
   ],
   "source": [
    "isim_soyisim = input('İsim Soyisim: ')\n",
    "result_name = isim_soyisim.center(25)\n",
    "print(\"İstenilen isim soyismin karakter sayısı -->\",len(result_name))"
   ]
  },
  {
   "cell_type": "markdown",
   "metadata": {},
   "source": [
    "##### **4. Method: count()**"
   ]
  },
  {
   "cell_type": "markdown",
   "metadata": {},
   "source": [
    "> count() bir strin içerisinde ne bir karakter veya başka bir string'in ne kadar olduğunu saymamızı sağlar. \n",
    "\n",
    "> casesensitive'dir. Yani büyük E ile küçük e başka şeylerdir farklı sayılır.\n",
    "\n",
    "> geçerli bir sayma yapılmadıysa hata vermez.\n",
    "\n",
    "> string.count(**value, start, end**)\n",
    "\n",
    ">> **value**: required. A string. sayılacak olan değer budur. (default değeri 0'dır)\n",
    "\n",
    ">> **start**: optional. A integer. saymaya nereden başlanacağını belirler. (default değeri 0'dır)\n",
    "\n",
    ">> **end**: optional. A integer. saymaya nereye kadar devam edeceğini belirler. (default değeri string sonudur)\n"
   ]
  },
  {
   "cell_type": "code",
   "execution_count": null,
   "metadata": {},
   "outputs": [
    {
     "name": "stdout",
     "output_type": "stream",
     "text": [
      "1\n",
      "1\n",
      "2\n",
      "3\n"
     ]
    }
   ],
   "source": [
    "# aşağıdakiler gibi tek karakter arayabiliyoruz:\n",
    "\n",
    "print('Emre Çakır'.count(\"e\"))\n",
    "print('Emre Çakır'.count(\"E\"))\n",
    "print('emre Çakır'.count(\"e\"))\n",
    "\n",
    "# ayni şekilde birden büyük karakterleri de arayabiliyoruz:\n",
    "\n",
    "print('emre çakırın dedesinin adı da emreydi. emre olmak mirastır bu sülalede'.count('emre'))"
   ]
  },
  {
   "cell_type": "code",
   "execution_count": null,
   "metadata": {},
   "outputs": [
    {
     "name": "stdout",
     "output_type": "stream",
     "text": [
      "1\n",
      "3\n"
     ]
    }
   ],
   "source": [
    "print('emre Çakır'.count(\"e\", 2))       # 2. indexten itibaren sayılacağı için 0. indexteki 'e' harfi sayılmadı.\n",
    "print('emre çakırın dedesinin adı da emreydi. emre olmak mirastır bu sülalede'.count('e', 3, 28))       # 3. indexten 28. indexe kadar olan kısımda ne kadar e varsa onu saydık."
   ]
  },
  {
   "cell_type": "code",
   "execution_count": null,
   "metadata": {},
   "outputs": [
    {
     "name": "stdout",
     "output_type": "stream",
     "text": [
      "Girdğiniz isim soyisim: abdullah abdurrahman\n",
      "Aranan yazı: abdu\n",
      "Aranan yazı girilen soyisimde şu kadar bulunmuştur --> 1\n"
     ]
    }
   ],
   "source": [
    "# count'un kullanımına dair bir örneği kendi kafamdan yazdım.\n",
    "\n",
    "isim = input('İsim: ')\n",
    "soy_isim = input('Soyisim: ')\n",
    "print('Girdğiniz isim soyisim:', isim, soy_isim )\n",
    "aranan_yazı = 'abdu'\n",
    "print('Aranan yazı:', aranan_yazı)\n",
    "isim_soyisim = isim + ' ' + soy_isim \n",
    "isim_uzunluk = len(isim)\n",
    "soyisim_uzunluk = len(soy_isim)\n",
    "isim_soyisim_uzunluk = isim_uzunluk + soyisim_uzunluk\n",
    "\n",
    "print('Aranan yazı girilen soyisimde şu kadar bulunmuştur -->',(isim_soyisim.count(aranan_yazı, isim_uzunluk, isim_soyisim_uzunluk)))"
   ]
  },
  {
   "cell_type": "markdown",
   "metadata": {},
   "source": [
    "##### **5. Method: encode()**"
   ]
  },
  {
   "cell_type": "markdown",
   "metadata": {},
   "source": [
    "> encode, şifrelemek, kodlamak, şifreye çevirmek anlamına gelir.\n",
    "\n",
    "> ileri seviye bir konudur. O yüzden detaylı bir araştırma ve inceleme yapmadım. Aşağıda bazı yüzeyler şeyler bulunmaktadır."
   ]
  },
  {
   "cell_type": "code",
   "execution_count": null,
   "metadata": {},
   "outputs": [
    {
     "data": {
      "text/plain": [
       "b'emre cakir'"
      ]
     },
     "execution_count": 106,
     "metadata": {},
     "output_type": "execute_result"
    }
   ],
   "source": [
    "'emre cakir'.encode()"
   ]
  },
  {
   "cell_type": "code",
   "execution_count": null,
   "metadata": {},
   "outputs": [
    {
     "name": "stdout",
     "output_type": "stream",
     "text": [
      "b'My name is St\\xc3\\xa5le'\n"
     ]
    }
   ],
   "source": [
    "txt = \"My name is Ståle\"\n",
    "\n",
    "x = txt.encode()\n",
    "\n",
    "print(x) "
   ]
  },
  {
   "cell_type": "code",
   "execution_count": null,
   "metadata": {},
   "outputs": [
    {
     "name": "stdout",
     "output_type": "stream",
     "text": [
      "b'My name is St\\\\xe5le'\n",
      "b'My name is Stle'\n",
      "b'My name is St\\\\N{LATIN SMALL LETTER A WITH RING ABOVE}le'\n",
      "b'My name is St?le'\n",
      "b'My name is St&#229;le'\n"
     ]
    }
   ],
   "source": [
    "txt = \"My name is Ståle\"\n",
    "\n",
    "print(txt.encode(encoding=\"ascii\",errors=\"backslashreplace\"))\n",
    "print(txt.encode(encoding=\"ascii\",errors=\"ignore\"))\n",
    "print(txt.encode(encoding=\"ascii\",errors=\"namereplace\"))\n",
    "print(txt.encode(encoding=\"ascii\",errors=\"replace\"))\n",
    "print(txt.encode(encoding=\"ascii\",errors=\"xmlcharrefreplace\"))"
   ]
  },
  {
   "cell_type": "code",
   "execution_count": null,
   "metadata": {},
   "outputs": [
    {
     "name": "stdout",
     "output_type": "stream",
     "text": [
      "b'My name is St\\xc3\\xa5le'\n",
      "b'My name is St\\xc3\\xa5le'\n",
      "b'My name is St\\xc3\\xa5le'\n",
      "b'My name is St\\xc3\\xa5le'\n",
      "b'My name is St\\xc3\\xa5le'\n"
     ]
    }
   ],
   "source": [
    "txt = \"My name is Ståle\"\n",
    "\n",
    "print(txt.encode(encoding=\"utf-8\",errors=\"backslashreplace\"))\n",
    "print(txt.encode(encoding=\"utf-8\",errors=\"ignore\"))\n",
    "print(txt.encode(encoding=\"utf-8\",errors=\"namereplace\"))\n",
    "print(txt.encode(encoding=\"utf-8\",errors=\"replace\"))\n",
    "print(txt.encode(encoding=\"utf-8\",errors=\"xmlcharrefreplace\"))"
   ]
  },
  {
   "cell_type": "code",
   "execution_count": null,
   "metadata": {},
   "outputs": [
    {
     "name": "stdout",
     "output_type": "stream",
     "text": [
      "The string is: pythön!\n",
      "The encoded version is: b'pyth\\xc3\\xb6n!'\n"
     ]
    }
   ],
   "source": [
    "# unicode string\n",
    "string = 'pythön!'\n",
    "\n",
    "# print string\n",
    "print('The string is:', string)\n",
    "\n",
    "# default encoding to utf-8\n",
    "string_utf = string.encode()\n",
    "\n",
    "# print result\n",
    "print('The encoded version is:', string_utf)"
   ]
  },
  {
   "cell_type": "markdown",
   "metadata": {},
   "source": [
    "##### **6. Method: endswith()**"
   ]
  },
  {
   "cell_type": "markdown",
   "metadata": {},
   "source": [
    "> bir string'in sonunun neyle bittiğini öğrenebildiğimiz bir methoddur. \n",
    "\n",
    "> çıktıları boolean olarak True veya False'dur. Sorgumuz doğru ise çıktımız True'diir.\n",
    "\n",
    "> başlangıç ve bitiş noktalarını optional olarak belirtebiliyoruz.\n",
    "\n",
    "> string.endswirh(value, start, end)\n",
    "\n",
    ">> string'in sonu valeu ile mi bitiyor diye sorgularız. \n",
    "\n",
    ">> start değerini girdiysek, bu stringin başlangıç noktasıdır.\n",
    "\n",
    ">> end değerini girdiysek bu da stringin son noktasıdır. Örneğin string normalde re harfiyle bitiyorsa ve bizim end değerimi -1 ise, stringimizin sonu r ile bitiyor gibi oluyor. çünkü -1 dahil olmuyor her zamanki gibi\n",
    "\n",
    "> sorguyu tek bir karakterle yapmak zorunda değiliz."
   ]
  },
  {
   "cell_type": "code",
   "execution_count": null,
   "metadata": {},
   "outputs": [
    {
     "name": "stdout",
     "output_type": "stream",
     "text": [
      "True\n",
      "True\n",
      "***-1-****\n",
      "True\n",
      "True\n",
      "***-2-****\n",
      "True\n",
      "False\n",
      "***-3-****\n",
      "False\n"
     ]
    }
   ],
   "source": [
    "\n",
    "print('emre'.endswith('e'))             # emre'nin sonu e ile bitmektedir.\n",
    "print('emre'.endswith('re'))            # tek bir karakter girmez zorunda değiliz.\n",
    "print(\"-1-\".center(10, '*'))\n",
    "print('emre'.endswith('r', 0, -1))\n",
    "print('Sen benim nereli olduğumu biliyor musun?'.endswith('n', 0, -1))\n",
    "print(\"-2-\".center(10, '*'))\n",
    "print('Sen benim nereli olduğumu biliyor musun?'.endswith('musun?'))\n",
    "print('Sen benim nereli olduğumu biliyor musun?'.endswith('musun'))\n",
    "print(\"-3-\".center(10, '*'))\n",
    "print('emre'.endswith('r'))\n"
   ]
  },
  {
   "cell_type": "markdown",
   "metadata": {},
   "source": [
    "##### **7. Method: expandtabs()**"
   ]
  },
  {
   "cell_type": "markdown",
   "metadata": {},
   "source": [
    "> 'yazı\\tyazı'.expandtabs() \n",
    "\n",
    "> yukarıdaki 'yazı\\tyazı' stringinde tab karakteri kullanılmıştır. İki tane yazının ortasındaki tab karakterinin kaç space'tan oluşacağını belirleyen bir methoddur.\n",
    "\n",
    "> default halinde tabsize=8 space'dir. Bunu değiştirmek istiyorsak parantez içerisine sayı girmemiz yeterlidir.\n",
    "\n",
    "> **yalnızca ilk gördüğü tab karakterini kabul eder**"
   ]
  },
  {
   "cell_type": "code",
   "execution_count": null,
   "metadata": {},
   "outputs": [
    {
     "data": {
      "text/plain": [
       "'İrem    Süheyla Çukurlu'"
      ]
     },
     "execution_count": 192,
     "metadata": {},
     "output_type": "execute_result"
    }
   ],
   "source": [
    "'Emre\\tÇakır'.expandtabs(12)\n",
    "'İrem\\tSüheyla\\tÇukurlu'.expandtabs(4)      # burada yer alan ikinci \\t bizim için önemli değil artık\n"
   ]
  },
  {
   "cell_type": "markdown",
   "metadata": {},
   "source": [
    "##### **8. Method: find() and rfind()**"
   ]
  },
  {
   "cell_type": "markdown",
   "metadata": {},
   "source": [
    "> bu metod ile aradığım bir karakterin string içerisinde kaçıncı indexte olduğunu görebiliyoruz. (find soldan rfind sağdan başlar)\n",
    "\n",
    "> aradığımız karakter birden fazla yerde varsa önemli olan ilk index neredeyse onu kabul eder.\n",
    "\n",
    "> tek bir karakter yerine birden fazla karakterli yapıları da aratabiliriz. \n",
    "\n",
    "> 'sen benim en güzel günahımsın'.find(' en ')\n",
    "\n",
    ">> yukarıdaki örnekte 'sen' içerisindeki 'en' yi saymaz. veya 'benim' içerisindeki 'en'i de saymaz. 'benim en güzel' içerisindeki ' en ' i alır.\n",
    "\n",
    "> 'sen benim en güzel günahımsın'.find('en', 2, 12) \n",
    "\n",
    ">> yukarıdaki örnekte stringin 2. indexinden 12. indexine kadar olan ksımında 'en''yi arar\n",
    "\n",
    "> ***Eğer aradığı şeyi bulmazsa -1 döndürür***"
   ]
  },
  {
   "cell_type": "code",
   "execution_count": null,
   "metadata": {},
   "outputs": [
    {
     "name": "stdout",
     "output_type": "stream",
     "text": [
      "2\n",
      "0\n",
      "6\n",
      "7\n",
      "9\n",
      "5\n",
      "5\n",
      "-1\n"
     ]
    }
   ],
   "source": [
    "print('12345678'.find('3'))\n",
    "print('emre'.find('e'))\n",
    "print('emre çakır'.find('a'))\n",
    "print('süheylaha'.find('ha'))          # heyla yerine sadece h yazsaydık değişe\n",
    "print('sen benim en güzel günahımsın'.find(' en '))     # güzel bir uygulama\n",
    "\n",
    "# başka bir kullanım:\n",
    "\n",
    "print('sen benim en güzel günahımsın'.find('en', 3, 12))           # stringin 3. indexinden başlar 12.'ye kadar devam eden aralıkta 'en' ifadesini arar\n",
    "print('sen benim en güzel günahımsın'.find('en', 3,))              # end kısmını boş bırakmak stringin tamamını kabul et anlamına gelmektedir.\n",
    "print('sen benim en güzel günahımsın'.find('ın', -1, 0 ))         # bu şekilde tersten arama diye bi şey yok doğal olarak. o yüzden çıktısı -1'dir\n"
   ]
  },
  {
   "cell_type": "markdown",
   "metadata": {},
   "source": [
    "##### **9. Method: format()**"
   ]
  },
  {
   "cell_type": "markdown",
   "metadata": {},
   "source": [
    "> braces --> {} \n",
    "\n",
    "> stringler içerisinde braces kullanarak stringleri formatlarız\n",
    "\n",
    "> örneklerle anlamaya çalışmak en güzeli:"
   ]
  },
  {
   "cell_type": "code",
   "execution_count": null,
   "metadata": {},
   "outputs": [
    {
     "name": "stdout",
     "output_type": "stream",
     "text": [
      "My name is John, I'm 28 years old.\n",
      "My name is John, I'm 28 years old.\n",
      "My name is John, I'm 28 years old.\n"
     ]
    }
   ],
   "source": [
    "# 1. Yöntem: Değişken Atayarak Formatlamak\n",
    "\n",
    "txt_a = \"My name is {name}, I'm {age} years old.\".format(name = \"John\", age = 28)\n",
    "\n",
    "# 2. Yöntem: Numaralandırarak Formatlamak\n",
    "\n",
    "txt_b = \"My name is {0}, I'm {1} years old.\".format(\"John\", 28)\n",
    "\n",
    "# 3. Yöntem: Boş Bırakarak Formatlamak\n",
    "\n",
    "txt_c = \"My name is {}, I'm {} years old.\".format(\"John\", 28)\n",
    "\n",
    "print(txt_a)        \n",
    "print(txt_b)        \n",
    "print(txt_c)        \n"
   ]
  },
  {
   "cell_type": "code",
   "execution_count": null,
   "metadata": {},
   "outputs": [
    {
     "name": "stdout",
     "output_type": "stream",
     "text": [
      "My name is John, I'm 28 years old. Her name is İrem and her age is 25.\n",
      "My name is John, I'm 28 years old. Her name is İrem and her age is 25.\n",
      "My name is John, I'm 28 years old. Her name is İrem and her age is 25.\n"
     ]
    }
   ],
   "source": [
    "# herhangi bir sınırlamamız yok. \n",
    "\n",
    "txt3 = \"My name is {name}, I'm {age} years old. Her name is {hname} and her age is {hage}.\".format(name = \"John\", age = 28, hname = 'İrem', hage = 25)  # 1. Yöntem: Değişken Atayarak Formatlamak\n",
    "txt4 = \"My name is {0}, I'm {1} years old. Her name is {2} and her age is {3}.\".format(\"John\", 28, 'İrem', 25)                                          # 2. Yöntem: Numaralandırarak Formatlamak\n",
    "txt5 = \"My name is {}, I'm {} years old. Her name is {} and her age is {}.\".format(\"John\", 28, 'İrem', 25)                                              # 3. Yöntem: Boş Bırakarak Formatlamak\n",
    "\n",
    "print(txt3)\n",
    "print(txt4)\n",
    "print(txt5)"
   ]
  },
  {
   "cell_type": "markdown",
   "metadata": {},
   "source": [
    "***⭐Formatting Methods⭐*** \n",
    "\n",
    ">> aşağdaki hücrede sırasıyla bir takım formatlama operatörleri göreceksin:"
   ]
  },
  {
   "cell_type": "code",
   "execution_count": null,
   "metadata": {},
   "outputs": [
    {
     "name": "stdout",
     "output_type": "stream",
     "text": [
      "We had 49       chickens. 16       chickens are died.\n",
      "We had  49 chickens.  16 chickens are died.\n",
      "We had  49   chickens.  16   chickens are died.\n",
      "We had       49 chickens. -     16 chickens are died.\n",
      "We had +49 chickens. -16 chickens are died.\n",
      "We had 49 chickens. -16 chickens are died.\n",
      "We had  49 chickens. -16 chickens are died.\n",
      "We had 49,000,000 chickens. 16,000 chickens are died.\n",
      "We had 49_000_000 chickens. 16_000 chickens are died.\n",
      "The binary version of 5 is 101\n"
     ]
    }
   ],
   "source": [
    "# :<\n",
    "\n",
    "txt = \"We had {sayi:<8} chickens. {sayi_2:<8} chickens are died.\".format(sayi = 49, sayi_2 = 16)       # sayi'nın sağına  8 adet space bırakır, diğer yöntemleri uygularsak daha pratik oluyor.\n",
    "print(txt)\n",
    "\n",
    "# :>\n",
    "\n",
    "txt = \"We had {sayi:>3} chickens. {sayi_2:>3} chickens are died.\".format(sayi = 49, sayi_2 = 16)       # sayi'nın soluna  3 adet space bırakır   \n",
    "print(txt)\n",
    "\n",
    "# :^\n",
    "\n",
    "txt = \"We had {sayi:^5} chickens. {sayi_2:^5} chickens are died.\".format(sayi = 49, sayi_2 = 16)       # sayi'nın soluna  3 tane sağına, 2 adet soluna space bırakır\n",
    "print(txt)\n",
    "\n",
    "# :=\n",
    "\n",
    "txt = \"We had {sayi:=8} chickens. {sayi_2:=8} chickens are died.\".format(sayi = 49, sayi_2 = -16)       # eğer sayının önünde - işareti varsa onu en sola atar\n",
    "print(txt)\n",
    "\n",
    "# :+\n",
    "\n",
    "txt = \"We had {sayi:+} chickens. {sayi_2:+} chickens are died.\".format(sayi = 49, sayi_2 = -16)       # hem boşluk buraktırır hem de sayıların önüne artı koyar. Ama eğer negatif bi sayı varsa ona dokunmaz\n",
    "print(txt)\n",
    "\n",
    "# :-\n",
    "\n",
    "txt = \"We had {sayi:-} chickens. {sayi_2:-} chickens are died.\".format(sayi = 49, sayi_2 = -16)       # sadece negatif sayıların eksi işaretli olmasını sağlar\n",
    "print(txt)\n",
    "\n",
    "# :\n",
    "\n",
    "txt = \"We had {sayi: } chickens. {sayi_2: } chickens are died.\".format(sayi = 49, sayi_2 = -16)       # pozitif sayılardan önce ekstra bir boşluk bırakır\n",
    "print(txt)\n",
    "\n",
    "# :,\n",
    "\n",
    "txt = \"We had {sayi:,} chickens. {sayi_2:,} chickens are died.\".format(sayi = 49000000, sayi_2 = 16000)       # binler basamağına bir virgül ekler.\n",
    "print(txt)\n",
    "\n",
    "# :_\n",
    "\n",
    "txt = \"We had {sayi:_} chickens. {sayi_2:_} chickens are died.\".format(sayi = 49000000, sayi_2 = 16000)       # binler basamağına bir underscore ekler.\n",
    "print(txt)\n",
    "\n",
    "# :b\n",
    "\n",
    "txt = \"The binary version of {0} is {0:b}\".format(5)                # binary formatta göserir bir sayıyı\n",
    "\n",
    "print(txt)"
   ]
  },
  {
   "cell_type": "code",
   "execution_count": null,
   "metadata": {},
   "outputs": [
    {
     "name": "stdout",
     "output_type": "stream",
     "text": [
      "We had 49,000,000 chickens. 16,000 chickens are died.\n",
      "We had 49_000_000 chickens. 16_000 chickens are died.\n",
      "The price is 45.00 dollars.\n",
      "You scored 25%\n"
     ]
    }
   ],
   "source": [
    "txt = \"We had {sayi:,} chickens. {sayi_2:,} chickens are died.\".format(sayi = 49000000, sayi_2 = 16000)       \n",
    "print(txt)       # binler basamağına bir virgül ekler.\n",
    "\n",
    "txt = \"We had {sayi:_} chickens. {sayi_2:_} chickens are died.\".format(sayi = 49000000, sayi_2 = 16000)       \n",
    "print(txt)       # binler basamağına bir underscore ekler.\n",
    "\n",
    "txt = \"The price is {:.2f} dollars.\".format(45)        \n",
    "print(txt)       # burada 2 yerine kaç yazarsak, 45.0000 şeklinde o sayı kadar sıfır koyar.\n",
    "\n",
    "txt = \"You scored {:.0%}\".format(0.25)                 \n",
    "print(txt)       # burada 0 yerine kaç yazarsak, 25.000 şeklinde o sayı kadar sıfır ekler"
   ]
  },
  {
   "cell_type": "code",
   "execution_count": null,
   "metadata": {},
   "outputs": [
    {
     "name": "stdout",
     "output_type": "stream",
     "text": [
      "The price is 45.00 dollars.\n",
      "The price is 45.00000 dollars.\n",
      "The price is 45 dollars.\n",
      "You scored 25.000000%\n",
      "You scored 25.00%\n",
      "You scored 25%\n"
     ]
    }
   ],
   "source": [
    "# EN ÖNEMLİ1:\n",
    "\n",
    "txt = \"The price is {:.2f} dollars.\".format(45)         # burada 2 yerine kaç yazarsak, virgülden sonra o kadar sıfır koyar.\n",
    "print(txt)\n",
    "\n",
    "txt = \"The price is {:.5f} dollars.\".format(45)         # burada 5 tane sıfır koyulacak mesela\n",
    "print(txt)\n",
    "\n",
    "txt = \"The price is {:.0f} dollars.\".format(45)         # burada 5 tane sıfır koyulacak mesela\n",
    "print(txt)\n",
    "\n",
    "# EN ÖNEMLİ2:\n",
    "\n",
    "txt = \"You scored {:%}\".format(0.25)                    # bir önceki gibi, kaç yazarsak o kadar sıfır koyar\n",
    "print(txt)\n",
    "\n",
    "txt = \"You scored {:.2%}\".format(0.25)\n",
    "print(txt)\n",
    "\n",
    "txt = \"You scored {:.0%}\".format(0.25)                  # burada 0 yerine kaç yazarsak, 25.000 şeklinde o sayı kadar sıfır ekler\n",
    "print(txt)"
   ]
  },
  {
   "cell_type": "code",
   "execution_count": null,
   "metadata": {},
   "outputs": [
    {
     "name": "stdout",
     "output_type": "stream",
     "text": [
      "We had 49.000.000 chickens. 16.000 chickens are died.\n"
     ]
    }
   ],
   "source": [
    "# önemli bir uygulama:\n",
    "\n",
    "txt = \"We had {sayi:,} chickens. {sayi_2:,} chickens are died.\".format(sayi = 49000000, sayi_2 = 16000)       # binler basamağına bir virgül ekler.\n",
    "print(txt.replace(\",\", \".\"))"
   ]
  },
  {
   "cell_type": "markdown",
   "metadata": {},
   "source": [
    "##### **10. Method: format_map()**"
   ]
  },
  {
   "cell_type": "markdown",
   "metadata": {},
   "source": [
    "> format() ile aynı görevi görüyor ancak bir farkla\n",
    "\n",
    "> format_map() kullanmak için bir dictionary e ihtiyaç var.\n",
    "\n",
    "> Dict'in her bir key'ini curly braces içine yazarız ve bize o keye karşılık gelen value'yi yazdırır."
   ]
  },
  {
   "cell_type": "code",
   "execution_count": null,
   "metadata": {},
   "outputs": [
    {
     "name": "stdout",
     "output_type": "stream",
     "text": [
      "My name is Emre. My last name is Çakır. I was born in Istanbul at 1996. Now, I'm 28 years old.\n"
     ]
    }
   ],
   "source": [
    "first_name = input('İsim: ')\n",
    "last_name = input('Soyisim: ')\n",
    "city = input('Doğum Şehri: ')\n",
    "birth = int(input('Doğum Yılı: '))\n",
    "\n",
    "my_dict = {\n",
    "    'first': first_name.title(),\n",
    "    'last': last_name.title(),\n",
    "    'from': city.title(),\n",
    "    'birth': birth,    \n",
    "    'age': (2024 - birth)\n",
    "}\n",
    "\n",
    "txt_1 = ('My name is {first}. My last name is {last}. I was born in {from} at {birth}. Now, I\\'m {age} years old.').format_map(my_dict)\n",
    "print(txt_1)"
   ]
  },
  {
   "cell_type": "code",
   "execution_count": null,
   "metadata": {},
   "outputs": [
    {
     "name": "stdout",
     "output_type": "stream",
     "text": [
      "My favorite spor is Football. I watched Braking Bad twice. I admire Al Pacino and I want to live in Amsterdam\n"
     ]
    }
   ],
   "source": [
    "dict_hobbies = {\n",
    "    'sport': 'Football',\n",
    "    'series': 'Braking Bad',\n",
    "    'actrist': 'Al Pacino',\n",
    "    'city': 'Amsterdam'\n",
    "    }\n",
    "\n",
    "txt_best = 'My favorite spor is {sport}. I watched {series} twice. I admire {actrist} and I want to live in {city}'.format_map(dict_hobbies)\n",
    "\n",
    "print(txt_best)"
   ]
  },
  {
   "cell_type": "markdown",
   "metadata": {},
   "source": [
    "##### **11. Method: index() and rindex()**"
   ]
  },
  {
   "cell_type": "markdown",
   "metadata": {},
   "source": [
    "> index bulmaya yarayan method [index soldan, rindex sağdan aramaya başlar]\n",
    "\n",
    "> Bu methodu kullanarak bir string'in başka bir string içerisinde kaçıncı index'te olduğunu öğreniriz.\n",
    "\n",
    "> Tek bir karakter aratılabileceği gibi, birden fazla karakterden oluşan string'de aratılabilir.\n",
    "\n",
    "> ***Eğer değer bulunamazsa hata verir***"
   ]
  },
  {
   "cell_type": "code",
   "execution_count": null,
   "metadata": {},
   "outputs": [
    {
     "data": {
      "text/plain": [
       "2"
      ]
     },
     "execution_count": 7,
     "metadata": {},
     "output_type": "execute_result"
    }
   ],
   "source": [
    "cell = \"ebcde\"\n",
    "cell.index(\"c\")"
   ]
  },
  {
   "cell_type": "code",
   "execution_count": null,
   "metadata": {},
   "outputs": [
    {
     "name": "stdout",
     "output_type": "stream",
     "text": [
      "Küçük a'nın string içerisindeki index'i  --> 22\n",
      "Küçük a'nın string içerisindeki index'i  --> 22\n",
      "Büyük A'nın string içerisindeki index'i  --> 6\n",
      "Büyük A'nın string içerisindeki index'i  --> 6\n",
      "--\n",
      "7\n"
     ]
    }
   ],
   "source": [
    "string = 'Benim Adım Emre. Her Zaman Olduğu Gibi Şimdi de Emre\\'yim.'\n",
    "print('Küçük a\\'nın string içerisindeki index\\'i  -->',string.index('a'))        # casesentsitive di. büyük aslında 6. indexte ancak bizim aradığımız küçük a olduğu için 22 çıktısını alırız\n",
    "print('Büyük A\\'nın string içerisindeki index\\'i  -->',string.index('A')) \n",
    "print(\"--\")\n",
    "print(string.index('dım'))"
   ]
  },
  {
   "cell_type": "code",
   "execution_count": null,
   "metadata": {},
   "outputs": [
    {
     "name": "stdout",
     "output_type": "stream",
     "text": [
      "36\n",
      "30\n",
      "4\n"
     ]
    }
   ],
   "source": [
    "txt = 'Benim sevgilim Emre dünyanın en iyi Emre\\'sidir'\n",
    "name = 'Emre'\n",
    "\n",
    "print(txt.index(name, 20))          # txt isimli string'in 20. indexinden sonra gelen ilk name değişkenini arar \n",
    "\n",
    "print('techpro education is the best education course in the world!'.index('edu', 15 ))     # başta verilmiş olan string'in 15. indexinden sonra gelen ilk 'edu' stringinin indexini arar\n",
    "\n",
    "test_string = \"1234gfg4321\"\n",
    "print(test_string.index('gfg', 1, 10))          # 1. indexten başlar 10. indexe kadar geçen aralıkta 'gfg' yi arar."
   ]
  },
  {
   "cell_type": "code",
   "execution_count": null,
   "metadata": {},
   "outputs": [
    {
     "name": "stdout",
     "output_type": "stream",
     "text": [
      "-1\n"
     ]
    }
   ],
   "source": [
    "print('sen benim en güzel günahımsın'.find('1', 3, 12))           # stringin 3. indexinden başlar 12.'ye kadar devam eden aralıkta 'en' ifadesini arar\n"
   ]
  },
  {
   "cell_type": "markdown",
   "metadata": {},
   "source": [
    "##### **12. Method: isalnum()**"
   ]
  },
  {
   "cell_type": "markdown",
   "metadata": {},
   "source": [
    "> bir string'in alfabetik-numeric olup olmadığını sorgularız. hem alfabetik hem de numeric ise true döndürür\n",
    "\n",
    "> başka bi deyişle, string eğer sadece harflerden oluşuyorsa, sadece sayılardan oluşuyorsa ve hem harf hem yazıdan oluşuyorsa true döndürür. Eğer string içerisinde bir boşluk dahi olsa onu özel karakterden sayar."
   ]
  },
  {
   "cell_type": "code",
   "execution_count": null,
   "metadata": {},
   "outputs": [
    {
     "name": "stdout",
     "output_type": "stream",
     "text": [
      "True\n",
      "True\n",
      "True\n",
      "False\n",
      "False\n",
      "False\n",
      "False\n"
     ]
    }
   ],
   "source": [
    "print('B'.isalnum())            # sadece harf\n",
    "print('2'.isalnum())            # sadece sayı\n",
    "print('B2'.isalnum())           # hem sayı hem harf\n",
    "print('B 2'.isalnum())          # arada bir boşluk olduğu için False döndürür\n",
    "print('B-2'.isalnum())          # arada bir tane tire olduğu için False döndürür\n",
    "print('Emre Çakır'.isalnum())\n",
    "\n",
    "print('Erkin Çakır Türkiyelidir ama şuanda Hollanda\\'da yaşıyor'.isalnum())"
   ]
  },
  {
   "cell_type": "markdown",
   "metadata": {},
   "source": [
    "##### **13. Method: isalpha()**"
   ]
  },
  {
   "cell_type": "markdown",
   "metadata": {},
   "source": [
    "> string'in sadece alfabetik olup olmadığını sorgularız:\n",
    "\n",
    "> sadece alfabetik ise True döndürür"
   ]
  },
  {
   "cell_type": "code",
   "execution_count": null,
   "metadata": {},
   "outputs": [
    {
     "name": "stdout",
     "output_type": "stream",
     "text": [
      "True\n",
      "False\n",
      "False\n"
     ]
    }
   ],
   "source": [
    "name = 'Emre'\n",
    "\n",
    "print(name.isalpha())\n",
    "\n",
    "name_1= 'Emre1'\n",
    "\n",
    "print(name_1.isalpha())\n",
    "\n",
    "name_2 = 'Emre Çakır'\n",
    "\n",
    "print(name_2.isalpha())"
   ]
  },
  {
   "cell_type": "markdown",
   "metadata": {},
   "source": [
    "##### **14. Method: isdecimal() & isdigit() & isnumeric()**"
   ]
  },
  {
   "cell_type": "markdown",
   "metadata": {},
   "source": [
    "> string içerisinde sadece rakamlar mı var diye kontrol ederiz\n",
    "\n",
    "> 3 method birbirinin yerini tutar. Detayları anlaşılmayacak seviyede. İstediğini seç"
   ]
  },
  {
   "cell_type": "code",
   "execution_count": null,
   "metadata": {},
   "outputs": [
    {
     "name": "stdout",
     "output_type": "stream",
     "text": [
      "True\n",
      "False\n",
      "False\n",
      "False\n",
      "False\n"
     ]
    }
   ],
   "source": [
    "string = '1231135'              # sadece rakamlardan oluşuyor\n",
    "print(string.isdecimal())\n",
    "string = '1231135a'             # harf var       \n",
    "print(string.isdecimal())\n",
    "string = '123 1231'             # boşluk var\n",
    "print(string.isdecimal())\n",
    "string = '12.2'                 # nokta var\n",
    "print(string.isdecimal())\n",
    "string = '-12'                 # tire var\n",
    "print(string.isdecimal())"
   ]
  },
  {
   "cell_type": "code",
   "execution_count": null,
   "metadata": {},
   "outputs": [
    {
     "name": "stdout",
     "output_type": "stream",
     "text": [
      "True\n",
      "False\n",
      "False\n",
      "False\n",
      "False\n"
     ]
    }
   ],
   "source": [
    "string = '1231135'              # sadece rakamlardan oluşuyor\n",
    "print(string.isdigit())\n",
    "string = '1231135a'             # harf var       \n",
    "print(string.isdigit())\n",
    "string = '123 1231'             # boşluk var\n",
    "print(string.isdigit())\n",
    "string = '12.2'                 # nokta var\n",
    "print(string.isdigit())\n",
    "string = '-12'                 # tire var\n",
    "print(string.isdigit())"
   ]
  },
  {
   "cell_type": "code",
   "execution_count": null,
   "metadata": {},
   "outputs": [
    {
     "name": "stdout",
     "output_type": "stream",
     "text": [
      "True\n",
      "False\n",
      "False\n",
      "False\n",
      "False\n"
     ]
    }
   ],
   "source": [
    "string = '1231135'              # sadece rakamlardan oluşuyor\n",
    "print(string.isnumeric())\n",
    "string = '1231135a'             # harf var       \n",
    "print(string.isnumeric())\n",
    "string = '123 1231'             # boşluk var\n",
    "print(string.isnumeric())\n",
    "string = '12.2'                 # nokta var\n",
    "print(string.isnumeric())\n",
    "string = '-12'                 # tire var\n",
    "print(string.isnumeric())"
   ]
  },
  {
   "cell_type": "code",
   "execution_count": null,
   "metadata": {},
   "outputs": [],
   "source": []
  },
  {
   "cell_type": "markdown",
   "metadata": {},
   "source": [
    "##### **15. Method: isidentifier()**"
   ]
  },
  {
   "cell_type": "markdown",
   "metadata": {},
   "source": [
    "> Bu method isalnum() methoduna çok benziyor. Hem string hem sayı ise True yazdırır. Tek bir farkla:\n",
    "\n",
    "> isidentifier(), rakamla başlayan stringleri False döndürür."
   ]
  },
  {
   "cell_type": "code",
   "execution_count": null,
   "metadata": {},
   "outputs": [
    {
     "name": "stdout",
     "output_type": "stream",
     "text": [
      "True\n",
      "True\n",
      "False\n",
      "False\n",
      "False\n"
     ]
    }
   ],
   "source": [
    "print('Emre21'.isidentifier())      # herhangi bi yerde sayı olması sorun değil başta olmasın yeter\n",
    "print('Emreee'.isidentifier())\n",
    "print('21Emre'.isidentifier())      # Eğer rakamla başlarsa kabul olmuyor\n",
    "print('Emre-21'.isidentifier())     # özel karakter kabul etmiyor isalnum() gibi\n",
    "print('Emre 21'.isidentifier())     \n",
    "\n"
   ]
  },
  {
   "cell_type": "markdown",
   "metadata": {},
   "source": [
    "##### **16. Method: islower()**"
   ]
  },
  {
   "cell_type": "code",
   "execution_count": null,
   "metadata": {},
   "outputs": [
    {
     "name": "stdout",
     "output_type": "stream",
     "text": [
      "True\n",
      "False\n",
      "False\n"
     ]
    }
   ],
   "source": [
    "print('emre çakır'.islower())\n",
    "print('Emre Çakır'.islower())\n",
    "print('emre çakıR'.islower())"
   ]
  },
  {
   "cell_type": "markdown",
   "metadata": {},
   "source": [
    "##### **17. Method: isprintable()**"
   ]
  },
  {
   "cell_type": "markdown",
   "metadata": {},
   "source": [
    "> anladığım kadarıyla bazı kaçış yöntemlerini false döndürüyor bir tanımlayamadığı simgeler falan olursa muhtemelen"
   ]
  },
  {
   "cell_type": "code",
   "execution_count": null,
   "metadata": {},
   "outputs": [
    {
     "name": "stdout",
     "output_type": "stream",
     "text": [
      "True\n",
      "True\n",
      "True\n",
      "True\n",
      "True\n",
      "True\n",
      "----\n",
      "False\n",
      "False\n",
      "True\n"
     ]
    }
   ],
   "source": [
    "txt = 'Emre Çakır'\n",
    "print(txt.isprintable())\n",
    "txt = 'Emre_Çakır'\n",
    "print(txt.isprintable())\n",
    "txt = 'Emre1Çakır2'\n",
    "print(txt.isprintable())\n",
    "txt = '2'\n",
    "print(txt.isprintable())\n",
    "txt = '-2'\n",
    "print(txt.isprintable())\n",
    "txt = '❤'\n",
    "print(txt.isprintable())\n",
    "print('----')\n",
    "txt = 'emre\\tçakır'\n",
    "print(txt.isprintable())\n",
    "txt = 'emre\\nçakır'\n",
    "print(txt.isprintable())\n",
    "txt = 'Emre\\' Çakır'            # bu garipmiş\n",
    "print(txt.isprintable())"
   ]
  },
  {
   "cell_type": "markdown",
   "metadata": {},
   "source": [
    "##### **18. Method: isspace()**"
   ]
  },
  {
   "cell_type": "markdown",
   "metadata": {},
   "source": [
    "        Eğer bir string içerisindeki tüm karakterler aşağıdaki ifadelerden oluşuyorsa True döndürür. Onun haricinde false döndürür bir tane bile bunlar dışında bir şey varsa.\n",
    "    \n",
    "    Whitespace: Alfabe dışı karakterler ya da Aralıklama Karakterleri olarak geçiyor bu aşağıdakiler:\n",
    "    ' ' - Space\n",
    "    \\t - Horizontal tab\n",
    "    \\n - Newline\n",
    "    \\v - Vertical tab\n",
    "    \\f - Feed\n",
    "    \\r - Carriage return"
   ]
  },
  {
   "cell_type": "code",
   "execution_count": null,
   "metadata": {},
   "outputs": [
    {
     "name": "stdout",
     "output_type": "stream",
     "text": [
      "True\n",
      "False\n",
      "True\n",
      "False\n"
     ]
    }
   ],
   "source": [
    "string = \"\\n\\t\\n\"\n",
    "print(string.isspace())\n",
    "\n",
    "string = 'Geeksforgeeks'\n",
    "print(string.isspace())\n",
    "\n",
    "string = '\\n \\n \\n'\n",
    "print(string.isspace())\n",
    "\n",
    "string = 'Geeks\\nfor\\ngeeks'\n",
    "print( string.isspace())\n"
   ]
  },
  {
   "cell_type": "markdown",
   "metadata": {},
   "source": [
    "##### **19. Method: istitle()**"
   ]
  },
  {
   "cell_type": "markdown",
   "metadata": {},
   "source": [
    "> eğer string title() metotu ile düzenlenmiş bir string gibi ise True döndürür. Değilse False döndürür."
   ]
  },
  {
   "cell_type": "code",
   "execution_count": null,
   "metadata": {},
   "outputs": [
    {
     "name": "stdout",
     "output_type": "stream",
     "text": [
      "False\n",
      "False\n",
      "False\n",
      "True\n",
      "True\n"
     ]
    }
   ],
   "source": [
    "print('emre çakır'.istitle())\n",
    "print('emre Çakır'.istitle())\n",
    "print('EmrE Çakır'.istitle())\n",
    "print('Emreçakır'.istitle())\n",
    "print('Emre Çakır'.istitle())"
   ]
  },
  {
   "cell_type": "markdown",
   "metadata": {},
   "source": [
    "##### **20. Method: isupper()**"
   ]
  },
  {
   "cell_type": "markdown",
   "metadata": {},
   "source": [
    "> eğer string upper() metotu ile düzenlenmiş bir string gibi ise True döndürür. Değilse False döndürür."
   ]
  },
  {
   "cell_type": "code",
   "execution_count": null,
   "metadata": {},
   "outputs": [
    {
     "name": "stdout",
     "output_type": "stream",
     "text": [
      "False\n",
      "False\n",
      "False\n",
      "True\n",
      "True\n"
     ]
    }
   ],
   "source": [
    "print('Emre'.isupper())\n",
    "print('EMRe'.isupper())\n",
    "print('EmRe'.isupper())\n",
    "print('EMRE'.isupper())\n",
    "print('EMRE ÇAKIR'.isupper())"
   ]
  },
  {
   "cell_type": "markdown",
   "metadata": {},
   "source": [
    "##### **21. Method: join()**"
   ]
  },
  {
   "cell_type": "markdown",
   "metadata": {},
   "source": [
    "    Bir string'in içine bir şeyler serpiştiriyor\n",
    "    Eğer bir liste sadece string'lerden oluşuyorsa listeyi string'e çevirebilir"
   ]
  },
  {
   "cell_type": "code",
   "execution_count": null,
   "metadata": {},
   "outputs": [
    {
     "name": "stdout",
     "output_type": "stream",
     "text": [
      "E-m-r-e\n",
      "E*m*r*e\n",
      "E-*-m-*-r-*-e\n",
      " $E$m$r$e$ \n",
      "geeks\n"
     ]
    }
   ],
   "source": [
    "print('-'.join('Emre'))\n",
    "print('*'.join('Emre'))\n",
    "print('-*-'.join('Emre'))\n",
    "print('$'.join(' Emre '))"
   ]
  },
  {
   "cell_type": "code",
   "execution_count": null,
   "metadata": {},
   "outputs": [
    {
     "name": "stdout",
     "output_type": "stream",
     "text": [
      "1234\n",
      "e*m*r*e\n",
      "ee*mm*rr*ee\n"
     ]
    }
   ],
   "source": [
    "print(\"\".join(['1', '2', '3', '4']))\n",
    "print(\"*\".join(['e', 'm', 'r', 'e']))\n",
    "print(\"*\".join(['ee', 'mm', 'rr', 'ee']))"
   ]
  },
  {
   "cell_type": "code",
   "execution_count": null,
   "metadata": {},
   "outputs": [
    {
     "name": "stdout",
     "output_type": "stream",
     "text": [
      "1-2-3-4\n"
     ]
    },
    {
     "data": {
      "text/plain": [
       "str"
      ]
     },
     "execution_count": 12,
     "metadata": {},
     "output_type": "execute_result"
    }
   ],
   "source": [
    "list1 = ('1', '2', '3', '4')\n",
    "s = \"-\"\n",
    "txt = s.join(list1)\n",
    "print(txt)"
   ]
  },
  {
   "cell_type": "code",
   "execution_count": null,
   "metadata": {},
   "outputs": [
    {
     "name": "stdout",
     "output_type": "stream",
     "text": [
      "Emre_#_İrem_#_Süheyla\n"
     ]
    }
   ],
   "source": [
    "dict1 = {'Emre': 1, 'İrem': 2, 'Süheyla': 3}\n",
    "\n",
    "txt = '_#_'.join(dict1)     # bir dict'in key'lerini kullabiliyoruz\n",
    "\n",
    "print(txt)"
   ]
  },
  {
   "cell_type": "markdown",
   "metadata": {},
   "source": [
    "##### **23. Method: lower()**"
   ]
  },
  {
   "cell_type": "code",
   "execution_count": null,
   "metadata": {},
   "outputs": [
    {
     "name": "stdout",
     "output_type": "stream",
     "text": [
      "emre çakır\n",
      "emre çakır\n",
      "emre_çakır\n"
     ]
    }
   ],
   "source": [
    "print('Emre Çakır'.lower())\n",
    "print('emre çakır'.lower())\n",
    "print('emre_Çakır'.lower())"
   ]
  },
  {
   "cell_type": "markdown",
   "metadata": {},
   "source": [
    "> bir stringin solunda sildirmek istediğimiz şeyleri sildiririz. Eğer bir şey belirtmezsek, boşluk varsa boşluğu siler"
   ]
  },
  {
   "cell_type": "code",
   "execution_count": null,
   "metadata": {},
   "outputs": [
    {
     "name": "stdout",
     "output_type": "stream",
     "text": [
      "Emre Çakır\n",
      "**Emre Çakır\n",
      "Emre Çakır\n",
      "Emre**Çakır***\n"
     ]
    }
   ],
   "source": [
    "print('  Emre Çakır'.lstrip())\n",
    "print('**Emre Çakır'.lstrip())      # burada silmediğini bir alt satırda özel olarak belirterek sildirebiliyoruz\n",
    "print('**Emre Çakır'.lstrip('**'))\n",
    "print('**Emre**Çakır***'.lstrip('**'))  # parantez içerisinde belirtilenler sadece stringin başında ise geçerli olur"
   ]
  },
  {
   "cell_type": "code",
   "execution_count": null,
   "metadata": {},
   "outputs": [
    {
     "name": "stdout",
     "output_type": "stream",
     "text": [
      " geeksforgeeks\n",
      "Emre Çakır\n"
     ]
    }
   ],
   "source": [
    "string = \"++++x...y!!z* geeksforgeeks\"\n",
    "print(string.lstrip(\"+.!*xyz\"))         # illa tam olarak birebir aynısını yazmamıza gerek yok. içerdiği şeyi içerse yeter\n",
    "\n",
    "string2 = 'a1x2 a1a x3?a?xx Emre Çakır'\n",
    "print(string2.lstrip('a213?x '))        # bu şekilde detaylı bilgi girersek temizliği doğru yapabilir"
   ]
  },
  {
   "cell_type": "code",
   "execution_count": null,
   "metadata": {},
   "outputs": [
    {
     "name": "stdout",
     "output_type": "stream",
     "text": [
      "re Çakır\n"
     ]
    }
   ],
   "source": [
    "# illa boşluk silmek zorunda değiliz:\n",
    "\n",
    "print('Emre Çakır'.lstrip('Em'))         # baş kısımdaki Em'i sildirebiliriz"
   ]
  },
  {
   "cell_type": "markdown",
   "metadata": {},
   "source": [
    "##### **25. Method: partition()**"
   ]
  },
  {
   "cell_type": "markdown",
   "metadata": {},
   "source": [
    "> stringler içerisinde bir şey aratırız ve arattığımız şeyi bir ayraç olarak kullanıp ikiye böleriz tüm stringi \n",
    "\n",
    "> Her zaman 3 elemanlı bir tuple elde ederiz anladığım kadarıyla"
   ]
  },
  {
   "cell_type": "code",
   "execution_count": null,
   "metadata": {},
   "outputs": [
    {
     "name": "stdout",
     "output_type": "stream",
     "text": [
      "('Emre Çakır ', 'Bir', ' Makine Mühendisiydi Eskiden')\n",
      "('Emre Çakır', ' Bir ', 'Makine Mühendisiydi Eskiden')\n",
      "('', 'Emre', ' Çakır Bir Makine Mühendisiydi Eskiden')\n",
      "('Emre Çakır Bir Makine Mühendisiydi', ' Eskiden', '')\n"
     ]
    }
   ],
   "source": [
    "print('Emre Çakır Bir Makine Mühendisiydi Eskiden'.partition('Bir'))\n",
    "print('Emre Çakır Bir Makine Mühendisiydi Eskiden'.partition(' Bir '))\n",
    "print('Emre Çakır Bir Makine Mühendisiydi Eskiden'.partition('Emre'))\n",
    "print('Emre Çakır Bir Makine Mühendisiydi Eskiden'.partition(' Eskiden'))"
   ]
  },
  {
   "cell_type": "code",
   "execution_count": null,
   "metadata": {},
   "outputs": [
    {
     "name": "stdout",
     "output_type": "stream",
     "text": [
      "('bu ', 'Emre', ' Çakır Emre değildir.')\n"
     ]
    }
   ],
   "source": [
    "print('bu Emre Çakır Emre değildir.'.partition('Emre'))     # Eğer arattığımız şeyden iki tane varsa, ilk denk geldiğini dikkate alır."
   ]
  },
  {
   "cell_type": "code",
   "execution_count": null,
   "metadata": {},
   "outputs": [
    {
     "name": "stdout",
     "output_type": "stream",
     "text": [
      "('Emre Çakır Bir Makine Mühendisiydi Eskiden', '', '')\n"
     ]
    }
   ],
   "source": [
    "print('Emre Çakır Bir Makine Mühendisiydi Eskiden'.partition('Süheyla'))          # eğer arattığımız şey yoksa, tipik olarak aşağıdaki gibi bir çıktı alırız."
   ]
  },
  {
   "cell_type": "code",
   "execution_count": null,
   "metadata": {},
   "outputs": [
    {
     "data": {
      "text/plain": [
       "tuple"
      ]
     },
     "execution_count": 114,
     "metadata": {},
     "output_type": "execute_result"
    }
   ],
   "source": [
    "string = 'Emre Çakır Bir Makine Mühendisiydi Eskiden'.partition('Süheyla')\n",
    "type(string)"
   ]
  },
  {
   "cell_type": "code",
   "execution_count": null,
   "metadata": {},
   "outputs": [
    {
     "name": "stdout",
     "output_type": "stream",
     "text": [
      "www.example.com\n"
     ]
    }
   ],
   "source": [
    "# çok güzel bir çalışma:\n",
    "\n",
    "url = \"https://www.example.com/index.html\"\n",
    "result = url.partition(\"//\")\n",
    "result = result[2].partition(\"/\")\n",
    "print(result[0])\n"
   ]
  },
  {
   "cell_type": "markdown",
   "metadata": {},
   "source": [
    "##### **26. Method: replace()**"
   ]
  },
  {
   "cell_type": "code",
   "execution_count": null,
   "metadata": {},
   "outputs": [
    {
     "name": "stdout",
     "output_type": "stream",
     "text": [
      "Emre Çakır\n"
     ]
    }
   ],
   "source": [
    "print('Serhat Çakır'.replace('Serhat', 'Emre'))     # klasik kullanımı budur"
   ]
  },
  {
   "cell_type": "code",
   "execution_count": null,
   "metadata": {},
   "outputs": [
    {
     "name": "stdout",
     "output_type": "stream",
     "text": [
      "X çakır X çakır emre çakır emre çakır\n"
     ]
    }
   ],
   "source": [
    "print('emre çakır emre çakır emre çakır emre çakır'.replace('emre', 'X', 2))        # bu replace işlemini yalnızca 2 kez yapmamızı sağladı"
   ]
  },
  {
   "cell_type": "markdown",
   "metadata": {},
   "source": [
    "> find() baştan başlar aramaya, rfind() ise sondan başlar aramaya."
   ]
  },
  {
   "cell_type": "code",
   "execution_count": null,
   "metadata": {},
   "outputs": [
    {
     "name": "stdout",
     "output_type": "stream",
     "text": [
      "4\n",
      "26\n",
      "0\n",
      "7\n"
     ]
    }
   ],
   "source": [
    "print('let it be, let it be, let it be'.find('it'))\n",
    "print('let it be, let it be, let it be'.rfind('it'))\n",
    "\n",
    "print('emreemre'.find('e'))\n",
    "print('emreemre'.rfind('e'))"
   ]
  },
  {
   "cell_type": "markdown",
   "metadata": {},
   "source": [
    "> index() baştan başlar saymaya, rindex() sondan başlar"
   ]
  },
  {
   "cell_type": "code",
   "execution_count": null,
   "metadata": {},
   "outputs": [
    {
     "name": "stdout",
     "output_type": "stream",
     "text": [
      "0\n",
      "3\n"
     ]
    }
   ],
   "source": [
    "print('emre Çakır'.index('e'))\n",
    "print('emre Çakır'.rindex('e'))"
   ]
  },
  {
   "cell_type": "markdown",
   "metadata": {},
   "source": [
    "##### **29. Method: partition() and rpartition()**"
   ]
  },
  {
   "cell_type": "markdown",
   "metadata": {},
   "source": [
    "> partition() soldan başlar aramaya, rpartition() sağdan başlar"
   ]
  },
  {
   "cell_type": "code",
   "execution_count": null,
   "metadata": {},
   "outputs": [
    {
     "name": "stdout",
     "output_type": "stream",
     "text": [
      "('Emre Çakır ', 'Bir', ' Makine Mühendisiydi Bir Eskiden')\n",
      "('Emre Çakır Bir Makine Mühendisiydi ', 'Bir', ' Eskiden')\n"
     ]
    },
    {
     "data": {
      "text/plain": [
       "3"
      ]
     },
     "execution_count": 6,
     "metadata": {},
     "output_type": "execute_result"
    }
   ],
   "source": [
    "print('Emre Çakır Bir Makine Mühendisiydi Bir Eskiden'.partition('Bir'))            # soldan ilk Bir\n",
    "print('Emre Çakır Bir Makine Mühendisiydi Bir Eskiden'.rpartition('Bir'))           # sağdan ilk Bir\n",
    "len('Emre Çakır Bir Makine Mühendisiydi Bir Eskiden'.rpartition('Eskiden'))        # sağdan ilk Bir"
   ]
  },
  {
   "cell_type": "markdown",
   "metadata": {},
   "source": [
    "##### **30. Method: split()**"
   ]
  },
  {
   "cell_type": "markdown",
   "metadata": {},
   "source": [
    "> bir karakter seçeriz ve string'i o karakterin olduğu yerlerden ayırır. Ayrıca tek bir karakter yerine birden fazlasını da seçebiliriz.\n",
    "\n",
    "> split olarak belirlenen karakteri siler"
   ]
  },
  {
   "cell_type": "code",
   "execution_count": null,
   "metadata": {},
   "outputs": [
    {
     "name": "stdout",
     "output_type": "stream",
     "text": [
      "['Benim', ' adım', ' Emre', ' Çakır']\n",
      "['Benim', 'adım', 'Emre', 'Çakır']\n",
      "['Benim, adım, ', ', Çakır']\n",
      "['Benim, adım', 'Çakır']\n",
      "['Benim', 'adım', 'Emre', 'Çakır']\n"
     ]
    }
   ],
   "source": [
    "print('Benim, adım, Emre, Çakır'.split(','))          # virgüller ayrak olarak kullanıldı\n",
    "print('Benim, adım, Emre, Çakır'.split(', '))         # virgüle ve boşluk olan her yer ayrak olarak kullanıldı\n",
    "print('Benim, adım, Emre, Çakır'.split('Emre'))       # Emre ayraç olarak kullanıldı. Emre'nin silindiğine dikkat et\n",
    "print('Benim, adım, Emre, Çakır'.split(', Emre, '))   # (1)Daha düzgün bir split seçimi, çıktının daha düzgün olmasını sağlar\n",
    "print('Benim adım Emre Çakır'.split(' '))             # (2)Daha düzgün bir split seçimi, çıktının daha düzgün olmasını sağlar"
   ]
  },
  {
   "cell_type": "code",
   "execution_count": null,
   "metadata": {},
   "outputs": [
    {
     "name": "stdout",
     "output_type": "stream",
     "text": [
      "['Benim', 'adım Emre Çakır']\n",
      "['Benim', 'adım Emre Çakır']\n",
      "--#--\n",
      "['Benim', 'adım', 'Emre Çakır']\n",
      "['Benim', 'adım', 'Emre Çakır']\n",
      "--#--\n",
      "['Benim', 'adım', 'Emre', 'Çakır']\n",
      "['Benim', 'adım', 'Emre', 'Çakır']\n",
      "--#--\n",
      "split()'in içine hiçbir şey yazmazsak, space olarak algılar --> ['Benim', 'adım', 'Emre', 'Çakır']\n"
     ]
    }
   ],
   "source": [
    "print('Benim adım Emre Çakır'.split(' ', maxsplit=1))           # maxsplit, belirlenen split'in en fazla kaç defa uygulanacağını gösterir\n",
    "print('Benim adım Emre Çakır'.split(' ', 1))                    # maxsplit yazmasak da olur\n",
    "print('--#--')\n",
    "print('Benim adım Emre Çakır'.split(' ', maxsplit=2))           # belirlediğimiz split aracının 2 defa uygulandığını, 3. ye geldikten sonra durduğunu görebiliriz\n",
    "print('Benim adım Emre Çakır'.split(' ', 2))                    # maxsplit yazmasak da olur \n",
    "print('--#--')\n",
    "print('Benim adım Emre Çakır'.split(' ', 4))           \n",
    "print('Benim adım Emre Çakır'.split(' ', 12))                   # string içerisindeki sayıyı aşarsak sorun yok max uygulama yapıp geçer \n",
    "print('--#--')\n",
    "print('split()\\'in içine hiçbir şey yazmazsak, space olarak algılar -->','Benim adım Emre Çakır'.split())           \n"
   ]
  },
  {
   "cell_type": "markdown",
   "metadata": {},
   "source": [
    "##### **31. Method: strip() anda lstrip()**"
   ]
  },
  {
   "cell_type": "markdown",
   "metadata": {},
   "source": [
    "> Baştan ve sondan boşluklar siler (lstrip sadece solundan siler)\n",
    "\n",
    "> Eğer farklı bi şey belirtirsek boşluk yerine onu siler"
   ]
  },
  {
   "cell_type": "code",
   "execution_count": null,
   "metadata": {},
   "outputs": [
    {
     "name": "stdout",
     "output_type": "stream",
     "text": [
      "Emre Çakır\n",
      "Emre Çakır\n",
      "--#--\n",
      "Emre Çakır\n",
      "     Emre Çakır\n",
      "--#--\n",
      "     Emre Çakır\n",
      "Emre Çakır\n",
      "--#--\n",
      "Emre Çakır\n",
      "Emre Çakır\n",
      "--#--\n",
      "Emre \n"
     ]
    }
   ],
   "source": [
    "print('     Emre Çakır      '.strip())              # başta ve sondaki tüm boşlukları sildi\n",
    "print('     Emre Çakır      '.strip(\" \"))           # ortalardaki hiçbir şey ile ilgilenmez bu metod\n",
    "print('--#--')\n",
    "print('*****Emre Çakır******'.strip('*'))           # başta ve sondaki asteriksleri sildi\n",
    "print('     Emre Çakır******'.strip('*'))           # sondaki asteriksleri sildi ama baştaki boşluğa dokunmadı\n",
    "print('--#--')\n",
    "print('     Emre Çakır******'.strip('*'))           # sondaki asteriksleri sildi ama baştaki boşluğa dokunmadı\n",
    "print('     Emre Çakır******'.strip('* '))          # Eğer bi tarafta boşluk diğer tarafta asteriks gibi durum olursa, iki karkateri de yazarsak metot gerekeni yapar\n",
    "print('--#--')\n",
    "print('yxzyxEmre Çakırzyxzyz'.strip('xyz'))         # başta ve sodna x, y ve z harflerinin rastgele dizilimleri var. Bizim strip komuduna bu 3 harfi yazmamız yeter\n",
    "print('yxzyxEmre Çakırzyxzyz'.strip('xyz'))         # başta ve sodna x, y ve z harflerinin rastgele dizilimleri var. Bizim strip komuduna bu 3 harfi yazmamız yeter\n",
    "print('--#--')\n",
    "print('Emre Çakır'.strip('Çakır'))                  # Bu şekilde doğrudan kelime de kaldırabiliriz.\n"
   ]
  },
  {
   "cell_type": "code",
   "execution_count": null,
   "metadata": {},
   "outputs": [],
   "source": [
    "print('  Emre Çakır'.lstrip())\n",
    "print('**Emre Çakır'.lstrip())      # burada silmediğini bir alt satırda özel olarak belirterek sildirebiliyoruz\n",
    "print('**Emre Çakır'.lstrip('**'))\n",
    "print('**Emre**Çakır***'.lstrip('**'))  # parantez içerisinde belirtilenler sadece stringin başında ise geçerli olur"
   ]
  },
  {
   "cell_type": "markdown",
   "metadata": {},
   "source": [
    "##### **32. Method: splitlines()**"
   ]
  },
  {
   "cell_type": "markdown",
   "metadata": {},
   "source": [
    "> \\n, \\r, \\r\\n, \\x1c, \\x1d, ... , \\u2029 \n",
    "\n",
    "> splitlines() metodu yukarıdaki karakterlere göre split olur. "
   ]
  },
  {
   "cell_type": "code",
   "execution_count": null,
   "metadata": {},
   "outputs": [
    {
     "name": "stdout",
     "output_type": "stream",
     "text": [
      "['Cat', 'Bat', 'Sat', 'Mat', 'Xat', 'Eat']\n",
      "['India', 'Japan', 'USA', 'UK', 'Canada']\n"
     ]
    }
   ],
   "source": [
    "\n",
    "string = \"Cat\\nBat\\nSat\\nMat\\nXat\\nEat\"\n",
    "\n",
    "print (string.splitlines( )) \n",
    "\n",
    "print('India\\nJapan\\nUSA\\nUK\\nCanada\\n'.splitlines())"
   ]
  },
  {
   "cell_type": "markdown",
   "metadata": {},
   "source": [
    "##### **33. Method: startswith()**"
   ]
  },
  {
   "cell_type": "markdown",
   "metadata": {},
   "source": [
    "> Eğer bir string bizim belirttiğimiz şekilde başlamışsa True döndürür, aksi halde false"
   ]
  },
  {
   "cell_type": "code",
   "execution_count": null,
   "metadata": {},
   "outputs": [
    {
     "name": "stdout",
     "output_type": "stream",
     "text": [
      "True\n",
      "False\n"
     ]
    }
   ],
   "source": [
    "var = \"Geeks for Geeks\"\n",
    "\n",
    "print(var.startswith(\"Geeks\"))\n",
    "print(var.startswith(\"Hello\"))"
   ]
  },
  {
   "cell_type": "code",
   "execution_count": null,
   "metadata": {},
   "outputs": [
    {
     "name": "stdout",
     "output_type": "stream",
     "text": [
      "True\n",
      "True\n",
      "False\n"
     ]
    }
   ],
   "source": [
    "text = \"geeks for geeks.\"\n",
    "\n",
    "result = text.startswith('for geeks', 6)        # text'in 6. karakteri f'dir yani for geeks'dir.\n",
    "print(result)\n",
    "\n",
    "result = text.startswith('for', 6, 9)           # text'in 6. karakteri ile 9. karakteri arasında for vardır. (9 dahil değil)\n",
    "print(result)\n",
    "\n",
    "result = text.startswith('for', 6, 8)           # text'in 6. karakteri ile 8. karakteri arasında for yoktur fo vardır sadece. (8 dahil değil)\n",
    "print(result)\n"
   ]
  },
  {
   "cell_type": "markdown",
   "metadata": {},
   "source": [
    "##### **34. Method: swapcase()**"
   ]
  },
  {
   "cell_type": "markdown",
   "metadata": {},
   "source": [
    "> Büyük harfleri küçük hale çevirir, küçük harfleri büyük harfe çevirir"
   ]
  },
  {
   "cell_type": "code",
   "execution_count": null,
   "metadata": {},
   "outputs": [
    {
     "name": "stdout",
     "output_type": "stream",
     "text": [
      "emre ÇAKIR\n"
     ]
    }
   ],
   "source": [
    "print('EMRE çakır'.swapcase())"
   ]
  },
  {
   "cell_type": "markdown",
   "metadata": {},
   "source": [
    "##### **35. Method: title()**"
   ]
  },
  {
   "cell_type": "markdown",
   "metadata": {},
   "source": [
    "> string içerisindeki tüm kelimelerin büyük harfle başlayıp küçük harfle devam etmesini sağlar"
   ]
  },
  {
   "cell_type": "code",
   "execution_count": null,
   "metadata": {},
   "outputs": [
    {
     "name": "stdout",
     "output_type": "stream",
     "text": [
      "Emre Çakir Gari̇p Bi̇r Adamdir\n",
      "Emre Çakır Garip Bir Adamdır\n",
      "Emre Çakir Garip Bi̇r Adamdir\n"
     ]
    }
   ],
   "source": [
    "print('EMRE ÇAKIR GARİP BİR ADAMDIR'.title())\n",
    "print('emre çakır garip bir adamdır'.title())\n",
    "print('eMre ÇAKIR gAriP bİr aDaMdIr'.title())"
   ]
  },
  {
   "cell_type": "markdown",
   "metadata": {},
   "source": [
    "##### **36. Method: translate()**"
   ]
  },
  {
   "cell_type": "markdown",
   "metadata": {},
   "source": [
    "> çok anlamadım. ASCII sayılarıyla ilgili bi şeydi. Şimdilik vakit ayırmama değeceğini düşünmediğim için geçiyorum bu metodu"
   ]
  },
  {
   "cell_type": "markdown",
   "metadata": {},
   "source": [
    "##### **37. Method: upper()**"
   ]
  },
  {
   "cell_type": "markdown",
   "metadata": {},
   "source": [
    "> tüm string'i büyük harfle yazdırır."
   ]
  },
  {
   "cell_type": "code",
   "execution_count": null,
   "metadata": {},
   "outputs": [
    {
     "name": "stdout",
     "output_type": "stream",
     "text": [
      "EMRE ÇAKIR GARIP BIR ADAMDIR\n",
      "EMRE ÇAKIR GARIP BİR ADAMDIR\n"
     ]
    }
   ],
   "source": [
    "print('emre çakır garip bir adamdır'.upper())\n",
    "print('eMre ÇAKIR gAriP bİr aDaMdIr'.upper())"
   ]
  },
  {
   "cell_type": "markdown",
   "metadata": {},
   "source": [
    "##### **38. Method: zfill()**"
   ]
  },
  {
   "cell_type": "markdown",
   "metadata": {},
   "source": [
    "> stringin başına 0 ekleriz"
   ]
  },
  {
   "cell_type": "code",
   "execution_count": null,
   "metadata": {},
   "outputs": [
    {
     "name": "stdout",
     "output_type": "stream",
     "text": [
      "txt değişkeninin karakter sayısı -->  28\n",
      "--#--\n",
      "00Emre Çakır Garip Bir Adamdır\n",
      "00000000000000000000000000000000Emre Çakır Garip Bir Adamdır\n",
      "--#--\n",
      "00006041\n",
      "--#--\n",
      "+0006041\n"
     ]
    }
   ],
   "source": [
    "txt = 'Emre Çakır Garip Bir Adamdır'\n",
    "print('txt değişkeninin karakter sayısı --> ',len(txt))\n",
    "print('--#--')\n",
    "print(txt.zfill(30))        # 30, 28'den iki fazla olduğu için 2 tane sıfır ekledik başına\n",
    "print(txt.zfill(60))        # 30, 28'den 32 fazla olduğu için 32 tane sıfır ekledik başına\n",
    "print('--#--')\n",
    "number = \"6041\"\n",
    "print(number.zfill(8)) \n",
    "print('--#--')\n",
    "number = \"+6041\"\n",
    "print(number.zfill(8)) "
   ]
  },
  {
   "cell_type": "markdown",
   "metadata": {},
   "source": [
    "#### **▶ 2.1.2.2 Exersizler**\n"
   ]
  },
  {
   "cell_type": "markdown",
   "metadata": {},
   "source": [
    "##### **1️⃣ Kullanıcıdan bir cümle girmesini isteyin. O cümle içerisinde hangi haflerden kaçar tane olduğunun çıktısını alın.**\n",
    "        ÖR:     Örnek String : google.com'\n",
    "                Beklenen Çıktı:  {'g': 2, 'o': 3, 'l': 1, 'e': 1, '.': 1, 'c': 1, 'm': 1}"
   ]
  },
  {
   "cell_type": "code",
   "execution_count": null,
   "metadata": {},
   "outputs": [
    {
     "name": "stdout",
     "output_type": "stream",
     "text": [
      "Girilen metin: emre çakır\n",
      "{'e': 2, 'm': 1, 'r': 2, ' ': 1, 'ç': 1, 'a': 1, 'k': 1, 'ı': 1}\n"
     ]
    }
   ],
   "source": [
    "# Benim çözümüm:\n",
    "\n",
    "text = input('Bir cümle veya metin giriniz: ')\n",
    "text_length = len(text)\n",
    "print('Girilen metin:',text)\n",
    "empty_list = []\n",
    "empty_dict = {}\n",
    "for character in text:\n",
    "    char_count = text.count(character)\n",
    "    if char_count >= 1 and character not in empty_list: \n",
    "        empty_list.append(character)\n",
    "        empty_list.append(char_count)\n",
    "empty_list_length = len(empty_list)\n",
    "for i in range(0, empty_list_length, 2):\n",
    "    empty_dict.update({empty_list[i]: empty_list[i+1]})\n",
    "    \n",
    "print(empty_dict)"
   ]
  },
  {
   "cell_type": "code",
   "execution_count": null,
   "metadata": {},
   "outputs": [
    {
     "name": "stdout",
     "output_type": "stream",
     "text": [
      "Girilen metin: emre çakır\n",
      "{'e': 2, 'm': 1, 'r': 2, ' ': 1, 'ç': 1, 'a': 1, 'k': 1, 'ı': 1}\n"
     ]
    }
   ],
   "source": [
    "# w3resource çözümü:\n",
    "\n",
    "text = input('Bir cümle veya metin giriniz: ')\n",
    "print('Girilen metin:',text)\n",
    "dict = {}\n",
    "for n in text:\n",
    "    keys = dict.keys()\n",
    "    if n in keys:\n",
    "        dict[n] += 1\n",
    "    else:\n",
    "        dict[n] = 1\n",
    "\n",
    "print(dict) "
   ]
  },
  {
   "cell_type": "markdown",
   "metadata": {},
   "source": [
    "##### **2️⃣ Girilen bir stringin ilk iki ve son iki harfinin birleştirilmesiyle elde edilen yeni bir string oluşturun. Girilen stringin karakter sayısı 2'den az ise Empty String çıktısını döndürün.**\n",
    "        ÖR:     Sample String : 'w3resource'\n",
    "                Expected Result : 'w3ce'\n",
    "                Sample String : 'w3'\n",
    "                Expected Result : 'w3w3'\n",
    "                Sample String : ' w'\n",
    "                Expected Result : Empty String "
   ]
  },
  {
   "cell_type": "code",
   "execution_count": null,
   "metadata": {},
   "outputs": [
    {
     "name": "stdout",
     "output_type": "stream",
     "text": [
      "emem\n"
     ]
    }
   ],
   "source": [
    "# Benim çözümüm:\n",
    "\n",
    "string = input('Bir kelime giriniz: ')\n",
    "string_length = len(string)\n",
    "left_side = string[:2]\n",
    "right_side = string[-2:]\n",
    "new_string = left_side + right_side\n",
    "message = 'Empty String'\n",
    "if string_length < 2:\n",
    "    print(message)\n",
    "else:\n",
    "    print(new_string)"
   ]
  },
  {
   "cell_type": "code",
   "execution_count": null,
   "metadata": {},
   "outputs": [
    {
     "name": "stdout",
     "output_type": "stream",
     "text": [
      "w3ce\n",
      "w3w3\n",
      "empty string\n"
     ]
    }
   ],
   "source": [
    "# w3resource çözümü:\n",
    "\n",
    "def string_both_ends(str):\n",
    "    if len(str) < 2:\n",
    "        return 'empty string'       # buraya print girince olmuyor garip bi şekilde\n",
    "\n",
    "    return str[0:2] + str[-2:]\n",
    "\n",
    "print(string_both_ends('w3resource'))  \n",
    "print(string_both_ends('w3'))         \n",
    "print(string_both_ends('w'))           "
   ]
  },
  {
   "cell_type": "markdown",
   "metadata": {},
   "source": []
  },
  {
   "cell_type": "markdown",
   "metadata": {
    "jp-MarkdownHeadingCollapsed": true
   },
   "source": [
    "## **▶️▶️ 2.2 If Clauses**"
   ]
  },
  {
   "cell_type": "markdown",
   "metadata": {},
   "source": [
    "    if konusu ile ilgili anlatılacak bi şey yok. Şarta bağlı işlemler yaparız. Aşağıdaki örnek de bir if yapsının nasıl çalışıtğını açıklıyor."
   ]
  },
  {
   "cell_type": "code",
   "execution_count": null,
   "metadata": {},
   "outputs": [
    {
     "name": "stdout",
     "output_type": "stream",
     "text": [
      "süpersin\n"
     ]
    }
   ],
   "source": [
    "doğru_sayısı = int(input(\"Kaç doğrun var? \"))\n",
    "if doğru_sayısı <= 5:\n",
    "    print(\"Dahi misin?\")\n",
    "elif doğru_sayısı <= 10:\n",
    "    print(\"şaka mısın sen?\")\n",
    "elif doğru_sayısı <= 15:\n",
    "    print(\"süpersin\")\n",
    "else:\n",
    "    print(\"Geçersiz bir değer girdiniz.\")"
   ]
  },
  {
   "cell_type": "markdown",
   "metadata": {
    "jp-MarkdownHeadingCollapsed": true
   },
   "source": [
    "## **▶️▶️ 2.3 Range()**"
   ]
  },
  {
   "cell_type": "markdown",
   "metadata": {},
   "source": [
    "    Range() fonksiyonu ile belli bir aralıkta tam sayı üretiriz"
   ]
  },
  {
   "cell_type": "code",
   "execution_count": null,
   "metadata": {},
   "outputs": [
    {
     "name": "stdout",
     "output_type": "stream",
     "text": [
      "range(4, 10)\n",
      "[4, 5, 6, 7, 8, 9]\n",
      "5\n",
      "[0, 1, 2, 3, 4, 5, 6, 7, 8, 9]\n",
      "[1, 3, 5, 7, 9]\n",
      "[-5, -3, -1, 1, 3, 5, 7, 9]\n",
      "[]\n"
     ]
    }
   ],
   "source": [
    "print(range(4, 10))                # görüntüleyebilmek için farklı bir fonksiyona ihtiyaç vardır. (4 dahil, 10 dahil değil) (iterable'dır, elemanlarına ulaşabiliriz)\n",
    "\n",
    "print(list(range(4, 10)))          # liste oluşturma FONKSİYONU kullanılmıştır. \n",
    "\n",
    "print(range(4, 10)[1])             # iterable olma özelliği'dir. list ve tuple ile çalışabilmesi bunun bir kanıtıdır. \n",
    "\n",
    "print(list(range(10)))             # herhangi bir başlangıç noktası vermezsek 0'dan başlar\n",
    "\n",
    "print(list(range(1, 10, 2)))       # buradaki \"2\", range'in artış hızıdır.\n",
    "\n",
    "print(list(range(-5, 10, 2)))\n",
    "\n",
    "print(list(range(5, 10, -1)))             # 5'den başalyıp -1 adım ile 10'a gidemeyiz. boş liste döndürür"
   ]
  },
  {
   "cell_type": "code",
   "execution_count": null,
   "metadata": {},
   "outputs": [
    {
     "name": "stdout",
     "output_type": "stream",
     "text": [
      "[2, 4, 6, 8, 10, 12, 14, 16, 18, 20, 22, 24, 26, 28, 30, 32, 34, 36, 38, 40, 42, 44, 46, 48, 50]\n",
      "[1, 3, 5, 7, 9, 11, 13, 15, 17, 19, 21, 23, 25, 27, 29, 31, 33, 35, 37, 39, 41, 43, 45, 47, 49]\n"
     ]
    }
   ],
   "source": [
    "# Soru: 1 - 50 arasındaki çift sayıları yazdıralım:\n",
    "print(list(range(2, 51, 2)))\n",
    "\n",
    "# Soru: 1 - 50 arasındaki tek sayıları yazdıralım:\n",
    "print(list(range(1, 50, 2)))"
   ]
  },
  {
   "cell_type": "markdown",
   "metadata": {
    "jp-MarkdownHeadingCollapsed": true
   },
   "source": [
    "## **▶️▶️ 2.4 Lists**"
   ]
  },
  {
   "cell_type": "markdown",
   "metadata": {},
   "source": [
    "    İçerisinde her türden veriyi saklayabilen bir Collective Type'dır. \n",
    "    \n",
    "    mutable (elemanları değiştirilebilir)\n",
    "\n",
    "    iterable (elemanlarına index yoluyla ulaşılabilir ve silicing yapılabilir)"
   ]
  },
  {
   "cell_type": "markdown",
   "metadata": {},
   "source": [
    "### **▶️ 2.4.1 Konu Anlatımı**"
   ]
  },
  {
   "cell_type": "code",
   "execution_count": null,
   "metadata": {},
   "outputs": [
    {
     "name": "stdout",
     "output_type": "stream",
     "text": [
      "1. liste --> [1, 2, 3.154, 'Mustafa', False]\n",
      "2. liste --> ['T', 'e', 'c', 'h', 'p', 'r', 'o']\n",
      "liste_1'ın eleman sayısı --> 5\n",
      "liste_2'ın eleman sayısı --> 7\n"
     ]
    }
   ],
   "source": [
    "# 1. list oluşturma yöntemi: (Önerilir, daha yoğun tercih edilir)\n",
    "\n",
    "liste_1 = [1, 2, 3.154, \"Mustafa\", False]\n",
    "print(\"1. liste -->\", liste_1)\n",
    "\n",
    "# 2. list oluştumra yöntemi:\n",
    "\n",
    "liste_2 = list(\"Techpro\")                   # bu yöntemle liste oluşturmak için iterable bir şey yazmak gerekir.\n",
    "print(\"2. liste -->\", liste_2)\n",
    "\n",
    "# liste eleman sayısını bulma, len() foknsiyonu kullanarak:\n",
    "\n",
    "print(\"liste_1'ın eleman sayısı -->\", len(liste_1))             # len() fonksiyonu iterable olan her türün eleman sayısını hesaplar, stringlerde olduğu gibi listelerde de vardır. Mesela integar'larda eror verir.\n",
    "print(\"liste_2'ın eleman sayısı -->\", len(liste_2))"
   ]
  },
  {
   "cell_type": "code",
   "execution_count": null,
   "metadata": {},
   "outputs": [
    {
     "name": "stdout",
     "output_type": "stream",
     "text": [
      "1. yöntem ile oluşturulan boş list --> []\n",
      "2. yöntem ile oluşturulan boş list --> []\n"
     ]
    }
   ],
   "source": [
    "# boş liste oluşturma:\n",
    "\n",
    "boş_liste_1 = []\n",
    "print(\"1. yöntem ile oluşturulan boş list -->\", boş_liste_1)\n",
    "\n",
    "boş_liste_2 = list()\n",
    "print(\"2. yöntem ile oluşturulan boş list -->\", boş_liste_2)"
   ]
  },
  {
   "cell_type": "code",
   "execution_count": null,
   "metadata": {},
   "outputs": [
    {
     "name": "stdout",
     "output_type": "stream",
     "text": [
      "ortaya_karışık listesinin 1. indexi -->  4.4\n",
      "\n",
      "💥 Yani, listeler de stringler gibi iterable olduğu için indexlerini kullanarak elemanlarına ulaşabiliyoruz basitçe\n"
     ]
    },
    {
     "data": {
      "text/plain": [
       "[4.4, 'Orkun', False]"
      ]
     },
     "execution_count": 10,
     "metadata": {},
     "output_type": "execute_result"
    }
   ],
   "source": [
    "# slicing:\n",
    "\n",
    "ortaya_karışık = [3, 4.4, \"Orkun\", False, [1, 2, 3, 4, 5]]\n",
    "\n",
    "print(\"ortaya_karışık listesinin 1. indexi --> \", ortaya_karışık[1])\n",
    "print(\"\\n💥 Yani, listeler de stringler gibi iterable olduğu için indexlerini kullanarak elemanlarına ulaşabiliyoruz basitçe\")\n",
    "ortaya_karışık[1:4]             # 1. index dahil 4. index dahil değil..."
   ]
  },
  {
   "cell_type": "code",
   "execution_count": null,
   "metadata": {},
   "outputs": [
    {
     "name": "stdout",
     "output_type": "stream",
     "text": [
      "Eleman değişmeden önce potpori isimli liste   --> ['Seyda', 3.14, True, 7, [1, 2, 3, 4, 5, 6]]\n",
      "Eleman değiştikten sonra potpori isimli liste --> ['Betül', 3.14, True, 7, [1, 2, 3, 4, 5, 6]]\n"
     ]
    }
   ],
   "source": [
    "# mutable özelliği:\n",
    "\n",
    "potpori = [\"Seyda\", 3.14, True, 7, [1, 2, 3, 4, 5, 6]]\n",
    "print(\"Eleman değişmeden önce potpori isimli liste   -->\",potpori)\n",
    "potpori[0] = \"Betül\"              \n",
    "print(\"Eleman değiştikten sonra potpori isimli liste -->\",potpori)"
   ]
  },
  {
   "cell_type": "markdown",
   "metadata": {},
   "source": [
    "    🏹 append() methodu --> listenin sonuna eleman ekler"
   ]
  },
  {
   "cell_type": "code",
   "execution_count": null,
   "metadata": {},
   "outputs": [
    {
     "data": {
      "text/plain": [
       "[1, 2, 3, 4, 5, 6, 7]"
      ]
     },
     "execution_count": 18,
     "metadata": {},
     "output_type": "execute_result"
    }
   ],
   "source": [
    "sayılar_1 = [1, 2, 3, 4, 5]\n",
    "sayılar_1.append(6)\n",
    "sayılar_1.append(7)         # append() yalnızca 1 adet eleamn eklenebiliyor. o yüzden 7'yi ayrı bi satırda ekledim.\n",
    "sayılar_1"
   ]
  },
  {
   "cell_type": "markdown",
   "metadata": {},
   "source": [
    "    🏹 insert() methodu --> listeye eleman ekler ama kaçıncı indekse eklemek istersek oraya ekler. eğer string eklemeye kalkarsak string'in her bir item'ını ayrı ayrı ekler"
   ]
  },
  {
   "cell_type": "code",
   "execution_count": null,
   "metadata": {},
   "outputs": [
    {
     "name": "stdout",
     "output_type": "stream",
     "text": [
      "Eleman eklenmeden önce sayılar_2 isimli liste     --> [11, 12, 13, 14, 15]\n",
      "Eleman eklendikten sonra sayılar_2 isimli liste   --> [11, 20, 12, 13, 14, 15]\n",
      "Eleman eklendikten sonra sayılar_2 isimli liste   --> [11, 20, 12, 13, 14, 16, 15]\n",
      "Eleman eklendikten sonra sayılar_2 isimli liste   --> [11, 20, 12, 13, 14, 16, 15, 17]\n"
     ]
    }
   ],
   "source": [
    "sayılar_2 = [11, 12, 13, 14, 15]\n",
    "print(\"Eleman eklenmeden önce sayılar_2 isimli liste     -->\", sayılar_2)\n",
    "\n",
    "sayılar_2.insert(1, 20)         # 1. indexe 20 sayısını ekler\n",
    "print(\"Eleman eklendikten sonra sayılar_2 isimli liste   -->\", sayılar_2)\n",
    "\n",
    "sayılar_2.insert(-1, 16)        # -1. indexe 16 sayısını ekler\n",
    "print(\"Eleman eklendikten sonra sayılar_2 isimli liste   -->\", sayılar_2)\n",
    "\n",
    "sayılar_2.insert(199, 17)       # 199 elemandan daha az eleman olduğu için en sona ekler\n",
    "print(\"Eleman eklendikten sonra sayılar_2 isimli liste   -->\", sayılar_2)"
   ]
  },
  {
   "cell_type": "markdown",
   "metadata": {},
   "source": [
    "    🏹 extend() methodu --> append'e benzer. append sadece 1 eleman eklerken extend ile birden fazla eleman ekleyebiliyoruz"
   ]
  },
  {
   "cell_type": "code",
   "execution_count": null,
   "metadata": {},
   "outputs": [
    {
     "name": "stdout",
     "output_type": "stream",
     "text": [
      "[1, 2, 3, 4, 5]\n",
      "[1, 2, 3, 4, 5, 'T', 'e', 'c', 'h', 'p', 'r', 'o']\n"
     ]
    }
   ],
   "source": [
    "liste_2 = [1, 2, 3]\n",
    "liste_2.extend([4, 5])                  # 4 ve 5 sayıları listeye eklendi\n",
    "print(liste_2)\n",
    "\n",
    "liste_2.extend(\"Techpro\")                   # her bir elemanı tek tek ekler\n",
    "print(liste_2)"
   ]
  },
  {
   "cell_type": "markdown",
   "metadata": {},
   "source": [
    "    🏹 not: Listelerde replace() metodu yok."
   ]
  },
  {
   "cell_type": "markdown",
   "metadata": {},
   "source": [
    "    🏹 remove() methodu --> listeden item sileriz: Eğer silmek istediğimiz eleman listede yoksa hata verir. Bir şey yazmazsak hata verir."
   ]
  },
  {
   "cell_type": "code",
   "execution_count": null,
   "metadata": {},
   "outputs": [
    {
     "name": "stdout",
     "output_type": "stream",
     "text": [
      "[1, 3, 2, 5, 3, 4, 2, 6, 4, 5]\n",
      "['Fulya', 'Aslan']\n"
     ]
    }
   ],
   "source": [
    "sayılar_3 = [1, 2, 3, 2, 5, 3, 4, 2, 6, 4, 5]\n",
    "sayılar_3.remove(2)     # listede gördüğü ilk 2'yi siler\n",
    "print(sayılar_3)\n",
    "\n",
    "isimler_1 = [\"Fulya\", \"Serhat\", \"Aslan\"]\n",
    "isimler_1.remove(\"Serhat\")\n",
    "print(isimler_1)"
   ]
  },
  {
   "cell_type": "markdown",
   "metadata": {},
   "source": [
    "    🏹 pop() methodu --> index'ine göre elemanı silebiliyoruz. bir şey yazmazsak son elemanı siler. boş listede kullanırsak hata alırız."
   ]
  },
  {
   "cell_type": "code",
   "execution_count": null,
   "metadata": {},
   "outputs": [
    {
     "name": "stdout",
     "output_type": "stream",
     "text": [
      "listenin eski hali --> [1, 2, 3, 4, 5]\n",
      "pop() metodu ile silinen eleman --> 5\n",
      "listenin son hali  --> [1, 2, 3, 4]\n"
     ]
    }
   ],
   "source": [
    "sayılar_1 = [1, 2, 3, 4, 5]\n",
    "print(\"listenin eski hali -->\",sayılar_1)\n",
    "print(\"pop() metodu ile silinen eleman -->\",sayılar_1.pop())             # listenin son elemanını siler ve sildiği item'ı bize bildirir.\n",
    "print(\"listenin son hali  -->\",sayılar_1)"
   ]
  },
  {
   "cell_type": "code",
   "execution_count": null,
   "metadata": {},
   "outputs": [
    {
     "name": "stdout",
     "output_type": "stream",
     "text": [
      "pop() metodu kullanılarak 2. indexteki silinen eleman:  4\n",
      "pop() metodu kullanılarak 0. indexteki silinen eleman:  Aslan\n"
     ]
    }
   ],
   "source": [
    "print(\"pop() metodu kullanılarak 2. indexteki silinen eleman: \", sayılar_1.pop(2))        # listenin 2. itemini siler, yani indexi 6 olan item siler.\n",
    "print(\"pop() metodu kullanılarak 0. indexteki silinen eleman: \", isimler_1.pop(0))        # sildiği elemanı çıktı olarak yazdırır"
   ]
  },
  {
   "cell_type": "markdown",
   "metadata": {},
   "source": [
    "    🏹 count() methodu --> liste içerisinde bir item'dan kaç tane olduğunu gösterir\n",
    "    \n",
    "    Çok Önemli: matematiksel olarak olarak birbirine eşit ifadeler varsa hepsini aynı eleman sayar. Ör: False'ın matematiksel karşılığı SIFIR'dır. 0.00'ın da matematik karşılığı SIFIR'dır. O halde 2 adet SIFIR saymış olur. Aynı şey bir de True (1, 1.0 vs) için geçerlidir. Başka bi örneği yok zaten."
   ]
  },
  {
   "cell_type": "code",
   "execution_count": null,
   "metadata": {},
   "outputs": [
    {
     "name": "stdout",
     "output_type": "stream",
     "text": [
      "2\n",
      "3\n",
      "3\n"
     ]
    }
   ],
   "source": [
    "sayılar_5 = [1, 2, 3, 2, 4, 3, 5, 1, 2, 4]\n",
    "print(sayılar_5.count(3))                              # listede kaç tane 3 varsa onu sayar ve çıktısını bize verir:\n",
    "\n",
    "karışık = [1, 0.0, False, 2, True, 1, 1.0, 0]\n",
    "print(karışık.count(0))                               # karışık listesindeki sıfırlar: karışık[1], karışık[2], karışık[-1]. Yani 0.0 veya False'u da sıfır olarak alır.\n",
    "\n",
    "print(karışık.count(False))"
   ]
  },
  {
   "cell_type": "markdown",
   "metadata": {},
   "source": [
    "    🏹 clear() methodu --> listeleri temizler ve boş listeye çevirir"
   ]
  },
  {
   "cell_type": "code",
   "execution_count": null,
   "metadata": {},
   "outputs": [
    {
     "data": {
      "text/plain": [
       "[]"
      ]
     },
     "execution_count": 38,
     "metadata": {},
     "output_type": "execute_result"
    }
   ],
   "source": [
    "sayılar_2 = [10, 11, 20, 20, 12, 13, 14, 16, 15, 17, 17]\n",
    "sayılar_2.clear()                   # sayılar_2 listesini boş liste haline getirdik. clear kullanarak başka hiçbir şey yapamayız.\n",
    "sayılar_2"
   ]
  },
  {
   "cell_type": "markdown",
   "metadata": {},
   "source": [
    "    🏹 del fonksiyonu --> listeleri tamamen hafızadan siler"
   ]
  },
  {
   "cell_type": "code",
   "execution_count": null,
   "metadata": {},
   "outputs": [],
   "source": [
    "del sayılar_2                   # bu komudu çalıştırdıktan sonra sayılar_2 listesi tamamen silindi."
   ]
  },
  {
   "cell_type": "markdown",
   "metadata": {},
   "source": [
    "    🏹 sort() methodu --> listeleri büyükten küçüğe doğru sıralar. bunu kullanırken listenin içerisindeki item'ların benzer type'ta olduğuna dikkat et. mesela int ile float benzer tiptedir ama string değildir. [sort(reverse=True) büyükten küçüğe sıralar]"
   ]
  },
  {
   "cell_type": "code",
   "execution_count": null,
   "metadata": {},
   "outputs": [
    {
     "name": "stdout",
     "output_type": "stream",
     "text": [
      "[3, 4, 5.5, 8.3, 12, 15, 26.0, 41]\n",
      "[41, 26.0, 15, 12, 8.3, 5.5, 4, 3]\n"
     ]
    }
   ],
   "source": [
    "sayılar_6 = [4, 8.3, 3, 5.5, 15, 26.0, 41, 12]\n",
    "sayılar_6.sort()                            # bunu kullandıktan sonra artık liste yenilenir\n",
    "print(sayılar_6)\n",
    "sayılar_6.sort(reverse=True)                # büyükten küçüğe doğru sıralama. Reverse'un default hali False'tur. Onu True'ya çeviririz.\n",
    "print(sayılar_6)"
   ]
  },
  {
   "cell_type": "code",
   "execution_count": null,
   "metadata": {},
   "outputs": [
    {
     "name": "stdout",
     "output_type": "stream",
     "text": [
      "['Murat', 'ayşe', 'mehmet', 'seyda']\n",
      "['seyda', 'mehmet', 'ayşe', 'Murat']\n",
      "77\n",
      "97\n",
      "115\n",
      "109\n"
     ]
    }
   ],
   "source": [
    "isimler_2 = [\"Murat\", \"ayşe\", \"seyda\", \"mehmet\"]                # stringleri ASCII tabosundaki değerlerine göre sıralanır [M < a < m < s]\n",
    "isimler_2.sort()\n",
    "print(isimler_2)\n",
    "isimler_2.sort(reverse=True)                                # büyükten küçüğe doğru sıralar.\n",
    "print(isimler_2)\n",
    "# ord() fonksiyonu ile bir harfin ASCII değerini öğreniriz.\n",
    "\n",
    "print(ord(\"M\"))\n",
    "print(ord(\"a\"))\n",
    "print(ord(\"s\"))\n",
    "print(ord(\"m\"))"
   ]
  },
  {
   "cell_type": "markdown",
   "metadata": {},
   "source": [
    "    🏹 append() methodu --> listenin sonuna eleman ekler\n",
    "    \n",
    "    🏹 insert() methodu --> listeye eleman ekler ama kaçıncı indekse eklemek istersek oraya ekler. eğer string eklemeye kalkarsak string'in her bir item'ını ayrı ayrı ekler\n",
    "\n",
    "    🏹 extend() methodu --> append'e benzer. append sadece 1 eleman eklerken extend ile birden fazla eleman ekleyebiliyoruz\n",
    "\n",
    "    🏹 not: Listelerde replace() metodu yok.\n",
    "\n",
    "    🏹 remove() methodu --> listeden item sileriz: Eğer silmek istediğimiz eleman listede yoksa hata verir. Bir şey yazmazsak hata verir.\n",
    "\n",
    "    🏹 pop() methodu --> index'ine göre elemanı silebiliyoruz. bir şey yazmazsak son elemanı siler. boş listede kullanırsak hata alırız.\n",
    "\n",
    "    🏹 count() methodu --> liste içerisinde bir item'dan kaç tane olduğunu gösterir\n",
    "\n",
    "    🏹 clear() methodu --> listeleri temizler ve boş listeye çevirir\n",
    "\n",
    "    🏹 sort() methodu --> listenin elemanlarını küçükten büyüğe doğru sıralar.\n",
    "    \n",
    "    🏹 sort(reverse=True) --> listenin elemanlarını büyükten küçüğe doğru sıralar"
   ]
  },
  {
   "cell_type": "code",
   "execution_count": null,
   "metadata": {},
   "outputs": [
    {
     "name": "stdout",
     "output_type": "stream",
     "text": [
      "[1, 2, 3, 3, 5]\n",
      "[1, 2, 3, 1, 2, 3, 1, 2, 3]\n"
     ]
    }
   ],
   "source": [
    "print([1, 2, 3] + [3, 5])              # listelerde toplama\n",
    "\n",
    "print([1, 2, 3] * 3)                    # listelerde çarpma"
   ]
  },
  {
   "cell_type": "markdown",
   "metadata": {
    "jp-MarkdownHeadingCollapsed": true
   },
   "source": [
    "## **▶️▶️ 2.5 Tuples**"
   ]
  },
  {
   "cell_type": "markdown",
   "metadata": {},
   "source": [
    "    Tuple'lar da Listeler gibi Collection Type'lardan bir tanesidir. İçerisinde her telden veri olabiliyor listelerdeki gibi.\n",
    "\n",
    "    immutable (elemanları değiştirilemez)\n",
    "\n",
    "    iterable (elemanlarına index yoluyla ulaşılabilir ve silicing yapılabilir)"
   ]
  },
  {
   "cell_type": "markdown",
   "metadata": {},
   "source": [
    "### **▶️ 2.5.1 Konu Anlatımı**"
   ]
  },
  {
   "cell_type": "code",
   "execution_count": null,
   "metadata": {},
   "outputs": [
    {
     "name": "stdout",
     "output_type": "stream",
     "text": [
      "1. yöntem ile oluşturulan tuple --> ('T', 'e', 'c', 'h', 'p', 'r', 'o')\n",
      "2. yöntem ile oluşturulan tuple --> ('Techpro',)\n",
      "3. yöntem ile oluşturulan tuple --> (3, 14)\n"
     ]
    }
   ],
   "source": [
    "# tuple oluşturma, 1. yöntem:\n",
    "tuple_1 = tuple(\"Techpro\")\n",
    "print(\"1. yöntem ile oluşturulan tuple -->\", tuple_1)\n",
    "\n",
    "# 2. yöntem:\n",
    "tuple_2 = (\"Techpro\",)      # viegüle dikkat\n",
    "print(\"2. yöntem ile oluşturulan tuple -->\", tuple_2)\n",
    "\n",
    "# 3. yöntem:\n",
    "tuple_3 = 3, 14         # tercih edilmez\n",
    "print(\"3. yöntem ile oluşturulan tuple -->\", tuple_3)"
   ]
  },
  {
   "cell_type": "code",
   "execution_count": null,
   "metadata": {},
   "outputs": [
    {
     "name": "stdout",
     "output_type": "stream",
     "text": [
      "(1, 2, 3, 4, 5)\n"
     ]
    },
    {
     "data": {
      "text/plain": [
       "('B', 'a', 'ş', 'a', 'k')"
      ]
     },
     "execution_count": 52,
     "metadata": {},
     "output_type": "execute_result"
    }
   ],
   "source": [
    "print(tuple([1, 2, 3, 4, 5]))      # listler iterable olduğu için, bir liste tuple'a dönüşebiliyor\n",
    "\n",
    "name = \"Başak\"\n",
    "tuple(name)\n"
   ]
  },
  {
   "cell_type": "code",
   "execution_count": null,
   "metadata": {},
   "outputs": [
    {
     "ename": "TypeError",
     "evalue": "tuple expected at most 1 argument, got 2",
     "output_type": "error",
     "traceback": [
      "\u001b[1;31m---------------------------------------------------------------------------\u001b[0m",
      "\u001b[1;31mTypeError\u001b[0m                                 Traceback (most recent call last)",
      "Cell \u001b[1;32mIn[50], line 1\u001b[0m\n\u001b[1;32m----> 1\u001b[0m \u001b[38;5;28;43mtuple\u001b[39;49m\u001b[43m(\u001b[49m\u001b[43m[\u001b[49m\u001b[38;5;241;43m1\u001b[39;49m\u001b[43m,\u001b[49m\u001b[43m \u001b[49m\u001b[38;5;241;43m2\u001b[39;49m\u001b[43m,\u001b[49m\u001b[43m \u001b[49m\u001b[38;5;241;43m3\u001b[39;49m\u001b[43m,\u001b[49m\u001b[43m \u001b[49m\u001b[38;5;241;43m4\u001b[39;49m\u001b[43m,\u001b[49m\u001b[43m \u001b[49m\u001b[38;5;241;43m5\u001b[39;49m\u001b[43m]\u001b[49m\u001b[43m,\u001b[49m\u001b[43m \u001b[49m\u001b[43m[\u001b[49m\u001b[38;5;241;43m6\u001b[39;49m\u001b[43m,\u001b[49m\u001b[43m \u001b[49m\u001b[38;5;241;43m4\u001b[39;49m\u001b[43m]\u001b[49m\u001b[43m)\u001b[49m        \u001b[38;5;66;03m# tuple() fonksiyonu içerisinde en fazla 1 tane eleman olmalı. hata verir\u001b[39;00m\n\u001b[0;32m      3\u001b[0m \u001b[38;5;28mtuple\u001b[39m(\u001b[38;5;241m123\u001b[39m)                            \u001b[38;5;66;03m# integar object iterable olmadığı için hata verir\u001b[39;00m\n",
      "\u001b[1;31mTypeError\u001b[0m: tuple expected at most 1 argument, got 2"
     ]
    }
   ],
   "source": [
    "tuple([1, 2, 3, 4, 5], [6, 4])        # tuple() fonksiyonu içerisinde en fazla 1 tane eleman olmalı. hata verir\n",
    "\n",
    "tuple(123)                            # integar object iterable olmadığı için hata verir"
   ]
  },
  {
   "cell_type": "code",
   "execution_count": null,
   "metadata": {},
   "outputs": [
    {
     "name": "stdout",
     "output_type": "stream",
     "text": [
      "(1, 2, 3, 3, 5)\n",
      "(1, 2, 3, 1, 2, 3, 1, 2, 3)\n"
     ]
    },
    {
     "data": {
      "text/plain": [
       "('Techpro', 3, False, 'Sedat')"
      ]
     },
     "execution_count": 56,
     "metadata": {},
     "output_type": "execute_result"
    }
   ],
   "source": [
    "print((1, 2, 3) + (3, 5))               # tuple'larda toplam\n",
    "\n",
    "print((1, 2, 3) * 3)                    # tuple'larda çarpma\n",
    "\n",
    "(\"Techpro\", 3, False) + (\"Sedat\",)      # Sedat'tan sonra virgül eklemeseydik hata verirdi!!!!!\n",
    "\n",
    "tuple_2[0] = \"Meltem\"                   # tuple'ın herhangi bir elemanı değiştirlemez. Sadece tuple komple değiştirlebilir. (immutble özelliği)\n",
    "\n",
    "del tuple_2[3]                          # tuple'ların içerisinden bir şey silemiyoruz (immutable)\n"
   ]
  },
  {
   "cell_type": "markdown",
   "metadata": {},
   "source": [
    "    Indexing & Slicing"
   ]
  },
  {
   "cell_type": "code",
   "execution_count": null,
   "metadata": {},
   "outputs": [
    {
     "name": "stdout",
     "output_type": "stream",
     "text": [
      "['Tulay', 5, 6]\n",
      "Tulay\n",
      "3.14\n",
      "(4, True, ['Tulay', 5, 6])\n",
      "(['Tulay', 5, 6], True, 4)\n"
     ]
    }
   ],
   "source": [
    "tuple_2 = (\"Aslan\", 4, True, [\"Tulay\", 5, 6], (\"Zeynep\", 2, 3.14))\n",
    "print(tuple_2[3])\n",
    "print(tuple_2[3][0])\n",
    "print(tuple_2[4][2])\n",
    "print(tuple_2[1:4])\n",
    "print(tuple_2[3:0:-1])"
   ]
  },
  {
   "cell_type": "code",
   "execution_count": null,
   "metadata": {},
   "outputs": [
    {
     "name": "stdout",
     "output_type": "stream",
     "text": [
      "None\n",
      "('Aslan', 4, True, ['Tulay', 5, 6, 7], ('Zeynep', 2, 3.14))\n"
     ]
    }
   ],
   "source": [
    "tuple_2[3]                     # bir liste çağırdık\n",
    "print(tuple_2[3].append(7))    # artık bir liste metodu kullanabiliriz. istisnadır çünkü sadece list'ler mutable'dır.\n",
    "print(tuple_2)                 # burada tuple değişmedi, tuple içerisinde bir liste değişti o kadar."
   ]
  },
  {
   "cell_type": "markdown",
   "metadata": {},
   "source": [
    "    Tuple metodları  : sadece 2 adet metod vardır"
   ]
  },
  {
   "cell_type": "markdown",
   "metadata": {},
   "source": [
    "    ⏳ count() metodu : bir item'dan tuple içerisinde kaç tane olduğunu sayar"
   ]
  },
  {
   "cell_type": "code",
   "execution_count": null,
   "metadata": {},
   "outputs": [
    {
     "name": "stdout",
     "output_type": "stream",
     "text": [
      "4\n"
     ]
    },
    {
     "data": {
      "text/plain": [
       "0"
      ]
     },
     "execution_count": 61,
     "metadata": {},
     "output_type": "execute_result"
    }
   ],
   "source": [
    "tuple_3 = (1, 2, 5, 2, 1, 3, 4, 1, 2, 3, 2)\n",
    "\n",
    "print(tuple_3.count(2))            # 4 adet 2 var tuple_3 içerisinde\n",
    "tuple_3.count(\"a\")          # 0 adet \"a\" var tuple_3 içerisinde, yani yok"
   ]
  },
  {
   "cell_type": "markdown",
   "metadata": {},
   "source": [
    "    ⏳ index() metodu : bir item'in tuple içerisinde kaçıncı index'te olduğunu gösterir"
   ]
  },
  {
   "cell_type": "code",
   "execution_count": null,
   "metadata": {},
   "outputs": [
    {
     "name": "stdout",
     "output_type": "stream",
     "text": [
      "2\n"
     ]
    },
    {
     "data": {
      "text/plain": [
       "1"
      ]
     },
     "execution_count": 62,
     "metadata": {},
     "output_type": "execute_result"
    }
   ],
   "source": [
    "print(tuple_3.index(5))        # 5 item'ı tuple_3 içerisinde 2. indexte yer alıyor.\n",
    "\n",
    "tuple_3.index(2)               # ilk gördüğü elemanın indexini verir."
   ]
  },
  {
   "cell_type": "markdown",
   "metadata": {
    "jp-MarkdownHeadingCollapsed": true
   },
   "source": [
    "## **▶️▶️ 2.6 Dictionaries**"
   ]
  },
  {
   "cell_type": "markdown",
   "metadata": {},
   "source": [
    "    collection type'ların bir üyesidir, list ve tuple tarzında.\n",
    "\n",
    "    ancak burada item'ları ikili gruplar halinde saklıyoruz -->      \n",
    "    \n",
    "            {key1:value1, key2:value2, key3:value3}  \n",
    "    \n",
    "    tarzındadır. her bir key&value çifti 1 adet elemanı oluşturmaktadır.\n",
    "\n",
    "    > mutable (değiştirilebilir) - değiştirilebilirdir, listeler gibi\n",
    "\n",
    "    > iterable'dır --> item'larına tek tek ulaşılabilir"
   ]
  },
  {
   "cell_type": "markdown",
   "metadata": {},
   "source": [
    "### **▶️ 2.6.1 Konu Anlatımı**"
   ]
  },
  {
   "cell_type": "markdown",
   "metadata": {},
   "source": [
    "#### **▶ 2.6.1.1 Dictionary Oluşturma**"
   ]
  },
  {
   "cell_type": "code",
   "execution_count": null,
   "metadata": {},
   "outputs": [
    {
     "name": "stdout",
     "output_type": "stream",
     "text": [
      "{}\n",
      "{}\n"
     ]
    }
   ],
   "source": [
    "# 1. dictionary oluşturma şekli:\n",
    "a = {}\n",
    "# .2 dictionary oluşturma şekli:\n",
    "b = dict()      # bu fonksiyon biraz daha özeldir ve spesifik noktalarda kullanılır\n",
    "\n",
    "print(a)\n",
    "print(b)"
   ]
  },
  {
   "cell_type": "code",
   "execution_count": 1,
   "metadata": {},
   "outputs": [
    {
     "name": "stdout",
     "output_type": "stream",
     "text": [
      "dict_1 isimli dictionary             : {'key1': 'valu2', 'key2': 'value2'}\n",
      "dict_1 dictionary'nin eleman sayıısı : 2\n"
     ]
    }
   ],
   "source": [
    "# 1. dictionary oluşturma şekli:\n",
    "dict_1 = {'key1':'valu2', 'key2':'value2'}              # iki elemanlıdır\n",
    "print(\"dict_1 isimli dictionary             :\",dict_1)\n",
    "print(\"dict_1 dictionary'nin eleman sayıısı :\",len(dict_1))"
   ]
  },
  {
   "cell_type": "code",
   "execution_count": null,
   "metadata": {},
   "outputs": [],
   "source": [
    "# aşağıdaki gibi input ile de değer girebiliyoruz\n",
    "\n",
    "dict_3 = {'name': input('İsminizi giriniz: ')}\n",
    "\n",
    "dict_3"
   ]
  },
  {
   "cell_type": "markdown",
   "metadata": {},
   "source": [
    "#### **▶ 2.6.1.2 Dictionary Methods**"
   ]
  },
  {
   "cell_type": "markdown",
   "metadata": {},
   "source": [
    "    📣 items() methodu --> dictionary'nin elemanlarını yazdırır. her elemanı farklı tuple içerisine koyarak bir liste halinde sunar. Yani, her bir tuple içerisinde iki çift eleman olacak şekilde bir çıktı alırız; bu iki elemandan birincisi dictionary'nin key'idir, diğeri ise value'sidir."
   ]
  },
  {
   "cell_type": "code",
   "execution_count": 6,
   "metadata": {},
   "outputs": [
    {
     "data": {
      "text/plain": [
       "('key1', 'valu2')"
      ]
     },
     "execution_count": 6,
     "metadata": {},
     "output_type": "execute_result"
    }
   ],
   "source": [
    "list(dict_1.items())          # liste içerisindeki tuple'lara key:value çiftlerini yazdırır,\n"
   ]
  },
  {
   "cell_type": "markdown",
   "metadata": {},
   "source": [
    "    📣 keys() methodu --> dictionary'nin key'lerini çağırır"
   ]
  },
  {
   "cell_type": "code",
   "execution_count": null,
   "metadata": {},
   "outputs": [
    {
     "data": {
      "text/plain": [
       "dict_keys(['key1', 'key2'])"
      ]
     },
     "execution_count": 85,
     "metadata": {},
     "output_type": "execute_result"
    }
   ],
   "source": [
    "dict_1.keys()           # dictionary içerisindeki key'ler"
   ]
  },
  {
   "cell_type": "markdown",
   "metadata": {},
   "source": [
    "    📣 values() methodu --> dictionary'nin value'lerini çağırır"
   ]
  },
  {
   "cell_type": "code",
   "execution_count": null,
   "metadata": {},
   "outputs": [],
   "source": [
    "dict_1.values()        # dictionary içerisindeki value'ler"
   ]
  },
  {
   "cell_type": "code",
   "execution_count": null,
   "metadata": {},
   "outputs": [
    {
     "name": "stdout",
     "output_type": "stream",
     "text": [
      "Dictionary içerisindeki key'ler   : dict_keys(['name', 'age', 'job'])\n",
      "Dictionary içerisindeki value'lar : dict_values(['ömer', 30, 'Data scientist'])\n"
     ]
    }
   ],
   "source": [
    "dict_2 = {'name': 'ömer', 'age': 30, 'job': 'Data scientist'}\n",
    "\n",
    "print(\"Dictionary içerisindeki key'ler   :\",dict_2.keys())           # bu şekilde bu dict'te ne tür bilgiler olduğunu görebiliyoruz \n",
    "\n",
    "print(\"Dictionary içerisindeki value'lar :\",dict_2.values())         # eğer key'leri biliyorsak, yanıtlarla ilgileniyor olabiliriz doğrudan"
   ]
  },
  {
   "cell_type": "code",
   "execution_count": null,
   "metadata": {},
   "outputs": [
    {
     "ename": "KeyError",
     "evalue": "0",
     "output_type": "error",
     "traceback": [
      "\u001b[1;31m---------------------------------------------------------------------------\u001b[0m",
      "\u001b[1;31mKeyError\u001b[0m                                  Traceback (most recent call last)",
      "Cell \u001b[1;32mIn[89], line 1\u001b[0m\n\u001b[1;32m----> 1\u001b[0m \u001b[43mdict_2\u001b[49m\u001b[43m[\u001b[49m\u001b[38;5;241;43m0\u001b[39;49m\u001b[43m]\u001b[49m               \u001b[38;5;66;03m# dict'ler iterable'dır ancak bizim bildiğimiz yöntemlerle ulaşılamzlar. Bunun yerine key'leri kullanılır o yüzden slicing'de yok\u001b[39;00m\n",
      "\u001b[1;31mKeyError\u001b[0m: 0"
     ]
    }
   ],
   "source": [
    "dict_2[0]               # dict'ler iterable'dır ancak bizim bildiğimiz yöntemlerle ulaşılamzlar. Bunun yerine key'leri kullanılır o yüzden slicing'de yok"
   ]
  },
  {
   "cell_type": "markdown",
   "metadata": {},
   "source": [
    "    📣 update() methodu --> dict'lere yeni key:value ekler yani yeni eleman ekler. Bunu yaparken bir dict formatında yazılır"
   ]
  },
  {
   "cell_type": "code",
   "execution_count": 2,
   "metadata": {},
   "outputs": [
    {
     "data": {
      "text/plain": [
       "{'friend_1': 'Erkin',\n",
       " 'friend_2': 'Ozan',\n",
       " 'friend_3': 'İrem',\n",
       " 'friend_4': 'Osman',\n",
       " 'friend_5': 'Hacer',\n",
       " 'friend_6': 'Ceren',\n",
       " 'friend_7': 'betül'}"
      ]
     },
     "execution_count": 2,
     "metadata": {},
     "output_type": "execute_result"
    }
   ],
   "source": [
    "dict_friend = {\n",
    "    'friend_1': 'Erkin',\n",
    "    'friend_2': 'Ozan',\n",
    "    'friend_3': 'İrem',\n",
    "    'friend_4': 'Osman',\n",
    "    'friend_5': 'Hacer'\n",
    "}\n",
    "\n",
    "dict_friend.update({'friend_6': 'Ceren', 'friend_7': 'betül'})\n",
    "\n",
    "         # direkt değişken olarak da kullanabiliriz, bb zaten bir dictionary\n",
    "\n",
    "dict_friend"
   ]
  },
  {
   "cell_type": "markdown",
   "metadata": {},
   "source": [
    "    📣 clear() methodu --> dictionary'nin içini boşaltır, boş dictionary elde ederiz"
   ]
  },
  {
   "cell_type": "code",
   "execution_count": null,
   "metadata": {},
   "outputs": [
    {
     "data": {
      "text/plain": [
       "{}"
      ]
     },
     "execution_count": 5,
     "metadata": {},
     "output_type": "execute_result"
    }
   ],
   "source": [
    "dict_friend.clear()\n",
    "dict_friend"
   ]
  },
  {
   "cell_type": "markdown",
   "metadata": {},
   "source": [
    "    📣 pop() methodu --> dictionary'den eleman siler. <key kullanarak eleman sileriz>. pop'u boş bırakırsak hata verir"
   ]
  },
  {
   "cell_type": "code",
   "execution_count": null,
   "metadata": {},
   "outputs": [
    {
     "name": "stdout",
     "output_type": "stream",
     "text": [
      "pi_number\n",
      "{'öğrenci1': ('orkun', 32, 'data_science'), True: 1}\n"
     ]
    }
   ],
   "source": [
    "dict_11 = {\n",
    "    'öğrenci1': ('orkun', 32, 'data_science'),\n",
    "    True: 1, \n",
    "    3.14: 'pi_number'\n",
    "}\n",
    "\n",
    "print(dict_11.pop(3.14))               # sildiğimiz elemanın value'su çıktı olarak gelir karşımız\n",
    "print(dict_11)"
   ]
  },
  {
   "cell_type": "markdown",
   "metadata": {},
   "source": [
    "#### **▶ 2.6.1.3 Boş Dictionary Oluşturma**"
   ]
  },
  {
   "cell_type": "code",
   "execution_count": null,
   "metadata": {},
   "outputs": [],
   "source": [
    "empty_dict = {}                \n",
    "print(empty_dict)"
   ]
  },
  {
   "cell_type": "markdown",
   "metadata": {},
   "source": [
    "#### **▶ 2.6.1.4 Keys**"
   ]
  },
  {
   "cell_type": "markdown",
   "metadata": {},
   "source": [
    "    KEYS >> key'ler string olmak zorunda değil"
   ]
  },
  {
   "cell_type": "code",
   "execution_count": null,
   "metadata": {},
   "outputs": [],
   "source": [
    "# dict'lerde bir değere ulaşmak için index değil key değerleri kullanılır\n",
    "\n",
    "print(\"'name' key'ine karşılık gelen value ➡\", dict_2['name'])\n",
    "print(\"'age' key'ine karşılık gelen value  ➡\", dict_2['age'])\n",
    "print(\"'job' key'ine karşılık gelen value  ➡\", dict_2['job'])"
   ]
  },
  {
   "cell_type": "code",
   "execution_count": null,
   "metadata": {},
   "outputs": [
    {
     "name": "stdout",
     "output_type": "stream",
     "text": [
      "{0: 'zero', 1: 'one', 2: 'two'}\n",
      "zero\n",
      "dict_keys([0, 1, 2])\n",
      "dict_values(['zero', 'one', 'two'])\n"
     ]
    }
   ],
   "source": [
    "dict_4 = {0: 'zero', 1: 'one', 2: 'two'}\n",
    "\n",
    "print(dict_4)\n",
    "\n",
    "print(dict_4[0])               # burada çağırılan şey index değil key'dir. dict_4'ün 0 olan key'i olmasaydı hata verecekti\n",
    "\n",
    "print(dict_4.keys())\n",
    "print(dict_4.values())"
   ]
  },
  {
   "cell_type": "code",
   "execution_count": null,
   "metadata": {},
   "outputs": [
    {
     "name": "stdout",
     "output_type": "stream",
     "text": [
      "{False: 0, True: 1}\n",
      "{3.14: 'pi_number'}\n",
      "{(1, 2, 3): 'sayılar_listesi'}\n"
     ]
    }
   ],
   "source": [
    "dict_5 = {False: 0, True: 1}            # boolean'lar key olabiliyorlar\n",
    "print(dict_5)\n",
    "\n",
    "dict_6 = {3.14: 'pi_number'}            # float'lar da key olabiliyor\n",
    "print(dict_6)\n",
    "\n",
    "dict_8 = {(1, 2, 3): 'sayılar_listesi'} # tuple'lar key olabilir    \n",
    "print(dict_8)"
   ]
  },
  {
   "cell_type": "markdown",
   "metadata": {},
   "source": [
    "    📒 Not: Dict'lerin key kısmına liste koyamayız sadece. ama tuple'ları koyabiliyoruz"
   ]
  },
  {
   "cell_type": "code",
   "execution_count": null,
   "metadata": {},
   "outputs": [
    {
     "ename": "TypeError",
     "evalue": "unhashable type: 'list'",
     "output_type": "error",
     "traceback": [
      "\u001b[1;31m---------------------------------------------------------------------------\u001b[0m",
      "\u001b[1;31mTypeError\u001b[0m                                 Traceback (most recent call last)",
      "Cell \u001b[1;32mIn[100], line 1\u001b[0m\n\u001b[1;32m----> 1\u001b[0m dict_7 \u001b[38;5;241m=\u001b[39m {[\u001b[38;5;241m1\u001b[39m, \u001b[38;5;241m2\u001b[39m, \u001b[38;5;241m3\u001b[39m]: \u001b[38;5;124m'\u001b[39m\u001b[38;5;124msayılar_listesi\u001b[39m\u001b[38;5;124m'\u001b[39m} \u001b[38;5;66;03m# listeler key olamaz, çünkü değiştirilebilirler\u001b[39;00m\n",
      "\u001b[1;31mTypeError\u001b[0m: unhashable type: 'list'"
     ]
    }
   ],
   "source": [
    "dict_7 = {[1, 2, 3]: 'sayılar_listesi'} # listeler key olamaz, çünkü değiştirilebilirler"
   ]
  },
  {
   "cell_type": "markdown",
   "metadata": {},
   "source": [
    "#### **▶ 2.6.1.5 Values**"
   ]
  },
  {
   "cell_type": "markdown",
   "metadata": {},
   "source": [
    "    📒 Not: listeler ve tuple'ların her ikisi de value olarak kullanılabilir. liste kullanırsak değişiklik yapabiliriz sonradan, tuple kullanırsak değişiklik yapılamaz"
   ]
  },
  {
   "cell_type": "code",
   "execution_count": null,
   "metadata": {},
   "outputs": [
    {
     "name": "stdout",
     "output_type": "stream",
     "text": [
      "güncellemeden önceki hali --> {'öğrenci1': ['orkun', 32, 'data_science'], 'öğrenci2': ['bilkay', 25, 'python_developer']}\n",
      "dict_keys(['öğrenci1', 'öğrenci2'])\n",
      "['bilkay', 25, 'python_developer']\n",
      "güncellemeden sonraki hali --> {'öğrenci1': ['orkun', 32, 'data_science'], 'öğrenci2': ['bilkay', 36, 'python_developer']}\n"
     ]
    }
   ],
   "source": [
    "dict_9 = {'öğrenci1': ['orkun', 32, 'data_science'], 'öğrenci2': ['bilkay', 25, 'python_developer']}        \n",
    "print(\"güncellemeden önceki hali -->\",dict_9)\n",
    "print(dict_9.keys())\n",
    "print(dict_9['öğrenci2'])                          # çıktıyı liste olarak aldık. artık liste'ye göre işlemler yapabiliriz. eğer tuple olsaydı değişiklik yapamazdık\n",
    "dict_9['öğrenci2'][1] = 36                  # 2. öğrencinin yaşını 36 olarak değiştirdik, eskiden 25ti\n",
    "print(\"güncellemeden sonraki hali -->\",dict_9)"
   ]
  },
  {
   "cell_type": "markdown",
   "metadata": {},
   "source": [
    "#### **▶ 2.6.1.6 dict() Fonksiyonu**"
   ]
  },
  {
   "cell_type": "code",
   "execution_count": null,
   "metadata": {},
   "outputs": [
    {
     "name": "stdout",
     "output_type": "stream",
     "text": [
      "{'one': 1, 'two': 2, 'three': 3}\n"
     ]
    }
   ],
   "source": [
    "# dict() fonksiyonu ile aşağıdaki gibi dict'ler oluşturabiliriz\n",
    "\n",
    "dict_10 = dict(one = 1, two = 2, three = 3)\n",
    "print(dict_10)"
   ]
  },
  {
   "cell_type": "code",
   "execution_count": null,
   "metadata": {},
   "outputs": [
    {
     "ename": "SyntaxError",
     "evalue": "expression cannot contain assignment, perhaps you meant \"==\"? (3425412105.py, line 4)",
     "output_type": "error",
     "traceback": [
      "\u001b[1;36m  Cell \u001b[1;32mIn[6], line 4\u001b[1;36m\u001b[0m\n\u001b[1;33m    dict(0 = \"zero\", 1 = \"one\")         # bu şekilde de yapılamıyor. değişken tanımlıyormuş gibi düşünmek lazım. değişken tanımlarken değişkenin sayı olması nası mümkün değilse burada da izin vermez\u001b[0m\n\u001b[1;37m         ^\u001b[0m\n\u001b[1;31mSyntaxError\u001b[0m\u001b[1;31m:\u001b[0m expression cannot contain assignment, perhaps you meant \"==\"?\n"
     ]
    }
   ],
   "source": [
    "# çok önemli bir detay:\n",
    "# bu yöntemle dictionary oluştururken normal bir variable atıyormuşuz gibi düşünmeliyiz. Yani key değerimiz asla bir rakam ve özel karakter olmamalı:\n",
    "\n",
    "dict(0 = \"zero\", 1 = \"one\")         # bu şekilde de yapılamıyor. değişken tanımlıyormuş gibi düşünmek lazım. değişken tanımlarken değişkenin sayı olması nası mümkün değilse burada da izin vermez\n"
   ]
  },
  {
   "cell_type": "markdown",
   "metadata": {},
   "source": [
    "#### **▶ 2.6.1.7 (List + Tuple) dan Dictionary Elde Etme**"
   ]
  },
  {
   "cell_type": "code",
   "execution_count": 7,
   "metadata": {},
   "outputs": [
    {
     "name": "stdout",
     "output_type": "stream",
     "text": [
      ">> bu bir list'dir       : [('name', 'sedat'), ('name2', 'murat'), ('name3', 'ebru')]\n",
      ">> bu bir dictioanry'dir : {'name': 'sedat', 'name2': 'murat', 'name3': 'ebru'}\n"
     ]
    }
   ],
   "source": [
    "liste_1 = [('name', 'sedat'), ('name2', 'murat'), ('name3', 'ebru')]        # bu tür ikili tuple'ları listeye çevirebiliriz. \n",
    "print(\">> bu bir list'dir       :\",liste_1)\n",
    "print(\">> bu bir dictioanry'dir :\",dict(liste_1))               # bu tür bir yöntemde kullanılabilir. onun dışında çok mantıklı olmayabilir"
   ]
  },
  {
   "cell_type": "markdown",
   "metadata": {},
   "source": [
    "#### **▶ 2.6.1.8 Dictionary'den Liste Elde Etme**"
   ]
  },
  {
   "cell_type": "code",
   "execution_count": null,
   "metadata": {},
   "outputs": [
    {
     "name": "stdout",
     "output_type": "stream",
     "text": [
      "['öğrenci1', 'öğrenci2']\n",
      "[('öğrenci1', ['orkun', 32, 'data_science']), ('öğrenci2', ['bilkay', 36, 'python_developer'])]\n"
     ]
    }
   ],
   "source": [
    "# aşağıdaki yöntem ile dictionary'nin key'lerinden oluşan bir list elde edebiliyoruz:\n",
    "\n",
    "print(list(dict_9))\n",
    "\n",
    "# ancak aşağıdaki gibi yaparsak doğrudan dictionary'yi list'e çevirebiliriz:\n",
    "\n",
    "print(list(dict_9.items()))"
   ]
  },
  {
   "cell_type": "markdown",
   "metadata": {},
   "source": [
    "    📒 Not: dictionary ile yapamayacağımız şeyleri listelere çevirip o şekilde de yapabiliriz:"
   ]
  },
  {
   "cell_type": "code",
   "execution_count": null,
   "metadata": {},
   "outputs": [
    {
     "name": "stdout",
     "output_type": "stream",
     "text": [
      "('öğrenci1', ['orkun', 32, 'data_science'])\n",
      "[('öğrenci1', ['orkun', 32, 'data_science']), ('öğrenci2', ['bilkay', 36, 'python_developer'])]\n"
     ]
    }
   ],
   "source": [
    "liste_2 = list(dict_9.items())\n",
    "print(liste_2[0])              # normalde dict'in sıfırıncı elemanı olamazken listeye çevirip indexleme ve slicing gibi şeyler yapabiliriz.\n",
    "print(liste_2[0:2])            # bir dict ile slicing işlemi yapılamazken onu list'e çevirerek slicing yapabiliyoruz"
   ]
  },
  {
   "cell_type": "code",
   "execution_count": null,
   "metadata": {},
   "outputs": [
    {
     "data": {
      "text/plain": [
       "3"
      ]
     },
     "execution_count": 23,
     "metadata": {},
     "output_type": "execute_result"
    }
   ],
   "source": [
    "dict_friend = {'friend_1': 'Erkin', 'friend_2': 'Ozan', 'friend_3': 'İrem'}\n",
    "len(dict_friend)                # kaç elemanı var-yani kaç tane key:value çifti var öğrenebiliriz"
   ]
  },
  {
   "cell_type": "markdown",
   "metadata": {},
   "source": [
    "#### **▶ 2.6.1.9 Yeni Eleman Ekleme ve Value Değiştirme**"
   ]
  },
  {
   "cell_type": "code",
   "execution_count": null,
   "metadata": {},
   "outputs": [
    {
     "name": "stdout",
     "output_type": "stream",
     "text": [
      "{'friend_1': 'Erkin', 'friend_2': 'Osman', 'friend_3': 'İrem', 'friend_4': 'Osman'}\n",
      "{'friend_1': 'Erkin', 'friend_2': 'Osman', 'friend_3': 'İrem', 'friend_4': 'Osman'}\n",
      "{'friend_1': 'Erkin', 'friend_2': 'Osman', 'friend_3': 'İrem'}\n"
     ]
    }
   ],
   "source": [
    "# olmayan bir key'a bir value atayabiliyoruz (mutable özelliği):\n",
    "\n",
    "dict_friend['friend_4'] = \"Osman\"           # artık dict_friend'e yeni bir key:value eklemiş olduk\n",
    "print(dict_friend)\n",
    "\n",
    "# ayrıca bir key'e ait value'yu da değiştirebiliyoruz:\n",
    "\n",
    "dict_friend['friend_2'] = 'Osman'           \n",
    "print(dict_friend)\n",
    "\n",
    "# del fonksiyonu ile silmeler yapılabiliyor:\n",
    "\n",
    "del dict_friend['friend_4']\n",
    "print(dict_friend)\n"
   ]
  },
  {
   "cell_type": "markdown",
   "metadata": {},
   "source": [
    "#### **▶ 2.6.1.10 Soru**"
   ]
  },
  {
   "cell_type": "markdown",
   "metadata": {},
   "source": [
    "> SORU: AŞAĞIDAKİ LİSTELERE 1'DEN ONA KADAR OLAN SAYILARI EKLEYİNİZ\n",
    "\n",
    "    sayılar = {'tek_sayılar': [], 'çift_sayılar': []}"
   ]
  },
  {
   "cell_type": "code",
   "execution_count": null,
   "metadata": {},
   "outputs": [
    {
     "name": "stdout",
     "output_type": "stream",
     "text": [
      "{'tek_sayılar': [1, 3, 5, 7, 9], 'çift_sayılar': [2, 4, 6, 8, 10]}\n",
      "{'tek_sayılar': [1, 3, 5, 7, 9], 'çift_sayılar': [2, 4, 6, 8, 10]}\n",
      "{'tek_sayılar': [1, 3, 5, 7, 9], 'çift_sayılar': [2, 4, 6, 8, 10]}\n"
     ]
    }
   ],
   "source": [
    "# 1. yöntem:\n",
    "sayılar = {'tek_sayılar': [], 'çift_sayılar': []}\n",
    "\n",
    "sayılar['tek_sayılar'] = [1, 3, 5, 7, 9]\n",
    "sayılar['çift_sayılar'] = [2, 4, 6, 8, 10]\n",
    "\n",
    "print(sayılar)\n",
    "\n",
    "# 2. yöntem:\n",
    "sayılar = {'tek_sayılar': [], 'çift_sayılar': []}\n",
    "\n",
    "sayılar['tek_sayılar'].append(1)\n",
    "sayılar['tek_sayılar'].append(3)\n",
    "sayılar['tek_sayılar'].append(5)\n",
    "sayılar['tek_sayılar'].append(7)\n",
    "sayılar['tek_sayılar'].append(9)\n",
    "sayılar['çift_sayılar'].append(2)\n",
    "sayılar['çift_sayılar'].append(4)\n",
    "sayılar['çift_sayılar'].append(6)\n",
    "sayılar['çift_sayılar'].append(8)\n",
    "sayılar['çift_sayılar'].append(10)\n",
    "\n",
    "print(sayılar)\n",
    "\n",
    "# 3. yöntem: BENİM FAVORİM\n",
    "sayılar = {'tek_sayılar': [], 'çift_sayılar': []}\n",
    "\n",
    "sayılar['tek_sayılar'].extend(range(1, 10, 2))\n",
    "sayılar['çift_sayılar'].extend(range(2, 11, 2))\n",
    "\n",
    "print(sayılar)"
   ]
  },
  {
   "cell_type": "markdown",
   "metadata": {},
   "source": [
    "#### **▶ 2.6.1.11 Nested Dictionaries**"
   ]
  },
  {
   "cell_type": "markdown",
   "metadata": {},
   "source": [
    "> iç içe yerleştirilmiş olan dictionarie'lerdir nested dictionarie'ler"
   ]
  },
  {
   "cell_type": "code",
   "execution_count": null,
   "metadata": {},
   "outputs": [
    {
     "data": {
      "text/plain": [
       "{'child_1': {'name': 'Emily', 'year': 2004},\n",
       " 'child_2': {'name': 'Tobias', 'year': 2007},\n",
       " 'child_3': {'name': 'Linus', 'year': 2011}}"
      ]
     },
     "execution_count": 7,
     "metadata": {},
     "output_type": "execute_result"
    }
   ],
   "source": [
    "myfamily = {\"child_1\" : {\"name\" : \"Emily\", \"year\": 2004},           # dict içinde dict kullanılmıştır\n",
    "            \"child_2\" : {\"name\" : \"Tobias\", \"year\": 2007},\n",
    "            \"child_3\" : {\"name\" : \"Linus\", \"year\": 2011}}\n",
    "\n",
    "myfamily"
   ]
  },
  {
   "cell_type": "code",
   "execution_count": null,
   "metadata": {},
   "outputs": [
    {
     "data": {
      "text/plain": [
       "dict_keys(['child_1', 'child_2', 'child_3'])"
      ]
     },
     "execution_count": 8,
     "metadata": {},
     "output_type": "execute_result"
    }
   ],
   "source": [
    "myfamily.keys()     # 3 ayrı key var "
   ]
  },
  {
   "cell_type": "code",
   "execution_count": null,
   "metadata": {},
   "outputs": [
    {
     "data": {
      "text/plain": [
       "dict_values([{'name': 'Emily', 'year': 2004}, {'name': 'Tobias', 'year': 2007}, {'name': 'Linus', 'year': 2011}])"
      ]
     },
     "execution_count": 9,
     "metadata": {},
     "output_type": "execute_result"
    }
   ],
   "source": [
    "myfamily.values()   # 3 ayrı key'e ait 3 ayrı value dictionary olarak bulunmaktadır."
   ]
  },
  {
   "cell_type": "code",
   "execution_count": null,
   "metadata": {},
   "outputs": [
    {
     "data": {
      "text/plain": [
       "'Emily'"
      ]
     },
     "execution_count": 13,
     "metadata": {},
     "output_type": "execute_result"
    }
   ],
   "source": [
    "myfamily['child_1']['name']"
   ]
  },
  {
   "cell_type": "code",
   "execution_count": null,
   "metadata": {},
   "outputs": [
    {
     "data": {
      "text/plain": [
       "'Emily'"
      ]
     },
     "execution_count": 14,
     "metadata": {},
     "output_type": "execute_result"
    }
   ],
   "source": [
    "myfamily = {\"child_1\" : {\"name\" : (\"Emily\", \"Rose\"), \"year\": 2004},           \n",
    "            \"child_2\" : {\"name\" : \"Tobias\", \"year\": 2007},\n",
    "            \"child_3\" : {\"name\" : \"Linus\", \"year\": 2011}}\n",
    "\n",
    "# Emily'e ulaşalım\n",
    "\n",
    "myfamily['child_1']['name'][0]"
   ]
  },
  {
   "cell_type": "markdown",
   "metadata": {
    "jp-MarkdownHeadingCollapsed": true
   },
   "source": [
    "## **▶️▶️ 2.7 Sets**"
   ]
  },
  {
   "cell_type": "markdown",
   "metadata": {},
   "source": [
    "    Collection type'lardan bir tanesidir.\n",
    "\n",
    "    diğer collection type'lardan ayrılan özelliği bütün elemanlarının unique yani benzersiz \n",
    "    \n",
    "    olmasıdır. yani aynı elemandan birden fazla bulunamaz\n",
    "\n",
    "    >> 🚦ÖNEMLİ🚦 set'lerin içerisinde list, dictionary ve set(küme) olamaz ama tuple olabilir <<\n",
    "\n",
    "    mutable'dır (farklı şekilde uygulaması var)\n",
    "\n",
    "    iterable'dır (farklı şekilde uygulaması var)\n",
    "\n",
    "    iki şekilde oluşturulu: 1) set() 2) {} \n",
    "\n",
    "    >> unordered yapıdadır yani sıralamasız <<\n",
    "\n",
    "    kümelerde bir sıralama söz konusu değildir. o yüzden de bildiğimiz yöntemlerle indexleme yapılamaz"
   ]
  },
  {
   "cell_type": "markdown",
   "metadata": {},
   "source": [
    "### **▶️ 2.7.1 Konu Anlatımı**"
   ]
  },
  {
   "cell_type": "markdown",
   "metadata": {},
   "source": [
    "#### **▶ 2.7.1.1 Set Oluşturma**"
   ]
  },
  {
   "cell_type": "code",
   "execution_count": null,
   "metadata": {},
   "outputs": [
    {
     "name": "stdout",
     "output_type": "stream",
     "text": [
      "{'e', 'o', 'l', 'h'}\n",
      "{'e', 'o', 'T', 'h', 'c', 'p', 'r'}\n",
      "{'yellow', 'black', 'blues', 'green', 'blue'}\n",
      "{True, 3.14, (4, 5, 6), 25, 'mikail'}\n"
     ]
    }
   ],
   "source": [
    "print(set('hello'))        # fazlalıkları siler mesela iki tane \"l\" vardır ama bir tane \"l\" çıktısı elde edilir.\n",
    "print(set('Techpro'))      # burada olduğu gibiiçerisinde en fazla 1 adet iterable eleman olmalıdır daha fazla olamaz\n",
    "print({'blues', 'green', 'yellow', 'blue', 'black', 'green'})      # tekrar eden elemanları atar\n",
    "print({'mikail', 25, True, 3.14, (4, 5, 6)})   # içerisinde tuple var ama list, dict ve set koyarsak hata verir"
   ]
  },
  {
   "cell_type": "markdown",
   "metadata": {},
   "source": [
    "#### **▶ 2.7.1.2 Boş Set Oluşturma**"
   ]
  },
  {
   "cell_type": "code",
   "execution_count": null,
   "metadata": {},
   "outputs": [
    {
     "name": "stdout",
     "output_type": "stream",
     "text": [
      "Boş küme -->  set()\n",
      "Boş dictionary --> {}\n"
     ]
    }
   ],
   "source": [
    "# boş küme oluşturmanın tek bir yöntemi vardır:\n",
    "\n",
    "empty_set = set()               # boş set oluşutrmanın başka hiçbir yöntemi yoktur\n",
    "print('Boş küme --> ',empty_set)            \n",
    "\n",
    "emty_dict = {}                  # bu şekilde oluşturulan boş set, dict olarak algılanır set olarak değil\n",
    "print('Boş dictionary -->', emty_dict)      \n"
   ]
  },
  {
   "cell_type": "markdown",
   "metadata": {},
   "source": [
    "#### **▶ 2.7.1.3 Neden Set Kullanırız?**"
   ]
  },
  {
   "cell_type": "code",
   "execution_count": null,
   "metadata": {},
   "outputs": [
    {
     "name": "stdout",
     "output_type": "stream",
     "text": [
      "['kalem', 'silgi', 'kağıt', 'kalem_ucu', 'silgi', 'defter', 'kağıt']\n",
      "{'silgi', 'kalem', 'defter', 'kalem_ucu', 'kağıt'}\n"
     ]
    }
   ],
   "source": [
    "# 1 numaralı kırtasiyeden gelen eksik malzeme bilgileri:\n",
    "liste_1 = ['kalem', 'silgi', 'kağıt', 'kalem_ucu']\n",
    "\n",
    "# 2 numaralı kırtasiyeden gelen eksik malzeme bilgileri:\n",
    "liste_2 = ['silgi', 'defter', 'kağıt']\n",
    "\n",
    "# toplamda ihtiyaç duyulan malzemeler:\n",
    "\n",
    "print(liste_1 + liste_2)        # bu şekilde yazdıırnca birden fazla aynı malzeme yazdırılır ör: silgi\n",
    "\n",
    "print(set(liste_1 + liste_2))   # ancak bu şekilde set yapıp yazdırınca tüm malzemeler unique hale gelir\n"
   ]
  },
  {
   "cell_type": "markdown",
   "metadata": {},
   "source": [
    "#### **▶ 2.7.1.4 True ve False İstisnası**"
   ]
  },
  {
   "cell_type": "code",
   "execution_count": null,
   "metadata": {},
   "outputs": [
    {
     "name": "stdout",
     "output_type": "stream",
     "text": [
      "True'un matematiksel karşılığı 1'dir --> {0.0, True, 2, 5}\n",
      "False'un matematiksel karşılığı 0'dır --> {False, 1, 3.5, 5}\n"
     ]
    }
   ],
   "source": [
    "set_1 = {True, 2, 1.00, 5, 0.0, 1.0}       # True ve 1 arasından sadece ilk sırada yazılanı yazdırır. Aynı şekilde False ve 0.0 için de geçerli. \n",
    "print(\"True'un matematiksel karşılığı 1'dir -->\",set_1)   \n",
    "\n",
    "set_2 = {False, 0.0, 1, 5, 3.5}            # yazdığımız sıralama o yüzden önemli olabilmektedir\n",
    "print(\"False'un matematiksel karşılığı 0'dır -->\",set_2)"
   ]
  },
  {
   "cell_type": "markdown",
   "metadata": {},
   "source": [
    "#### **▶ 2.7.1.5 List ve For ile Çalışması**"
   ]
  },
  {
   "cell_type": "code",
   "execution_count": null,
   "metadata": {},
   "outputs": [
    {
     "data": {
      "text/plain": [
       "[False, 1, 3.5, 5]"
      ]
     },
     "execution_count": 28,
     "metadata": {},
     "output_type": "execute_result"
    }
   ],
   "source": [
    "# list() ile çalışır --> iterable olduğunun kanıtı \n",
    "\n",
    "list(set_2)     # artık böyle bir listede item'lara da ulaşabiliyoruz"
   ]
  },
  {
   "cell_type": "code",
   "execution_count": null,
   "metadata": {},
   "outputs": [
    {
     "name": "stdout",
     "output_type": "stream",
     "text": [
      "False\n",
      "1\n",
      "3.5\n",
      "5\n"
     ]
    }
   ],
   "source": [
    "# for dönügüsü ile de çalışabiliyor ayrıca. -->  iterable olduğunun kanıtı \n",
    "\n",
    "for i in set_2:\n",
    "    print(i)"
   ]
  },
  {
   "cell_type": "markdown",
   "metadata": {},
   "source": [
    "#### **▶ 2.7.1.6 Methods**"
   ]
  },
  {
   "cell_type": "markdown",
   "metadata": {},
   "source": [
    "    union (birleşim), \n",
    "    intersection (kesişim), \n",
    "    difference (fark) \n",
    "    --> bunlar matematikteki kümelerde de olan işlemlerdir"
   ]
  },
  {
   "cell_type": "code",
   "execution_count": null,
   "metadata": {},
   "outputs": [
    {
     "name": "stdout",
     "output_type": "stream",
     "text": [
      "set a:  {'u', 'n', 's', 'z', 'a'} \n",
      "set b:  {'u', 'a', 'z', 'y', 'v'}\n"
     ]
    }
   ],
   "source": [
    "a = set('suzan')\n",
    "b = set('yavuz')\n",
    "\n",
    "print('set a: ',  a, '\\nset b: ', b)"
   ]
  },
  {
   "cell_type": "markdown",
   "metadata": {},
   "source": [
    "    ☀️ union(): iki set'in birleşimi"
   ]
  },
  {
   "cell_type": "code",
   "execution_count": null,
   "metadata": {},
   "outputs": [
    {
     "name": "stdout",
     "output_type": "stream",
     "text": [
      "{'u', 'n', 's', 'a', 'z', 'y', 'v'}\n",
      "{'u', 'n', 's', 'a', 'z', 'y', 'v'}\n"
     ]
    }
   ],
   "source": [
    "a.union(b)      # a birleşim b\n",
    "\n",
    "# OR (farketmez ikisi de olur):\n",
    "\n",
    "b.union(a)      # b birleşim a\n",
    "\n",
    "# union() methodunun kısa yolu --> | \n",
    "\n",
    "print(a | b)    # bu şekilde union() metodu kullanılabilmektedir\n",
    "print(b | a) "
   ]
  },
  {
   "cell_type": "markdown",
   "metadata": {},
   "source": [
    "    ☀️ intersection(): iki set'in kesişimi"
   ]
  },
  {
   "cell_type": "code",
   "execution_count": null,
   "metadata": {},
   "outputs": [
    {
     "name": "stdout",
     "output_type": "stream",
     "text": [
      "{'a', 'z', 'u'}\n",
      "{'z', 'u', 'a'}\n"
     ]
    }
   ],
   "source": [
    "# intersection(), yani kesişim:\n",
    "\n",
    "a.intersection(b)   # a kesişim b demektir (diğerinin aynısı)\n",
    "b.intersection(a)   # b kesişim a demektir (diğerinin aynısı)\n",
    "\n",
    "# intersection() methodunun kısa yolu --> &\n",
    "\n",
    "print(a & b)        # bu şekilde intersection() metodu kullanılabilmektedir\n",
    "print(b & a)"
   ]
  },
  {
   "cell_type": "markdown",
   "metadata": {},
   "source": [
    "    ☀️ difference(): iki set'in farkı, birinde olan ama diğerinde olmayanlar"
   ]
  },
  {
   "cell_type": "code",
   "execution_count": null,
   "metadata": {},
   "outputs": [
    {
     "name": "stdout",
     "output_type": "stream",
     "text": [
      "a fark b:  {'n', 's'}\n",
      "b fark a:  {'y', 'v'}\n",
      "a fark b:  {'n', 's'}\n",
      "b fark a:  {'y', 'v'}\n"
     ]
    }
   ],
   "source": [
    "# difference(), yani fark:\n",
    "\n",
    "print(\"a fark b: \",a.difference(b))     # a fark b, yani a'da olup b'de olmayan demektir (diğeriyla aynı değildir),\n",
    "\n",
    "print(\"b fark a: \",b.difference(a))     # b fark a, yani b'de olup a'da olmayan demektir (diğeriyla aynı değildir)\n",
    "\n",
    "# difference() methodunun kısa yolu --> -\n",
    "\n",
    "print(\"a fark b: \",a - b)                       # a.difference(b) demektir\n",
    "print(\"b fark a: \",b - a)                       # b.difference(a) demektir"
   ]
  },
  {
   "cell_type": "code",
   "execution_count": null,
   "metadata": {},
   "outputs": [
    {
     "name": "stdout",
     "output_type": "stream",
     "text": [
      "set_3 -->  {'k', 's', 'ı', 't', 'f'}\n",
      "set_4 -->  {'k', 'n', 'ı', 'd', 'f'}\n",
      "union() yani birleşimleri       -->  {'k', 'n', 's', 'ı', 'd', 't', 'f'}\n",
      "intersection() yani kesişimleri -->  {'k', 'ı', 'f'}\n",
      "set_3 fark set_4                -->  {'t', 's'}\n",
      "set_4 fark set_3                -->  {'n', 'd'}\n"
     ]
    }
   ],
   "source": [
    "set_3 = set('fıstık')\n",
    "set_4 = set('fındık')\n",
    "\n",
    "print('set_3 --> ',set_3)\n",
    "print('set_4 --> ',set_4)\n",
    "\n",
    "print('union() yani birleşimleri       --> ', set_3 | set_4)\n",
    "print('intersection() yani kesişimleri --> ', set_3 & set_4)\n",
    "print('set_3 fark set_4                --> ', set_3 - set_4)\n",
    "print('set_4 fark set_3                --> ', set_4 - set_3)"
   ]
  },
  {
   "cell_type": "markdown",
   "metadata": {},
   "source": [
    "    ☀️ symmetric_difference(): birinci sette olan ama ikinci sette olmayan ve aynı şekilde ikinci setten olan ama birinci sette olmayan elemanların birleşimidir"
   ]
  },
  {
   "cell_type": "code",
   "execution_count": null,
   "metadata": {},
   "outputs": [
    {
     "name": "stdout",
     "output_type": "stream",
     "text": [
      "Birinci yöntem ile çözüm       --> {'t', 's', 'n', 'd'}\n",
      "İkinci yöntem ile çözüm       --> {'t', 'n', 's', 'd'}\n",
      "symmetric_difference methodu  --> {'n', 's', 'd', 't'}\n",
      "symmetric_difference methodu  --> {'n', 's', 'd', 't'}\n"
     ]
    }
   ],
   "source": [
    "# soru: set_3 ve set_4 içerisinde yer alan itemlerin tek bir yerde yer almasını istiyor hoca:\n",
    "\n",
    "my_set_1 = set_3 - set_4\n",
    "my_set_2 = set_4 - set_3\n",
    "my_set_final = my_set_1 | my_set_2\n",
    "\n",
    "print('Birinci yöntem ile çözüm       -->', my_set_final)\n",
    "\n",
    "# or:\n",
    "\n",
    "my_set_union = set_3 | set_4\n",
    "my_set_intersection = set_3 & set_4\n",
    "my_set_final2 = my_set_union - my_set_intersection\n",
    "\n",
    "print('İkinci yöntem ile çözüm       -->', my_set_final2)\n",
    "\n",
    "# symmetric_difference() yani bir önceki hücrede yaptığımız olay, iki küme arasındakji farkların toplamıdır:\n",
    "\n",
    "print('symmetric_difference methodu  -->',set_3.symmetric_difference(set_4))\n",
    "\n",
    "# symmetric_difference() methodunun kısa yolu --> ^\n",
    "\n",
    "print('symmetric_difference methodu  -->',set_3 ^ set_4)               # bu şekilde symmetric_difference() metodu kullanılabilmektedir"
   ]
  },
  {
   "cell_type": "code",
   "execution_count": null,
   "metadata": {},
   "outputs": [
    {
     "data": {
      "text/plain": [
       "{'d', 'n', 's', 't'}"
      ]
     },
     "execution_count": 41,
     "metadata": {},
     "output_type": "execute_result"
    }
   ],
   "source": [
    "# hocanın istediği örneği direkt işlemsel olarak yazarsak:\n",
    "\n",
    "(set_3 | set_4) - (set_3 & set_4)       # önce birleşimlerini aldık, sonra kesişimlerini alıp aradaki farkı bulduk\n",
    "\n",
    "(set_3 - set_4) | (set_4 - set_3)       # önce farkları bulduk sonra bu farkları birleştirdik"
   ]
  },
  {
   "cell_type": "markdown",
   "metadata": {},
   "source": [
    "    ☀️ clear(): set'i komple temizler boş set elde ederiz"
   ]
  },
  {
   "cell_type": "code",
   "execution_count": null,
   "metadata": {},
   "outputs": [
    {
     "data": {
      "text/plain": [
       "set()"
      ]
     },
     "execution_count": 42,
     "metadata": {},
     "output_type": "execute_result"
    }
   ],
   "source": [
    "set_3.clear()\n",
    "set_3"
   ]
  },
  {
   "cell_type": "markdown",
   "metadata": {},
   "source": [
    "    ☀️ remove(): belirlediğimiz elemanı siler"
   ]
  },
  {
   "cell_type": "code",
   "execution_count": null,
   "metadata": {},
   "outputs": [
    {
     "name": "stdout",
     "output_type": "stream",
     "text": [
      "remove() öncei a kümesi   --> {'u', 'n', 's', 'z', 'a'}\n",
      "remove() sonrası a kümesi --> {'u', 'n', 'z', 'a'}\n"
     ]
    }
   ],
   "source": [
    "print('remove() öncesi a kümesi   -->', a)\n",
    "a.remove('s')                               # eğer içerisinde olmayan bir eleman olsaydı error verirdi\n",
    "print('remove() sonrası a kümesi -->', a)"
   ]
  },
  {
   "cell_type": "markdown",
   "metadata": {},
   "source": [
    "    ☀️ pop(): rastgele eleman siler"
   ]
  },
  {
   "cell_type": "code",
   "execution_count": null,
   "metadata": {},
   "outputs": [
    {
     "name": "stdout",
     "output_type": "stream",
     "text": [
      "pop() öncei b kümesi   --> {'u', 'a', 'z', 'y', 'v'}\n",
      "pop() sonrası b kümesi --> {'u', 'n', 'z', 'a'}\n"
     ]
    }
   ],
   "source": [
    "print('pop() öncei b kümesi   -->', b)\n",
    "b.pop()\n",
    "print('pop() sonrası b kümesi -->', a)"
   ]
  },
  {
   "cell_type": "markdown",
   "metadata": {},
   "source": [
    "    ☀️ add(): belirlediğimiz tek bir elemanı ekler"
   ]
  },
  {
   "cell_type": "code",
   "execution_count": null,
   "metadata": {},
   "outputs": [
    {
     "name": "stdout",
     "output_type": "stream",
     "text": [
      "set()\n",
      "{'a'}\n"
     ]
    }
   ],
   "source": [
    "print(set_3)            # boş kümeydi\n",
    "set_3.add('a')\n",
    "print(set_3)"
   ]
  },
  {
   "cell_type": "markdown",
   "metadata": {},
   "source": [
    "    ☀️ update(): iterable olan bir eleman ekler. Her bir karakterini ayrı bir eleman olarak ekler"
   ]
  },
  {
   "cell_type": "code",
   "execution_count": null,
   "metadata": {},
   "outputs": [
    {
     "data": {
      "text/plain": [
       "{'a', 'c', 'e', 'h', 'o', 'p', 'r', 't'}"
      ]
     },
     "execution_count": 46,
     "metadata": {},
     "output_type": "execute_result"
    }
   ],
   "source": [
    "set_3.update('techpro')\n",
    "set_3"
   ]
  },
  {
   "cell_type": "markdown",
   "metadata": {},
   "source": [
    "    ☀️ issubset(): bir kümenin başka bir kümenin alt kümesi olup olmadığını sorgularız"
   ]
  },
  {
   "cell_type": "code",
   "execution_count": null,
   "metadata": {},
   "outputs": [
    {
     "name": "stdout",
     "output_type": "stream",
     "text": [
      "{'e', 'n', 'l', 's', 'i'}\n",
      "{'e', 'n', 's'}\n",
      "False\n",
      "True\n"
     ]
    }
   ],
   "source": [
    "set_5 = set('selin')\n",
    "set_6 = set('enes')\n",
    "\n",
    "print(set_5)\n",
    "print(set_6)\n",
    "\n",
    "# set_6'da bulunan tüm item'lar set_5'de yer almaktadır. Yani set_6 kümesi set_5 kümesinin bir subset'i dir.\n",
    "\n",
    "print(set_5.issubset(set_6))       # set_5 kümesi set_6 kümesinin bir alt kümesi midir? diye sorgular -Hayır\n",
    "print(set_6.issubset(set_5))       # set_6 kümesi set_5 kümesinin bir alt kümesi midir? diye sorgular -Evet"
   ]
  },
  {
   "cell_type": "code",
   "execution_count": null,
   "metadata": {},
   "outputs": [
    {
     "data": {
      "text/plain": [
       "True"
      ]
     },
     "execution_count": 48,
     "metadata": {},
     "output_type": "execute_result"
    }
   ],
   "source": [
    "# iki aynı küme birbirinin alt kümseisidr:\n",
    "\n",
    "set_7 = set('sine')\n",
    "set_8 = set('enis')\n",
    "\n",
    "\n",
    "set_7.issubset(set_8)"
   ]
  },
  {
   "cell_type": "markdown",
   "metadata": {
    "jp-MarkdownHeadingCollapsed": true
   },
   "source": [
    "# **🌟 3. Bölüm: Pandas Kütüphanesi**"
   ]
  },
  {
   "cell_type": "markdown",
   "metadata": {
    "jp-MarkdownHeadingCollapsed": true
   },
   "source": [
    "## **▶️▶️ 3.1 Pandas Kütüphanesini Import Etme**"
   ]
  },
  {
   "cell_type": "markdown",
   "metadata": {},
   "source": [
    "    Pandas kütüphanesini \"pd\" olarak import ederiz. Bundan sonra kodlarımız pandas değil pd kısaltması "
   ]
  },
  {
   "cell_type": "code",
   "execution_count": 72,
   "metadata": {},
   "outputs": [],
   "source": [
    "import pandas as pd"
   ]
  },
  {
   "cell_type": "markdown",
   "metadata": {
    "jp-MarkdownHeadingCollapsed": true
   },
   "source": [
    "## **▶️▶️ 3.2 Max Column and Max Row Belirleme**"
   ]
  },
  {
   "cell_type": "markdown",
   "metadata": {},
   "source": [
    "    Tablolarla çalışırken her run dediğimizde tablonun tüm satır veya tüm sütunlarını görmek istemeyebiliriz. Bu gibi durumlar için aşağıdaki uygulamayı yapabiliriz.\n",
    "\n",
    "    Çalışacağımız tabloları import etmeden önceden bu ayarı yapmakta fayda var. "
   ]
  },
  {
   "cell_type": "code",
   "execution_count": 2,
   "metadata": {},
   "outputs": [],
   "source": [
    "# aşağıdaki örneklerde 85 yerine kaç yazarsak o kadar column veya row getirilir ekrana. Hangisini kullancağımız opsiyonel olduğu hiç kullanmayabiliriz de.\n",
    "\n",
    "pd.set_option('display.max_columns',5) \n",
    "pd.set_option('display.max_rows', 10)"
   ]
  },
  {
   "cell_type": "markdown",
   "metadata": {
    "jp-MarkdownHeadingCollapsed": true
   },
   "source": [
    "## **▶️▶️ 3.3 Hazır Tablo Çekme veya Tablo Oluşturma**"
   ]
  },
  {
   "cell_type": "markdown",
   "metadata": {},
   "source": [
    "### **▶️ 3.3.1 Hazır Tablo Çekme**"
   ]
  },
  {
   "cell_type": "markdown",
   "metadata": {},
   "source": [
    "    CSV - Comma Seperetad Values \n",
    "\n",
    "    Şimdilik sadece CSV dosyaları üzerinde çalıştım. CSV dosyalarını \"read_csv\" metodu ile okuruz.\n",
    "\n",
    "    okuduğumuz her tablo için Python bir index kolonu ayarlar standart olarak. Ama bazen okuyacağımız tabloda daha uygun bir index kolonumuz olur. Bu gibi durumlarda \"index_col\" kullanarak kolonumuzu index olarak belirleriz."
   ]
  },
  {
   "cell_type": "code",
   "execution_count": 3,
   "metadata": {},
   "outputs": [],
   "source": [
    "df_survey = pd.read_csv('SOURCES/survey_results_public.csv', index_col = 'Respondent')\n",
    "df_schema = pd.read_csv('SOURCES/survey_results_schema.csv', index_col = 'Column')"
   ]
  },
  {
   "cell_type": "markdown",
   "metadata": {},
   "source": [
    "### **▶️ 3.3.2 Kendi Tablomuzu Oluşturma**"
   ]
  },
  {
   "cell_type": "markdown",
   "metadata": {},
   "source": [
    "    Örneğin elimizde \"people\" isimli bir dictionary olsun. Bu dictionary'i \"DataFrame\" metodunu kullanarak tablo'ya çevirebilirz."
   ]
  },
  {
   "cell_type": "code",
   "execution_count": 73,
   "metadata": {},
   "outputs": [],
   "source": [
    "people = {\n",
    "    \"first\": [\"Emre\", \"İrem\", \"Süheyla\"],\n",
    "    \"last\": [\"Çakır\", \"Çukurlu\", \"Çukurlu\"],\n",
    "    \"email\": [\"emrecakir@gmail.com\", \"iremcukurlu@email.com\", \"suheylacukurlu@email.com\"]\n",
    "}"
   ]
  },
  {
   "cell_type": "code",
   "execution_count": 75,
   "metadata": {},
   "outputs": [],
   "source": [
    "df_people = pd.DataFrame(people)"
   ]
  },
  {
   "cell_type": "markdown",
   "metadata": {
    "jp-MarkdownHeadingCollapsed": true
   },
   "source": [
    "## **▶️▶️ 3.4 Tablo Gösterimi**"
   ]
  },
  {
   "cell_type": "markdown",
   "metadata": {},
   "source": [
    "    Bu bölümde çalışmamın ileriki safhalarında kullanmak üzere oluşturmuş olduğumuz üç farklı tablonun gösterimi yer alacak:"
   ]
  },
  {
   "cell_type": "code",
   "execution_count": 6,
   "metadata": {},
   "outputs": [
    {
     "data": {
      "text/html": [
       "<div>\n",
       "<style scoped>\n",
       "    .dataframe tbody tr th:only-of-type {\n",
       "        vertical-align: middle;\n",
       "    }\n",
       "\n",
       "    .dataframe tbody tr th {\n",
       "        vertical-align: top;\n",
       "    }\n",
       "\n",
       "    .dataframe thead th {\n",
       "        text-align: right;\n",
       "    }\n",
       "</style>\n",
       "<table border=\"1\" class=\"dataframe\">\n",
       "  <thead>\n",
       "    <tr style=\"text-align: right;\">\n",
       "      <th></th>\n",
       "      <th>MainBranch</th>\n",
       "      <th>Hobbyist</th>\n",
       "      <th>...</th>\n",
       "      <th>SurveyLength</th>\n",
       "      <th>SurveyEase</th>\n",
       "    </tr>\n",
       "    <tr>\n",
       "      <th>Respondent</th>\n",
       "      <th></th>\n",
       "      <th></th>\n",
       "      <th></th>\n",
       "      <th></th>\n",
       "      <th></th>\n",
       "    </tr>\n",
       "  </thead>\n",
       "  <tbody>\n",
       "    <tr>\n",
       "      <th>1</th>\n",
       "      <td>I am a student who is learning to code</td>\n",
       "      <td>Yes</td>\n",
       "      <td>...</td>\n",
       "      <td>Appropriate in length</td>\n",
       "      <td>Neither easy nor difficult</td>\n",
       "    </tr>\n",
       "    <tr>\n",
       "      <th>2</th>\n",
       "      <td>I am a student who is learning to code</td>\n",
       "      <td>No</td>\n",
       "      <td>...</td>\n",
       "      <td>Appropriate in length</td>\n",
       "      <td>Neither easy nor difficult</td>\n",
       "    </tr>\n",
       "    <tr>\n",
       "      <th>3</th>\n",
       "      <td>I am not primarily a developer, but I write co...</td>\n",
       "      <td>Yes</td>\n",
       "      <td>...</td>\n",
       "      <td>Appropriate in length</td>\n",
       "      <td>Neither easy nor difficult</td>\n",
       "    </tr>\n",
       "    <tr>\n",
       "      <th>4</th>\n",
       "      <td>I am a developer by profession</td>\n",
       "      <td>No</td>\n",
       "      <td>...</td>\n",
       "      <td>Appropriate in length</td>\n",
       "      <td>Easy</td>\n",
       "    </tr>\n",
       "    <tr>\n",
       "      <th>5</th>\n",
       "      <td>I am a developer by profession</td>\n",
       "      <td>Yes</td>\n",
       "      <td>...</td>\n",
       "      <td>Appropriate in length</td>\n",
       "      <td>Easy</td>\n",
       "    </tr>\n",
       "    <tr>\n",
       "      <th>...</th>\n",
       "      <td>...</td>\n",
       "      <td>...</td>\n",
       "      <td>...</td>\n",
       "      <td>...</td>\n",
       "      <td>...</td>\n",
       "    </tr>\n",
       "    <tr>\n",
       "      <th>88377</th>\n",
       "      <td>NaN</td>\n",
       "      <td>Yes</td>\n",
       "      <td>...</td>\n",
       "      <td>Appropriate in length</td>\n",
       "      <td>Easy</td>\n",
       "    </tr>\n",
       "    <tr>\n",
       "      <th>88601</th>\n",
       "      <td>NaN</td>\n",
       "      <td>No</td>\n",
       "      <td>...</td>\n",
       "      <td>NaN</td>\n",
       "      <td>NaN</td>\n",
       "    </tr>\n",
       "    <tr>\n",
       "      <th>88802</th>\n",
       "      <td>NaN</td>\n",
       "      <td>No</td>\n",
       "      <td>...</td>\n",
       "      <td>NaN</td>\n",
       "      <td>NaN</td>\n",
       "    </tr>\n",
       "    <tr>\n",
       "      <th>88816</th>\n",
       "      <td>NaN</td>\n",
       "      <td>No</td>\n",
       "      <td>...</td>\n",
       "      <td>NaN</td>\n",
       "      <td>NaN</td>\n",
       "    </tr>\n",
       "    <tr>\n",
       "      <th>88863</th>\n",
       "      <td>NaN</td>\n",
       "      <td>Yes</td>\n",
       "      <td>...</td>\n",
       "      <td>Appropriate in length</td>\n",
       "      <td>Easy</td>\n",
       "    </tr>\n",
       "  </tbody>\n",
       "</table>\n",
       "<p>88883 rows × 84 columns</p>\n",
       "</div>"
      ],
      "text/plain": [
       "                                                   MainBranch Hobbyist  ...  \\\n",
       "Respondent                                                              ...   \n",
       "1                      I am a student who is learning to code      Yes  ...   \n",
       "2                      I am a student who is learning to code       No  ...   \n",
       "3           I am not primarily a developer, but I write co...      Yes  ...   \n",
       "4                              I am a developer by profession       No  ...   \n",
       "5                              I am a developer by profession      Yes  ...   \n",
       "...                                                       ...      ...  ...   \n",
       "88377                                                     NaN      Yes  ...   \n",
       "88601                                                     NaN       No  ...   \n",
       "88802                                                     NaN       No  ...   \n",
       "88816                                                     NaN       No  ...   \n",
       "88863                                                     NaN      Yes  ...   \n",
       "\n",
       "                     SurveyLength                  SurveyEase  \n",
       "Respondent                                                     \n",
       "1           Appropriate in length  Neither easy nor difficult  \n",
       "2           Appropriate in length  Neither easy nor difficult  \n",
       "3           Appropriate in length  Neither easy nor difficult  \n",
       "4           Appropriate in length                        Easy  \n",
       "5           Appropriate in length                        Easy  \n",
       "...                           ...                         ...  \n",
       "88377       Appropriate in length                        Easy  \n",
       "88601                         NaN                         NaN  \n",
       "88802                         NaN                         NaN  \n",
       "88816                         NaN                         NaN  \n",
       "88863       Appropriate in length                        Easy  \n",
       "\n",
       "[88883 rows x 84 columns]"
      ]
     },
     "execution_count": 6,
     "metadata": {},
     "output_type": "execute_result"
    }
   ],
   "source": [
    "#1. Tablo: \n",
    "\n",
    "df_survey           # Bu tabloda stack owerflow sitesinde yapılan bir survey'in sonuçları yer almaktadır."
   ]
  },
  {
   "cell_type": "code",
   "execution_count": 7,
   "metadata": {},
   "outputs": [
    {
     "data": {
      "text/html": [
       "<div>\n",
       "<style scoped>\n",
       "    .dataframe tbody tr th:only-of-type {\n",
       "        vertical-align: middle;\n",
       "    }\n",
       "\n",
       "    .dataframe tbody tr th {\n",
       "        vertical-align: top;\n",
       "    }\n",
       "\n",
       "    .dataframe thead th {\n",
       "        text-align: right;\n",
       "    }\n",
       "</style>\n",
       "<table border=\"1\" class=\"dataframe\">\n",
       "  <thead>\n",
       "    <tr style=\"text-align: right;\">\n",
       "      <th></th>\n",
       "      <th>QuestionText</th>\n",
       "    </tr>\n",
       "    <tr>\n",
       "      <th>Column</th>\n",
       "      <th></th>\n",
       "    </tr>\n",
       "  </thead>\n",
       "  <tbody>\n",
       "    <tr>\n",
       "      <th>Respondent</th>\n",
       "      <td>Randomized respondent ID number (not in order ...</td>\n",
       "    </tr>\n",
       "    <tr>\n",
       "      <th>MainBranch</th>\n",
       "      <td>Which of the following options best describes ...</td>\n",
       "    </tr>\n",
       "    <tr>\n",
       "      <th>Hobbyist</th>\n",
       "      <td>Do you code as a hobby?</td>\n",
       "    </tr>\n",
       "    <tr>\n",
       "      <th>OpenSourcer</th>\n",
       "      <td>How often do you contribute to open source?</td>\n",
       "    </tr>\n",
       "    <tr>\n",
       "      <th>OpenSource</th>\n",
       "      <td>How do you feel about the quality of open sour...</td>\n",
       "    </tr>\n",
       "    <tr>\n",
       "      <th>...</th>\n",
       "      <td>...</td>\n",
       "    </tr>\n",
       "    <tr>\n",
       "      <th>Sexuality</th>\n",
       "      <td>Which of the following do you currently identi...</td>\n",
       "    </tr>\n",
       "    <tr>\n",
       "      <th>Ethnicity</th>\n",
       "      <td>Which of the following do you identify as? Ple...</td>\n",
       "    </tr>\n",
       "    <tr>\n",
       "      <th>Dependents</th>\n",
       "      <td>Do you have any dependents (e.g., children, el...</td>\n",
       "    </tr>\n",
       "    <tr>\n",
       "      <th>SurveyLength</th>\n",
       "      <td>How do you feel about the length of the survey...</td>\n",
       "    </tr>\n",
       "    <tr>\n",
       "      <th>SurveyEase</th>\n",
       "      <td>How easy or difficult was this survey to compl...</td>\n",
       "    </tr>\n",
       "  </tbody>\n",
       "</table>\n",
       "<p>85 rows × 1 columns</p>\n",
       "</div>"
      ],
      "text/plain": [
       "                                                   QuestionText\n",
       "Column                                                         \n",
       "Respondent    Randomized respondent ID number (not in order ...\n",
       "MainBranch    Which of the following options best describes ...\n",
       "Hobbyist                                Do you code as a hobby?\n",
       "OpenSourcer         How often do you contribute to open source?\n",
       "OpenSource    How do you feel about the quality of open sour...\n",
       "...                                                         ...\n",
       "Sexuality     Which of the following do you currently identi...\n",
       "Ethnicity     Which of the following do you identify as? Ple...\n",
       "Dependents    Do you have any dependents (e.g., children, el...\n",
       "SurveyLength  How do you feel about the length of the survey...\n",
       "SurveyEase    How easy or difficult was this survey to compl...\n",
       "\n",
       "[85 rows x 1 columns]"
      ]
     },
     "execution_count": 7,
     "metadata": {},
     "output_type": "execute_result"
    }
   ],
   "source": [
    "#2. Tablo:\n",
    "\n",
    "df_schema           # \"df_survey\" isimli tablo'da kullanılan column isimlerinin açıklamaları yer almaktadır.\n"
   ]
  },
  {
   "cell_type": "code",
   "execution_count": 8,
   "metadata": {},
   "outputs": [
    {
     "data": {
      "text/html": [
       "<div>\n",
       "<style scoped>\n",
       "    .dataframe tbody tr th:only-of-type {\n",
       "        vertical-align: middle;\n",
       "    }\n",
       "\n",
       "    .dataframe tbody tr th {\n",
       "        vertical-align: top;\n",
       "    }\n",
       "\n",
       "    .dataframe thead th {\n",
       "        text-align: right;\n",
       "    }\n",
       "</style>\n",
       "<table border=\"1\" class=\"dataframe\">\n",
       "  <thead>\n",
       "    <tr style=\"text-align: right;\">\n",
       "      <th></th>\n",
       "      <th>first</th>\n",
       "      <th>last</th>\n",
       "      <th>email</th>\n",
       "    </tr>\n",
       "  </thead>\n",
       "  <tbody>\n",
       "    <tr>\n",
       "      <th>0</th>\n",
       "      <td>Emre</td>\n",
       "      <td>Çakır</td>\n",
       "      <td>emrecakir@gmail.com</td>\n",
       "    </tr>\n",
       "    <tr>\n",
       "      <th>1</th>\n",
       "      <td>İrem</td>\n",
       "      <td>Çukurlu</td>\n",
       "      <td>iremcukurlu@email.com</td>\n",
       "    </tr>\n",
       "    <tr>\n",
       "      <th>2</th>\n",
       "      <td>Süheyla</td>\n",
       "      <td>Çukurlu</td>\n",
       "      <td>suheylacukurlu@email.com</td>\n",
       "    </tr>\n",
       "  </tbody>\n",
       "</table>\n",
       "</div>"
      ],
      "text/plain": [
       "     first     last                     email\n",
       "0     Emre    Çakır       emrecakir@gmail.com\n",
       "1     İrem  Çukurlu     iremcukurlu@email.com\n",
       "2  Süheyla  Çukurlu  suheylacukurlu@email.com"
      ]
     },
     "execution_count": 8,
     "metadata": {},
     "output_type": "execute_result"
    }
   ],
   "source": [
    "#3. Tablo:\n",
    "\n",
    "df_people           # Bizim oluşturduğumuz 3 farklı kişiye ait isim soyisim ve email adreslerinin yazılı olduğu bir tablo."
   ]
  },
  {
   "cell_type": "markdown",
   "metadata": {
    "jp-MarkdownHeadingCollapsed": true
   },
   "source": [
    "## **▶️▶️ 3.5 Column Yazdırma**"
   ]
  },
  {
   "cell_type": "markdown",
   "metadata": {},
   "source": [
    "    Genel olarak iki şekilde tablonun elemanlarına ulaşırız:\n",
    "\n",
    "    1. Yöntem: df[\"Kolon Başlığı\"]  : TERCİH EDİLİR. \n",
    "\n",
    "    2. Yöntem: df.KolonBaşlığı      : İki sebepten dolayı tercih edilmez. Kolon başlıkları metod ismi ile çakışabilir. Ve kolon başlıklarında boşluk olabilir."
   ]
  },
  {
   "cell_type": "code",
   "execution_count": 9,
   "metadata": {},
   "outputs": [
    {
     "data": {
      "text/plain": [
       "0      Çakır\n",
       "1    Çukurlu\n",
       "2    Çukurlu\n",
       "Name: last, dtype: object"
      ]
     },
     "execution_count": 9,
     "metadata": {},
     "output_type": "execute_result"
    }
   ],
   "source": [
    "df_people[\"last\"]           # tablomuzun \"last\" isimli column'una ulaştık ve o kolondaki tüm row'ların çıktısını aldık."
   ]
  },
  {
   "cell_type": "code",
   "execution_count": 10,
   "metadata": {},
   "outputs": [
    {
     "data": {
      "text/plain": [
       "Respondent\n",
       "1                   I am a student who is learning to code\n",
       "2                   I am a student who is learning to code\n",
       "3        I am not primarily a developer, but I write co...\n",
       "4                           I am a developer by profession\n",
       "5                           I am a developer by profession\n",
       "                               ...                        \n",
       "88377                                                  NaN\n",
       "88601                                                  NaN\n",
       "88802                                                  NaN\n",
       "88816                                                  NaN\n",
       "88863                                                  NaN\n",
       "Name: MainBranch, Length: 88883, dtype: object"
      ]
     },
     "execution_count": 10,
     "metadata": {},
     "output_type": "execute_result"
    }
   ],
   "source": [
    "df_survey[\"MainBranch\"]     # tablomuzun \"MainBranch\" isimli column'una ulaştık ve o kolondaki tüm row'ların çıktısını aldık."
   ]
  },
  {
   "cell_type": "code",
   "execution_count": 11,
   "metadata": {},
   "outputs": [
    {
     "data": {
      "text/plain": [
       "Column\n",
       "Respondent      Randomized respondent ID number (not in order ...\n",
       "MainBranch      Which of the following options best describes ...\n",
       "Hobbyist                                  Do you code as a hobby?\n",
       "OpenSourcer           How often do you contribute to open source?\n",
       "OpenSource      How do you feel about the quality of open sour...\n",
       "                                      ...                        \n",
       "Sexuality       Which of the following do you currently identi...\n",
       "Ethnicity       Which of the following do you identify as? Ple...\n",
       "Dependents      Do you have any dependents (e.g., children, el...\n",
       "SurveyLength    How do you feel about the length of the survey...\n",
       "SurveyEase      How easy or difficult was this survey to compl...\n",
       "Name: QuestionText, Length: 85, dtype: object"
      ]
     },
     "execution_count": 11,
     "metadata": {},
     "output_type": "execute_result"
    }
   ],
   "source": [
    "df_schema[\"QuestionText\"]    # tablomuzun \"QuestionText\" isimli column'una ulaştık ve o kolondaki tüm row'ların çıktısını aldık."
   ]
  },
  {
   "cell_type": "markdown",
   "metadata": {
    "jp-MarkdownHeadingCollapsed": true
   },
   "source": [
    "## **▶️▶️ 3.6 info() & shape & head() & columns Metodlar**"
   ]
  },
  {
   "cell_type": "markdown",
   "metadata": {},
   "source": [
    "### **🗣️ info()**"
   ]
  },
  {
   "cell_type": "markdown",
   "metadata": {},
   "source": [
    "    Bu metodu bir tablonın kaç tane column'u var veya kaç tane row (etries olarak geçiyor)'u var onu öğrenebiliyoruz. Ayrıca her bir column'a ait hangi data type kullanılmış ve kaç adet row (entries) var onları da görebiliyoruz."
   ]
  },
  {
   "cell_type": "code",
   "execution_count": 12,
   "metadata": {},
   "outputs": [
    {
     "name": "stdout",
     "output_type": "stream",
     "text": [
      "<class 'pandas.core.frame.DataFrame'>\n",
      "RangeIndex: 3 entries, 0 to 2\n",
      "Data columns (total 3 columns):\n",
      " #   Column  Non-Null Count  Dtype \n",
      "---  ------  --------------  ----- \n",
      " 0   first   3 non-null      object\n",
      " 1   last    3 non-null      object\n",
      " 2   email   3 non-null      object\n",
      "dtypes: object(3)\n",
      "memory usage: 200.0+ bytes\n"
     ]
    }
   ],
   "source": [
    "df_people.info()         # 3 entries: 3 adet row (satır) | 3 columns: 3 adet column (eğer varsa, index column'u hariç)"
   ]
  },
  {
   "cell_type": "code",
   "execution_count": 13,
   "metadata": {},
   "outputs": [
    {
     "name": "stdout",
     "output_type": "stream",
     "text": [
      "<class 'pandas.core.frame.DataFrame'>\n",
      "Index: 88883 entries, 1 to 88863\n",
      "Data columns (total 84 columns):\n",
      " #   Column                  Non-Null Count  Dtype  \n",
      "---  ------                  --------------  -----  \n",
      " 0   MainBranch              88331 non-null  object \n",
      " 1   Hobbyist                88883 non-null  object \n",
      " 2   OpenSourcer             88883 non-null  object \n",
      " 3   OpenSource              86842 non-null  object \n",
      " 4   Employment              87181 non-null  object \n",
      " 5   Country                 88751 non-null  object \n",
      " 6   Student                 87014 non-null  object \n",
      " 7   EdLevel                 86390 non-null  object \n",
      " 8   UndergradMajor          75614 non-null  object \n",
      " 9   EduOther                84260 non-null  object \n",
      " 10  OrgSize                 71791 non-null  object \n",
      " 11  DevType                 81335 non-null  object \n",
      " 12  YearsCode               87938 non-null  object \n",
      " 13  Age1stCode              87634 non-null  object \n",
      " 14  YearsCodePro            74331 non-null  object \n",
      " 15  CareerSat               72847 non-null  object \n",
      " 16  JobSat                  70988 non-null  object \n",
      " 17  MgrIdiot                61159 non-null  object \n",
      " 18  MgrMoney                61157 non-null  object \n",
      " 19  MgrWant                 61232 non-null  object \n",
      " 20  JobSeek                 80555 non-null  object \n",
      " 21  LastHireDate            79854 non-null  object \n",
      " 22  LastInt                 67155 non-null  object \n",
      " 23  FizzBuzz                71344 non-null  object \n",
      " 24  JobFactors              79371 non-null  object \n",
      " 25  ResumeUpdate            77877 non-null  object \n",
      " 26  CurrencySymbol          71392 non-null  object \n",
      " 27  CurrencyDesc            71392 non-null  object \n",
      " 28  CompTotal               55945 non-null  float64\n",
      " 29  CompFreq                63268 non-null  object \n",
      " 30  ConvertedComp           55823 non-null  float64\n",
      " 31  WorkWeekHrs             64503 non-null  float64\n",
      " 32  WorkPlan                68914 non-null  object \n",
      " 33  WorkChallenge           68141 non-null  object \n",
      " 34  WorkRemote              70284 non-null  object \n",
      " 35  WorkLoc                 70055 non-null  object \n",
      " 36  ImpSyn                  71779 non-null  object \n",
      " 37  CodeRev                 70390 non-null  object \n",
      " 38  CodeRevHrs              49790 non-null  float64\n",
      " 39  UnitTests               62668 non-null  object \n",
      " 40  PurchaseHow             61108 non-null  object \n",
      " 41  PurchaseWhat            62029 non-null  object \n",
      " 42  LanguageWorkedWith      87569 non-null  object \n",
      " 43  LanguageDesireNextYear  84088 non-null  object \n",
      " 44  DatabaseWorkedWith      76026 non-null  object \n",
      " 45  DatabaseDesireNextYear  69147 non-null  object \n",
      " 46  PlatformWorkedWith      80714 non-null  object \n",
      " 47  PlatformDesireNextYear  77443 non-null  object \n",
      " 48  WebFrameWorkedWith      65022 non-null  object \n",
      " 49  WebFrameDesireNextYear  62944 non-null  object \n",
      " 50  MiscTechWorkedWith      59586 non-null  object \n",
      " 51  MiscTechDesireNextYear  64511 non-null  object \n",
      " 52  DevEnviron              87317 non-null  object \n",
      " 53  OpSys                   87851 non-null  object \n",
      " 54  Containers              85366 non-null  object \n",
      " 55  BlockchainOrg           48175 non-null  object \n",
      " 56  BlockchainIs            60165 non-null  object \n",
      " 57  BetterLife              86269 non-null  object \n",
      " 58  ITperson                87141 non-null  object \n",
      " 59  OffOn                   86663 non-null  object \n",
      " 60  SocialMedia             84437 non-null  object \n",
      " 61  Extraversion            87305 non-null  object \n",
      " 62  ScreenName              80486 non-null  object \n",
      " 63  SOVisit1st              83877 non-null  object \n",
      " 64  SOVisitFreq             88263 non-null  object \n",
      " 65  SOVisitTo               88086 non-null  object \n",
      " 66  SOFindAnswer            87816 non-null  object \n",
      " 67  SOTimeSaved             86344 non-null  object \n",
      " 68  SOHowMuchTime           68378 non-null  object \n",
      " 69  SOAccount               87828 non-null  object \n",
      " 70  SOPartFreq              74692 non-null  object \n",
      " 71  SOJobs                  88066 non-null  object \n",
      " 72  EntTeams                87841 non-null  object \n",
      " 73  SOComm                  88131 non-null  object \n",
      " 74  WelcomeChange           85855 non-null  object \n",
      " 75  SONewContent            69560 non-null  object \n",
      " 76  Age                     79210 non-null  float64\n",
      " 77  Gender                  85406 non-null  object \n",
      " 78  Trans                   83607 non-null  object \n",
      " 79  Sexuality               76147 non-null  object \n",
      " 80  Ethnicity               76668 non-null  object \n",
      " 81  Dependents              83059 non-null  object \n",
      " 82  SurveyLength            86984 non-null  object \n",
      " 83  SurveyEase              87081 non-null  object \n",
      "dtypes: float64(5), object(79)\n",
      "memory usage: 57.6+ MB\n"
     ]
    }
   ],
   "source": [
    "df_survey.info()        # 85 entries: 85 adet row (satır) | 1 columns: 1 adet column (eğer varsa, index column'u hariç)"
   ]
  },
  {
   "cell_type": "code",
   "execution_count": 14,
   "metadata": {},
   "outputs": [
    {
     "name": "stdout",
     "output_type": "stream",
     "text": [
      "<class 'pandas.core.frame.DataFrame'>\n",
      "Index: 85 entries, Respondent to SurveyEase\n",
      "Data columns (total 1 columns):\n",
      " #   Column        Non-Null Count  Dtype \n",
      "---  ------        --------------  ----- \n",
      " 0   QuestionText  85 non-null     object\n",
      "dtypes: object(1)\n",
      "memory usage: 3.4+ KB\n"
     ]
    }
   ],
   "source": [
    "df_schema.info()        # 88.883 entries: 88.883 adet row (satır) | 84 columns: 84 adet column (eğer varsa, index column'u hariç)"
   ]
  },
  {
   "cell_type": "markdown",
   "metadata": {},
   "source": [
    "### **🗣️ shape**"
   ]
  },
  {
   "cell_type": "markdown",
   "metadata": {},
   "source": [
    "    Bu metod bir data frame in yani tablonun kaç tane satırdan ve kaç tane sütundan oluştuğunu söyler:\n",
    "\n",
    "    ÖR: (x, y) --> x : number of rows, y : number of columns"
   ]
  },
  {
   "cell_type": "code",
   "execution_count": 15,
   "metadata": {},
   "outputs": [
    {
     "data": {
      "text/plain": [
       "(3, 3)"
      ]
     },
     "execution_count": 15,
     "metadata": {},
     "output_type": "execute_result"
    }
   ],
   "source": [
    "df_people.shape         # bu tablo 3 row ve 3 column'dan oluşmaktadır"
   ]
  },
  {
   "cell_type": "code",
   "execution_count": 16,
   "metadata": {},
   "outputs": [
    {
     "data": {
      "text/plain": [
       "(88883, 84)"
      ]
     },
     "execution_count": 16,
     "metadata": {},
     "output_type": "execute_result"
    }
   ],
   "source": [
    "df_survey.shape         # bu tablo 88.883 row ve 84 column'dan oluşmaktadır"
   ]
  },
  {
   "cell_type": "code",
   "execution_count": 17,
   "metadata": {},
   "outputs": [
    {
     "data": {
      "text/plain": [
       "(85, 1)"
      ]
     },
     "execution_count": 17,
     "metadata": {},
     "output_type": "execute_result"
    }
   ],
   "source": [
    "df_schema.shape         # bu tablo 85 row ve 1 column'dan oluşmaktadır"
   ]
  },
  {
   "cell_type": "markdown",
   "metadata": {},
   "source": [
    "### **🗣️ columns**"
   ]
  },
  {
   "cell_type": "markdown",
   "metadata": {},
   "source": [
    "    Bir tabloya ait column başlıklarını bir liste halinde bize sunar"
   ]
  },
  {
   "cell_type": "code",
   "execution_count": 18,
   "metadata": {},
   "outputs": [
    {
     "data": {
      "text/plain": [
       "Index(['first', 'last', 'email'], dtype='object')"
      ]
     },
     "execution_count": 18,
     "metadata": {},
     "output_type": "execute_result"
    }
   ],
   "source": [
    "df_people.columns"
   ]
  },
  {
   "cell_type": "code",
   "execution_count": 19,
   "metadata": {},
   "outputs": [
    {
     "data": {
      "text/plain": [
       "Index(['MainBranch', 'Hobbyist', 'OpenSourcer', 'OpenSource', 'Employment',\n",
       "       'Country', 'Student', 'EdLevel', 'UndergradMajor', 'EduOther',\n",
       "       'OrgSize', 'DevType', 'YearsCode', 'Age1stCode', 'YearsCodePro',\n",
       "       'CareerSat', 'JobSat', 'MgrIdiot', 'MgrMoney', 'MgrWant', 'JobSeek',\n",
       "       'LastHireDate', 'LastInt', 'FizzBuzz', 'JobFactors', 'ResumeUpdate',\n",
       "       'CurrencySymbol', 'CurrencyDesc', 'CompTotal', 'CompFreq',\n",
       "       'ConvertedComp', 'WorkWeekHrs', 'WorkPlan', 'WorkChallenge',\n",
       "       'WorkRemote', 'WorkLoc', 'ImpSyn', 'CodeRev', 'CodeRevHrs', 'UnitTests',\n",
       "       'PurchaseHow', 'PurchaseWhat', 'LanguageWorkedWith',\n",
       "       'LanguageDesireNextYear', 'DatabaseWorkedWith',\n",
       "       'DatabaseDesireNextYear', 'PlatformWorkedWith',\n",
       "       'PlatformDesireNextYear', 'WebFrameWorkedWith',\n",
       "       'WebFrameDesireNextYear', 'MiscTechWorkedWith',\n",
       "       'MiscTechDesireNextYear', 'DevEnviron', 'OpSys', 'Containers',\n",
       "       'BlockchainOrg', 'BlockchainIs', 'BetterLife', 'ITperson', 'OffOn',\n",
       "       'SocialMedia', 'Extraversion', 'ScreenName', 'SOVisit1st',\n",
       "       'SOVisitFreq', 'SOVisitTo', 'SOFindAnswer', 'SOTimeSaved',\n",
       "       'SOHowMuchTime', 'SOAccount', 'SOPartFreq', 'SOJobs', 'EntTeams',\n",
       "       'SOComm', 'WelcomeChange', 'SONewContent', 'Age', 'Gender', 'Trans',\n",
       "       'Sexuality', 'Ethnicity', 'Dependents', 'SurveyLength', 'SurveyEase'],\n",
       "      dtype='object')"
      ]
     },
     "execution_count": 19,
     "metadata": {},
     "output_type": "execute_result"
    }
   ],
   "source": [
    "df_survey.columns"
   ]
  },
  {
   "cell_type": "code",
   "execution_count": 20,
   "metadata": {},
   "outputs": [
    {
     "data": {
      "text/plain": [
       "Index(['QuestionText'], dtype='object')"
      ]
     },
     "execution_count": 20,
     "metadata": {},
     "output_type": "execute_result"
    }
   ],
   "source": [
    "df_schema.columns"
   ]
  },
  {
   "cell_type": "markdown",
   "metadata": {},
   "source": [
    "### **🗣️ head()**"
   ]
  },
  {
   "cell_type": "markdown",
   "metadata": {},
   "source": [
    "    Tablolarımız görselleştirirkne kaç tane row gözükmesini isitoyrsak onu head() komutunun içine yazarak belirleyebiliriz."
   ]
  },
  {
   "cell_type": "code",
   "execution_count": 21,
   "metadata": {},
   "outputs": [
    {
     "data": {
      "text/html": [
       "<div>\n",
       "<style scoped>\n",
       "    .dataframe tbody tr th:only-of-type {\n",
       "        vertical-align: middle;\n",
       "    }\n",
       "\n",
       "    .dataframe tbody tr th {\n",
       "        vertical-align: top;\n",
       "    }\n",
       "\n",
       "    .dataframe thead th {\n",
       "        text-align: right;\n",
       "    }\n",
       "</style>\n",
       "<table border=\"1\" class=\"dataframe\">\n",
       "  <thead>\n",
       "    <tr style=\"text-align: right;\">\n",
       "      <th></th>\n",
       "      <th>first</th>\n",
       "      <th>last</th>\n",
       "      <th>email</th>\n",
       "    </tr>\n",
       "  </thead>\n",
       "  <tbody>\n",
       "    <tr>\n",
       "      <th>0</th>\n",
       "      <td>Emre</td>\n",
       "      <td>Çakır</td>\n",
       "      <td>emrecakir@gmail.com</td>\n",
       "    </tr>\n",
       "    <tr>\n",
       "      <th>1</th>\n",
       "      <td>İrem</td>\n",
       "      <td>Çukurlu</td>\n",
       "      <td>iremcukurlu@email.com</td>\n",
       "    </tr>\n",
       "  </tbody>\n",
       "</table>\n",
       "</div>"
      ],
      "text/plain": [
       "  first     last                  email\n",
       "0  Emre    Çakır    emrecakir@gmail.com\n",
       "1  İrem  Çukurlu  iremcukurlu@email.com"
      ]
     },
     "execution_count": 21,
     "metadata": {},
     "output_type": "execute_result"
    }
   ],
   "source": [
    "df_people.head(2)           # bu kod, tablomuzun 2 satırının gözükmesini sağlar"
   ]
  },
  {
   "cell_type": "code",
   "execution_count": 22,
   "metadata": {},
   "outputs": [
    {
     "data": {
      "text/html": [
       "<div>\n",
       "<style scoped>\n",
       "    .dataframe tbody tr th:only-of-type {\n",
       "        vertical-align: middle;\n",
       "    }\n",
       "\n",
       "    .dataframe tbody tr th {\n",
       "        vertical-align: top;\n",
       "    }\n",
       "\n",
       "    .dataframe thead th {\n",
       "        text-align: right;\n",
       "    }\n",
       "</style>\n",
       "<table border=\"1\" class=\"dataframe\">\n",
       "  <thead>\n",
       "    <tr style=\"text-align: right;\">\n",
       "      <th></th>\n",
       "      <th>MainBranch</th>\n",
       "      <th>Hobbyist</th>\n",
       "      <th>...</th>\n",
       "      <th>SurveyLength</th>\n",
       "      <th>SurveyEase</th>\n",
       "    </tr>\n",
       "    <tr>\n",
       "      <th>Respondent</th>\n",
       "      <th></th>\n",
       "      <th></th>\n",
       "      <th></th>\n",
       "      <th></th>\n",
       "      <th></th>\n",
       "    </tr>\n",
       "  </thead>\n",
       "  <tbody>\n",
       "    <tr>\n",
       "      <th>1</th>\n",
       "      <td>I am a student who is learning to code</td>\n",
       "      <td>Yes</td>\n",
       "      <td>...</td>\n",
       "      <td>Appropriate in length</td>\n",
       "      <td>Neither easy nor difficult</td>\n",
       "    </tr>\n",
       "    <tr>\n",
       "      <th>2</th>\n",
       "      <td>I am a student who is learning to code</td>\n",
       "      <td>No</td>\n",
       "      <td>...</td>\n",
       "      <td>Appropriate in length</td>\n",
       "      <td>Neither easy nor difficult</td>\n",
       "    </tr>\n",
       "    <tr>\n",
       "      <th>3</th>\n",
       "      <td>I am not primarily a developer, but I write co...</td>\n",
       "      <td>Yes</td>\n",
       "      <td>...</td>\n",
       "      <td>Appropriate in length</td>\n",
       "      <td>Neither easy nor difficult</td>\n",
       "    </tr>\n",
       "    <tr>\n",
       "      <th>4</th>\n",
       "      <td>I am a developer by profession</td>\n",
       "      <td>No</td>\n",
       "      <td>...</td>\n",
       "      <td>Appropriate in length</td>\n",
       "      <td>Easy</td>\n",
       "    </tr>\n",
       "    <tr>\n",
       "      <th>5</th>\n",
       "      <td>I am a developer by profession</td>\n",
       "      <td>Yes</td>\n",
       "      <td>...</td>\n",
       "      <td>Appropriate in length</td>\n",
       "      <td>Easy</td>\n",
       "    </tr>\n",
       "  </tbody>\n",
       "</table>\n",
       "<p>5 rows × 84 columns</p>\n",
       "</div>"
      ],
      "text/plain": [
       "                                                   MainBranch Hobbyist  ...  \\\n",
       "Respondent                                                              ...   \n",
       "1                      I am a student who is learning to code      Yes  ...   \n",
       "2                      I am a student who is learning to code       No  ...   \n",
       "3           I am not primarily a developer, but I write co...      Yes  ...   \n",
       "4                              I am a developer by profession       No  ...   \n",
       "5                              I am a developer by profession      Yes  ...   \n",
       "\n",
       "                     SurveyLength                  SurveyEase  \n",
       "Respondent                                                     \n",
       "1           Appropriate in length  Neither easy nor difficult  \n",
       "2           Appropriate in length  Neither easy nor difficult  \n",
       "3           Appropriate in length  Neither easy nor difficult  \n",
       "4           Appropriate in length                        Easy  \n",
       "5           Appropriate in length                        Easy  \n",
       "\n",
       "[5 rows x 84 columns]"
      ]
     },
     "execution_count": 22,
     "metadata": {},
     "output_type": "execute_result"
    }
   ],
   "source": [
    "df_survey.head(5)           # bu kod, tablomuzun 5 satırının gözükmesini sağlar"
   ]
  },
  {
   "cell_type": "code",
   "execution_count": 23,
   "metadata": {},
   "outputs": [
    {
     "data": {
      "text/html": [
       "<div>\n",
       "<style scoped>\n",
       "    .dataframe tbody tr th:only-of-type {\n",
       "        vertical-align: middle;\n",
       "    }\n",
       "\n",
       "    .dataframe tbody tr th {\n",
       "        vertical-align: top;\n",
       "    }\n",
       "\n",
       "    .dataframe thead th {\n",
       "        text-align: right;\n",
       "    }\n",
       "</style>\n",
       "<table border=\"1\" class=\"dataframe\">\n",
       "  <thead>\n",
       "    <tr style=\"text-align: right;\">\n",
       "      <th></th>\n",
       "      <th>QuestionText</th>\n",
       "    </tr>\n",
       "    <tr>\n",
       "      <th>Column</th>\n",
       "      <th></th>\n",
       "    </tr>\n",
       "  </thead>\n",
       "  <tbody>\n",
       "    <tr>\n",
       "      <th>Respondent</th>\n",
       "      <td>Randomized respondent ID number (not in order ...</td>\n",
       "    </tr>\n",
       "    <tr>\n",
       "      <th>MainBranch</th>\n",
       "      <td>Which of the following options best describes ...</td>\n",
       "    </tr>\n",
       "    <tr>\n",
       "      <th>Hobbyist</th>\n",
       "      <td>Do you code as a hobby?</td>\n",
       "    </tr>\n",
       "  </tbody>\n",
       "</table>\n",
       "</div>"
      ],
      "text/plain": [
       "                                                 QuestionText\n",
       "Column                                                       \n",
       "Respondent  Randomized respondent ID number (not in order ...\n",
       "MainBranch  Which of the following options best describes ...\n",
       "Hobbyist                              Do you code as a hobby?"
      ]
     },
     "execution_count": 23,
     "metadata": {},
     "output_type": "execute_result"
    }
   ],
   "source": [
    "df_schema.head(3)           # bu kod, tablomuzun 3 satırının gözükmesini sağlar"
   ]
  },
  {
   "cell_type": "markdown",
   "metadata": {
    "jp-MarkdownHeadingCollapsed": true
   },
   "source": [
    "## **▶️▶️ 3.7 iloc() ve loc() Metodlar**"
   ]
  },
  {
   "cell_type": "markdown",
   "metadata": {},
   "source": [
    "    loc() ve iloc() metodlarını kullanarak tabloların row'larına ulaşım sağlıyoruz. Örneğin şehirlerin hava durumlarının olduğu bir tabloda 4. row'daki yani satırdaki Manisa'nın cumartesi günü kaç derece olduğunu öğrenebiliriz."
   ]
  },
  {
   "cell_type": "markdown",
   "metadata": {},
   "source": [
    "### **🗣️ iloc() - _integer location_**"
   ]
  },
  {
   "cell_type": "markdown",
   "metadata": {},
   "source": [
    "    Yukarıda bahsedilen tanımı uygularken yalnızca integer kullanılan yöntemdir. Yani location kullanarak bir row'a ulaşacaksan bu row'un kaçıncı indekste olduğunu bilmemiz gerekiyor."
   ]
  },
  {
   "cell_type": "code",
   "execution_count": 24,
   "metadata": {},
   "outputs": [
    {
     "name": "stdout",
     "output_type": "stream",
     "text": [
      "     first     last                     email\n",
      "0     Emre    Çakır       emrecakir@gmail.com\n",
      "1     İrem  Çukurlu     iremcukurlu@email.com\n",
      "2  Süheyla  Çukurlu  suheylacukurlu@email.com\n"
     ]
    }
   ],
   "source": [
    "print(df_people)"
   ]
  },
  {
   "cell_type": "code",
   "execution_count": 25,
   "metadata": {},
   "outputs": [
    {
     "data": {
      "text/html": [
       "<div>\n",
       "<style scoped>\n",
       "    .dataframe tbody tr th:only-of-type {\n",
       "        vertical-align: middle;\n",
       "    }\n",
       "\n",
       "    .dataframe tbody tr th {\n",
       "        vertical-align: top;\n",
       "    }\n",
       "\n",
       "    .dataframe thead th {\n",
       "        text-align: right;\n",
       "    }\n",
       "</style>\n",
       "<table border=\"1\" class=\"dataframe\">\n",
       "  <thead>\n",
       "    <tr style=\"text-align: right;\">\n",
       "      <th></th>\n",
       "      <th>MainBranch</th>\n",
       "      <th>Hobbyist</th>\n",
       "      <th>...</th>\n",
       "      <th>SurveyLength</th>\n",
       "      <th>SurveyEase</th>\n",
       "    </tr>\n",
       "    <tr>\n",
       "      <th>Respondent</th>\n",
       "      <th></th>\n",
       "      <th></th>\n",
       "      <th></th>\n",
       "      <th></th>\n",
       "      <th></th>\n",
       "    </tr>\n",
       "  </thead>\n",
       "  <tbody>\n",
       "    <tr>\n",
       "      <th>1</th>\n",
       "      <td>I am a student who is learning to code</td>\n",
       "      <td>Yes</td>\n",
       "      <td>...</td>\n",
       "      <td>Appropriate in length</td>\n",
       "      <td>Neither easy nor difficult</td>\n",
       "    </tr>\n",
       "    <tr>\n",
       "      <th>2</th>\n",
       "      <td>I am a student who is learning to code</td>\n",
       "      <td>No</td>\n",
       "      <td>...</td>\n",
       "      <td>Appropriate in length</td>\n",
       "      <td>Neither easy nor difficult</td>\n",
       "    </tr>\n",
       "    <tr>\n",
       "      <th>3</th>\n",
       "      <td>I am not primarily a developer, but I write co...</td>\n",
       "      <td>Yes</td>\n",
       "      <td>...</td>\n",
       "      <td>Appropriate in length</td>\n",
       "      <td>Neither easy nor difficult</td>\n",
       "    </tr>\n",
       "  </tbody>\n",
       "</table>\n",
       "<p>3 rows × 84 columns</p>\n",
       "</div>"
      ],
      "text/plain": [
       "                                                   MainBranch Hobbyist  ...  \\\n",
       "Respondent                                                              ...   \n",
       "1                      I am a student who is learning to code      Yes  ...   \n",
       "2                      I am a student who is learning to code       No  ...   \n",
       "3           I am not primarily a developer, but I write co...      Yes  ...   \n",
       "\n",
       "                     SurveyLength                  SurveyEase  \n",
       "Respondent                                                     \n",
       "1           Appropriate in length  Neither easy nor difficult  \n",
       "2           Appropriate in length  Neither easy nor difficult  \n",
       "3           Appropriate in length  Neither easy nor difficult  \n",
       "\n",
       "[3 rows x 84 columns]"
      ]
     },
     "execution_count": 25,
     "metadata": {},
     "output_type": "execute_result"
    }
   ],
   "source": [
    "df_survey.head(3)"
   ]
  },
  {
   "cell_type": "code",
   "execution_count": 26,
   "metadata": {},
   "outputs": [
    {
     "data": {
      "text/html": [
       "<div>\n",
       "<style scoped>\n",
       "    .dataframe tbody tr th:only-of-type {\n",
       "        vertical-align: middle;\n",
       "    }\n",
       "\n",
       "    .dataframe tbody tr th {\n",
       "        vertical-align: top;\n",
       "    }\n",
       "\n",
       "    .dataframe thead th {\n",
       "        text-align: right;\n",
       "    }\n",
       "</style>\n",
       "<table border=\"1\" class=\"dataframe\">\n",
       "  <thead>\n",
       "    <tr style=\"text-align: right;\">\n",
       "      <th></th>\n",
       "      <th>QuestionText</th>\n",
       "    </tr>\n",
       "    <tr>\n",
       "      <th>Column</th>\n",
       "      <th></th>\n",
       "    </tr>\n",
       "  </thead>\n",
       "  <tbody>\n",
       "    <tr>\n",
       "      <th>Respondent</th>\n",
       "      <td>Randomized respondent ID number (not in order ...</td>\n",
       "    </tr>\n",
       "    <tr>\n",
       "      <th>MainBranch</th>\n",
       "      <td>Which of the following options best describes ...</td>\n",
       "    </tr>\n",
       "    <tr>\n",
       "      <th>Hobbyist</th>\n",
       "      <td>Do you code as a hobby?</td>\n",
       "    </tr>\n",
       "  </tbody>\n",
       "</table>\n",
       "</div>"
      ],
      "text/plain": [
       "                                                 QuestionText\n",
       "Column                                                       \n",
       "Respondent  Randomized respondent ID number (not in order ...\n",
       "MainBranch  Which of the following options best describes ...\n",
       "Hobbyist                              Do you code as a hobby?"
      ]
     },
     "execution_count": 26,
     "metadata": {},
     "output_type": "execute_result"
    }
   ],
   "source": [
    "df_schema.head(3)"
   ]
  },
  {
   "cell_type": "code",
   "execution_count": 27,
   "metadata": {},
   "outputs": [
    {
     "data": {
      "text/plain": [
       "first                     İrem\n",
       "last                   Çukurlu\n",
       "email    iremcukurlu@email.com\n",
       "Name: 1, dtype: object"
      ]
     },
     "execution_count": 27,
     "metadata": {},
     "output_type": "execute_result"
    }
   ],
   "source": [
    "# Örneğin aşağıda people isimli tablonun sıfırıncı indexinde yer alan İrem Çukurlu'ya ait tüm bilgiler verilmiştir.\n",
    "\n",
    "df_people.iloc[1]"
   ]
  },
  {
   "cell_type": "code",
   "execution_count": 28,
   "metadata": {},
   "outputs": [
    {
     "data": {
      "text/plain": [
       "MainBranch                         I am a developer by profession\n",
       "Hobbyist                                                       No\n",
       "OpenSourcer                                                 Never\n",
       "OpenSource      The quality of OSS and closed source software ...\n",
       "Employment                                     Employed full-time\n",
       "                                      ...                        \n",
       "Sexuality                                 Straight / Heterosexual\n",
       "Ethnicity                            White or of European descent\n",
       "Dependents                                                     No\n",
       "SurveyLength                                Appropriate in length\n",
       "SurveyEase                                                   Easy\n",
       "Name: 4, Length: 84, dtype: object"
      ]
     },
     "execution_count": 28,
     "metadata": {},
     "output_type": "execute_result"
    }
   ],
   "source": [
    "# Örneğin aşağıda survey isimli tabloda yer alan 3. satırdaki kişinin ankette verdiği tüm cevapları yer almaktadır.\n",
    "\n",
    "df_survey.iloc[3]"
   ]
  },
  {
   "cell_type": "code",
   "execution_count": 29,
   "metadata": {},
   "outputs": [
    {
     "data": {
      "text/plain": [
       "QuestionText    Which of the following options best describes ...\n",
       "Name: MainBranch, dtype: object"
      ]
     },
     "execution_count": 29,
     "metadata": {},
     "output_type": "execute_result"
    }
   ],
   "source": [
    "# Örneğin schema isimli tabloda 1. indexte yer alan \"MainBranch\" yer almaktadır.\n",
    "\n",
    "df_schema.iloc[1]"
   ]
  },
  {
   "cell_type": "markdown",
   "metadata": {},
   "source": [
    "    🔔 iloc() kullanırken integer kullanmak zorunda olduğumuz söyledik. İloc çağırarak elde eltteğimiz veri zerinden başka bilgilere de ulaşmak mümkün elbette. Örneğin son örnekte df_schema'ya ait olan QuestionText karşısında ne yazdığını tam göremiyoruz yerin dar olması sebebiyle. Fakat onu şu şekilde görüntülemek mümkün:"
   ]
  },
  {
   "cell_type": "code",
   "execution_count": 30,
   "metadata": {},
   "outputs": [
    {
     "data": {
      "text/plain": [
       "'Which of the following options best describes you today? Here, by \"developer\" we mean \"someone who writes code.\"'"
      ]
     },
     "execution_count": 30,
     "metadata": {},
     "output_type": "execute_result"
    }
   ],
   "source": [
    "df_schema.iloc[1][\"QuestionText\"]"
   ]
  },
  {
   "cell_type": "markdown",
   "metadata": {},
   "source": [
    "    🔔 Burada da survey tablosunda 3. kişiye ait cevaplardan \"SurveyLength\" isimli bilgiyi yazdıralım:"
   ]
  },
  {
   "cell_type": "code",
   "execution_count": 31,
   "metadata": {},
   "outputs": [
    {
     "data": {
      "text/plain": [
       "'Appropriate in length'"
      ]
     },
     "execution_count": 31,
     "metadata": {},
     "output_type": "execute_result"
    }
   ],
   "source": [
    "df_survey.iloc[3][\"SurveyLength\"]"
   ]
  },
  {
   "cell_type": "markdown",
   "metadata": {},
   "source": [
    "    🔔 Ya da people tablosunda 1. satırda yer yalan İrem Çukurlu'nun sadece \"email\" adresini ekrana getirebiliriz:"
   ]
  },
  {
   "cell_type": "code",
   "execution_count": 32,
   "metadata": {},
   "outputs": [
    {
     "data": {
      "text/plain": [
       "'iremcukurlu@email.com'"
      ]
     },
     "execution_count": 32,
     "metadata": {},
     "output_type": "execute_result"
    }
   ],
   "source": [
    "df_people.iloc[1][\"email\"]"
   ]
  },
  {
   "cell_type": "markdown",
   "metadata": {},
   "source": [
    "    🔔🔔 Ayrıca iloc() kullanırken illa tek bir row yani tek bir satır hakkında bilgi yazdırmak zorunda değiliz. Aynı anda birden fazla row yazdırmak mümkün. Ayrıca slicing de yapılabilir.\n",
    "\n",
    "    Mesela aşağıda survey tablosunda yer alan 3 ve 4. rowları yazdırdık (indexler sıfırdan başlarken \"Respondent\" isimli column'da 1'den başlıyor. Onu karıştırmamak lazım. iloc() kullanırken index'lere göre hareket edilir)\n",
    "\n",
    "    Ayrıca dikkat edilmesi gereken ikinci nokta, birden fazla değer girebilmek için parantez içerisinde bir köşeli parantez daha açmaya ihtiyaç duyarız."
   ]
  },
  {
   "cell_type": "code",
   "execution_count": 33,
   "metadata": {},
   "outputs": [
    {
     "data": {
      "text/html": [
       "<div>\n",
       "<style scoped>\n",
       "    .dataframe tbody tr th:only-of-type {\n",
       "        vertical-align: middle;\n",
       "    }\n",
       "\n",
       "    .dataframe tbody tr th {\n",
       "        vertical-align: top;\n",
       "    }\n",
       "\n",
       "    .dataframe thead th {\n",
       "        text-align: right;\n",
       "    }\n",
       "</style>\n",
       "<table border=\"1\" class=\"dataframe\">\n",
       "  <thead>\n",
       "    <tr style=\"text-align: right;\">\n",
       "      <th></th>\n",
       "      <th>MainBranch</th>\n",
       "      <th>Hobbyist</th>\n",
       "      <th>...</th>\n",
       "      <th>SurveyLength</th>\n",
       "      <th>SurveyEase</th>\n",
       "    </tr>\n",
       "    <tr>\n",
       "      <th>Respondent</th>\n",
       "      <th></th>\n",
       "      <th></th>\n",
       "      <th></th>\n",
       "      <th></th>\n",
       "      <th></th>\n",
       "    </tr>\n",
       "  </thead>\n",
       "  <tbody>\n",
       "    <tr>\n",
       "      <th>4</th>\n",
       "      <td>I am a developer by profession</td>\n",
       "      <td>No</td>\n",
       "      <td>...</td>\n",
       "      <td>Appropriate in length</td>\n",
       "      <td>Easy</td>\n",
       "    </tr>\n",
       "    <tr>\n",
       "      <th>5</th>\n",
       "      <td>I am a developer by profession</td>\n",
       "      <td>Yes</td>\n",
       "      <td>...</td>\n",
       "      <td>Appropriate in length</td>\n",
       "      <td>Easy</td>\n",
       "    </tr>\n",
       "  </tbody>\n",
       "</table>\n",
       "<p>2 rows × 84 columns</p>\n",
       "</div>"
      ],
      "text/plain": [
       "                                MainBranch Hobbyist  ...  \\\n",
       "Respondent                                           ...   \n",
       "4           I am a developer by profession       No  ...   \n",
       "5           I am a developer by profession      Yes  ...   \n",
       "\n",
       "                     SurveyLength SurveyEase  \n",
       "Respondent                                    \n",
       "4           Appropriate in length       Easy  \n",
       "5           Appropriate in length       Easy  \n",
       "\n",
       "[2 rows x 84 columns]"
      ]
     },
     "execution_count": 33,
     "metadata": {},
     "output_type": "execute_result"
    }
   ],
   "source": [
    "df_survey.iloc[[3, 4]]"
   ]
  },
  {
   "cell_type": "code",
   "execution_count": 34,
   "metadata": {},
   "outputs": [
    {
     "data": {
      "text/html": [
       "<div>\n",
       "<style scoped>\n",
       "    .dataframe tbody tr th:only-of-type {\n",
       "        vertical-align: middle;\n",
       "    }\n",
       "\n",
       "    .dataframe tbody tr th {\n",
       "        vertical-align: top;\n",
       "    }\n",
       "\n",
       "    .dataframe thead th {\n",
       "        text-align: right;\n",
       "    }\n",
       "</style>\n",
       "<table border=\"1\" class=\"dataframe\">\n",
       "  <thead>\n",
       "    <tr style=\"text-align: right;\">\n",
       "      <th></th>\n",
       "      <th>MainBranch</th>\n",
       "      <th>Hobbyist</th>\n",
       "      <th>...</th>\n",
       "      <th>SurveyLength</th>\n",
       "      <th>SurveyEase</th>\n",
       "    </tr>\n",
       "    <tr>\n",
       "      <th>Respondent</th>\n",
       "      <th></th>\n",
       "      <th></th>\n",
       "      <th></th>\n",
       "      <th></th>\n",
       "      <th></th>\n",
       "    </tr>\n",
       "  </thead>\n",
       "  <tbody>\n",
       "    <tr>\n",
       "      <th>4</th>\n",
       "      <td>I am a developer by profession</td>\n",
       "      <td>No</td>\n",
       "      <td>...</td>\n",
       "      <td>Appropriate in length</td>\n",
       "      <td>Easy</td>\n",
       "    </tr>\n",
       "    <tr>\n",
       "      <th>5</th>\n",
       "      <td>I am a developer by profession</td>\n",
       "      <td>Yes</td>\n",
       "      <td>...</td>\n",
       "      <td>Appropriate in length</td>\n",
       "      <td>Easy</td>\n",
       "    </tr>\n",
       "    <tr>\n",
       "      <th>8</th>\n",
       "      <td>I code primarily as a hobby</td>\n",
       "      <td>Yes</td>\n",
       "      <td>...</td>\n",
       "      <td>Appropriate in length</td>\n",
       "      <td>Neither easy nor difficult</td>\n",
       "    </tr>\n",
       "  </tbody>\n",
       "</table>\n",
       "<p>3 rows × 84 columns</p>\n",
       "</div>"
      ],
      "text/plain": [
       "                                MainBranch Hobbyist  ...  \\\n",
       "Respondent                                           ...   \n",
       "4           I am a developer by profession       No  ...   \n",
       "5           I am a developer by profession      Yes  ...   \n",
       "8              I code primarily as a hobby      Yes  ...   \n",
       "\n",
       "                     SurveyLength                  SurveyEase  \n",
       "Respondent                                                     \n",
       "4           Appropriate in length                        Easy  \n",
       "5           Appropriate in length                        Easy  \n",
       "8           Appropriate in length  Neither easy nor difficult  \n",
       "\n",
       "[3 rows x 84 columns]"
      ]
     },
     "execution_count": 34,
     "metadata": {},
     "output_type": "execute_result"
    }
   ],
   "source": [
    "# aşağıda aynı anda 3 eleman görüntüledik:\n",
    "\n",
    "df_survey.iloc[[3, 4, 7]]"
   ]
  },
  {
   "cell_type": "code",
   "execution_count": 35,
   "metadata": {},
   "outputs": [
    {
     "data": {
      "text/html": [
       "<div>\n",
       "<style scoped>\n",
       "    .dataframe tbody tr th:only-of-type {\n",
       "        vertical-align: middle;\n",
       "    }\n",
       "\n",
       "    .dataframe tbody tr th {\n",
       "        vertical-align: top;\n",
       "    }\n",
       "\n",
       "    .dataframe thead th {\n",
       "        text-align: right;\n",
       "    }\n",
       "</style>\n",
       "<table border=\"1\" class=\"dataframe\">\n",
       "  <thead>\n",
       "    <tr style=\"text-align: right;\">\n",
       "      <th></th>\n",
       "      <th>MainBranch</th>\n",
       "      <th>Hobbyist</th>\n",
       "      <th>...</th>\n",
       "      <th>SurveyLength</th>\n",
       "      <th>SurveyEase</th>\n",
       "    </tr>\n",
       "    <tr>\n",
       "      <th>Respondent</th>\n",
       "      <th></th>\n",
       "      <th></th>\n",
       "      <th></th>\n",
       "      <th></th>\n",
       "      <th></th>\n",
       "    </tr>\n",
       "  </thead>\n",
       "  <tbody>\n",
       "    <tr>\n",
       "      <th>4</th>\n",
       "      <td>I am a developer by profession</td>\n",
       "      <td>No</td>\n",
       "      <td>...</td>\n",
       "      <td>Appropriate in length</td>\n",
       "      <td>Easy</td>\n",
       "    </tr>\n",
       "    <tr>\n",
       "      <th>5</th>\n",
       "      <td>I am a developer by profession</td>\n",
       "      <td>Yes</td>\n",
       "      <td>...</td>\n",
       "      <td>Appropriate in length</td>\n",
       "      <td>Easy</td>\n",
       "    </tr>\n",
       "    <tr>\n",
       "      <th>6</th>\n",
       "      <td>I am not primarily a developer, but I write co...</td>\n",
       "      <td>Yes</td>\n",
       "      <td>...</td>\n",
       "      <td>Too long</td>\n",
       "      <td>Neither easy nor difficult</td>\n",
       "    </tr>\n",
       "    <tr>\n",
       "      <th>7</th>\n",
       "      <td>I am a developer by profession</td>\n",
       "      <td>No</td>\n",
       "      <td>...</td>\n",
       "      <td>Appropriate in length</td>\n",
       "      <td>Neither easy nor difficult</td>\n",
       "    </tr>\n",
       "  </tbody>\n",
       "</table>\n",
       "<p>4 rows × 84 columns</p>\n",
       "</div>"
      ],
      "text/plain": [
       "                                                   MainBranch Hobbyist  ...  \\\n",
       "Respondent                                                              ...   \n",
       "4                              I am a developer by profession       No  ...   \n",
       "5                              I am a developer by profession      Yes  ...   \n",
       "6           I am not primarily a developer, but I write co...      Yes  ...   \n",
       "7                              I am a developer by profession       No  ...   \n",
       "\n",
       "                     SurveyLength                  SurveyEase  \n",
       "Respondent                                                     \n",
       "4           Appropriate in length                        Easy  \n",
       "5           Appropriate in length                        Easy  \n",
       "6                        Too long  Neither easy nor difficult  \n",
       "7           Appropriate in length  Neither easy nor difficult  \n",
       "\n",
       "[4 rows x 84 columns]"
      ]
     },
     "execution_count": 35,
     "metadata": {},
     "output_type": "execute_result"
    }
   ],
   "source": [
    "# aşağıda ise slicing metodunu kullanarak 3 ile 7 arasındaki tüm row'ları yazdırabilriiz:\n",
    "\n",
    "df_survey.iloc[3:7]"
   ]
  },
  {
   "cell_type": "code",
   "execution_count": 36,
   "metadata": {},
   "outputs": [
    {
     "data": {
      "text/html": [
       "<div>\n",
       "<style scoped>\n",
       "    .dataframe tbody tr th:only-of-type {\n",
       "        vertical-align: middle;\n",
       "    }\n",
       "\n",
       "    .dataframe tbody tr th {\n",
       "        vertical-align: top;\n",
       "    }\n",
       "\n",
       "    .dataframe thead th {\n",
       "        text-align: right;\n",
       "    }\n",
       "</style>\n",
       "<table border=\"1\" class=\"dataframe\">\n",
       "  <thead>\n",
       "    <tr style=\"text-align: right;\">\n",
       "      <th></th>\n",
       "      <th>MainBranch</th>\n",
       "      <th>Hobbyist</th>\n",
       "      <th>...</th>\n",
       "      <th>SurveyLength</th>\n",
       "      <th>SurveyEase</th>\n",
       "    </tr>\n",
       "    <tr>\n",
       "      <th>Respondent</th>\n",
       "      <th></th>\n",
       "      <th></th>\n",
       "      <th></th>\n",
       "      <th></th>\n",
       "      <th></th>\n",
       "    </tr>\n",
       "  </thead>\n",
       "  <tbody>\n",
       "    <tr>\n",
       "      <th>2</th>\n",
       "      <td>I am a student who is learning to code</td>\n",
       "      <td>No</td>\n",
       "      <td>...</td>\n",
       "      <td>Appropriate in length</td>\n",
       "      <td>Neither easy nor difficult</td>\n",
       "    </tr>\n",
       "    <tr>\n",
       "      <th>3</th>\n",
       "      <td>I am not primarily a developer, but I write co...</td>\n",
       "      <td>Yes</td>\n",
       "      <td>...</td>\n",
       "      <td>Appropriate in length</td>\n",
       "      <td>Neither easy nor difficult</td>\n",
       "    </tr>\n",
       "    <tr>\n",
       "      <th>4</th>\n",
       "      <td>I am a developer by profession</td>\n",
       "      <td>No</td>\n",
       "      <td>...</td>\n",
       "      <td>Appropriate in length</td>\n",
       "      <td>Easy</td>\n",
       "    </tr>\n",
       "    <tr>\n",
       "      <th>5</th>\n",
       "      <td>I am a developer by profession</td>\n",
       "      <td>Yes</td>\n",
       "      <td>...</td>\n",
       "      <td>Appropriate in length</td>\n",
       "      <td>Easy</td>\n",
       "    </tr>\n",
       "    <tr>\n",
       "      <th>6</th>\n",
       "      <td>I am not primarily a developer, but I write co...</td>\n",
       "      <td>Yes</td>\n",
       "      <td>...</td>\n",
       "      <td>Too long</td>\n",
       "      <td>Neither easy nor difficult</td>\n",
       "    </tr>\n",
       "    <tr>\n",
       "      <th>...</th>\n",
       "      <td>...</td>\n",
       "      <td>...</td>\n",
       "      <td>...</td>\n",
       "      <td>...</td>\n",
       "      <td>...</td>\n",
       "    </tr>\n",
       "    <tr>\n",
       "      <th>999</th>\n",
       "      <td>I am a developer by profession</td>\n",
       "      <td>Yes</td>\n",
       "      <td>...</td>\n",
       "      <td>Appropriate in length</td>\n",
       "      <td>Easy</td>\n",
       "    </tr>\n",
       "    <tr>\n",
       "      <th>1000</th>\n",
       "      <td>I am a developer by profession</td>\n",
       "      <td>Yes</td>\n",
       "      <td>...</td>\n",
       "      <td>Appropriate in length</td>\n",
       "      <td>Easy</td>\n",
       "    </tr>\n",
       "    <tr>\n",
       "      <th>1001</th>\n",
       "      <td>I am a developer by profession</td>\n",
       "      <td>Yes</td>\n",
       "      <td>...</td>\n",
       "      <td>Appropriate in length</td>\n",
       "      <td>Easy</td>\n",
       "    </tr>\n",
       "    <tr>\n",
       "      <th>1002</th>\n",
       "      <td>I am a student who is learning to code</td>\n",
       "      <td>No</td>\n",
       "      <td>...</td>\n",
       "      <td>Too long</td>\n",
       "      <td>Neither easy nor difficult</td>\n",
       "    </tr>\n",
       "    <tr>\n",
       "      <th>1003</th>\n",
       "      <td>I code primarily as a hobby</td>\n",
       "      <td>Yes</td>\n",
       "      <td>...</td>\n",
       "      <td>Too long</td>\n",
       "      <td>Neither easy nor difficult</td>\n",
       "    </tr>\n",
       "  </tbody>\n",
       "</table>\n",
       "<p>999 rows × 84 columns</p>\n",
       "</div>"
      ],
      "text/plain": [
       "                                                   MainBranch Hobbyist  ...  \\\n",
       "Respondent                                                              ...   \n",
       "2                      I am a student who is learning to code       No  ...   \n",
       "3           I am not primarily a developer, but I write co...      Yes  ...   \n",
       "4                              I am a developer by profession       No  ...   \n",
       "5                              I am a developer by profession      Yes  ...   \n",
       "6           I am not primarily a developer, but I write co...      Yes  ...   \n",
       "...                                                       ...      ...  ...   \n",
       "999                            I am a developer by profession      Yes  ...   \n",
       "1000                           I am a developer by profession      Yes  ...   \n",
       "1001                           I am a developer by profession      Yes  ...   \n",
       "1002                   I am a student who is learning to code       No  ...   \n",
       "1003                              I code primarily as a hobby      Yes  ...   \n",
       "\n",
       "                     SurveyLength                  SurveyEase  \n",
       "Respondent                                                     \n",
       "2           Appropriate in length  Neither easy nor difficult  \n",
       "3           Appropriate in length  Neither easy nor difficult  \n",
       "4           Appropriate in length                        Easy  \n",
       "5           Appropriate in length                        Easy  \n",
       "6                        Too long  Neither easy nor difficult  \n",
       "...                           ...                         ...  \n",
       "999         Appropriate in length                        Easy  \n",
       "1000        Appropriate in length                        Easy  \n",
       "1001        Appropriate in length                        Easy  \n",
       "1002                     Too long  Neither easy nor difficult  \n",
       "1003                     Too long  Neither easy nor difficult  \n",
       "\n",
       "[999 rows x 84 columns]"
      ]
     },
     "execution_count": 36,
     "metadata": {},
     "output_type": "execute_result"
    }
   ],
   "source": [
    "df_survey.iloc[1:1000]          # indexler ile \"Respondent\" karıştırılmasın. iloc ve loc indexleri baz alır."
   ]
  },
  {
   "cell_type": "markdown",
   "metadata": {},
   "source": [
    "    🔔🔔 Ayrıca iloc() kullanarak row'ları yazdırırken işin içine column'ları da dahil edebiliriz:\n",
    "\n",
    "    Örneğin bir önceki örnekte görültüğü gibi survey isimli tablodaki 16. indexte yer alan kişi  (Respondent: 17) MainBranch'a \"I am a developer by profession\" diye cevap vermiş. O cevaba basitçe ulabilmek mümkün:\n"
   ]
  },
  {
   "cell_type": "code",
   "execution_count": 37,
   "metadata": {},
   "outputs": [
    {
     "data": {
      "text/plain": [
       "'I am a developer by profession'"
      ]
     },
     "execution_count": 37,
     "metadata": {},
     "output_type": "execute_result"
    }
   ],
   "source": [
    "df_survey.iloc[16, 0]"
   ]
  },
  {
   "cell_type": "code",
   "execution_count": 38,
   "metadata": {},
   "outputs": [
    {
     "data": {
      "text/html": [
       "<div>\n",
       "<style scoped>\n",
       "    .dataframe tbody tr th:only-of-type {\n",
       "        vertical-align: middle;\n",
       "    }\n",
       "\n",
       "    .dataframe tbody tr th {\n",
       "        vertical-align: top;\n",
       "    }\n",
       "\n",
       "    .dataframe thead th {\n",
       "        text-align: right;\n",
       "    }\n",
       "</style>\n",
       "<table border=\"1\" class=\"dataframe\">\n",
       "  <thead>\n",
       "    <tr style=\"text-align: right;\">\n",
       "      <th></th>\n",
       "      <th>first</th>\n",
       "      <th>last</th>\n",
       "      <th>email</th>\n",
       "    </tr>\n",
       "  </thead>\n",
       "  <tbody>\n",
       "    <tr>\n",
       "      <th>0</th>\n",
       "      <td>Emre</td>\n",
       "      <td>Çakır</td>\n",
       "      <td>emrecakir@gmail.com</td>\n",
       "    </tr>\n",
       "    <tr>\n",
       "      <th>1</th>\n",
       "      <td>İrem</td>\n",
       "      <td>Çukurlu</td>\n",
       "      <td>iremcukurlu@email.com</td>\n",
       "    </tr>\n",
       "    <tr>\n",
       "      <th>2</th>\n",
       "      <td>Süheyla</td>\n",
       "      <td>Çukurlu</td>\n",
       "      <td>suheylacukurlu@email.com</td>\n",
       "    </tr>\n",
       "  </tbody>\n",
       "</table>\n",
       "</div>"
      ],
      "text/plain": [
       "     first     last                     email\n",
       "0     Emre    Çakır       emrecakir@gmail.com\n",
       "1     İrem  Çukurlu     iremcukurlu@email.com\n",
       "2  Süheyla  Çukurlu  suheylacukurlu@email.com"
      ]
     },
     "execution_count": 38,
     "metadata": {},
     "output_type": "execute_result"
    }
   ],
   "source": [
    "df_people"
   ]
  },
  {
   "cell_type": "code",
   "execution_count": 39,
   "metadata": {},
   "outputs": [
    {
     "data": {
      "text/plain": [
       "first                     Süheyla\n",
       "last                      Çukurlu\n",
       "email    suheylacukurlu@email.com\n",
       "Name: 2, dtype: object"
      ]
     },
     "execution_count": 39,
     "metadata": {},
     "output_type": "execute_result"
    }
   ],
   "source": [
    "df_people.iloc[2]"
   ]
  },
  {
   "cell_type": "code",
   "execution_count": 40,
   "metadata": {},
   "outputs": [
    {
     "data": {
      "text/plain": [
       "'suheylacukurlu@email.com'"
      ]
     },
     "execution_count": 40,
     "metadata": {},
     "output_type": "execute_result"
    }
   ],
   "source": [
    "# aşağıdaki people tablosunda 2. row'da yer alan süheylanın gmail adresini bulabildik iloc kullanarak.\n",
    "\n",
    "df_people.iloc[2, 2]"
   ]
  },
  {
   "cell_type": "code",
   "execution_count": 41,
   "metadata": {},
   "outputs": [
    {
     "data": {
      "text/plain": [
       "Index(['MainBranch', 'Hobbyist', 'OpenSourcer', 'OpenSource', 'Employment',\n",
       "       'Country', 'Student', 'EdLevel', 'UndergradMajor', 'EduOther',\n",
       "       'OrgSize', 'DevType', 'YearsCode', 'Age1stCode', 'YearsCodePro',\n",
       "       'CareerSat', 'JobSat', 'MgrIdiot', 'MgrMoney', 'MgrWant', 'JobSeek',\n",
       "       'LastHireDate', 'LastInt', 'FizzBuzz', 'JobFactors', 'ResumeUpdate',\n",
       "       'CurrencySymbol', 'CurrencyDesc', 'CompTotal', 'CompFreq',\n",
       "       'ConvertedComp', 'WorkWeekHrs', 'WorkPlan', 'WorkChallenge',\n",
       "       'WorkRemote', 'WorkLoc', 'ImpSyn', 'CodeRev', 'CodeRevHrs', 'UnitTests',\n",
       "       'PurchaseHow', 'PurchaseWhat', 'LanguageWorkedWith',\n",
       "       'LanguageDesireNextYear', 'DatabaseWorkedWith',\n",
       "       'DatabaseDesireNextYear', 'PlatformWorkedWith',\n",
       "       'PlatformDesireNextYear', 'WebFrameWorkedWith',\n",
       "       'WebFrameDesireNextYear', 'MiscTechWorkedWith',\n",
       "       'MiscTechDesireNextYear', 'DevEnviron', 'OpSys', 'Containers',\n",
       "       'BlockchainOrg', 'BlockchainIs', 'BetterLife', 'ITperson', 'OffOn',\n",
       "       'SocialMedia', 'Extraversion', 'ScreenName', 'SOVisit1st',\n",
       "       'SOVisitFreq', 'SOVisitTo', 'SOFindAnswer', 'SOTimeSaved',\n",
       "       'SOHowMuchTime', 'SOAccount', 'SOPartFreq', 'SOJobs', 'EntTeams',\n",
       "       'SOComm', 'WelcomeChange', 'SONewContent', 'Age', 'Gender', 'Trans',\n",
       "       'Sexuality', 'Ethnicity', 'Dependents', 'SurveyLength', 'SurveyEase'],\n",
       "      dtype='object')"
      ]
     },
     "execution_count": 41,
     "metadata": {},
     "output_type": "execute_result"
    }
   ],
   "source": [
    "df_survey.columns"
   ]
  },
  {
   "cell_type": "markdown",
   "metadata": {},
   "source": []
  },
  {
   "cell_type": "code",
   "execution_count": 42,
   "metadata": {},
   "outputs": [
    {
     "data": {
      "text/plain": [
       "Respondent\n",
       "2      Developer, desktop or enterprise applications;...\n",
       "3      Designer;Developer, back-end;Developer, front-...\n",
       "4                                  Developer, full-stack\n",
       "5      Academic researcher;Developer, desktop or ente...\n",
       "6      Data or business analyst;Data scientist or mac...\n",
       "                             ...                        \n",
       "96     Engineer, data;Engineering manager;Marketing o...\n",
       "97     Data or business analyst;Data scientist or mac...\n",
       "98     Designer;Developer, back-end;Developer, front-...\n",
       "99     Academic researcher;Data or business analyst;D...\n",
       "100    Developer, back-end;Developer, front-end;Devel...\n",
       "Name: DevType, Length: 99, dtype: object"
      ]
     },
     "execution_count": 42,
     "metadata": {},
     "output_type": "execute_result"
    }
   ],
   "source": [
    "df_survey.iloc[1:100, 11]   # 1'den yüzde kadar olan row'ların 11. column'a verdikleri cevapları yazdırdık"
   ]
  },
  {
   "cell_type": "code",
   "execution_count": 43,
   "metadata": {},
   "outputs": [
    {
     "data": {
      "text/plain": [
       "Respondent\n",
       "2      Developer, desktop or enterprise applications;...\n",
       "101                                Developer, full-stack\n",
       "Name: DevType, dtype: object"
      ]
     },
     "execution_count": 43,
     "metadata": {},
     "output_type": "execute_result"
    }
   ],
   "source": [
    "df_survey.iloc[[1, 100], 11]   # Burada ise 1 ve 100. row'ların 11. column'daki karşılığını yadırdık."
   ]
  },
  {
   "cell_type": "markdown",
   "metadata": {},
   "source": [
    "    💠 Alıştırma: yukarıda survey tablosunun tüm column başlıkları yer almaktadır. Öncelikle \"Employment\" column'unda hangi soruyu sorduklarını yazdır. Ardından da, 100 ile 1000 arasındaki kişilerin bu soruya ne cevap verdiklerini yazdır: \n",
    "\n",
    "    Not: survey'e ait tüm column'ların ne anlama geldiği schema isimli tabloda yer almaktadır."
   ]
  },
  {
   "cell_type": "code",
   "execution_count": 44,
   "metadata": {},
   "outputs": [
    {
     "name": "stdout",
     "output_type": "stream",
     "text": [
      "QuestionText    Which of the following best describes your cur...\n",
      "Name: Employment, dtype: object\n",
      "\n",
      "📍 Yukarıdaki çıtkı tam olarak okunamadığı için aşağıya daha açık halini bırakıyorum: \n",
      "\n",
      "Which of the following best describes your current employment status?\n",
      "\n",
      "📍 Aşağıda yer alan tabloda, 100'den 1000'e kadar olan 'Employment' sorusuna verdiği yanıtları görüyoruz.\n",
      "\n",
      "Respondent\n",
      "101                 No\n",
      "102                 No\n",
      "103                 No\n",
      "104     Yes, full-time\n",
      "105                 No\n",
      "             ...      \n",
      "999                 No\n",
      "1000                No\n",
      "1001               NaN\n",
      "1002    Yes, full-time\n",
      "1003    Yes, full-time\n",
      "Name: Student, Length: 900, dtype: object\n"
     ]
    }
   ],
   "source": [
    "print(df_schema.iloc[5])       # öncelikle bir önceki kod hücresinden Employment'in 5. column'da olduğunu saydım\n",
    "print(\"\\n📍 Yukarıdaki çıtkı tam olarak okunamadığı için aşağıya daha açık halini bırakıyorum: \\n\")\n",
    "print(df_schema.iloc[5][\"QuestionText\"])\n",
    "print(\"\\n📍 Aşağıda yer alan tabloda, 100'den 1000'e kadar olan 'Employment' sorusuna verdiği yanıtları görüyoruz.\\n\")\n",
    "print(df_survey.iloc[100:1000, 6])"
   ]
  },
  {
   "cell_type": "markdown",
   "metadata": {},
   "source": [
    "### **🗣️ loc() - _location_**"
   ]
  },
  {
   "cell_type": "markdown",
   "metadata": {},
   "source": [
    "    iloc() ile biz integer sayıları kullanırdık, loc() ile ise doğrudan ne yazıyorsa onu kullanırız. Örneğin schema tablosunda index'ler string ike survey tablosunda indexler integer'dır. İkisi için loc() kullanırken birinde string diğerinde integer kullanacağız."
   ]
  },
  {
   "cell_type": "code",
   "execution_count": 45,
   "metadata": {},
   "outputs": [
    {
     "data": {
      "text/html": [
       "<div>\n",
       "<style scoped>\n",
       "    .dataframe tbody tr th:only-of-type {\n",
       "        vertical-align: middle;\n",
       "    }\n",
       "\n",
       "    .dataframe tbody tr th {\n",
       "        vertical-align: top;\n",
       "    }\n",
       "\n",
       "    .dataframe thead th {\n",
       "        text-align: right;\n",
       "    }\n",
       "</style>\n",
       "<table border=\"1\" class=\"dataframe\">\n",
       "  <thead>\n",
       "    <tr style=\"text-align: right;\">\n",
       "      <th></th>\n",
       "      <th>QuestionText</th>\n",
       "    </tr>\n",
       "    <tr>\n",
       "      <th>Column</th>\n",
       "      <th></th>\n",
       "    </tr>\n",
       "  </thead>\n",
       "  <tbody>\n",
       "    <tr>\n",
       "      <th>Respondent</th>\n",
       "      <td>Randomized respondent ID number (not in order ...</td>\n",
       "    </tr>\n",
       "    <tr>\n",
       "      <th>MainBranch</th>\n",
       "      <td>Which of the following options best describes ...</td>\n",
       "    </tr>\n",
       "    <tr>\n",
       "      <th>Hobbyist</th>\n",
       "      <td>Do you code as a hobby?</td>\n",
       "    </tr>\n",
       "    <tr>\n",
       "      <th>OpenSourcer</th>\n",
       "      <td>How often do you contribute to open source?</td>\n",
       "    </tr>\n",
       "    <tr>\n",
       "      <th>OpenSource</th>\n",
       "      <td>How do you feel about the quality of open sour...</td>\n",
       "    </tr>\n",
       "    <tr>\n",
       "      <th>...</th>\n",
       "      <td>...</td>\n",
       "    </tr>\n",
       "    <tr>\n",
       "      <th>Sexuality</th>\n",
       "      <td>Which of the following do you currently identi...</td>\n",
       "    </tr>\n",
       "    <tr>\n",
       "      <th>Ethnicity</th>\n",
       "      <td>Which of the following do you identify as? Ple...</td>\n",
       "    </tr>\n",
       "    <tr>\n",
       "      <th>Dependents</th>\n",
       "      <td>Do you have any dependents (e.g., children, el...</td>\n",
       "    </tr>\n",
       "    <tr>\n",
       "      <th>SurveyLength</th>\n",
       "      <td>How do you feel about the length of the survey...</td>\n",
       "    </tr>\n",
       "    <tr>\n",
       "      <th>SurveyEase</th>\n",
       "      <td>How easy or difficult was this survey to compl...</td>\n",
       "    </tr>\n",
       "  </tbody>\n",
       "</table>\n",
       "<p>85 rows × 1 columns</p>\n",
       "</div>"
      ],
      "text/plain": [
       "                                                   QuestionText\n",
       "Column                                                         \n",
       "Respondent    Randomized respondent ID number (not in order ...\n",
       "MainBranch    Which of the following options best describes ...\n",
       "Hobbyist                                Do you code as a hobby?\n",
       "OpenSourcer         How often do you contribute to open source?\n",
       "OpenSource    How do you feel about the quality of open sour...\n",
       "...                                                         ...\n",
       "Sexuality     Which of the following do you currently identi...\n",
       "Ethnicity     Which of the following do you identify as? Ple...\n",
       "Dependents    Do you have any dependents (e.g., children, el...\n",
       "SurveyLength  How do you feel about the length of the survey...\n",
       "SurveyEase    How easy or difficult was this survey to compl...\n",
       "\n",
       "[85 rows x 1 columns]"
      ]
     },
     "execution_count": 45,
     "metadata": {},
     "output_type": "execute_result"
    }
   ],
   "source": [
    "df_schema"
   ]
  },
  {
   "cell_type": "code",
   "execution_count": 46,
   "metadata": {},
   "outputs": [
    {
     "data": {
      "text/plain": [
       "QuestionText    How often do you contribute to open source?\n",
       "Name: OpenSourcer, dtype: object"
      ]
     },
     "execution_count": 46,
     "metadata": {},
     "output_type": "execute_result"
    }
   ],
   "source": [
    "# yukarıda görüldüğü gibi index column'unda stringler var. O yüzden string kullanacağız:\n",
    "\n",
    "df_schema.loc[\"OpenSourcer\"]        # yukarıdaki gibi listeyi gördükten sonra yazdırmak istediğimizi bulmak çok kolay olur."
   ]
  },
  {
   "cell_type": "code",
   "execution_count": 47,
   "metadata": {},
   "outputs": [
    {
     "data": {
      "text/html": [
       "<div>\n",
       "<style scoped>\n",
       "    .dataframe tbody tr th:only-of-type {\n",
       "        vertical-align: middle;\n",
       "    }\n",
       "\n",
       "    .dataframe tbody tr th {\n",
       "        vertical-align: top;\n",
       "    }\n",
       "\n",
       "    .dataframe thead th {\n",
       "        text-align: right;\n",
       "    }\n",
       "</style>\n",
       "<table border=\"1\" class=\"dataframe\">\n",
       "  <thead>\n",
       "    <tr style=\"text-align: right;\">\n",
       "      <th></th>\n",
       "      <th>MainBranch</th>\n",
       "      <th>Hobbyist</th>\n",
       "      <th>...</th>\n",
       "      <th>SurveyLength</th>\n",
       "      <th>SurveyEase</th>\n",
       "    </tr>\n",
       "    <tr>\n",
       "      <th>Respondent</th>\n",
       "      <th></th>\n",
       "      <th></th>\n",
       "      <th></th>\n",
       "      <th></th>\n",
       "      <th></th>\n",
       "    </tr>\n",
       "  </thead>\n",
       "  <tbody>\n",
       "    <tr>\n",
       "      <th>1</th>\n",
       "      <td>I am a student who is learning to code</td>\n",
       "      <td>Yes</td>\n",
       "      <td>...</td>\n",
       "      <td>Appropriate in length</td>\n",
       "      <td>Neither easy nor difficult</td>\n",
       "    </tr>\n",
       "    <tr>\n",
       "      <th>2</th>\n",
       "      <td>I am a student who is learning to code</td>\n",
       "      <td>No</td>\n",
       "      <td>...</td>\n",
       "      <td>Appropriate in length</td>\n",
       "      <td>Neither easy nor difficult</td>\n",
       "    </tr>\n",
       "    <tr>\n",
       "      <th>3</th>\n",
       "      <td>I am not primarily a developer, but I write co...</td>\n",
       "      <td>Yes</td>\n",
       "      <td>...</td>\n",
       "      <td>Appropriate in length</td>\n",
       "      <td>Neither easy nor difficult</td>\n",
       "    </tr>\n",
       "    <tr>\n",
       "      <th>4</th>\n",
       "      <td>I am a developer by profession</td>\n",
       "      <td>No</td>\n",
       "      <td>...</td>\n",
       "      <td>Appropriate in length</td>\n",
       "      <td>Easy</td>\n",
       "    </tr>\n",
       "    <tr>\n",
       "      <th>5</th>\n",
       "      <td>I am a developer by profession</td>\n",
       "      <td>Yes</td>\n",
       "      <td>...</td>\n",
       "      <td>Appropriate in length</td>\n",
       "      <td>Easy</td>\n",
       "    </tr>\n",
       "    <tr>\n",
       "      <th>...</th>\n",
       "      <td>...</td>\n",
       "      <td>...</td>\n",
       "      <td>...</td>\n",
       "      <td>...</td>\n",
       "      <td>...</td>\n",
       "    </tr>\n",
       "    <tr>\n",
       "      <th>88377</th>\n",
       "      <td>NaN</td>\n",
       "      <td>Yes</td>\n",
       "      <td>...</td>\n",
       "      <td>Appropriate in length</td>\n",
       "      <td>Easy</td>\n",
       "    </tr>\n",
       "    <tr>\n",
       "      <th>88601</th>\n",
       "      <td>NaN</td>\n",
       "      <td>No</td>\n",
       "      <td>...</td>\n",
       "      <td>NaN</td>\n",
       "      <td>NaN</td>\n",
       "    </tr>\n",
       "    <tr>\n",
       "      <th>88802</th>\n",
       "      <td>NaN</td>\n",
       "      <td>No</td>\n",
       "      <td>...</td>\n",
       "      <td>NaN</td>\n",
       "      <td>NaN</td>\n",
       "    </tr>\n",
       "    <tr>\n",
       "      <th>88816</th>\n",
       "      <td>NaN</td>\n",
       "      <td>No</td>\n",
       "      <td>...</td>\n",
       "      <td>NaN</td>\n",
       "      <td>NaN</td>\n",
       "    </tr>\n",
       "    <tr>\n",
       "      <th>88863</th>\n",
       "      <td>NaN</td>\n",
       "      <td>Yes</td>\n",
       "      <td>...</td>\n",
       "      <td>Appropriate in length</td>\n",
       "      <td>Easy</td>\n",
       "    </tr>\n",
       "  </tbody>\n",
       "</table>\n",
       "<p>88883 rows × 84 columns</p>\n",
       "</div>"
      ],
      "text/plain": [
       "                                                   MainBranch Hobbyist  ...  \\\n",
       "Respondent                                                              ...   \n",
       "1                      I am a student who is learning to code      Yes  ...   \n",
       "2                      I am a student who is learning to code       No  ...   \n",
       "3           I am not primarily a developer, but I write co...      Yes  ...   \n",
       "4                              I am a developer by profession       No  ...   \n",
       "5                              I am a developer by profession      Yes  ...   \n",
       "...                                                       ...      ...  ...   \n",
       "88377                                                     NaN      Yes  ...   \n",
       "88601                                                     NaN       No  ...   \n",
       "88802                                                     NaN       No  ...   \n",
       "88816                                                     NaN       No  ...   \n",
       "88863                                                     NaN      Yes  ...   \n",
       "\n",
       "                     SurveyLength                  SurveyEase  \n",
       "Respondent                                                     \n",
       "1           Appropriate in length  Neither easy nor difficult  \n",
       "2           Appropriate in length  Neither easy nor difficult  \n",
       "3           Appropriate in length  Neither easy nor difficult  \n",
       "4           Appropriate in length                        Easy  \n",
       "5           Appropriate in length                        Easy  \n",
       "...                           ...                         ...  \n",
       "88377       Appropriate in length                        Easy  \n",
       "88601                         NaN                         NaN  \n",
       "88802                         NaN                         NaN  \n",
       "88816                         NaN                         NaN  \n",
       "88863       Appropriate in length                        Easy  \n",
       "\n",
       "[88883 rows x 84 columns]"
      ]
     },
     "execution_count": 47,
     "metadata": {},
     "output_type": "execute_result"
    }
   ],
   "source": [
    "df_survey"
   ]
  },
  {
   "cell_type": "code",
   "execution_count": 48,
   "metadata": {},
   "outputs": [
    {
     "data": {
      "text/plain": [
       "MainBranch      I am not primarily a developer, but I write co...\n",
       "Hobbyist                                                      Yes\n",
       "OpenSourcer                                                 Never\n",
       "OpenSource      The quality of OSS and closed source software ...\n",
       "Employment                                     Employed full-time\n",
       "                                      ...                        \n",
       "Sexuality                                 Straight / Heterosexual\n",
       "Ethnicity                                                     NaN\n",
       "Dependents                                                    Yes\n",
       "SurveyLength                                Appropriate in length\n",
       "SurveyEase                             Neither easy nor difficult\n",
       "Name: 3, Length: 84, dtype: object"
      ]
     },
     "execution_count": 48,
     "metadata": {},
     "output_type": "execute_result"
    }
   ],
   "source": [
    "# yukarıda görüldüğü gibi index column'unda integer'lar var. O yüzden integer kullanacağız:\n",
    "\n",
    "df_survey.loc[3]        # yukarıdaki gibi listeyi gördükten sonra yazdırmak istediğimizi bulmak çok kolay olur."
   ]
  },
  {
   "cell_type": "code",
   "execution_count": 49,
   "metadata": {},
   "outputs": [
    {
     "data": {
      "text/html": [
       "<div>\n",
       "<style scoped>\n",
       "    .dataframe tbody tr th:only-of-type {\n",
       "        vertical-align: middle;\n",
       "    }\n",
       "\n",
       "    .dataframe tbody tr th {\n",
       "        vertical-align: top;\n",
       "    }\n",
       "\n",
       "    .dataframe thead th {\n",
       "        text-align: right;\n",
       "    }\n",
       "</style>\n",
       "<table border=\"1\" class=\"dataframe\">\n",
       "  <thead>\n",
       "    <tr style=\"text-align: right;\">\n",
       "      <th></th>\n",
       "      <th>first</th>\n",
       "      <th>last</th>\n",
       "      <th>email</th>\n",
       "    </tr>\n",
       "  </thead>\n",
       "  <tbody>\n",
       "    <tr>\n",
       "      <th>0</th>\n",
       "      <td>Emre</td>\n",
       "      <td>Çakır</td>\n",
       "      <td>emrecakir@gmail.com</td>\n",
       "    </tr>\n",
       "    <tr>\n",
       "      <th>1</th>\n",
       "      <td>İrem</td>\n",
       "      <td>Çukurlu</td>\n",
       "      <td>iremcukurlu@email.com</td>\n",
       "    </tr>\n",
       "    <tr>\n",
       "      <th>2</th>\n",
       "      <td>Süheyla</td>\n",
       "      <td>Çukurlu</td>\n",
       "      <td>suheylacukurlu@email.com</td>\n",
       "    </tr>\n",
       "  </tbody>\n",
       "</table>\n",
       "</div>"
      ],
      "text/plain": [
       "     first     last                     email\n",
       "0     Emre    Çakır       emrecakir@gmail.com\n",
       "1     İrem  Çukurlu     iremcukurlu@email.com\n",
       "2  Süheyla  Çukurlu  suheylacukurlu@email.com"
      ]
     },
     "execution_count": 49,
     "metadata": {},
     "output_type": "execute_result"
    }
   ],
   "source": [
    "df_people"
   ]
  },
  {
   "cell_type": "code",
   "execution_count": 50,
   "metadata": {},
   "outputs": [
    {
     "data": {
      "text/plain": [
       "first                     İrem\n",
       "last                   Çukurlu\n",
       "email    iremcukurlu@email.com\n",
       "Name: 1, dtype: object"
      ]
     },
     "execution_count": 50,
     "metadata": {},
     "output_type": "execute_result"
    }
   ],
   "source": [
    "# aynı şeklde yukarıda görüldüğü gibi people tablosundaki index'lerde string:\n",
    "\n",
    "df_people.loc[1]            "
   ]
  },
  {
   "cell_type": "code",
   "execution_count": 51,
   "metadata": {},
   "outputs": [
    {
     "data": {
      "text/plain": [
       "'İrem'"
      ]
     },
     "execution_count": 51,
     "metadata": {},
     "output_type": "execute_result"
    }
   ],
   "source": [
    "df_people.loc[1, \"first\"]       # 1. row'daki kişiye ait \"first\" colonunda ne yer alıyor?"
   ]
  },
  {
   "cell_type": "code",
   "execution_count": 52,
   "metadata": {},
   "outputs": [
    {
     "data": {
      "text/plain": [
       "'İrem'"
      ]
     },
     "execution_count": 52,
     "metadata": {},
     "output_type": "execute_result"
    }
   ],
   "source": [
    "df_people.iloc[1, 0]            # yukarıda loc metodu ile kurduğumuz yapının çok daha anlamlı olduğu net"
   ]
  },
  {
   "cell_type": "code",
   "execution_count": 53,
   "metadata": {},
   "outputs": [
    {
     "data": {
      "text/plain": [
       "Index(['MainBranch', 'Hobbyist', 'OpenSourcer', 'OpenSource', 'Employment',\n",
       "       'Country', 'Student', 'EdLevel', 'UndergradMajor', 'EduOther',\n",
       "       'OrgSize', 'DevType', 'YearsCode', 'Age1stCode', 'YearsCodePro',\n",
       "       'CareerSat', 'JobSat', 'MgrIdiot', 'MgrMoney', 'MgrWant', 'JobSeek',\n",
       "       'LastHireDate', 'LastInt', 'FizzBuzz', 'JobFactors', 'ResumeUpdate',\n",
       "       'CurrencySymbol', 'CurrencyDesc', 'CompTotal', 'CompFreq',\n",
       "       'ConvertedComp', 'WorkWeekHrs', 'WorkPlan', 'WorkChallenge',\n",
       "       'WorkRemote', 'WorkLoc', 'ImpSyn', 'CodeRev', 'CodeRevHrs', 'UnitTests',\n",
       "       'PurchaseHow', 'PurchaseWhat', 'LanguageWorkedWith',\n",
       "       'LanguageDesireNextYear', 'DatabaseWorkedWith',\n",
       "       'DatabaseDesireNextYear', 'PlatformWorkedWith',\n",
       "       'PlatformDesireNextYear', 'WebFrameWorkedWith',\n",
       "       'WebFrameDesireNextYear', 'MiscTechWorkedWith',\n",
       "       'MiscTechDesireNextYear', 'DevEnviron', 'OpSys', 'Containers',\n",
       "       'BlockchainOrg', 'BlockchainIs', 'BetterLife', 'ITperson', 'OffOn',\n",
       "       'SocialMedia', 'Extraversion', 'ScreenName', 'SOVisit1st',\n",
       "       'SOVisitFreq', 'SOVisitTo', 'SOFindAnswer', 'SOTimeSaved',\n",
       "       'SOHowMuchTime', 'SOAccount', 'SOPartFreq', 'SOJobs', 'EntTeams',\n",
       "       'SOComm', 'WelcomeChange', 'SONewContent', 'Age', 'Gender', 'Trans',\n",
       "       'Sexuality', 'Ethnicity', 'Dependents', 'SurveyLength', 'SurveyEase'],\n",
       "      dtype='object')"
      ]
     },
     "execution_count": 53,
     "metadata": {},
     "output_type": "execute_result"
    }
   ],
   "source": [
    "df_survey.columns"
   ]
  },
  {
   "cell_type": "code",
   "execution_count": 54,
   "metadata": {},
   "outputs": [
    {
     "data": {
      "text/plain": [
       "Respondent\n",
       "1                                                    NaN\n",
       "2                                                    NaN\n",
       "3                       Less than once per month / Never\n",
       "4                       Less than once per month / Never\n",
       "5                                  A few days each month\n",
       "                             ...                        \n",
       "96                                                   NaN\n",
       "97                                 A few days each month\n",
       "98                                                   NaN\n",
       "99                                                   NaN\n",
       "100    All or almost all the time (I'm full-time remote)\n",
       "Name: WorkRemote, Length: 100, dtype: object"
      ]
     },
     "execution_count": 54,
     "metadata": {},
     "output_type": "execute_result"
    }
   ],
   "source": [
    "df_survey.loc[1:100, 'WorkRemote']      # loc kullanarak anlamlı sonuçlar çıkarmak işte bu kadar kolay."
   ]
  },
  {
   "cell_type": "markdown",
   "metadata": {},
   "source": [
    "    📣 Bir önceki kodu loc() yerine iloc() ile yazdırmaya kalksaydık, öncelikle 'WorkRemote' isimli kolonunun kaçıncı sırada olduğunu sayıp ondan sonra yapmamız gerekecekti.\n",
    "\n",
    "    📣 Ayrıca loc() kullanırken de 'WorkRemote' nin karşılığı olan sayıyı yazarsak kabul olmaz. Çünkü column'lar için bir sayı yoktur ama row'lar için bir index sayıları vardır. O yüzden row'lar için integer kullanabilir ama column'lar için kullanamayız."
   ]
  },
  {
   "cell_type": "code",
   "execution_count": 55,
   "metadata": {},
   "outputs": [
    {
     "name": "stdout",
     "output_type": "stream",
     "text": [
      "Aşağıdaki tablo loc[] metodu kullanılarak yazılmıştır. 1'den 100'e kadar olan row'ların 'WorkRemote' ve 'CodeRev' column'ları arasındaki yanıtları yazdırılmıştır. \n",
      "\n"
     ]
    },
    {
     "data": {
      "text/html": [
       "<div>\n",
       "<style scoped>\n",
       "    .dataframe tbody tr th:only-of-type {\n",
       "        vertical-align: middle;\n",
       "    }\n",
       "\n",
       "    .dataframe tbody tr th {\n",
       "        vertical-align: top;\n",
       "    }\n",
       "\n",
       "    .dataframe thead th {\n",
       "        text-align: right;\n",
       "    }\n",
       "</style>\n",
       "<table border=\"1\" class=\"dataframe\">\n",
       "  <thead>\n",
       "    <tr style=\"text-align: right;\">\n",
       "      <th></th>\n",
       "      <th>WorkRemote</th>\n",
       "      <th>WorkLoc</th>\n",
       "      <th>ImpSyn</th>\n",
       "      <th>CodeRev</th>\n",
       "    </tr>\n",
       "    <tr>\n",
       "      <th>Respondent</th>\n",
       "      <th></th>\n",
       "      <th></th>\n",
       "      <th></th>\n",
       "      <th></th>\n",
       "    </tr>\n",
       "  </thead>\n",
       "  <tbody>\n",
       "    <tr>\n",
       "      <th>1</th>\n",
       "      <td>NaN</td>\n",
       "      <td>NaN</td>\n",
       "      <td>NaN</td>\n",
       "      <td>NaN</td>\n",
       "    </tr>\n",
       "    <tr>\n",
       "      <th>2</th>\n",
       "      <td>NaN</td>\n",
       "      <td>NaN</td>\n",
       "      <td>NaN</td>\n",
       "      <td>NaN</td>\n",
       "    </tr>\n",
       "    <tr>\n",
       "      <th>3</th>\n",
       "      <td>Less than once per month / Never</td>\n",
       "      <td>Home</td>\n",
       "      <td>Average</td>\n",
       "      <td>No</td>\n",
       "    </tr>\n",
       "    <tr>\n",
       "      <th>4</th>\n",
       "      <td>Less than once per month / Never</td>\n",
       "      <td>Home</td>\n",
       "      <td>A little below average</td>\n",
       "      <td>No</td>\n",
       "    </tr>\n",
       "    <tr>\n",
       "      <th>5</th>\n",
       "      <td>A few days each month</td>\n",
       "      <td>Office</td>\n",
       "      <td>A little above average</td>\n",
       "      <td>Yes, because I see value in code review</td>\n",
       "    </tr>\n",
       "    <tr>\n",
       "      <th>...</th>\n",
       "      <td>...</td>\n",
       "      <td>...</td>\n",
       "      <td>...</td>\n",
       "      <td>...</td>\n",
       "    </tr>\n",
       "    <tr>\n",
       "      <th>96</th>\n",
       "      <td>NaN</td>\n",
       "      <td>NaN</td>\n",
       "      <td>NaN</td>\n",
       "      <td>NaN</td>\n",
       "    </tr>\n",
       "    <tr>\n",
       "      <th>97</th>\n",
       "      <td>A few days each month</td>\n",
       "      <td>Office</td>\n",
       "      <td>A little above average</td>\n",
       "      <td>Yes, because I see value in code review</td>\n",
       "    </tr>\n",
       "    <tr>\n",
       "      <th>98</th>\n",
       "      <td>NaN</td>\n",
       "      <td>NaN</td>\n",
       "      <td>NaN</td>\n",
       "      <td>NaN</td>\n",
       "    </tr>\n",
       "    <tr>\n",
       "      <th>99</th>\n",
       "      <td>NaN</td>\n",
       "      <td>NaN</td>\n",
       "      <td>NaN</td>\n",
       "      <td>NaN</td>\n",
       "    </tr>\n",
       "    <tr>\n",
       "      <th>100</th>\n",
       "      <td>All or almost all the time (I'm full-time remote)</td>\n",
       "      <td>Home</td>\n",
       "      <td>A little above average</td>\n",
       "      <td>Yes, because I see value in code review</td>\n",
       "    </tr>\n",
       "  </tbody>\n",
       "</table>\n",
       "<p>100 rows × 4 columns</p>\n",
       "</div>"
      ],
      "text/plain": [
       "                                                   WorkRemote WorkLoc  \\\n",
       "Respondent                                                              \n",
       "1                                                         NaN     NaN   \n",
       "2                                                         NaN     NaN   \n",
       "3                            Less than once per month / Never    Home   \n",
       "4                            Less than once per month / Never    Home   \n",
       "5                                       A few days each month  Office   \n",
       "...                                                       ...     ...   \n",
       "96                                                        NaN     NaN   \n",
       "97                                      A few days each month  Office   \n",
       "98                                                        NaN     NaN   \n",
       "99                                                        NaN     NaN   \n",
       "100         All or almost all the time (I'm full-time remote)    Home   \n",
       "\n",
       "                            ImpSyn                                  CodeRev  \n",
       "Respondent                                                                   \n",
       "1                              NaN                                      NaN  \n",
       "2                              NaN                                      NaN  \n",
       "3                          Average                                       No  \n",
       "4           A little below average                                       No  \n",
       "5           A little above average  Yes, because I see value in code review  \n",
       "...                            ...                                      ...  \n",
       "96                             NaN                                      NaN  \n",
       "97          A little above average  Yes, because I see value in code review  \n",
       "98                             NaN                                      NaN  \n",
       "99                             NaN                                      NaN  \n",
       "100         A little above average  Yes, because I see value in code review  \n",
       "\n",
       "[100 rows x 4 columns]"
      ]
     },
     "execution_count": 55,
     "metadata": {},
     "output_type": "execute_result"
    }
   ],
   "source": [
    "print(\"Aşağıdaki tablo loc[] metodu kullanılarak yazılmıştır. 1'den 100'e kadar olan row'ların 'WorkRemote' ve 'CodeRev' column'ları arasındaki yanıtları yazdırılmıştır. \\n\")\n",
    "\n",
    "df_survey.loc[1:100, 'WorkRemote':'CodeRev']    "
   ]
  },
  {
   "cell_type": "markdown",
   "metadata": {
    "jp-MarkdownHeadingCollapsed": true
   },
   "source": [
    "## **▶️▶️ 3.7 set_index() Metodu**"
   ]
  },
  {
   "cell_type": "markdown",
   "metadata": {},
   "source": [
    "    Bu metodu kullanarak bir tablo'nun index column'unu değiştirebiliyoruz.\n",
    "\n",
    "    Örneğin poeple tablosunda index olarak pandas ın standart olarak uyguladığım indexler yer almaktadır. O index column'u yerine pople tablosu içeriisnde yer alan \"first\" column'unu index column'u olarak tayin edebilirz. Böylelikle iloc yerine loc metodunu kullanarak tabloda daha yüksek bir hakimiyet kurabiliriz."
   ]
  },
  {
   "cell_type": "code",
   "execution_count": 56,
   "metadata": {},
   "outputs": [
    {
     "data": {
      "text/html": [
       "<div>\n",
       "<style scoped>\n",
       "    .dataframe tbody tr th:only-of-type {\n",
       "        vertical-align: middle;\n",
       "    }\n",
       "\n",
       "    .dataframe tbody tr th {\n",
       "        vertical-align: top;\n",
       "    }\n",
       "\n",
       "    .dataframe thead th {\n",
       "        text-align: right;\n",
       "    }\n",
       "</style>\n",
       "<table border=\"1\" class=\"dataframe\">\n",
       "  <thead>\n",
       "    <tr style=\"text-align: right;\">\n",
       "      <th></th>\n",
       "      <th>first</th>\n",
       "      <th>last</th>\n",
       "      <th>email</th>\n",
       "    </tr>\n",
       "  </thead>\n",
       "  <tbody>\n",
       "    <tr>\n",
       "      <th>0</th>\n",
       "      <td>Emre</td>\n",
       "      <td>Çakır</td>\n",
       "      <td>emrecakir@gmail.com</td>\n",
       "    </tr>\n",
       "    <tr>\n",
       "      <th>1</th>\n",
       "      <td>İrem</td>\n",
       "      <td>Çukurlu</td>\n",
       "      <td>iremcukurlu@email.com</td>\n",
       "    </tr>\n",
       "    <tr>\n",
       "      <th>2</th>\n",
       "      <td>Süheyla</td>\n",
       "      <td>Çukurlu</td>\n",
       "      <td>suheylacukurlu@email.com</td>\n",
       "    </tr>\n",
       "  </tbody>\n",
       "</table>\n",
       "</div>"
      ],
      "text/plain": [
       "     first     last                     email\n",
       "0     Emre    Çakır       emrecakir@gmail.com\n",
       "1     İrem  Çukurlu     iremcukurlu@email.com\n",
       "2  Süheyla  Çukurlu  suheylacukurlu@email.com"
      ]
     },
     "execution_count": 56,
     "metadata": {},
     "output_type": "execute_result"
    }
   ],
   "source": [
    "# görüldüğü gibi indexler standart pandas indexi:\n",
    "\n",
    "df_people"
   ]
  },
  {
   "cell_type": "code",
   "execution_count": 57,
   "metadata": {},
   "outputs": [
    {
     "data": {
      "text/html": [
       "<div>\n",
       "<style scoped>\n",
       "    .dataframe tbody tr th:only-of-type {\n",
       "        vertical-align: middle;\n",
       "    }\n",
       "\n",
       "    .dataframe tbody tr th {\n",
       "        vertical-align: top;\n",
       "    }\n",
       "\n",
       "    .dataframe thead th {\n",
       "        text-align: right;\n",
       "    }\n",
       "</style>\n",
       "<table border=\"1\" class=\"dataframe\">\n",
       "  <thead>\n",
       "    <tr style=\"text-align: right;\">\n",
       "      <th></th>\n",
       "      <th>last</th>\n",
       "      <th>email</th>\n",
       "    </tr>\n",
       "    <tr>\n",
       "      <th>first</th>\n",
       "      <th></th>\n",
       "      <th></th>\n",
       "    </tr>\n",
       "  </thead>\n",
       "  <tbody>\n",
       "    <tr>\n",
       "      <th>Emre</th>\n",
       "      <td>Çakır</td>\n",
       "      <td>emrecakir@gmail.com</td>\n",
       "    </tr>\n",
       "    <tr>\n",
       "      <th>İrem</th>\n",
       "      <td>Çukurlu</td>\n",
       "      <td>iremcukurlu@email.com</td>\n",
       "    </tr>\n",
       "    <tr>\n",
       "      <th>Süheyla</th>\n",
       "      <td>Çukurlu</td>\n",
       "      <td>suheylacukurlu@email.com</td>\n",
       "    </tr>\n",
       "  </tbody>\n",
       "</table>\n",
       "</div>"
      ],
      "text/plain": [
       "            last                     email\n",
       "first                                     \n",
       "Emre       Çakır       emrecakir@gmail.com\n",
       "İrem     Çukurlu     iremcukurlu@email.com\n",
       "Süheyla  Çukurlu  suheylacukurlu@email.com"
      ]
     },
     "execution_count": 57,
     "metadata": {},
     "output_type": "execute_result"
    }
   ],
   "source": [
    "# aşağıdaki kod uygulandıktan sonra artık first column'unu biz index olarak kullanabileceğiz.\n",
    "\n",
    "df_people.set_index('first')"
   ]
  },
  {
   "cell_type": "markdown",
   "metadata": {},
   "source": [
    "    NOT: YUKARIDAKİ KODA BİZ set_index KULLANDIK AMA AŞAĞIDA GÖRÜLDÜĞÜ GİBİ TABLOMUZ HALA ESKİ HALİNDE. ÇÜNKÜ YUKARIDAKİ İŞLEMİ HENÜZ ATAMADIK. ATAMA YAPILDIKTAN SONRA ARTIK DEĞİŞMİŞ OLUR TABLO"
   ]
  },
  {
   "cell_type": "code",
   "execution_count": 58,
   "metadata": {},
   "outputs": [
    {
     "data": {
      "text/html": [
       "<div>\n",
       "<style scoped>\n",
       "    .dataframe tbody tr th:only-of-type {\n",
       "        vertical-align: middle;\n",
       "    }\n",
       "\n",
       "    .dataframe tbody tr th {\n",
       "        vertical-align: top;\n",
       "    }\n",
       "\n",
       "    .dataframe thead th {\n",
       "        text-align: right;\n",
       "    }\n",
       "</style>\n",
       "<table border=\"1\" class=\"dataframe\">\n",
       "  <thead>\n",
       "    <tr style=\"text-align: right;\">\n",
       "      <th></th>\n",
       "      <th>first</th>\n",
       "      <th>last</th>\n",
       "      <th>email</th>\n",
       "    </tr>\n",
       "  </thead>\n",
       "  <tbody>\n",
       "    <tr>\n",
       "      <th>0</th>\n",
       "      <td>Emre</td>\n",
       "      <td>Çakır</td>\n",
       "      <td>emrecakir@gmail.com</td>\n",
       "    </tr>\n",
       "    <tr>\n",
       "      <th>1</th>\n",
       "      <td>İrem</td>\n",
       "      <td>Çukurlu</td>\n",
       "      <td>iremcukurlu@email.com</td>\n",
       "    </tr>\n",
       "    <tr>\n",
       "      <th>2</th>\n",
       "      <td>Süheyla</td>\n",
       "      <td>Çukurlu</td>\n",
       "      <td>suheylacukurlu@email.com</td>\n",
       "    </tr>\n",
       "  </tbody>\n",
       "</table>\n",
       "</div>"
      ],
      "text/plain": [
       "     first     last                     email\n",
       "0     Emre    Çakır       emrecakir@gmail.com\n",
       "1     İrem  Çukurlu     iremcukurlu@email.com\n",
       "2  Süheyla  Çukurlu  suheylacukurlu@email.com"
      ]
     },
     "execution_count": 58,
     "metadata": {},
     "output_type": "execute_result"
    }
   ],
   "source": [
    "df_people"
   ]
  },
  {
   "cell_type": "code",
   "execution_count": 59,
   "metadata": {},
   "outputs": [
    {
     "data": {
      "text/html": [
       "<div>\n",
       "<style scoped>\n",
       "    .dataframe tbody tr th:only-of-type {\n",
       "        vertical-align: middle;\n",
       "    }\n",
       "\n",
       "    .dataframe tbody tr th {\n",
       "        vertical-align: top;\n",
       "    }\n",
       "\n",
       "    .dataframe thead th {\n",
       "        text-align: right;\n",
       "    }\n",
       "</style>\n",
       "<table border=\"1\" class=\"dataframe\">\n",
       "  <thead>\n",
       "    <tr style=\"text-align: right;\">\n",
       "      <th></th>\n",
       "      <th>last</th>\n",
       "      <th>email</th>\n",
       "    </tr>\n",
       "    <tr>\n",
       "      <th>first</th>\n",
       "      <th></th>\n",
       "      <th></th>\n",
       "    </tr>\n",
       "  </thead>\n",
       "  <tbody>\n",
       "    <tr>\n",
       "      <th>Emre</th>\n",
       "      <td>Çakır</td>\n",
       "      <td>emrecakir@gmail.com</td>\n",
       "    </tr>\n",
       "    <tr>\n",
       "      <th>İrem</th>\n",
       "      <td>Çukurlu</td>\n",
       "      <td>iremcukurlu@email.com</td>\n",
       "    </tr>\n",
       "    <tr>\n",
       "      <th>Süheyla</th>\n",
       "      <td>Çukurlu</td>\n",
       "      <td>suheylacukurlu@email.com</td>\n",
       "    </tr>\n",
       "  </tbody>\n",
       "</table>\n",
       "</div>"
      ],
      "text/plain": [
       "            last                     email\n",
       "first                                     \n",
       "Emre       Çakır       emrecakir@gmail.com\n",
       "İrem     Çukurlu     iremcukurlu@email.com\n",
       "Süheyla  Çukurlu  suheylacukurlu@email.com"
      ]
     },
     "execution_count": 59,
     "metadata": {},
     "output_type": "execute_result"
    }
   ],
   "source": [
    "df_people2 = df_people.set_index('first')\n",
    "df_people2"
   ]
  },
  {
   "cell_type": "markdown",
   "metadata": {},
   "source": [
    "    Yukarıda da görüldüğü üzere artık df_people2 yi biz loc ile kullanabilir hale getirdik."
   ]
  },
  {
   "cell_type": "code",
   "execution_count": 60,
   "metadata": {},
   "outputs": [
    {
     "data": {
      "text/plain": [
       "last                   Çakır\n",
       "email    emrecakir@gmail.com\n",
       "Name: Emre, dtype: object"
      ]
     },
     "execution_count": 60,
     "metadata": {},
     "output_type": "execute_result"
    }
   ],
   "source": [
    "df_people2.loc['Emre']\n",
    "\n",
    "# loc[] kullanarak Emre ismine ait soyisim ve email bilgilerine pratik şekilde ulaştık"
   ]
  },
  {
   "cell_type": "markdown",
   "metadata": {},
   "source": [
    "> **Aşağıdaki gibi reset_index(inplace=True) kullanarak  index'i eski haline dönüştürebiliriz. Biz burada farklı bi değişkene atadığımız için anlamlı gözükmeyebilir ama eğer aynı değişkene atamış olsaydık anlamlı olurdu.**"
   ]
  },
  {
   "cell_type": "code",
   "execution_count": 61,
   "metadata": {},
   "outputs": [
    {
     "data": {
      "text/html": [
       "<div>\n",
       "<style scoped>\n",
       "    .dataframe tbody tr th:only-of-type {\n",
       "        vertical-align: middle;\n",
       "    }\n",
       "\n",
       "    .dataframe tbody tr th {\n",
       "        vertical-align: top;\n",
       "    }\n",
       "\n",
       "    .dataframe thead th {\n",
       "        text-align: right;\n",
       "    }\n",
       "</style>\n",
       "<table border=\"1\" class=\"dataframe\">\n",
       "  <thead>\n",
       "    <tr style=\"text-align: right;\">\n",
       "      <th></th>\n",
       "      <th>first</th>\n",
       "      <th>last</th>\n",
       "      <th>email</th>\n",
       "    </tr>\n",
       "  </thead>\n",
       "  <tbody>\n",
       "    <tr>\n",
       "      <th>0</th>\n",
       "      <td>Emre</td>\n",
       "      <td>Çakır</td>\n",
       "      <td>emrecakir@gmail.com</td>\n",
       "    </tr>\n",
       "    <tr>\n",
       "      <th>1</th>\n",
       "      <td>İrem</td>\n",
       "      <td>Çukurlu</td>\n",
       "      <td>iremcukurlu@email.com</td>\n",
       "    </tr>\n",
       "    <tr>\n",
       "      <th>2</th>\n",
       "      <td>Süheyla</td>\n",
       "      <td>Çukurlu</td>\n",
       "      <td>suheylacukurlu@email.com</td>\n",
       "    </tr>\n",
       "  </tbody>\n",
       "</table>\n",
       "</div>"
      ],
      "text/plain": [
       "     first     last                     email\n",
       "0     Emre    Çakır       emrecakir@gmail.com\n",
       "1     İrem  Çukurlu     iremcukurlu@email.com\n",
       "2  Süheyla  Çukurlu  suheylacukurlu@email.com"
      ]
     },
     "execution_count": 61,
     "metadata": {},
     "output_type": "execute_result"
    }
   ],
   "source": [
    "df_people2.reset_index(inplace=True)\n",
    "df_people2"
   ]
  },
  {
   "cell_type": "code",
   "execution_count": 62,
   "metadata": {},
   "outputs": [
    {
     "data": {
      "text/html": [
       "<div>\n",
       "<style scoped>\n",
       "    .dataframe tbody tr th:only-of-type {\n",
       "        vertical-align: middle;\n",
       "    }\n",
       "\n",
       "    .dataframe tbody tr th {\n",
       "        vertical-align: top;\n",
       "    }\n",
       "\n",
       "    .dataframe thead th {\n",
       "        text-align: right;\n",
       "    }\n",
       "</style>\n",
       "<table border=\"1\" class=\"dataframe\">\n",
       "  <thead>\n",
       "    <tr style=\"text-align: right;\">\n",
       "      <th></th>\n",
       "      <th>last</th>\n",
       "      <th>email</th>\n",
       "    </tr>\n",
       "    <tr>\n",
       "      <th>first</th>\n",
       "      <th></th>\n",
       "      <th></th>\n",
       "    </tr>\n",
       "  </thead>\n",
       "  <tbody>\n",
       "    <tr>\n",
       "      <th>Emre</th>\n",
       "      <td>Çakır</td>\n",
       "      <td>emrecakir@gmail.com</td>\n",
       "    </tr>\n",
       "    <tr>\n",
       "      <th>İrem</th>\n",
       "      <td>Çukurlu</td>\n",
       "      <td>iremcukurlu@email.com</td>\n",
       "    </tr>\n",
       "    <tr>\n",
       "      <th>Süheyla</th>\n",
       "      <td>Çukurlu</td>\n",
       "      <td>suheylacukurlu@email.com</td>\n",
       "    </tr>\n",
       "  </tbody>\n",
       "</table>\n",
       "</div>"
      ],
      "text/plain": [
       "            last                     email\n",
       "first                                     \n",
       "Emre       Çakır       emrecakir@gmail.com\n",
       "İrem     Çukurlu     iremcukurlu@email.com\n",
       "Süheyla  Çukurlu  suheylacukurlu@email.com"
      ]
     },
     "execution_count": 62,
     "metadata": {},
     "output_type": "execute_result"
    }
   ],
   "source": [
    "df_people2 = df_people.set_index('first')\n",
    "df_people2      # bu tablo bu şekilde kalsın"
   ]
  },
  {
   "cell_type": "markdown",
   "metadata": {
    "jp-MarkdownHeadingCollapsed": true
   },
   "source": [
    "## **▶️▶️ 3.7 sort_index() Metodu**"
   ]
  },
  {
   "cell_type": "markdown",
   "metadata": {},
   "source": [
    "    Bu metodu kullanarak index column'unu sıralayabiliriz, mesela alfabetik sıraya göre."
   ]
  },
  {
   "cell_type": "code",
   "execution_count": 63,
   "metadata": {},
   "outputs": [
    {
     "data": {
      "text/html": [
       "<div>\n",
       "<style scoped>\n",
       "    .dataframe tbody tr th:only-of-type {\n",
       "        vertical-align: middle;\n",
       "    }\n",
       "\n",
       "    .dataframe tbody tr th {\n",
       "        vertical-align: top;\n",
       "    }\n",
       "\n",
       "    .dataframe thead th {\n",
       "        text-align: right;\n",
       "    }\n",
       "</style>\n",
       "<table border=\"1\" class=\"dataframe\">\n",
       "  <thead>\n",
       "    <tr style=\"text-align: right;\">\n",
       "      <th></th>\n",
       "      <th>QuestionText</th>\n",
       "    </tr>\n",
       "    <tr>\n",
       "      <th>Column</th>\n",
       "      <th></th>\n",
       "    </tr>\n",
       "  </thead>\n",
       "  <tbody>\n",
       "    <tr>\n",
       "      <th>Age</th>\n",
       "      <td>What is your age (in years)? If you prefer not...</td>\n",
       "    </tr>\n",
       "    <tr>\n",
       "      <th>Age1stCode</th>\n",
       "      <td>At what age did you write your first line of c...</td>\n",
       "    </tr>\n",
       "    <tr>\n",
       "      <th>BetterLife</th>\n",
       "      <td>Do you think people born today will have a bet...</td>\n",
       "    </tr>\n",
       "    <tr>\n",
       "      <th>BlockchainIs</th>\n",
       "      <td>Blockchain / cryptocurrency technology is prim...</td>\n",
       "    </tr>\n",
       "    <tr>\n",
       "      <th>BlockchainOrg</th>\n",
       "      <td>How is your organization thinking about or imp...</td>\n",
       "    </tr>\n",
       "    <tr>\n",
       "      <th>...</th>\n",
       "      <td>...</td>\n",
       "    </tr>\n",
       "    <tr>\n",
       "      <th>WorkPlan</th>\n",
       "      <td>How structured or planned is your work?</td>\n",
       "    </tr>\n",
       "    <tr>\n",
       "      <th>WorkRemote</th>\n",
       "      <td>How often do you work remotely?</td>\n",
       "    </tr>\n",
       "    <tr>\n",
       "      <th>WorkWeekHrs</th>\n",
       "      <td>On average, how many hours per week do you work?</td>\n",
       "    </tr>\n",
       "    <tr>\n",
       "      <th>YearsCode</th>\n",
       "      <td>Including any education, how many years have y...</td>\n",
       "    </tr>\n",
       "    <tr>\n",
       "      <th>YearsCodePro</th>\n",
       "      <td>How many years have you coded professionally (...</td>\n",
       "    </tr>\n",
       "  </tbody>\n",
       "</table>\n",
       "<p>85 rows × 1 columns</p>\n",
       "</div>"
      ],
      "text/plain": [
       "                                                    QuestionText\n",
       "Column                                                          \n",
       "Age            What is your age (in years)? If you prefer not...\n",
       "Age1stCode     At what age did you write your first line of c...\n",
       "BetterLife     Do you think people born today will have a bet...\n",
       "BlockchainIs   Blockchain / cryptocurrency technology is prim...\n",
       "BlockchainOrg  How is your organization thinking about or imp...\n",
       "...                                                          ...\n",
       "WorkPlan                 How structured or planned is your work?\n",
       "WorkRemote                       How often do you work remotely?\n",
       "WorkWeekHrs     On average, how many hours per week do you work?\n",
       "YearsCode      Including any education, how many years have y...\n",
       "YearsCodePro   How many years have you coded professionally (...\n",
       "\n",
       "[85 rows x 1 columns]"
      ]
     },
     "execution_count": 63,
     "metadata": {},
     "output_type": "execute_result"
    }
   ],
   "source": [
    "df_schema.sort_index()"
   ]
  },
  {
   "cell_type": "code",
   "execution_count": 64,
   "metadata": {},
   "outputs": [
    {
     "data": {
      "text/html": [
       "<div>\n",
       "<style scoped>\n",
       "    .dataframe tbody tr th:only-of-type {\n",
       "        vertical-align: middle;\n",
       "    }\n",
       "\n",
       "    .dataframe tbody tr th {\n",
       "        vertical-align: top;\n",
       "    }\n",
       "\n",
       "    .dataframe thead th {\n",
       "        text-align: right;\n",
       "    }\n",
       "</style>\n",
       "<table border=\"1\" class=\"dataframe\">\n",
       "  <thead>\n",
       "    <tr style=\"text-align: right;\">\n",
       "      <th></th>\n",
       "      <th>QuestionText</th>\n",
       "    </tr>\n",
       "    <tr>\n",
       "      <th>Column</th>\n",
       "      <th></th>\n",
       "    </tr>\n",
       "  </thead>\n",
       "  <tbody>\n",
       "    <tr>\n",
       "      <th>YearsCodePro</th>\n",
       "      <td>How many years have you coded professionally (...</td>\n",
       "    </tr>\n",
       "    <tr>\n",
       "      <th>YearsCode</th>\n",
       "      <td>Including any education, how many years have y...</td>\n",
       "    </tr>\n",
       "    <tr>\n",
       "      <th>WorkWeekHrs</th>\n",
       "      <td>On average, how many hours per week do you work?</td>\n",
       "    </tr>\n",
       "    <tr>\n",
       "      <th>WorkRemote</th>\n",
       "      <td>How often do you work remotely?</td>\n",
       "    </tr>\n",
       "    <tr>\n",
       "      <th>WorkPlan</th>\n",
       "      <td>How structured or planned is your work?</td>\n",
       "    </tr>\n",
       "    <tr>\n",
       "      <th>...</th>\n",
       "      <td>...</td>\n",
       "    </tr>\n",
       "    <tr>\n",
       "      <th>BlockchainOrg</th>\n",
       "      <td>How is your organization thinking about or imp...</td>\n",
       "    </tr>\n",
       "    <tr>\n",
       "      <th>BlockchainIs</th>\n",
       "      <td>Blockchain / cryptocurrency technology is prim...</td>\n",
       "    </tr>\n",
       "    <tr>\n",
       "      <th>BetterLife</th>\n",
       "      <td>Do you think people born today will have a bet...</td>\n",
       "    </tr>\n",
       "    <tr>\n",
       "      <th>Age1stCode</th>\n",
       "      <td>At what age did you write your first line of c...</td>\n",
       "    </tr>\n",
       "    <tr>\n",
       "      <th>Age</th>\n",
       "      <td>What is your age (in years)? If you prefer not...</td>\n",
       "    </tr>\n",
       "  </tbody>\n",
       "</table>\n",
       "<p>85 rows × 1 columns</p>\n",
       "</div>"
      ],
      "text/plain": [
       "                                                    QuestionText\n",
       "Column                                                          \n",
       "YearsCodePro   How many years have you coded professionally (...\n",
       "YearsCode      Including any education, how many years have y...\n",
       "WorkWeekHrs     On average, how many hours per week do you work?\n",
       "WorkRemote                       How often do you work remotely?\n",
       "WorkPlan                 How structured or planned is your work?\n",
       "...                                                          ...\n",
       "BlockchainOrg  How is your organization thinking about or imp...\n",
       "BlockchainIs   Blockchain / cryptocurrency technology is prim...\n",
       "BetterLife     Do you think people born today will have a bet...\n",
       "Age1stCode     At what age did you write your first line of c...\n",
       "Age            What is your age (in years)? If you prefer not...\n",
       "\n",
       "[85 rows x 1 columns]"
      ]
     },
     "execution_count": 64,
     "metadata": {},
     "output_type": "execute_result"
    }
   ],
   "source": [
    "df_schema.sort_index(ascending=False)"
   ]
  },
  {
   "cell_type": "code",
   "execution_count": 65,
   "metadata": {},
   "outputs": [
    {
     "data": {
      "text/html": [
       "<div>\n",
       "<style scoped>\n",
       "    .dataframe tbody tr th:only-of-type {\n",
       "        vertical-align: middle;\n",
       "    }\n",
       "\n",
       "    .dataframe tbody tr th {\n",
       "        vertical-align: top;\n",
       "    }\n",
       "\n",
       "    .dataframe thead th {\n",
       "        text-align: right;\n",
       "    }\n",
       "</style>\n",
       "<table border=\"1\" class=\"dataframe\">\n",
       "  <thead>\n",
       "    <tr style=\"text-align: right;\">\n",
       "      <th></th>\n",
       "      <th>QuestionText</th>\n",
       "    </tr>\n",
       "    <tr>\n",
       "      <th>Column</th>\n",
       "      <th></th>\n",
       "    </tr>\n",
       "  </thead>\n",
       "  <tbody>\n",
       "    <tr>\n",
       "      <th>Respondent</th>\n",
       "      <td>Randomized respondent ID number (not in order ...</td>\n",
       "    </tr>\n",
       "    <tr>\n",
       "      <th>MainBranch</th>\n",
       "      <td>Which of the following options best describes ...</td>\n",
       "    </tr>\n",
       "    <tr>\n",
       "      <th>Hobbyist</th>\n",
       "      <td>Do you code as a hobby?</td>\n",
       "    </tr>\n",
       "    <tr>\n",
       "      <th>OpenSourcer</th>\n",
       "      <td>How often do you contribute to open source?</td>\n",
       "    </tr>\n",
       "    <tr>\n",
       "      <th>OpenSource</th>\n",
       "      <td>How do you feel about the quality of open sour...</td>\n",
       "    </tr>\n",
       "    <tr>\n",
       "      <th>...</th>\n",
       "      <td>...</td>\n",
       "    </tr>\n",
       "    <tr>\n",
       "      <th>Sexuality</th>\n",
       "      <td>Which of the following do you currently identi...</td>\n",
       "    </tr>\n",
       "    <tr>\n",
       "      <th>Ethnicity</th>\n",
       "      <td>Which of the following do you identify as? Ple...</td>\n",
       "    </tr>\n",
       "    <tr>\n",
       "      <th>Dependents</th>\n",
       "      <td>Do you have any dependents (e.g., children, el...</td>\n",
       "    </tr>\n",
       "    <tr>\n",
       "      <th>SurveyLength</th>\n",
       "      <td>How do you feel about the length of the survey...</td>\n",
       "    </tr>\n",
       "    <tr>\n",
       "      <th>SurveyEase</th>\n",
       "      <td>How easy or difficult was this survey to compl...</td>\n",
       "    </tr>\n",
       "  </tbody>\n",
       "</table>\n",
       "<p>85 rows × 1 columns</p>\n",
       "</div>"
      ],
      "text/plain": [
       "                                                   QuestionText\n",
       "Column                                                         \n",
       "Respondent    Randomized respondent ID number (not in order ...\n",
       "MainBranch    Which of the following options best describes ...\n",
       "Hobbyist                                Do you code as a hobby?\n",
       "OpenSourcer         How often do you contribute to open source?\n",
       "OpenSource    How do you feel about the quality of open sour...\n",
       "...                                                         ...\n",
       "Sexuality     Which of the following do you currently identi...\n",
       "Ethnicity     Which of the following do you identify as? Ple...\n",
       "Dependents    Do you have any dependents (e.g., children, el...\n",
       "SurveyLength  How do you feel about the length of the survey...\n",
       "SurveyEase    How easy or difficult was this survey to compl...\n",
       "\n",
       "[85 rows x 1 columns]"
      ]
     },
     "execution_count": 65,
     "metadata": {},
     "output_type": "execute_result"
    }
   ],
   "source": [
    "df_schema"
   ]
  },
  {
   "cell_type": "markdown",
   "metadata": {},
   "source": [
    "> **Yukarıda görüldüğü gibi afabetik olarak hem A'dan Z'ye hem de Z'den A'ya doğru sıralamam rağmen orijinl tablo değişmedi. Çünkü Herhangi bir atama işlemi yapmadık.**"
   ]
  },
  {
   "cell_type": "code",
   "execution_count": 66,
   "metadata": {},
   "outputs": [
    {
     "data": {
      "text/html": [
       "<div>\n",
       "<style scoped>\n",
       "    .dataframe tbody tr th:only-of-type {\n",
       "        vertical-align: middle;\n",
       "    }\n",
       "\n",
       "    .dataframe tbody tr th {\n",
       "        vertical-align: top;\n",
       "    }\n",
       "\n",
       "    .dataframe thead th {\n",
       "        text-align: right;\n",
       "    }\n",
       "</style>\n",
       "<table border=\"1\" class=\"dataframe\">\n",
       "  <thead>\n",
       "    <tr style=\"text-align: right;\">\n",
       "      <th></th>\n",
       "      <th>QuestionText</th>\n",
       "    </tr>\n",
       "    <tr>\n",
       "      <th>Column</th>\n",
       "      <th></th>\n",
       "    </tr>\n",
       "  </thead>\n",
       "  <tbody>\n",
       "    <tr>\n",
       "      <th>Age</th>\n",
       "      <td>What is your age (in years)? If you prefer not...</td>\n",
       "    </tr>\n",
       "    <tr>\n",
       "      <th>Age1stCode</th>\n",
       "      <td>At what age did you write your first line of c...</td>\n",
       "    </tr>\n",
       "    <tr>\n",
       "      <th>BetterLife</th>\n",
       "      <td>Do you think people born today will have a bet...</td>\n",
       "    </tr>\n",
       "    <tr>\n",
       "      <th>BlockchainIs</th>\n",
       "      <td>Blockchain / cryptocurrency technology is prim...</td>\n",
       "    </tr>\n",
       "    <tr>\n",
       "      <th>BlockchainOrg</th>\n",
       "      <td>How is your organization thinking about or imp...</td>\n",
       "    </tr>\n",
       "    <tr>\n",
       "      <th>...</th>\n",
       "      <td>...</td>\n",
       "    </tr>\n",
       "    <tr>\n",
       "      <th>WorkPlan</th>\n",
       "      <td>How structured or planned is your work?</td>\n",
       "    </tr>\n",
       "    <tr>\n",
       "      <th>WorkRemote</th>\n",
       "      <td>How often do you work remotely?</td>\n",
       "    </tr>\n",
       "    <tr>\n",
       "      <th>WorkWeekHrs</th>\n",
       "      <td>On average, how many hours per week do you work?</td>\n",
       "    </tr>\n",
       "    <tr>\n",
       "      <th>YearsCode</th>\n",
       "      <td>Including any education, how many years have y...</td>\n",
       "    </tr>\n",
       "    <tr>\n",
       "      <th>YearsCodePro</th>\n",
       "      <td>How many years have you coded professionally (...</td>\n",
       "    </tr>\n",
       "  </tbody>\n",
       "</table>\n",
       "<p>85 rows × 1 columns</p>\n",
       "</div>"
      ],
      "text/plain": [
       "                                                    QuestionText\n",
       "Column                                                          \n",
       "Age            What is your age (in years)? If you prefer not...\n",
       "Age1stCode     At what age did you write your first line of c...\n",
       "BetterLife     Do you think people born today will have a bet...\n",
       "BlockchainIs   Blockchain / cryptocurrency technology is prim...\n",
       "BlockchainOrg  How is your organization thinking about or imp...\n",
       "...                                                          ...\n",
       "WorkPlan                 How structured or planned is your work?\n",
       "WorkRemote                       How often do you work remotely?\n",
       "WorkWeekHrs     On average, how many hours per week do you work?\n",
       "YearsCode      Including any education, how many years have y...\n",
       "YearsCodePro   How many years have you coded professionally (...\n",
       "\n",
       "[85 rows x 1 columns]"
      ]
     },
     "execution_count": 66,
     "metadata": {},
     "output_type": "execute_result"
    }
   ],
   "source": [
    "df_schema2 = df_schema.sort_index()\n",
    "df_schema2      # bundan sonra alfabetik olarak sıralanmış bir schema tablomuz var."
   ]
  },
  {
   "cell_type": "markdown",
   "metadata": {},
   "source": [
    "> **Ya da şöyle yapabiliriz:**"
   ]
  },
  {
   "cell_type": "code",
   "execution_count": 67,
   "metadata": {},
   "outputs": [
    {
     "data": {
      "text/html": [
       "<div>\n",
       "<style scoped>\n",
       "    .dataframe tbody tr th:only-of-type {\n",
       "        vertical-align: middle;\n",
       "    }\n",
       "\n",
       "    .dataframe tbody tr th {\n",
       "        vertical-align: top;\n",
       "    }\n",
       "\n",
       "    .dataframe thead th {\n",
       "        text-align: right;\n",
       "    }\n",
       "</style>\n",
       "<table border=\"1\" class=\"dataframe\">\n",
       "  <thead>\n",
       "    <tr style=\"text-align: right;\">\n",
       "      <th></th>\n",
       "      <th>last</th>\n",
       "      <th>email</th>\n",
       "    </tr>\n",
       "    <tr>\n",
       "      <th>first</th>\n",
       "      <th></th>\n",
       "      <th></th>\n",
       "    </tr>\n",
       "  </thead>\n",
       "  <tbody>\n",
       "    <tr>\n",
       "      <th>İrem</th>\n",
       "      <td>Çukurlu</td>\n",
       "      <td>iremcukurlu@email.com</td>\n",
       "    </tr>\n",
       "    <tr>\n",
       "      <th>Süheyla</th>\n",
       "      <td>Çukurlu</td>\n",
       "      <td>suheylacukurlu@email.com</td>\n",
       "    </tr>\n",
       "    <tr>\n",
       "      <th>Emre</th>\n",
       "      <td>Çakır</td>\n",
       "      <td>emrecakir@gmail.com</td>\n",
       "    </tr>\n",
       "  </tbody>\n",
       "</table>\n",
       "</div>"
      ],
      "text/plain": [
       "            last                     email\n",
       "first                                     \n",
       "İrem     Çukurlu     iremcukurlu@email.com\n",
       "Süheyla  Çukurlu  suheylacukurlu@email.com\n",
       "Emre       Çakır       emrecakir@gmail.com"
      ]
     },
     "execution_count": 67,
     "metadata": {},
     "output_type": "execute_result"
    }
   ],
   "source": [
    "df_people2.sort_index(ascending=False, inplace=True)\n",
    "df_people2      # ascending=False kullanarak z'den a'ya doğru sıraladık index column'unu. inpalce=True kullanarak da doğrudan atama yaptık.\n",
    "# not: İ harfi ingilizcede olmadığı için o harfi birinci sıraya atadı."
   ]
  },
  {
   "cell_type": "markdown",
   "metadata": {
    "jp-MarkdownHeadingCollapsed": true
   },
   "source": [
    "## **▶️▶️ 3.8 Filtre Oluşturma Yöntemi**"
   ]
  },
  {
   "cell_type": "markdown",
   "metadata": {},
   "source": [
    "### **▶️ 3.7.1 df_people üzerinde uygulamalar**"
   ]
  },
  {
   "cell_type": "code",
   "execution_count": 68,
   "metadata": {},
   "outputs": [
    {
     "data": {
      "text/html": [
       "<div>\n",
       "<style scoped>\n",
       "    .dataframe tbody tr th:only-of-type {\n",
       "        vertical-align: middle;\n",
       "    }\n",
       "\n",
       "    .dataframe tbody tr th {\n",
       "        vertical-align: top;\n",
       "    }\n",
       "\n",
       "    .dataframe thead th {\n",
       "        text-align: right;\n",
       "    }\n",
       "</style>\n",
       "<table border=\"1\" class=\"dataframe\">\n",
       "  <thead>\n",
       "    <tr style=\"text-align: right;\">\n",
       "      <th></th>\n",
       "      <th>first</th>\n",
       "      <th>last</th>\n",
       "      <th>email</th>\n",
       "    </tr>\n",
       "  </thead>\n",
       "  <tbody>\n",
       "    <tr>\n",
       "      <th>0</th>\n",
       "      <td>Emre</td>\n",
       "      <td>Çakır</td>\n",
       "      <td>emrecakir@gmail.com</td>\n",
       "    </tr>\n",
       "    <tr>\n",
       "      <th>1</th>\n",
       "      <td>İrem</td>\n",
       "      <td>Çukurlu</td>\n",
       "      <td>iremcukurlu@email.com</td>\n",
       "    </tr>\n",
       "    <tr>\n",
       "      <th>2</th>\n",
       "      <td>Süheyla</td>\n",
       "      <td>Çukurlu</td>\n",
       "      <td>suheylacukurlu@email.com</td>\n",
       "    </tr>\n",
       "  </tbody>\n",
       "</table>\n",
       "</div>"
      ],
      "text/plain": [
       "     first     last                     email\n",
       "0     Emre    Çakır       emrecakir@gmail.com\n",
       "1     İrem  Çukurlu     iremcukurlu@email.com\n",
       "2  Süheyla  Çukurlu  suheylacukurlu@email.com"
      ]
     },
     "execution_count": 68,
     "metadata": {},
     "output_type": "execute_result"
    }
   ],
   "source": [
    "df_people"
   ]
  },
  {
   "cell_type": "code",
   "execution_count": 69,
   "metadata": {},
   "outputs": [
    {
     "data": {
      "text/plain": [
       "0    False\n",
       "1     True\n",
       "2     True\n",
       "Name: last, dtype: bool"
      ]
     },
     "execution_count": 69,
     "metadata": {},
     "output_type": "execute_result"
    }
   ],
   "source": [
    "# aşağıda yaptığımız işlem şudur, last == 'Çukurlu' olan row'ları True, geri kalanları ise False yazdır.\n",
    "\n",
    "filt = df_people[\"last\"] == \"Çukurlu\"\n",
    "filt"
   ]
  },
  {
   "cell_type": "markdown",
   "metadata": {},
   "source": [
    "    Yukarıda uyguladığımız filtre işlemini \"filt\" değişkenine atadık. filt değişkeni bize soyisimi çukurlu olan satırların True, diğer satırların ise False olduğunu söyler. ana tabloda hiçbir değişiklik yok yani. Eğer biz bu filt değişkenini aşağıdaki gibi bir loc[] metodu içerisine yazarsak, sadece True olan satırlar yazdırılacak. Böylece column'lar üzerinden filtreleme yapıp istediğimiz row'u yazdırabiliyoruz:\n"
   ]
  },
  {
   "cell_type": "code",
   "execution_count": 70,
   "metadata": {},
   "outputs": [
    {
     "data": {
      "text/html": [
       "<div>\n",
       "<style scoped>\n",
       "    .dataframe tbody tr th:only-of-type {\n",
       "        vertical-align: middle;\n",
       "    }\n",
       "\n",
       "    .dataframe tbody tr th {\n",
       "        vertical-align: top;\n",
       "    }\n",
       "\n",
       "    .dataframe thead th {\n",
       "        text-align: right;\n",
       "    }\n",
       "</style>\n",
       "<table border=\"1\" class=\"dataframe\">\n",
       "  <thead>\n",
       "    <tr style=\"text-align: right;\">\n",
       "      <th></th>\n",
       "      <th>first</th>\n",
       "      <th>last</th>\n",
       "      <th>email</th>\n",
       "    </tr>\n",
       "  </thead>\n",
       "  <tbody>\n",
       "    <tr>\n",
       "      <th>1</th>\n",
       "      <td>İrem</td>\n",
       "      <td>Çukurlu</td>\n",
       "      <td>iremcukurlu@email.com</td>\n",
       "    </tr>\n",
       "    <tr>\n",
       "      <th>2</th>\n",
       "      <td>Süheyla</td>\n",
       "      <td>Çukurlu</td>\n",
       "      <td>suheylacukurlu@email.com</td>\n",
       "    </tr>\n",
       "  </tbody>\n",
       "</table>\n",
       "</div>"
      ],
      "text/plain": [
       "     first     last                     email\n",
       "1     İrem  Çukurlu     iremcukurlu@email.com\n",
       "2  Süheyla  Çukurlu  suheylacukurlu@email.com"
      ]
     },
     "execution_count": 70,
     "metadata": {},
     "output_type": "execute_result"
    }
   ],
   "source": [
    "# soyismi \"Çukurlu\" olan satırları yazdıran filtreleme işlemi:\n",
    "\n",
    "df_people.loc[filt]"
   ]
  },
  {
   "cell_type": "code",
   "execution_count": 71,
   "metadata": {},
   "outputs": [
    {
     "data": {
      "text/plain": [
       "1       İrem\n",
       "2    Süheyla\n",
       "Name: first, dtype: object"
      ]
     },
     "execution_count": 71,
     "metadata": {},
     "output_type": "execute_result"
    }
   ],
   "source": [
    "# soyismi \"Çukurlu\" olan isimleri yazdıran filtreleme işlemi:\n",
    "\n",
    "df_people.loc[filt, 'first']"
   ]
  },
  {
   "cell_type": "code",
   "execution_count": 72,
   "metadata": {},
   "outputs": [
    {
     "data": {
      "text/plain": [
       "1       iremcukurlu@email.com\n",
       "2    suheylacukurlu@email.com\n",
       "Name: email, dtype: object"
      ]
     },
     "execution_count": 72,
     "metadata": {},
     "output_type": "execute_result"
    }
   ],
   "source": [
    "# ya da soyisimi \"Çukurlu\" olan emailleri yazdıran filtrelem işlemi:\n",
    "\n",
    "df_people.loc[filt, 'email']\n"
   ]
  },
  {
   "cell_type": "markdown",
   "metadata": {},
   "source": [
    "### **▶️ 3.7.2 df_survey üzerinde uygulamalar**"
   ]
  },
  {
   "cell_type": "code",
   "execution_count": 73,
   "metadata": {},
   "outputs": [
    {
     "data": {
      "text/html": [
       "<div>\n",
       "<style scoped>\n",
       "    .dataframe tbody tr th:only-of-type {\n",
       "        vertical-align: middle;\n",
       "    }\n",
       "\n",
       "    .dataframe tbody tr th {\n",
       "        vertical-align: top;\n",
       "    }\n",
       "\n",
       "    .dataframe thead th {\n",
       "        text-align: right;\n",
       "    }\n",
       "</style>\n",
       "<table border=\"1\" class=\"dataframe\">\n",
       "  <thead>\n",
       "    <tr style=\"text-align: right;\">\n",
       "      <th></th>\n",
       "      <th>MainBranch</th>\n",
       "      <th>Hobbyist</th>\n",
       "      <th>...</th>\n",
       "      <th>SurveyLength</th>\n",
       "      <th>SurveyEase</th>\n",
       "    </tr>\n",
       "    <tr>\n",
       "      <th>Respondent</th>\n",
       "      <th></th>\n",
       "      <th></th>\n",
       "      <th></th>\n",
       "      <th></th>\n",
       "      <th></th>\n",
       "    </tr>\n",
       "  </thead>\n",
       "  <tbody>\n",
       "    <tr>\n",
       "      <th>1</th>\n",
       "      <td>I am a student who is learning to code</td>\n",
       "      <td>Yes</td>\n",
       "      <td>...</td>\n",
       "      <td>Appropriate in length</td>\n",
       "      <td>Neither easy nor difficult</td>\n",
       "    </tr>\n",
       "    <tr>\n",
       "      <th>2</th>\n",
       "      <td>I am a student who is learning to code</td>\n",
       "      <td>No</td>\n",
       "      <td>...</td>\n",
       "      <td>Appropriate in length</td>\n",
       "      <td>Neither easy nor difficult</td>\n",
       "    </tr>\n",
       "    <tr>\n",
       "      <th>3</th>\n",
       "      <td>I am not primarily a developer, but I write co...</td>\n",
       "      <td>Yes</td>\n",
       "      <td>...</td>\n",
       "      <td>Appropriate in length</td>\n",
       "      <td>Neither easy nor difficult</td>\n",
       "    </tr>\n",
       "    <tr>\n",
       "      <th>4</th>\n",
       "      <td>I am a developer by profession</td>\n",
       "      <td>No</td>\n",
       "      <td>...</td>\n",
       "      <td>Appropriate in length</td>\n",
       "      <td>Easy</td>\n",
       "    </tr>\n",
       "    <tr>\n",
       "      <th>5</th>\n",
       "      <td>I am a developer by profession</td>\n",
       "      <td>Yes</td>\n",
       "      <td>...</td>\n",
       "      <td>Appropriate in length</td>\n",
       "      <td>Easy</td>\n",
       "    </tr>\n",
       "    <tr>\n",
       "      <th>...</th>\n",
       "      <td>...</td>\n",
       "      <td>...</td>\n",
       "      <td>...</td>\n",
       "      <td>...</td>\n",
       "      <td>...</td>\n",
       "    </tr>\n",
       "    <tr>\n",
       "      <th>88377</th>\n",
       "      <td>NaN</td>\n",
       "      <td>Yes</td>\n",
       "      <td>...</td>\n",
       "      <td>Appropriate in length</td>\n",
       "      <td>Easy</td>\n",
       "    </tr>\n",
       "    <tr>\n",
       "      <th>88601</th>\n",
       "      <td>NaN</td>\n",
       "      <td>No</td>\n",
       "      <td>...</td>\n",
       "      <td>NaN</td>\n",
       "      <td>NaN</td>\n",
       "    </tr>\n",
       "    <tr>\n",
       "      <th>88802</th>\n",
       "      <td>NaN</td>\n",
       "      <td>No</td>\n",
       "      <td>...</td>\n",
       "      <td>NaN</td>\n",
       "      <td>NaN</td>\n",
       "    </tr>\n",
       "    <tr>\n",
       "      <th>88816</th>\n",
       "      <td>NaN</td>\n",
       "      <td>No</td>\n",
       "      <td>...</td>\n",
       "      <td>NaN</td>\n",
       "      <td>NaN</td>\n",
       "    </tr>\n",
       "    <tr>\n",
       "      <th>88863</th>\n",
       "      <td>NaN</td>\n",
       "      <td>Yes</td>\n",
       "      <td>...</td>\n",
       "      <td>Appropriate in length</td>\n",
       "      <td>Easy</td>\n",
       "    </tr>\n",
       "  </tbody>\n",
       "</table>\n",
       "<p>88883 rows × 84 columns</p>\n",
       "</div>"
      ],
      "text/plain": [
       "                                                   MainBranch Hobbyist  ...  \\\n",
       "Respondent                                                              ...   \n",
       "1                      I am a student who is learning to code      Yes  ...   \n",
       "2                      I am a student who is learning to code       No  ...   \n",
       "3           I am not primarily a developer, but I write co...      Yes  ...   \n",
       "4                              I am a developer by profession       No  ...   \n",
       "5                              I am a developer by profession      Yes  ...   \n",
       "...                                                       ...      ...  ...   \n",
       "88377                                                     NaN      Yes  ...   \n",
       "88601                                                     NaN       No  ...   \n",
       "88802                                                     NaN       No  ...   \n",
       "88816                                                     NaN       No  ...   \n",
       "88863                                                     NaN      Yes  ...   \n",
       "\n",
       "                     SurveyLength                  SurveyEase  \n",
       "Respondent                                                     \n",
       "1           Appropriate in length  Neither easy nor difficult  \n",
       "2           Appropriate in length  Neither easy nor difficult  \n",
       "3           Appropriate in length  Neither easy nor difficult  \n",
       "4           Appropriate in length                        Easy  \n",
       "5           Appropriate in length                        Easy  \n",
       "...                           ...                         ...  \n",
       "88377       Appropriate in length                        Easy  \n",
       "88601                         NaN                         NaN  \n",
       "88802                         NaN                         NaN  \n",
       "88816                         NaN                         NaN  \n",
       "88863       Appropriate in length                        Easy  \n",
       "\n",
       "[88883 rows x 84 columns]"
      ]
     },
     "execution_count": 73,
     "metadata": {},
     "output_type": "execute_result"
    }
   ],
   "source": [
    "df_survey"
   ]
  },
  {
   "cell_type": "code",
   "execution_count": 74,
   "metadata": {},
   "outputs": [
    {
     "data": {
      "text/plain": [
       "Index(['MainBranch', 'Hobbyist', 'OpenSourcer', 'OpenSource', 'Employment',\n",
       "       'Country', 'Student', 'EdLevel', 'UndergradMajor', 'EduOther',\n",
       "       'OrgSize', 'DevType', 'YearsCode', 'Age1stCode', 'YearsCodePro',\n",
       "       'CareerSat', 'JobSat', 'MgrIdiot', 'MgrMoney', 'MgrWant', 'JobSeek',\n",
       "       'LastHireDate', 'LastInt', 'FizzBuzz', 'JobFactors', 'ResumeUpdate',\n",
       "       'CurrencySymbol', 'CurrencyDesc', 'CompTotal', 'CompFreq',\n",
       "       'ConvertedComp', 'WorkWeekHrs', 'WorkPlan', 'WorkChallenge',\n",
       "       'WorkRemote', 'WorkLoc', 'ImpSyn', 'CodeRev', 'CodeRevHrs', 'UnitTests',\n",
       "       'PurchaseHow', 'PurchaseWhat', 'LanguageWorkedWith',\n",
       "       'LanguageDesireNextYear', 'DatabaseWorkedWith',\n",
       "       'DatabaseDesireNextYear', 'PlatformWorkedWith',\n",
       "       'PlatformDesireNextYear', 'WebFrameWorkedWith',\n",
       "       'WebFrameDesireNextYear', 'MiscTechWorkedWith',\n",
       "       'MiscTechDesireNextYear', 'DevEnviron', 'OpSys', 'Containers',\n",
       "       'BlockchainOrg', 'BlockchainIs', 'BetterLife', 'ITperson', 'OffOn',\n",
       "       'SocialMedia', 'Extraversion', 'ScreenName', 'SOVisit1st',\n",
       "       'SOVisitFreq', 'SOVisitTo', 'SOFindAnswer', 'SOTimeSaved',\n",
       "       'SOHowMuchTime', 'SOAccount', 'SOPartFreq', 'SOJobs', 'EntTeams',\n",
       "       'SOComm', 'WelcomeChange', 'SONewContent', 'Age', 'Gender', 'Trans',\n",
       "       'Sexuality', 'Ethnicity', 'Dependents', 'SurveyLength', 'SurveyEase'],\n",
       "      dtype='object')"
      ]
     },
     "execution_count": 74,
     "metadata": {},
     "output_type": "execute_result"
    }
   ],
   "source": [
    "df_survey.columns"
   ]
  },
  {
   "cell_type": "markdown",
   "metadata": {},
   "source": [
    "    Aşağıda kullanılan value_couns() metodunu görmedik daha. Özetle, survey tablosundaki cinsiyet'e verilen cevapları detaylı olarka yazdırmıştır."
   ]
  },
  {
   "cell_type": "code",
   "execution_count": 75,
   "metadata": {},
   "outputs": [
    {
     "data": {
      "text/plain": [
       "Sexuality\n",
       "Straight / Heterosexual                            70155\n",
       "Bisexual                                            3440\n",
       "Gay or Lesbian                                      1798\n",
       "Bisexual;Straight / Heterosexual                     494\n",
       "Bisexual;Gay or Lesbian                              114\n",
       "Bisexual;Gay or Lesbian;Straight / Heterosexual      108\n",
       "Gay or Lesbian;Straight / Heterosexual                38\n",
       "Name: count, dtype: int64"
      ]
     },
     "execution_count": 75,
     "metadata": {},
     "output_type": "execute_result"
    }
   ],
   "source": [
    "df_survey[\"Sexuality\"].value_counts()   "
   ]
  },
  {
   "cell_type": "code",
   "execution_count": 76,
   "metadata": {},
   "outputs": [
    {
     "data": {
      "text/html": [
       "<div>\n",
       "<style scoped>\n",
       "    .dataframe tbody tr th:only-of-type {\n",
       "        vertical-align: middle;\n",
       "    }\n",
       "\n",
       "    .dataframe tbody tr th {\n",
       "        vertical-align: top;\n",
       "    }\n",
       "\n",
       "    .dataframe thead th {\n",
       "        text-align: right;\n",
       "    }\n",
       "</style>\n",
       "<table border=\"1\" class=\"dataframe\">\n",
       "  <thead>\n",
       "    <tr style=\"text-align: right;\">\n",
       "      <th></th>\n",
       "      <th>MainBranch</th>\n",
       "      <th>Hobbyist</th>\n",
       "      <th>...</th>\n",
       "      <th>SurveyLength</th>\n",
       "      <th>SurveyEase</th>\n",
       "    </tr>\n",
       "    <tr>\n",
       "      <th>Respondent</th>\n",
       "      <th></th>\n",
       "      <th></th>\n",
       "      <th></th>\n",
       "      <th></th>\n",
       "      <th></th>\n",
       "    </tr>\n",
       "  </thead>\n",
       "  <tbody>\n",
       "    <tr>\n",
       "      <th>9</th>\n",
       "      <td>I am a developer by profession</td>\n",
       "      <td>Yes</td>\n",
       "      <td>...</td>\n",
       "      <td>Appropriate in length</td>\n",
       "      <td>Neither easy nor difficult</td>\n",
       "    </tr>\n",
       "    <tr>\n",
       "      <th>26</th>\n",
       "      <td>I am a developer by profession</td>\n",
       "      <td>Yes</td>\n",
       "      <td>...</td>\n",
       "      <td>Appropriate in length</td>\n",
       "      <td>Easy</td>\n",
       "    </tr>\n",
       "    <tr>\n",
       "      <th>34</th>\n",
       "      <td>I am a student who is learning to code</td>\n",
       "      <td>Yes</td>\n",
       "      <td>...</td>\n",
       "      <td>Too short</td>\n",
       "      <td>Neither easy nor difficult</td>\n",
       "    </tr>\n",
       "    <tr>\n",
       "      <th>39</th>\n",
       "      <td>I am a developer by profession</td>\n",
       "      <td>Yes</td>\n",
       "      <td>...</td>\n",
       "      <td>Appropriate in length</td>\n",
       "      <td>Easy</td>\n",
       "    </tr>\n",
       "    <tr>\n",
       "      <th>60</th>\n",
       "      <td>I am a developer by profession</td>\n",
       "      <td>Yes</td>\n",
       "      <td>...</td>\n",
       "      <td>NaN</td>\n",
       "      <td>NaN</td>\n",
       "    </tr>\n",
       "    <tr>\n",
       "      <th>...</th>\n",
       "      <td>...</td>\n",
       "      <td>...</td>\n",
       "      <td>...</td>\n",
       "      <td>...</td>\n",
       "      <td>...</td>\n",
       "    </tr>\n",
       "    <tr>\n",
       "      <th>81093</th>\n",
       "      <td>NaN</td>\n",
       "      <td>Yes</td>\n",
       "      <td>...</td>\n",
       "      <td>Appropriate in length</td>\n",
       "      <td>Easy</td>\n",
       "    </tr>\n",
       "    <tr>\n",
       "      <th>83397</th>\n",
       "      <td>NaN</td>\n",
       "      <td>Yes</td>\n",
       "      <td>...</td>\n",
       "      <td>Appropriate in length</td>\n",
       "      <td>Easy</td>\n",
       "    </tr>\n",
       "    <tr>\n",
       "      <th>83612</th>\n",
       "      <td>NaN</td>\n",
       "      <td>Yes</td>\n",
       "      <td>...</td>\n",
       "      <td>NaN</td>\n",
       "      <td>NaN</td>\n",
       "    </tr>\n",
       "    <tr>\n",
       "      <th>84539</th>\n",
       "      <td>NaN</td>\n",
       "      <td>Yes</td>\n",
       "      <td>...</td>\n",
       "      <td>Appropriate in length</td>\n",
       "      <td>Easy</td>\n",
       "    </tr>\n",
       "    <tr>\n",
       "      <th>85961</th>\n",
       "      <td>NaN</td>\n",
       "      <td>Yes</td>\n",
       "      <td>...</td>\n",
       "      <td>Appropriate in length</td>\n",
       "      <td>Difficult</td>\n",
       "    </tr>\n",
       "  </tbody>\n",
       "</table>\n",
       "<p>5238 rows × 84 columns</p>\n",
       "</div>"
      ],
      "text/plain": [
       "                                        MainBranch Hobbyist  ...  \\\n",
       "Respondent                                                   ...   \n",
       "9                   I am a developer by profession      Yes  ...   \n",
       "26                  I am a developer by profession      Yes  ...   \n",
       "34          I am a student who is learning to code      Yes  ...   \n",
       "39                  I am a developer by profession      Yes  ...   \n",
       "60                  I am a developer by profession      Yes  ...   \n",
       "...                                            ...      ...  ...   \n",
       "81093                                          NaN      Yes  ...   \n",
       "83397                                          NaN      Yes  ...   \n",
       "83612                                          NaN      Yes  ...   \n",
       "84539                                          NaN      Yes  ...   \n",
       "85961                                          NaN      Yes  ...   \n",
       "\n",
       "                     SurveyLength                  SurveyEase  \n",
       "Respondent                                                     \n",
       "9           Appropriate in length  Neither easy nor difficult  \n",
       "26          Appropriate in length                        Easy  \n",
       "34                      Too short  Neither easy nor difficult  \n",
       "39          Appropriate in length                        Easy  \n",
       "60                            NaN                         NaN  \n",
       "...                           ...                         ...  \n",
       "81093       Appropriate in length                        Easy  \n",
       "83397       Appropriate in length                        Easy  \n",
       "83612                         NaN                         NaN  \n",
       "84539       Appropriate in length                        Easy  \n",
       "85961       Appropriate in length                   Difficult  \n",
       "\n",
       "[5238 rows x 84 columns]"
      ]
     },
     "execution_count": 76,
     "metadata": {},
     "output_type": "execute_result"
    }
   ],
   "source": [
    "# biz aşağıya, cinsiyetini \"bisexual\" veya \"Gay or Lesbian\" olarak belirten kişilerin satırlarını yazdıralım:\n",
    "\n",
    "filt_sex = (df_survey[\"Sexuality\"] == \"Bisexual\") | (df_survey[\"Sexuality\"] == \"Gay or Lesbian\")\n",
    "\n",
    "df_survey.loc[filt_sex]"
   ]
  },
  {
   "cell_type": "markdown",
   "metadata": {},
   "source": [
    "    not: yukarıda görüldüğü gibi union simgesi olan | kulanılmıştır.\n",
    "\n",
    "    union (birleşim)      :     |\n",
    "    intersection (kesişim):     &\n",
    "    difference (fark)     :     -\n",
    "\n",
    "    symetricdifference     :    ^  "
   ]
  },
  {
   "cell_type": "code",
   "execution_count": 77,
   "metadata": {},
   "outputs": [
    {
     "data": {
      "text/html": [
       "<div>\n",
       "<style scoped>\n",
       "    .dataframe tbody tr th:only-of-type {\n",
       "        vertical-align: middle;\n",
       "    }\n",
       "\n",
       "    .dataframe tbody tr th {\n",
       "        vertical-align: top;\n",
       "    }\n",
       "\n",
       "    .dataframe thead th {\n",
       "        text-align: right;\n",
       "    }\n",
       "</style>\n",
       "<table border=\"1\" class=\"dataframe\">\n",
       "  <thead>\n",
       "    <tr style=\"text-align: right;\">\n",
       "      <th></th>\n",
       "      <th>MainBranch</th>\n",
       "      <th>Hobbyist</th>\n",
       "      <th>...</th>\n",
       "      <th>SurveyLength</th>\n",
       "      <th>SurveyEase</th>\n",
       "    </tr>\n",
       "    <tr>\n",
       "      <th>Respondent</th>\n",
       "      <th></th>\n",
       "      <th></th>\n",
       "      <th></th>\n",
       "      <th></th>\n",
       "      <th></th>\n",
       "    </tr>\n",
       "  </thead>\n",
       "  <tbody>\n",
       "    <tr>\n",
       "      <th>9</th>\n",
       "      <td>I am a developer by profession</td>\n",
       "      <td>Yes</td>\n",
       "      <td>...</td>\n",
       "      <td>Appropriate in length</td>\n",
       "      <td>Neither easy nor difficult</td>\n",
       "    </tr>\n",
       "    <tr>\n",
       "      <th>26</th>\n",
       "      <td>I am a developer by profession</td>\n",
       "      <td>Yes</td>\n",
       "      <td>...</td>\n",
       "      <td>Appropriate in length</td>\n",
       "      <td>Easy</td>\n",
       "    </tr>\n",
       "    <tr>\n",
       "      <th>34</th>\n",
       "      <td>I am a student who is learning to code</td>\n",
       "      <td>Yes</td>\n",
       "      <td>...</td>\n",
       "      <td>Too short</td>\n",
       "      <td>Neither easy nor difficult</td>\n",
       "    </tr>\n",
       "    <tr>\n",
       "      <th>39</th>\n",
       "      <td>I am a developer by profession</td>\n",
       "      <td>Yes</td>\n",
       "      <td>...</td>\n",
       "      <td>Appropriate in length</td>\n",
       "      <td>Easy</td>\n",
       "    </tr>\n",
       "    <tr>\n",
       "      <th>60</th>\n",
       "      <td>I am a developer by profession</td>\n",
       "      <td>Yes</td>\n",
       "      <td>...</td>\n",
       "      <td>NaN</td>\n",
       "      <td>NaN</td>\n",
       "    </tr>\n",
       "    <tr>\n",
       "      <th>...</th>\n",
       "      <td>...</td>\n",
       "      <td>...</td>\n",
       "      <td>...</td>\n",
       "      <td>...</td>\n",
       "      <td>...</td>\n",
       "    </tr>\n",
       "    <tr>\n",
       "      <th>81093</th>\n",
       "      <td>NaN</td>\n",
       "      <td>Yes</td>\n",
       "      <td>...</td>\n",
       "      <td>Appropriate in length</td>\n",
       "      <td>Easy</td>\n",
       "    </tr>\n",
       "    <tr>\n",
       "      <th>83397</th>\n",
       "      <td>NaN</td>\n",
       "      <td>Yes</td>\n",
       "      <td>...</td>\n",
       "      <td>Appropriate in length</td>\n",
       "      <td>Easy</td>\n",
       "    </tr>\n",
       "    <tr>\n",
       "      <th>83612</th>\n",
       "      <td>NaN</td>\n",
       "      <td>Yes</td>\n",
       "      <td>...</td>\n",
       "      <td>NaN</td>\n",
       "      <td>NaN</td>\n",
       "    </tr>\n",
       "    <tr>\n",
       "      <th>84539</th>\n",
       "      <td>NaN</td>\n",
       "      <td>Yes</td>\n",
       "      <td>...</td>\n",
       "      <td>Appropriate in length</td>\n",
       "      <td>Easy</td>\n",
       "    </tr>\n",
       "    <tr>\n",
       "      <th>85961</th>\n",
       "      <td>NaN</td>\n",
       "      <td>Yes</td>\n",
       "      <td>...</td>\n",
       "      <td>Appropriate in length</td>\n",
       "      <td>Difficult</td>\n",
       "    </tr>\n",
       "  </tbody>\n",
       "</table>\n",
       "<p>5238 rows × 84 columns</p>\n",
       "</div>"
      ],
      "text/plain": [
       "                                        MainBranch Hobbyist  ...  \\\n",
       "Respondent                                                   ...   \n",
       "9                   I am a developer by profession      Yes  ...   \n",
       "26                  I am a developer by profession      Yes  ...   \n",
       "34          I am a student who is learning to code      Yes  ...   \n",
       "39                  I am a developer by profession      Yes  ...   \n",
       "60                  I am a developer by profession      Yes  ...   \n",
       "...                                            ...      ...  ...   \n",
       "81093                                          NaN      Yes  ...   \n",
       "83397                                          NaN      Yes  ...   \n",
       "83612                                          NaN      Yes  ...   \n",
       "84539                                          NaN      Yes  ...   \n",
       "85961                                          NaN      Yes  ...   \n",
       "\n",
       "                     SurveyLength                  SurveyEase  \n",
       "Respondent                                                     \n",
       "9           Appropriate in length  Neither easy nor difficult  \n",
       "26          Appropriate in length                        Easy  \n",
       "34                      Too short  Neither easy nor difficult  \n",
       "39          Appropriate in length                        Easy  \n",
       "60                            NaN                         NaN  \n",
       "...                           ...                         ...  \n",
       "81093       Appropriate in length                        Easy  \n",
       "83397       Appropriate in length                        Easy  \n",
       "83612                         NaN                         NaN  \n",
       "84539       Appropriate in length                        Easy  \n",
       "85961       Appropriate in length                   Difficult  \n",
       "\n",
       "[5238 rows x 84 columns]"
      ]
     },
     "execution_count": 77,
     "metadata": {},
     "output_type": "execute_result"
    }
   ],
   "source": [
    "# aşağıda atık bu cinsiyet filtresine ait bir değişkenimiz var. Ve bu değişken üzerinden daha pratik işlemler yapılabilir\n",
    "\n",
    "df_survey_sex = df_survey.loc[filt_sex]\n",
    "df_survey_sex"
   ]
  },
  {
   "cell_type": "code",
   "execution_count": 78,
   "metadata": {},
   "outputs": [
    {
     "data": {
      "text/html": [
       "<div>\n",
       "<style scoped>\n",
       "    .dataframe tbody tr th:only-of-type {\n",
       "        vertical-align: middle;\n",
       "    }\n",
       "\n",
       "    .dataframe tbody tr th {\n",
       "        vertical-align: top;\n",
       "    }\n",
       "\n",
       "    .dataframe thead th {\n",
       "        text-align: right;\n",
       "    }\n",
       "</style>\n",
       "<table border=\"1\" class=\"dataframe\">\n",
       "  <thead>\n",
       "    <tr style=\"text-align: right;\">\n",
       "      <th></th>\n",
       "      <th>MainBranch</th>\n",
       "      <th>Hobbyist</th>\n",
       "      <th>...</th>\n",
       "      <th>SurveyLength</th>\n",
       "      <th>SurveyEase</th>\n",
       "    </tr>\n",
       "    <tr>\n",
       "      <th>Respondent</th>\n",
       "      <th></th>\n",
       "      <th></th>\n",
       "      <th></th>\n",
       "      <th></th>\n",
       "      <th></th>\n",
       "    </tr>\n",
       "  </thead>\n",
       "  <tbody>\n",
       "    <tr>\n",
       "      <th>9</th>\n",
       "      <td>I am a developer by profession</td>\n",
       "      <td>Yes</td>\n",
       "      <td>...</td>\n",
       "      <td>Appropriate in length</td>\n",
       "      <td>Neither easy nor difficult</td>\n",
       "    </tr>\n",
       "    <tr>\n",
       "      <th>26</th>\n",
       "      <td>I am a developer by profession</td>\n",
       "      <td>Yes</td>\n",
       "      <td>...</td>\n",
       "      <td>Appropriate in length</td>\n",
       "      <td>Easy</td>\n",
       "    </tr>\n",
       "    <tr>\n",
       "      <th>39</th>\n",
       "      <td>I am a developer by profession</td>\n",
       "      <td>Yes</td>\n",
       "      <td>...</td>\n",
       "      <td>Appropriate in length</td>\n",
       "      <td>Easy</td>\n",
       "    </tr>\n",
       "    <tr>\n",
       "      <th>60</th>\n",
       "      <td>I am a developer by profession</td>\n",
       "      <td>Yes</td>\n",
       "      <td>...</td>\n",
       "      <td>NaN</td>\n",
       "      <td>NaN</td>\n",
       "    </tr>\n",
       "    <tr>\n",
       "      <th>100</th>\n",
       "      <td>I am a developer by profession</td>\n",
       "      <td>Yes</td>\n",
       "      <td>...</td>\n",
       "      <td>Appropriate in length</td>\n",
       "      <td>Easy</td>\n",
       "    </tr>\n",
       "    <tr>\n",
       "      <th>...</th>\n",
       "      <td>...</td>\n",
       "      <td>...</td>\n",
       "      <td>...</td>\n",
       "      <td>...</td>\n",
       "      <td>...</td>\n",
       "    </tr>\n",
       "    <tr>\n",
       "      <th>88800</th>\n",
       "      <td>I am a developer by profession</td>\n",
       "      <td>Yes</td>\n",
       "      <td>...</td>\n",
       "      <td>Too long</td>\n",
       "      <td>Neither easy nor difficult</td>\n",
       "    </tr>\n",
       "    <tr>\n",
       "      <th>88845</th>\n",
       "      <td>I am a developer by profession</td>\n",
       "      <td>Yes</td>\n",
       "      <td>...</td>\n",
       "      <td>Appropriate in length</td>\n",
       "      <td>Easy</td>\n",
       "    </tr>\n",
       "    <tr>\n",
       "      <th>88865</th>\n",
       "      <td>I am a developer by profession</td>\n",
       "      <td>No</td>\n",
       "      <td>...</td>\n",
       "      <td>Appropriate in length</td>\n",
       "      <td>Easy</td>\n",
       "    </tr>\n",
       "    <tr>\n",
       "      <th>88868</th>\n",
       "      <td>I am a developer by profession</td>\n",
       "      <td>Yes</td>\n",
       "      <td>...</td>\n",
       "      <td>Appropriate in length</td>\n",
       "      <td>Easy</td>\n",
       "    </tr>\n",
       "    <tr>\n",
       "      <th>88873</th>\n",
       "      <td>I am a developer by profession</td>\n",
       "      <td>Yes</td>\n",
       "      <td>...</td>\n",
       "      <td>Appropriate in length</td>\n",
       "      <td>Easy</td>\n",
       "    </tr>\n",
       "  </tbody>\n",
       "</table>\n",
       "<p>3621 rows × 84 columns</p>\n",
       "</div>"
      ],
      "text/plain": [
       "                                MainBranch Hobbyist  ...  \\\n",
       "Respondent                                           ...   \n",
       "9           I am a developer by profession      Yes  ...   \n",
       "26          I am a developer by profession      Yes  ...   \n",
       "39          I am a developer by profession      Yes  ...   \n",
       "60          I am a developer by profession      Yes  ...   \n",
       "100         I am a developer by profession      Yes  ...   \n",
       "...                                    ...      ...  ...   \n",
       "88800       I am a developer by profession      Yes  ...   \n",
       "88845       I am a developer by profession      Yes  ...   \n",
       "88865       I am a developer by profession       No  ...   \n",
       "88868       I am a developer by profession      Yes  ...   \n",
       "88873       I am a developer by profession      Yes  ...   \n",
       "\n",
       "                     SurveyLength                  SurveyEase  \n",
       "Respondent                                                     \n",
       "9           Appropriate in length  Neither easy nor difficult  \n",
       "26          Appropriate in length                        Easy  \n",
       "39          Appropriate in length                        Easy  \n",
       "60                            NaN                         NaN  \n",
       "100         Appropriate in length                        Easy  \n",
       "...                           ...                         ...  \n",
       "88800                    Too long  Neither easy nor difficult  \n",
       "88845       Appropriate in length                        Easy  \n",
       "88865       Appropriate in length                        Easy  \n",
       "88868       Appropriate in length                        Easy  \n",
       "88873       Appropriate in length                        Easy  \n",
       "\n",
       "[3621 rows x 84 columns]"
      ]
     },
     "execution_count": 78,
     "metadata": {},
     "output_type": "execute_result"
    }
   ],
   "source": [
    "filt_sex_profession = df_survey_sex[\"MainBranch\"] == \"I am a developer by profession\"\n",
    "df_survey_SexPro = df_survey_sex.loc[filt_sex_profession]\n",
    "df_survey_SexPro"
   ]
  },
  {
   "cell_type": "markdown",
   "metadata": {},
   "source": [
    "    Yukarıdaki tablonun en altında 3.621 rows yazıyor. Yani bizim istediğimiz şartlara uyan 3.621 kişi varmış. Buna shape metodu ile de ulaşılabilir. Aynı şekilde ana tablomuz olan df_survey'e de ulaşılabilir. \n",
    "\n",
    "    aşağıda sizin için istediğimiz şartları sağlayan kişilerin, toplamda ankete katılan kişilerin yüzde kaçı olduğunu hesaplayacağım:"
   ]
  },
  {
   "cell_type": "code",
   "execution_count": 79,
   "metadata": {},
   "outputs": [
    {
     "name": "stdout",
     "output_type": "stream",
     "text": [
      "Ankete katılan 5238 kişi ya 'Bisexual' ya da 'Gay or Lesbian' cinsiyetlerine sahipler. Ve bunların da 3621 tanesi, 'I am a develooper by profession' demiştir.\n",
      "Ankete katılan toplam insan sayısı, 88883 olduğunda göre: \n",
      "Ankete katılanların yüzde 0.04'u bizim filtrelerimize uygundur.\n"
     ]
    }
   ],
   "source": [
    "rows_sex = df_survey_sex.shape[0]\n",
    "rows_filter = df_survey_SexPro.shape[0]\n",
    "rows_nofilter = df_survey.shape[0]\n",
    "\n",
    "percante = round((rows_filter / rows_nofilter), 2)\n",
    "\n",
    "print(f\"Ankete katılan {rows_sex} kişi ya 'Bisexual' ya da 'Gay or Lesbian' cinsiyetlerine sahipler. Ve bunların da {rows_filter} tanesi, 'I am a develooper by profession' demiştir.\")\n",
    "\n",
    "print(f\"Ankete katılan toplam insan sayısı, {rows_nofilter} olduğunda göre: \")\n",
    "\n",
    "print(f\"Ankete katılanların yüzde {percante}'u bizim filtrelerimize uygundur.\")"
   ]
  },
  {
   "cell_type": "markdown",
   "metadata": {},
   "source": [
    "    Şimdi de başka bir alıştırma yapalım. Biraz inceleyelim öncelikle."
   ]
  },
  {
   "cell_type": "code",
   "execution_count": 80,
   "metadata": {},
   "outputs": [
    {
     "data": {
      "text/html": [
       "<div>\n",
       "<style scoped>\n",
       "    .dataframe tbody tr th:only-of-type {\n",
       "        vertical-align: middle;\n",
       "    }\n",
       "\n",
       "    .dataframe tbody tr th {\n",
       "        vertical-align: top;\n",
       "    }\n",
       "\n",
       "    .dataframe thead th {\n",
       "        text-align: right;\n",
       "    }\n",
       "</style>\n",
       "<table border=\"1\" class=\"dataframe\">\n",
       "  <thead>\n",
       "    <tr style=\"text-align: right;\">\n",
       "      <th></th>\n",
       "      <th>QuestionText</th>\n",
       "    </tr>\n",
       "    <tr>\n",
       "      <th>Column</th>\n",
       "      <th></th>\n",
       "    </tr>\n",
       "  </thead>\n",
       "  <tbody>\n",
       "    <tr>\n",
       "      <th>Respondent</th>\n",
       "      <td>Randomized respondent ID number (not in order ...</td>\n",
       "    </tr>\n",
       "    <tr>\n",
       "      <th>MainBranch</th>\n",
       "      <td>Which of the following options best describes ...</td>\n",
       "    </tr>\n",
       "    <tr>\n",
       "      <th>Hobbyist</th>\n",
       "      <td>Do you code as a hobby?</td>\n",
       "    </tr>\n",
       "    <tr>\n",
       "      <th>OpenSourcer</th>\n",
       "      <td>How often do you contribute to open source?</td>\n",
       "    </tr>\n",
       "    <tr>\n",
       "      <th>OpenSource</th>\n",
       "      <td>How do you feel about the quality of open sour...</td>\n",
       "    </tr>\n",
       "    <tr>\n",
       "      <th>...</th>\n",
       "      <td>...</td>\n",
       "    </tr>\n",
       "    <tr>\n",
       "      <th>Sexuality</th>\n",
       "      <td>Which of the following do you currently identi...</td>\n",
       "    </tr>\n",
       "    <tr>\n",
       "      <th>Ethnicity</th>\n",
       "      <td>Which of the following do you identify as? Ple...</td>\n",
       "    </tr>\n",
       "    <tr>\n",
       "      <th>Dependents</th>\n",
       "      <td>Do you have any dependents (e.g., children, el...</td>\n",
       "    </tr>\n",
       "    <tr>\n",
       "      <th>SurveyLength</th>\n",
       "      <td>How do you feel about the length of the survey...</td>\n",
       "    </tr>\n",
       "    <tr>\n",
       "      <th>SurveyEase</th>\n",
       "      <td>How easy or difficult was this survey to compl...</td>\n",
       "    </tr>\n",
       "  </tbody>\n",
       "</table>\n",
       "<p>85 rows × 1 columns</p>\n",
       "</div>"
      ],
      "text/plain": [
       "                                                   QuestionText\n",
       "Column                                                         \n",
       "Respondent    Randomized respondent ID number (not in order ...\n",
       "MainBranch    Which of the following options best describes ...\n",
       "Hobbyist                                Do you code as a hobby?\n",
       "OpenSourcer         How often do you contribute to open source?\n",
       "OpenSource    How do you feel about the quality of open sour...\n",
       "...                                                         ...\n",
       "Sexuality     Which of the following do you currently identi...\n",
       "Ethnicity     Which of the following do you identify as? Ple...\n",
       "Dependents    Do you have any dependents (e.g., children, el...\n",
       "SurveyLength  How do you feel about the length of the survey...\n",
       "SurveyEase    How easy or difficult was this survey to compl...\n",
       "\n",
       "[85 rows x 1 columns]"
      ]
     },
     "execution_count": 80,
     "metadata": {},
     "output_type": "execute_result"
    }
   ],
   "source": [
    "df_schema"
   ]
  },
  {
   "cell_type": "code",
   "execution_count": 81,
   "metadata": {},
   "outputs": [
    {
     "data": {
      "text/plain": [
       "'Including any education, how many years have you been coding?'"
      ]
     },
     "execution_count": 81,
     "metadata": {},
     "output_type": "execute_result"
    }
   ],
   "source": [
    "df_schema.loc['YearsCode']['QuestionText']"
   ]
  },
  {
   "cell_type": "markdown",
   "metadata": {},
   "source": [
    "    YearsCode'a 5'den fazla cevap verenlerin kaç tanesinde Bechalor's Degree veya Master's Degre yoktur?"
   ]
  },
  {
   "cell_type": "code",
   "execution_count": 82,
   "metadata": {},
   "outputs": [
    {
     "data": {
      "text/plain": [
       "YearsCode\n",
       "5     7047\n",
       "10    6777\n",
       "6     6179\n",
       "4     5729\n",
       "8     5361\n",
       "      ... \n",
       "50      51\n",
       "47      36\n",
       "48      31\n",
       "46      27\n",
       "49      25\n",
       "Name: count, Length: 52, dtype: int64"
      ]
     },
     "execution_count": 82,
     "metadata": {},
     "output_type": "execute_result"
    }
   ],
   "source": [
    "df_survey['YearsCode'].value_counts()"
   ]
  },
  {
   "cell_type": "code",
   "execution_count": 83,
   "metadata": {},
   "outputs": [
    {
     "data": {
      "text/plain": [
       "EdLevel\n",
       "Bachelor’s degree (BA, BS, B.Eng., etc.)                                              39134\n",
       "Master’s degree (MA, MS, M.Eng., MBA, etc.)                                           19569\n",
       "Some college/university study without earning a degree                                10502\n",
       "Secondary school (e.g. American high school, German Realschule or Gymnasium, etc.)     8642\n",
       "Associate degree                                                                       2938\n",
       "Other doctoral degree (Ph.D, Ed.D., etc.)                                              2432\n",
       "Primary/elementary school                                                              1422\n",
       "Professional degree (JD, MD, etc.)                                                     1198\n",
       "I never completed any formal education                                                  553\n",
       "Name: count, dtype: int64"
      ]
     },
     "execution_count": 83,
     "metadata": {},
     "output_type": "execute_result"
    }
   ],
   "source": [
    "df_survey['EdLevel'].value_counts()"
   ]
  },
  {
   "cell_type": "code",
   "execution_count": 84,
   "metadata": {},
   "outputs": [
    {
     "data": {
      "text/html": [
       "<div>\n",
       "<style scoped>\n",
       "    .dataframe tbody tr th:only-of-type {\n",
       "        vertical-align: middle;\n",
       "    }\n",
       "\n",
       "    .dataframe tbody tr th {\n",
       "        vertical-align: top;\n",
       "    }\n",
       "\n",
       "    .dataframe thead th {\n",
       "        text-align: right;\n",
       "    }\n",
       "</style>\n",
       "<table border=\"1\" class=\"dataframe\">\n",
       "  <thead>\n",
       "    <tr style=\"text-align: right;\">\n",
       "      <th></th>\n",
       "      <th>EdLevel</th>\n",
       "      <th>YearsCode</th>\n",
       "    </tr>\n",
       "    <tr>\n",
       "      <th>Respondent</th>\n",
       "      <th></th>\n",
       "      <th></th>\n",
       "    </tr>\n",
       "  </thead>\n",
       "  <tbody>\n",
       "    <tr>\n",
       "      <th>27</th>\n",
       "      <td>Some college/university study without earning ...</td>\n",
       "      <td>7</td>\n",
       "    </tr>\n",
       "    <tr>\n",
       "      <th>37</th>\n",
       "      <td>Associate degree</td>\n",
       "      <td>7</td>\n",
       "    </tr>\n",
       "    <tr>\n",
       "      <th>42</th>\n",
       "      <td>Secondary school (e.g. American high school, G...</td>\n",
       "      <td>8</td>\n",
       "    </tr>\n",
       "    <tr>\n",
       "      <th>86</th>\n",
       "      <td>Some college/university study without earning ...</td>\n",
       "      <td>6</td>\n",
       "    </tr>\n",
       "    <tr>\n",
       "      <th>88</th>\n",
       "      <td>Secondary school (e.g. American high school, G...</td>\n",
       "      <td>9</td>\n",
       "    </tr>\n",
       "    <tr>\n",
       "      <th>...</th>\n",
       "      <td>...</td>\n",
       "      <td>...</td>\n",
       "    </tr>\n",
       "    <tr>\n",
       "      <th>72492</th>\n",
       "      <td>Some college/university study without earning ...</td>\n",
       "      <td>7</td>\n",
       "    </tr>\n",
       "    <tr>\n",
       "      <th>82789</th>\n",
       "      <td>Secondary school (e.g. American high school, G...</td>\n",
       "      <td>9</td>\n",
       "    </tr>\n",
       "    <tr>\n",
       "      <th>83000</th>\n",
       "      <td>Secondary school (e.g. American high school, G...</td>\n",
       "      <td>7</td>\n",
       "    </tr>\n",
       "    <tr>\n",
       "      <th>86566</th>\n",
       "      <td>Some college/university study without earning ...</td>\n",
       "      <td>More than 50 years</td>\n",
       "    </tr>\n",
       "    <tr>\n",
       "      <th>88863</th>\n",
       "      <td>Professional degree (JD, MD, etc.)</td>\n",
       "      <td>8</td>\n",
       "    </tr>\n",
       "  </tbody>\n",
       "</table>\n",
       "<p>6150 rows × 2 columns</p>\n",
       "</div>"
      ],
      "text/plain": [
       "                                                      EdLevel  \\\n",
       "Respondent                                                      \n",
       "27          Some college/university study without earning ...   \n",
       "37                                           Associate degree   \n",
       "42          Secondary school (e.g. American high school, G...   \n",
       "86          Some college/university study without earning ...   \n",
       "88          Secondary school (e.g. American high school, G...   \n",
       "...                                                       ...   \n",
       "72492       Some college/university study without earning ...   \n",
       "82789       Secondary school (e.g. American high school, G...   \n",
       "83000       Secondary school (e.g. American high school, G...   \n",
       "86566       Some college/university study without earning ...   \n",
       "88863                      Professional degree (JD, MD, etc.)   \n",
       "\n",
       "                     YearsCode  \n",
       "Respondent                      \n",
       "27                           7  \n",
       "37                           7  \n",
       "42                           8  \n",
       "86                           6  \n",
       "88                           9  \n",
       "...                        ...  \n",
       "72492                        7  \n",
       "82789                        9  \n",
       "83000                        7  \n",
       "86566       More than 50 years  \n",
       "88863                        8  \n",
       "\n",
       "[6150 rows x 2 columns]"
      ]
     },
     "execution_count": 84,
     "metadata": {},
     "output_type": "execute_result"
    }
   ],
   "source": [
    "filt_years = (df_survey['YearsCode'] > \"5\") & (df_survey['YearsCode'] != \"Less than 1 year\")    # Less than 1 year bizim düzenimizi bozan bir yanıt olduğu için çıkartıyoruz onur\n",
    "filt_education = (df_survey['EdLevel'] == \"Bachelor’s degree (BA, BS, B.Eng., etc.)\") | (df_survey['EdLevel'] == \"Master’s degree (MA, MS, M.Eng., MBA, etc.)\")\n",
    "\n",
    "df_years = df_survey.loc[filt_years]\n",
    "\n",
    "df_final = df_years.loc[~filt_education]        # ÇOK ÖNEMLİ. YUKARIDAKİ filt_education HARİCİNDEKİLERİ SEÇTİK BURADA\n",
    "\n",
    "ads = df_final[['EdLevel', 'YearsCode']]\n",
    "\n",
    "ads     # istediğimiz sonucu veren tablo budur"
   ]
  },
  {
   "cell_type": "code",
   "execution_count": 85,
   "metadata": {},
   "outputs": [
    {
     "data": {
      "text/html": [
       "<div>\n",
       "<style scoped>\n",
       "    .dataframe tbody tr th:only-of-type {\n",
       "        vertical-align: middle;\n",
       "    }\n",
       "\n",
       "    .dataframe tbody tr th {\n",
       "        vertical-align: top;\n",
       "    }\n",
       "\n",
       "    .dataframe thead th {\n",
       "        text-align: right;\n",
       "    }\n",
       "</style>\n",
       "<table border=\"1\" class=\"dataframe\">\n",
       "  <thead>\n",
       "    <tr style=\"text-align: right;\">\n",
       "      <th></th>\n",
       "      <th>MainBranch</th>\n",
       "      <th>Hobbyist</th>\n",
       "      <th>...</th>\n",
       "      <th>SurveyLength</th>\n",
       "      <th>SurveyEase</th>\n",
       "    </tr>\n",
       "    <tr>\n",
       "      <th>Respondent</th>\n",
       "      <th></th>\n",
       "      <th></th>\n",
       "      <th></th>\n",
       "      <th></th>\n",
       "      <th></th>\n",
       "    </tr>\n",
       "  </thead>\n",
       "  <tbody>\n",
       "    <tr>\n",
       "      <th>1</th>\n",
       "      <td>I am a student who is learning to code</td>\n",
       "      <td>Yes</td>\n",
       "      <td>...</td>\n",
       "      <td>Appropriate in length</td>\n",
       "      <td>Neither easy nor difficult</td>\n",
       "    </tr>\n",
       "    <tr>\n",
       "      <th>2</th>\n",
       "      <td>I am a student who is learning to code</td>\n",
       "      <td>No</td>\n",
       "      <td>...</td>\n",
       "      <td>Appropriate in length</td>\n",
       "      <td>Neither easy nor difficult</td>\n",
       "    </tr>\n",
       "    <tr>\n",
       "      <th>3</th>\n",
       "      <td>I am not primarily a developer, but I write co...</td>\n",
       "      <td>Yes</td>\n",
       "      <td>...</td>\n",
       "      <td>Appropriate in length</td>\n",
       "      <td>Neither easy nor difficult</td>\n",
       "    </tr>\n",
       "    <tr>\n",
       "      <th>4</th>\n",
       "      <td>I am a developer by profession</td>\n",
       "      <td>No</td>\n",
       "      <td>...</td>\n",
       "      <td>Appropriate in length</td>\n",
       "      <td>Easy</td>\n",
       "    </tr>\n",
       "    <tr>\n",
       "      <th>5</th>\n",
       "      <td>I am a developer by profession</td>\n",
       "      <td>Yes</td>\n",
       "      <td>...</td>\n",
       "      <td>Appropriate in length</td>\n",
       "      <td>Easy</td>\n",
       "    </tr>\n",
       "    <tr>\n",
       "      <th>...</th>\n",
       "      <td>...</td>\n",
       "      <td>...</td>\n",
       "      <td>...</td>\n",
       "      <td>...</td>\n",
       "      <td>...</td>\n",
       "    </tr>\n",
       "    <tr>\n",
       "      <th>88377</th>\n",
       "      <td>NaN</td>\n",
       "      <td>Yes</td>\n",
       "      <td>...</td>\n",
       "      <td>Appropriate in length</td>\n",
       "      <td>Easy</td>\n",
       "    </tr>\n",
       "    <tr>\n",
       "      <th>88601</th>\n",
       "      <td>NaN</td>\n",
       "      <td>No</td>\n",
       "      <td>...</td>\n",
       "      <td>NaN</td>\n",
       "      <td>NaN</td>\n",
       "    </tr>\n",
       "    <tr>\n",
       "      <th>88802</th>\n",
       "      <td>NaN</td>\n",
       "      <td>No</td>\n",
       "      <td>...</td>\n",
       "      <td>NaN</td>\n",
       "      <td>NaN</td>\n",
       "    </tr>\n",
       "    <tr>\n",
       "      <th>88816</th>\n",
       "      <td>NaN</td>\n",
       "      <td>No</td>\n",
       "      <td>...</td>\n",
       "      <td>NaN</td>\n",
       "      <td>NaN</td>\n",
       "    </tr>\n",
       "    <tr>\n",
       "      <th>88863</th>\n",
       "      <td>NaN</td>\n",
       "      <td>Yes</td>\n",
       "      <td>...</td>\n",
       "      <td>Appropriate in length</td>\n",
       "      <td>Easy</td>\n",
       "    </tr>\n",
       "  </tbody>\n",
       "</table>\n",
       "<p>88883 rows × 84 columns</p>\n",
       "</div>"
      ],
      "text/plain": [
       "                                                   MainBranch Hobbyist  ...  \\\n",
       "Respondent                                                              ...   \n",
       "1                      I am a student who is learning to code      Yes  ...   \n",
       "2                      I am a student who is learning to code       No  ...   \n",
       "3           I am not primarily a developer, but I write co...      Yes  ...   \n",
       "4                              I am a developer by profession       No  ...   \n",
       "5                              I am a developer by profession      Yes  ...   \n",
       "...                                                       ...      ...  ...   \n",
       "88377                                                     NaN      Yes  ...   \n",
       "88601                                                     NaN       No  ...   \n",
       "88802                                                     NaN       No  ...   \n",
       "88816                                                     NaN       No  ...   \n",
       "88863                                                     NaN      Yes  ...   \n",
       "\n",
       "                     SurveyLength                  SurveyEase  \n",
       "Respondent                                                     \n",
       "1           Appropriate in length  Neither easy nor difficult  \n",
       "2           Appropriate in length  Neither easy nor difficult  \n",
       "3           Appropriate in length  Neither easy nor difficult  \n",
       "4           Appropriate in length                        Easy  \n",
       "5           Appropriate in length                        Easy  \n",
       "...                           ...                         ...  \n",
       "88377       Appropriate in length                        Easy  \n",
       "88601                         NaN                         NaN  \n",
       "88802                         NaN                         NaN  \n",
       "88816                         NaN                         NaN  \n",
       "88863       Appropriate in length                        Easy  \n",
       "\n",
       "[88883 rows x 84 columns]"
      ]
     },
     "execution_count": 85,
     "metadata": {},
     "output_type": "execute_result"
    }
   ],
   "source": [
    "df_survey"
   ]
  },
  {
   "cell_type": "code",
   "execution_count": 86,
   "metadata": {},
   "outputs": [
    {
     "data": {
      "text/plain": [
       "Index(['MainBranch', 'Hobbyist', 'OpenSourcer', 'OpenSource', 'Employment',\n",
       "       'Country', 'Student', 'EdLevel', 'UndergradMajor', 'EduOther',\n",
       "       'OrgSize', 'DevType', 'YearsCode', 'Age1stCode', 'YearsCodePro',\n",
       "       'CareerSat', 'JobSat', 'MgrIdiot', 'MgrMoney', 'MgrWant', 'JobSeek',\n",
       "       'LastHireDate', 'LastInt', 'FizzBuzz', 'JobFactors', 'ResumeUpdate',\n",
       "       'CurrencySymbol', 'CurrencyDesc', 'CompTotal', 'CompFreq',\n",
       "       'ConvertedComp', 'WorkWeekHrs', 'WorkPlan', 'WorkChallenge',\n",
       "       'WorkRemote', 'WorkLoc', 'ImpSyn', 'CodeRev', 'CodeRevHrs', 'UnitTests',\n",
       "       'PurchaseHow', 'PurchaseWhat', 'LanguageWorkedWith',\n",
       "       'LanguageDesireNextYear', 'DatabaseWorkedWith',\n",
       "       'DatabaseDesireNextYear', 'PlatformWorkedWith',\n",
       "       'PlatformDesireNextYear', 'WebFrameWorkedWith',\n",
       "       'WebFrameDesireNextYear', 'MiscTechWorkedWith',\n",
       "       'MiscTechDesireNextYear', 'DevEnviron', 'OpSys', 'Containers',\n",
       "       'BlockchainOrg', 'BlockchainIs', 'BetterLife', 'ITperson', 'OffOn',\n",
       "       'SocialMedia', 'Extraversion', 'ScreenName', 'SOVisit1st',\n",
       "       'SOVisitFreq', 'SOVisitTo', 'SOFindAnswer', 'SOTimeSaved',\n",
       "       'SOHowMuchTime', 'SOAccount', 'SOPartFreq', 'SOJobs', 'EntTeams',\n",
       "       'SOComm', 'WelcomeChange', 'SONewContent', 'Age', 'Gender', 'Trans',\n",
       "       'Sexuality', 'Ethnicity', 'Dependents', 'SurveyLength', 'SurveyEase'],\n",
       "      dtype='object')"
      ]
     },
     "execution_count": 86,
     "metadata": {},
     "output_type": "execute_result"
    }
   ],
   "source": [
    "df_survey.columns"
   ]
  },
  {
   "cell_type": "markdown",
   "metadata": {},
   "source": [
    "    Aşağıda kullanılan value_couns() metodunu görmedik daha. Özetle, survey tablosundaki cinsiyet'e verilen cevapları detaylı olarka yazdırmıştır."
   ]
  },
  {
   "cell_type": "code",
   "execution_count": 87,
   "metadata": {},
   "outputs": [
    {
     "data": {
      "text/plain": [
       "Sexuality\n",
       "Straight / Heterosexual                            70155\n",
       "Bisexual                                            3440\n",
       "Gay or Lesbian                                      1798\n",
       "Bisexual;Straight / Heterosexual                     494\n",
       "Bisexual;Gay or Lesbian                              114\n",
       "Bisexual;Gay or Lesbian;Straight / Heterosexual      108\n",
       "Gay or Lesbian;Straight / Heterosexual                38\n",
       "Name: count, dtype: int64"
      ]
     },
     "execution_count": 87,
     "metadata": {},
     "output_type": "execute_result"
    }
   ],
   "source": [
    "df_survey[\"Sexuality\"].value_counts()   "
   ]
  },
  {
   "cell_type": "code",
   "execution_count": 88,
   "metadata": {},
   "outputs": [
    {
     "data": {
      "text/html": [
       "<div>\n",
       "<style scoped>\n",
       "    .dataframe tbody tr th:only-of-type {\n",
       "        vertical-align: middle;\n",
       "    }\n",
       "\n",
       "    .dataframe tbody tr th {\n",
       "        vertical-align: top;\n",
       "    }\n",
       "\n",
       "    .dataframe thead th {\n",
       "        text-align: right;\n",
       "    }\n",
       "</style>\n",
       "<table border=\"1\" class=\"dataframe\">\n",
       "  <thead>\n",
       "    <tr style=\"text-align: right;\">\n",
       "      <th></th>\n",
       "      <th>MainBranch</th>\n",
       "      <th>Hobbyist</th>\n",
       "      <th>...</th>\n",
       "      <th>SurveyLength</th>\n",
       "      <th>SurveyEase</th>\n",
       "    </tr>\n",
       "    <tr>\n",
       "      <th>Respondent</th>\n",
       "      <th></th>\n",
       "      <th></th>\n",
       "      <th></th>\n",
       "      <th></th>\n",
       "      <th></th>\n",
       "    </tr>\n",
       "  </thead>\n",
       "  <tbody>\n",
       "    <tr>\n",
       "      <th>9</th>\n",
       "      <td>I am a developer by profession</td>\n",
       "      <td>Yes</td>\n",
       "      <td>...</td>\n",
       "      <td>Appropriate in length</td>\n",
       "      <td>Neither easy nor difficult</td>\n",
       "    </tr>\n",
       "    <tr>\n",
       "      <th>26</th>\n",
       "      <td>I am a developer by profession</td>\n",
       "      <td>Yes</td>\n",
       "      <td>...</td>\n",
       "      <td>Appropriate in length</td>\n",
       "      <td>Easy</td>\n",
       "    </tr>\n",
       "    <tr>\n",
       "      <th>34</th>\n",
       "      <td>I am a student who is learning to code</td>\n",
       "      <td>Yes</td>\n",
       "      <td>...</td>\n",
       "      <td>Too short</td>\n",
       "      <td>Neither easy nor difficult</td>\n",
       "    </tr>\n",
       "    <tr>\n",
       "      <th>39</th>\n",
       "      <td>I am a developer by profession</td>\n",
       "      <td>Yes</td>\n",
       "      <td>...</td>\n",
       "      <td>Appropriate in length</td>\n",
       "      <td>Easy</td>\n",
       "    </tr>\n",
       "    <tr>\n",
       "      <th>60</th>\n",
       "      <td>I am a developer by profession</td>\n",
       "      <td>Yes</td>\n",
       "      <td>...</td>\n",
       "      <td>NaN</td>\n",
       "      <td>NaN</td>\n",
       "    </tr>\n",
       "    <tr>\n",
       "      <th>...</th>\n",
       "      <td>...</td>\n",
       "      <td>...</td>\n",
       "      <td>...</td>\n",
       "      <td>...</td>\n",
       "      <td>...</td>\n",
       "    </tr>\n",
       "    <tr>\n",
       "      <th>81093</th>\n",
       "      <td>NaN</td>\n",
       "      <td>Yes</td>\n",
       "      <td>...</td>\n",
       "      <td>Appropriate in length</td>\n",
       "      <td>Easy</td>\n",
       "    </tr>\n",
       "    <tr>\n",
       "      <th>83397</th>\n",
       "      <td>NaN</td>\n",
       "      <td>Yes</td>\n",
       "      <td>...</td>\n",
       "      <td>Appropriate in length</td>\n",
       "      <td>Easy</td>\n",
       "    </tr>\n",
       "    <tr>\n",
       "      <th>83612</th>\n",
       "      <td>NaN</td>\n",
       "      <td>Yes</td>\n",
       "      <td>...</td>\n",
       "      <td>NaN</td>\n",
       "      <td>NaN</td>\n",
       "    </tr>\n",
       "    <tr>\n",
       "      <th>84539</th>\n",
       "      <td>NaN</td>\n",
       "      <td>Yes</td>\n",
       "      <td>...</td>\n",
       "      <td>Appropriate in length</td>\n",
       "      <td>Easy</td>\n",
       "    </tr>\n",
       "    <tr>\n",
       "      <th>85961</th>\n",
       "      <td>NaN</td>\n",
       "      <td>Yes</td>\n",
       "      <td>...</td>\n",
       "      <td>Appropriate in length</td>\n",
       "      <td>Difficult</td>\n",
       "    </tr>\n",
       "  </tbody>\n",
       "</table>\n",
       "<p>5238 rows × 84 columns</p>\n",
       "</div>"
      ],
      "text/plain": [
       "                                        MainBranch Hobbyist  ...  \\\n",
       "Respondent                                                   ...   \n",
       "9                   I am a developer by profession      Yes  ...   \n",
       "26                  I am a developer by profession      Yes  ...   \n",
       "34          I am a student who is learning to code      Yes  ...   \n",
       "39                  I am a developer by profession      Yes  ...   \n",
       "60                  I am a developer by profession      Yes  ...   \n",
       "...                                            ...      ...  ...   \n",
       "81093                                          NaN      Yes  ...   \n",
       "83397                                          NaN      Yes  ...   \n",
       "83612                                          NaN      Yes  ...   \n",
       "84539                                          NaN      Yes  ...   \n",
       "85961                                          NaN      Yes  ...   \n",
       "\n",
       "                     SurveyLength                  SurveyEase  \n",
       "Respondent                                                     \n",
       "9           Appropriate in length  Neither easy nor difficult  \n",
       "26          Appropriate in length                        Easy  \n",
       "34                      Too short  Neither easy nor difficult  \n",
       "39          Appropriate in length                        Easy  \n",
       "60                            NaN                         NaN  \n",
       "...                           ...                         ...  \n",
       "81093       Appropriate in length                        Easy  \n",
       "83397       Appropriate in length                        Easy  \n",
       "83612                         NaN                         NaN  \n",
       "84539       Appropriate in length                        Easy  \n",
       "85961       Appropriate in length                   Difficult  \n",
       "\n",
       "[5238 rows x 84 columns]"
      ]
     },
     "execution_count": 88,
     "metadata": {},
     "output_type": "execute_result"
    }
   ],
   "source": [
    "# biz aşağıya, cinsiyetini \"bisexual\" veya \"Gay or Lesbian\" olarak belirten kişilerin satırlarını yazdıralım:\n",
    "\n",
    "filt_sex = (df_survey[\"Sexuality\"] == \"Bisexual\") | (df_survey[\"Sexuality\"] == \"Gay or Lesbian\")\n",
    "\n",
    "df_survey.loc[filt_sex]"
   ]
  },
  {
   "cell_type": "markdown",
   "metadata": {},
   "source": [
    "    not: yukarıda görüldüğü gibi union simgesi olan | kulanılmıştır.\n",
    "\n",
    "    union (birleşim)      :     |\n",
    "    intersection (kesişim):     &\n",
    "    difference (fark)     :     -\n",
    "\n",
    "    symetricdifference     :    ^  "
   ]
  },
  {
   "cell_type": "code",
   "execution_count": 89,
   "metadata": {},
   "outputs": [
    {
     "data": {
      "text/html": [
       "<div>\n",
       "<style scoped>\n",
       "    .dataframe tbody tr th:only-of-type {\n",
       "        vertical-align: middle;\n",
       "    }\n",
       "\n",
       "    .dataframe tbody tr th {\n",
       "        vertical-align: top;\n",
       "    }\n",
       "\n",
       "    .dataframe thead th {\n",
       "        text-align: right;\n",
       "    }\n",
       "</style>\n",
       "<table border=\"1\" class=\"dataframe\">\n",
       "  <thead>\n",
       "    <tr style=\"text-align: right;\">\n",
       "      <th></th>\n",
       "      <th>MainBranch</th>\n",
       "      <th>Hobbyist</th>\n",
       "      <th>...</th>\n",
       "      <th>SurveyLength</th>\n",
       "      <th>SurveyEase</th>\n",
       "    </tr>\n",
       "    <tr>\n",
       "      <th>Respondent</th>\n",
       "      <th></th>\n",
       "      <th></th>\n",
       "      <th></th>\n",
       "      <th></th>\n",
       "      <th></th>\n",
       "    </tr>\n",
       "  </thead>\n",
       "  <tbody>\n",
       "    <tr>\n",
       "      <th>9</th>\n",
       "      <td>I am a developer by profession</td>\n",
       "      <td>Yes</td>\n",
       "      <td>...</td>\n",
       "      <td>Appropriate in length</td>\n",
       "      <td>Neither easy nor difficult</td>\n",
       "    </tr>\n",
       "    <tr>\n",
       "      <th>26</th>\n",
       "      <td>I am a developer by profession</td>\n",
       "      <td>Yes</td>\n",
       "      <td>...</td>\n",
       "      <td>Appropriate in length</td>\n",
       "      <td>Easy</td>\n",
       "    </tr>\n",
       "    <tr>\n",
       "      <th>34</th>\n",
       "      <td>I am a student who is learning to code</td>\n",
       "      <td>Yes</td>\n",
       "      <td>...</td>\n",
       "      <td>Too short</td>\n",
       "      <td>Neither easy nor difficult</td>\n",
       "    </tr>\n",
       "    <tr>\n",
       "      <th>39</th>\n",
       "      <td>I am a developer by profession</td>\n",
       "      <td>Yes</td>\n",
       "      <td>...</td>\n",
       "      <td>Appropriate in length</td>\n",
       "      <td>Easy</td>\n",
       "    </tr>\n",
       "    <tr>\n",
       "      <th>60</th>\n",
       "      <td>I am a developer by profession</td>\n",
       "      <td>Yes</td>\n",
       "      <td>...</td>\n",
       "      <td>NaN</td>\n",
       "      <td>NaN</td>\n",
       "    </tr>\n",
       "    <tr>\n",
       "      <th>...</th>\n",
       "      <td>...</td>\n",
       "      <td>...</td>\n",
       "      <td>...</td>\n",
       "      <td>...</td>\n",
       "      <td>...</td>\n",
       "    </tr>\n",
       "    <tr>\n",
       "      <th>81093</th>\n",
       "      <td>NaN</td>\n",
       "      <td>Yes</td>\n",
       "      <td>...</td>\n",
       "      <td>Appropriate in length</td>\n",
       "      <td>Easy</td>\n",
       "    </tr>\n",
       "    <tr>\n",
       "      <th>83397</th>\n",
       "      <td>NaN</td>\n",
       "      <td>Yes</td>\n",
       "      <td>...</td>\n",
       "      <td>Appropriate in length</td>\n",
       "      <td>Easy</td>\n",
       "    </tr>\n",
       "    <tr>\n",
       "      <th>83612</th>\n",
       "      <td>NaN</td>\n",
       "      <td>Yes</td>\n",
       "      <td>...</td>\n",
       "      <td>NaN</td>\n",
       "      <td>NaN</td>\n",
       "    </tr>\n",
       "    <tr>\n",
       "      <th>84539</th>\n",
       "      <td>NaN</td>\n",
       "      <td>Yes</td>\n",
       "      <td>...</td>\n",
       "      <td>Appropriate in length</td>\n",
       "      <td>Easy</td>\n",
       "    </tr>\n",
       "    <tr>\n",
       "      <th>85961</th>\n",
       "      <td>NaN</td>\n",
       "      <td>Yes</td>\n",
       "      <td>...</td>\n",
       "      <td>Appropriate in length</td>\n",
       "      <td>Difficult</td>\n",
       "    </tr>\n",
       "  </tbody>\n",
       "</table>\n",
       "<p>5238 rows × 84 columns</p>\n",
       "</div>"
      ],
      "text/plain": [
       "                                        MainBranch Hobbyist  ...  \\\n",
       "Respondent                                                   ...   \n",
       "9                   I am a developer by profession      Yes  ...   \n",
       "26                  I am a developer by profession      Yes  ...   \n",
       "34          I am a student who is learning to code      Yes  ...   \n",
       "39                  I am a developer by profession      Yes  ...   \n",
       "60                  I am a developer by profession      Yes  ...   \n",
       "...                                            ...      ...  ...   \n",
       "81093                                          NaN      Yes  ...   \n",
       "83397                                          NaN      Yes  ...   \n",
       "83612                                          NaN      Yes  ...   \n",
       "84539                                          NaN      Yes  ...   \n",
       "85961                                          NaN      Yes  ...   \n",
       "\n",
       "                     SurveyLength                  SurveyEase  \n",
       "Respondent                                                     \n",
       "9           Appropriate in length  Neither easy nor difficult  \n",
       "26          Appropriate in length                        Easy  \n",
       "34                      Too short  Neither easy nor difficult  \n",
       "39          Appropriate in length                        Easy  \n",
       "60                            NaN                         NaN  \n",
       "...                           ...                         ...  \n",
       "81093       Appropriate in length                        Easy  \n",
       "83397       Appropriate in length                        Easy  \n",
       "83612                         NaN                         NaN  \n",
       "84539       Appropriate in length                        Easy  \n",
       "85961       Appropriate in length                   Difficult  \n",
       "\n",
       "[5238 rows x 84 columns]"
      ]
     },
     "execution_count": 89,
     "metadata": {},
     "output_type": "execute_result"
    }
   ],
   "source": [
    "# aşağıda atık bu cinsiyet filtresine ait bir değişkenimiz var. Ve bu değişken üzerinden daha pratik işlemler yapılabilir\n",
    "\n",
    "df_survey_sex = df_survey.loc[filt_sex]\n",
    "df_survey_sex"
   ]
  },
  {
   "cell_type": "code",
   "execution_count": 90,
   "metadata": {},
   "outputs": [
    {
     "data": {
      "text/html": [
       "<div>\n",
       "<style scoped>\n",
       "    .dataframe tbody tr th:only-of-type {\n",
       "        vertical-align: middle;\n",
       "    }\n",
       "\n",
       "    .dataframe tbody tr th {\n",
       "        vertical-align: top;\n",
       "    }\n",
       "\n",
       "    .dataframe thead th {\n",
       "        text-align: right;\n",
       "    }\n",
       "</style>\n",
       "<table border=\"1\" class=\"dataframe\">\n",
       "  <thead>\n",
       "    <tr style=\"text-align: right;\">\n",
       "      <th></th>\n",
       "      <th>MainBranch</th>\n",
       "      <th>Hobbyist</th>\n",
       "      <th>...</th>\n",
       "      <th>SurveyLength</th>\n",
       "      <th>SurveyEase</th>\n",
       "    </tr>\n",
       "    <tr>\n",
       "      <th>Respondent</th>\n",
       "      <th></th>\n",
       "      <th></th>\n",
       "      <th></th>\n",
       "      <th></th>\n",
       "      <th></th>\n",
       "    </tr>\n",
       "  </thead>\n",
       "  <tbody>\n",
       "    <tr>\n",
       "      <th>9</th>\n",
       "      <td>I am a developer by profession</td>\n",
       "      <td>Yes</td>\n",
       "      <td>...</td>\n",
       "      <td>Appropriate in length</td>\n",
       "      <td>Neither easy nor difficult</td>\n",
       "    </tr>\n",
       "    <tr>\n",
       "      <th>26</th>\n",
       "      <td>I am a developer by profession</td>\n",
       "      <td>Yes</td>\n",
       "      <td>...</td>\n",
       "      <td>Appropriate in length</td>\n",
       "      <td>Easy</td>\n",
       "    </tr>\n",
       "    <tr>\n",
       "      <th>39</th>\n",
       "      <td>I am a developer by profession</td>\n",
       "      <td>Yes</td>\n",
       "      <td>...</td>\n",
       "      <td>Appropriate in length</td>\n",
       "      <td>Easy</td>\n",
       "    </tr>\n",
       "    <tr>\n",
       "      <th>60</th>\n",
       "      <td>I am a developer by profession</td>\n",
       "      <td>Yes</td>\n",
       "      <td>...</td>\n",
       "      <td>NaN</td>\n",
       "      <td>NaN</td>\n",
       "    </tr>\n",
       "    <tr>\n",
       "      <th>100</th>\n",
       "      <td>I am a developer by profession</td>\n",
       "      <td>Yes</td>\n",
       "      <td>...</td>\n",
       "      <td>Appropriate in length</td>\n",
       "      <td>Easy</td>\n",
       "    </tr>\n",
       "    <tr>\n",
       "      <th>...</th>\n",
       "      <td>...</td>\n",
       "      <td>...</td>\n",
       "      <td>...</td>\n",
       "      <td>...</td>\n",
       "      <td>...</td>\n",
       "    </tr>\n",
       "    <tr>\n",
       "      <th>88800</th>\n",
       "      <td>I am a developer by profession</td>\n",
       "      <td>Yes</td>\n",
       "      <td>...</td>\n",
       "      <td>Too long</td>\n",
       "      <td>Neither easy nor difficult</td>\n",
       "    </tr>\n",
       "    <tr>\n",
       "      <th>88845</th>\n",
       "      <td>I am a developer by profession</td>\n",
       "      <td>Yes</td>\n",
       "      <td>...</td>\n",
       "      <td>Appropriate in length</td>\n",
       "      <td>Easy</td>\n",
       "    </tr>\n",
       "    <tr>\n",
       "      <th>88865</th>\n",
       "      <td>I am a developer by profession</td>\n",
       "      <td>No</td>\n",
       "      <td>...</td>\n",
       "      <td>Appropriate in length</td>\n",
       "      <td>Easy</td>\n",
       "    </tr>\n",
       "    <tr>\n",
       "      <th>88868</th>\n",
       "      <td>I am a developer by profession</td>\n",
       "      <td>Yes</td>\n",
       "      <td>...</td>\n",
       "      <td>Appropriate in length</td>\n",
       "      <td>Easy</td>\n",
       "    </tr>\n",
       "    <tr>\n",
       "      <th>88873</th>\n",
       "      <td>I am a developer by profession</td>\n",
       "      <td>Yes</td>\n",
       "      <td>...</td>\n",
       "      <td>Appropriate in length</td>\n",
       "      <td>Easy</td>\n",
       "    </tr>\n",
       "  </tbody>\n",
       "</table>\n",
       "<p>3621 rows × 84 columns</p>\n",
       "</div>"
      ],
      "text/plain": [
       "                                MainBranch Hobbyist  ...  \\\n",
       "Respondent                                           ...   \n",
       "9           I am a developer by profession      Yes  ...   \n",
       "26          I am a developer by profession      Yes  ...   \n",
       "39          I am a developer by profession      Yes  ...   \n",
       "60          I am a developer by profession      Yes  ...   \n",
       "100         I am a developer by profession      Yes  ...   \n",
       "...                                    ...      ...  ...   \n",
       "88800       I am a developer by profession      Yes  ...   \n",
       "88845       I am a developer by profession      Yes  ...   \n",
       "88865       I am a developer by profession       No  ...   \n",
       "88868       I am a developer by profession      Yes  ...   \n",
       "88873       I am a developer by profession      Yes  ...   \n",
       "\n",
       "                     SurveyLength                  SurveyEase  \n",
       "Respondent                                                     \n",
       "9           Appropriate in length  Neither easy nor difficult  \n",
       "26          Appropriate in length                        Easy  \n",
       "39          Appropriate in length                        Easy  \n",
       "60                            NaN                         NaN  \n",
       "100         Appropriate in length                        Easy  \n",
       "...                           ...                         ...  \n",
       "88800                    Too long  Neither easy nor difficult  \n",
       "88845       Appropriate in length                        Easy  \n",
       "88865       Appropriate in length                        Easy  \n",
       "88868       Appropriate in length                        Easy  \n",
       "88873       Appropriate in length                        Easy  \n",
       "\n",
       "[3621 rows x 84 columns]"
      ]
     },
     "execution_count": 90,
     "metadata": {},
     "output_type": "execute_result"
    }
   ],
   "source": [
    "filt_sex_profession = df_survey_sex[\"MainBranch\"] == \"I am a developer by profession\"\n",
    "df_survey_SexPro = df_survey_sex.loc[filt_sex_profession]\n",
    "df_survey_SexPro"
   ]
  },
  {
   "cell_type": "markdown",
   "metadata": {},
   "source": [
    "    Yukarıdaki tablonun en altında 3.621 rows yazıyor. Yani bizim istediğimiz şartlara uyan 3.621 kişi varmış. Buna shape metodu ile de ulaşılabilir. Aynı şekilde ana tablomuz olan df_survey'e de ulaşılabilir. \n",
    "\n",
    "    aşağıda sizin için istediğimiz şartları sağlayan kişilerin, toplamda ankete katılan kişilerin yüzde kaçı olduğunu hesaplayacağım:"
   ]
  },
  {
   "cell_type": "code",
   "execution_count": 91,
   "metadata": {},
   "outputs": [
    {
     "name": "stdout",
     "output_type": "stream",
     "text": [
      "Ankete katılan 5238 kişi ya 'Bisexual' ya da 'Gay or Lesbian' cinsiyetlerine sahipler. Ve bunların da 3621 tanesi, 'I am a develooper by profession' demiştir.\n",
      "Ankete katılan toplam insan sayısı, 88883 olduğunda göre: \n",
      "Ankete katılanların yüzde 0.04'u bizim filtrelerimize uygundur.\n"
     ]
    }
   ],
   "source": [
    "rows_sex = df_survey_sex.shape[0]\n",
    "rows_filter = df_survey_SexPro.shape[0]\n",
    "rows_nofilter = df_survey.shape[0]\n",
    "\n",
    "percante = round((rows_filter / rows_nofilter), 2)\n",
    "\n",
    "print(f\"Ankete katılan {rows_sex} kişi ya 'Bisexual' ya da 'Gay or Lesbian' cinsiyetlerine sahipler. Ve bunların da {rows_filter} tanesi, 'I am a develooper by profession' demiştir.\")\n",
    "\n",
    "print(f\"Ankete katılan toplam insan sayısı, {rows_nofilter} olduğunda göre: \")\n",
    "\n",
    "print(f\"Ankete katılanların yüzde {percante}'u bizim filtrelerimize uygundur.\")"
   ]
  },
  {
   "cell_type": "markdown",
   "metadata": {},
   "source": [
    "    Şimdi de başka bir alıştırma yapalım. Biraz inceleyelim öncelikle."
   ]
  },
  {
   "cell_type": "code",
   "execution_count": 92,
   "metadata": {},
   "outputs": [
    {
     "data": {
      "text/html": [
       "<div>\n",
       "<style scoped>\n",
       "    .dataframe tbody tr th:only-of-type {\n",
       "        vertical-align: middle;\n",
       "    }\n",
       "\n",
       "    .dataframe tbody tr th {\n",
       "        vertical-align: top;\n",
       "    }\n",
       "\n",
       "    .dataframe thead th {\n",
       "        text-align: right;\n",
       "    }\n",
       "</style>\n",
       "<table border=\"1\" class=\"dataframe\">\n",
       "  <thead>\n",
       "    <tr style=\"text-align: right;\">\n",
       "      <th></th>\n",
       "      <th>QuestionText</th>\n",
       "    </tr>\n",
       "    <tr>\n",
       "      <th>Column</th>\n",
       "      <th></th>\n",
       "    </tr>\n",
       "  </thead>\n",
       "  <tbody>\n",
       "    <tr>\n",
       "      <th>Respondent</th>\n",
       "      <td>Randomized respondent ID number (not in order ...</td>\n",
       "    </tr>\n",
       "    <tr>\n",
       "      <th>MainBranch</th>\n",
       "      <td>Which of the following options best describes ...</td>\n",
       "    </tr>\n",
       "    <tr>\n",
       "      <th>Hobbyist</th>\n",
       "      <td>Do you code as a hobby?</td>\n",
       "    </tr>\n",
       "    <tr>\n",
       "      <th>OpenSourcer</th>\n",
       "      <td>How often do you contribute to open source?</td>\n",
       "    </tr>\n",
       "    <tr>\n",
       "      <th>OpenSource</th>\n",
       "      <td>How do you feel about the quality of open sour...</td>\n",
       "    </tr>\n",
       "    <tr>\n",
       "      <th>...</th>\n",
       "      <td>...</td>\n",
       "    </tr>\n",
       "    <tr>\n",
       "      <th>Sexuality</th>\n",
       "      <td>Which of the following do you currently identi...</td>\n",
       "    </tr>\n",
       "    <tr>\n",
       "      <th>Ethnicity</th>\n",
       "      <td>Which of the following do you identify as? Ple...</td>\n",
       "    </tr>\n",
       "    <tr>\n",
       "      <th>Dependents</th>\n",
       "      <td>Do you have any dependents (e.g., children, el...</td>\n",
       "    </tr>\n",
       "    <tr>\n",
       "      <th>SurveyLength</th>\n",
       "      <td>How do you feel about the length of the survey...</td>\n",
       "    </tr>\n",
       "    <tr>\n",
       "      <th>SurveyEase</th>\n",
       "      <td>How easy or difficult was this survey to compl...</td>\n",
       "    </tr>\n",
       "  </tbody>\n",
       "</table>\n",
       "<p>85 rows × 1 columns</p>\n",
       "</div>"
      ],
      "text/plain": [
       "                                                   QuestionText\n",
       "Column                                                         \n",
       "Respondent    Randomized respondent ID number (not in order ...\n",
       "MainBranch    Which of the following options best describes ...\n",
       "Hobbyist                                Do you code as a hobby?\n",
       "OpenSourcer         How often do you contribute to open source?\n",
       "OpenSource    How do you feel about the quality of open sour...\n",
       "...                                                         ...\n",
       "Sexuality     Which of the following do you currently identi...\n",
       "Ethnicity     Which of the following do you identify as? Ple...\n",
       "Dependents    Do you have any dependents (e.g., children, el...\n",
       "SurveyLength  How do you feel about the length of the survey...\n",
       "SurveyEase    How easy or difficult was this survey to compl...\n",
       "\n",
       "[85 rows x 1 columns]"
      ]
     },
     "execution_count": 92,
     "metadata": {},
     "output_type": "execute_result"
    }
   ],
   "source": [
    "df_schema"
   ]
  },
  {
   "cell_type": "code",
   "execution_count": 93,
   "metadata": {},
   "outputs": [
    {
     "data": {
      "text/plain": [
       "'Including any education, how many years have you been coding?'"
      ]
     },
     "execution_count": 93,
     "metadata": {},
     "output_type": "execute_result"
    }
   ],
   "source": [
    "df_schema.loc['YearsCode']['QuestionText']"
   ]
  },
  {
   "cell_type": "markdown",
   "metadata": {},
   "source": [
    "    YearsCode'a 5'den fazla cevap verenlerin kaç tanesinde Bechalor's Degree veya Master's Degre yoktur?"
   ]
  },
  {
   "cell_type": "code",
   "execution_count": 94,
   "metadata": {},
   "outputs": [
    {
     "data": {
      "text/plain": [
       "YearsCode\n",
       "5     7047\n",
       "10    6777\n",
       "6     6179\n",
       "4     5729\n",
       "8     5361\n",
       "      ... \n",
       "50      51\n",
       "47      36\n",
       "48      31\n",
       "46      27\n",
       "49      25\n",
       "Name: count, Length: 52, dtype: int64"
      ]
     },
     "execution_count": 94,
     "metadata": {},
     "output_type": "execute_result"
    }
   ],
   "source": [
    "df_survey['YearsCode'].value_counts()"
   ]
  },
  {
   "cell_type": "code",
   "execution_count": 95,
   "metadata": {},
   "outputs": [
    {
     "data": {
      "text/plain": [
       "EdLevel\n",
       "Bachelor’s degree (BA, BS, B.Eng., etc.)                                              39134\n",
       "Master’s degree (MA, MS, M.Eng., MBA, etc.)                                           19569\n",
       "Some college/university study without earning a degree                                10502\n",
       "Secondary school (e.g. American high school, German Realschule or Gymnasium, etc.)     8642\n",
       "Associate degree                                                                       2938\n",
       "Other doctoral degree (Ph.D, Ed.D., etc.)                                              2432\n",
       "Primary/elementary school                                                              1422\n",
       "Professional degree (JD, MD, etc.)                                                     1198\n",
       "I never completed any formal education                                                  553\n",
       "Name: count, dtype: int64"
      ]
     },
     "execution_count": 95,
     "metadata": {},
     "output_type": "execute_result"
    }
   ],
   "source": [
    "df_survey['EdLevel'].value_counts()"
   ]
  },
  {
   "cell_type": "code",
   "execution_count": 96,
   "metadata": {},
   "outputs": [
    {
     "data": {
      "text/html": [
       "<div>\n",
       "<style scoped>\n",
       "    .dataframe tbody tr th:only-of-type {\n",
       "        vertical-align: middle;\n",
       "    }\n",
       "\n",
       "    .dataframe tbody tr th {\n",
       "        vertical-align: top;\n",
       "    }\n",
       "\n",
       "    .dataframe thead th {\n",
       "        text-align: right;\n",
       "    }\n",
       "</style>\n",
       "<table border=\"1\" class=\"dataframe\">\n",
       "  <thead>\n",
       "    <tr style=\"text-align: right;\">\n",
       "      <th></th>\n",
       "      <th>EdLevel</th>\n",
       "      <th>YearsCode</th>\n",
       "    </tr>\n",
       "    <tr>\n",
       "      <th>Respondent</th>\n",
       "      <th></th>\n",
       "      <th></th>\n",
       "    </tr>\n",
       "  </thead>\n",
       "  <tbody>\n",
       "    <tr>\n",
       "      <th>27</th>\n",
       "      <td>Some college/university study without earning ...</td>\n",
       "      <td>7</td>\n",
       "    </tr>\n",
       "    <tr>\n",
       "      <th>37</th>\n",
       "      <td>Associate degree</td>\n",
       "      <td>7</td>\n",
       "    </tr>\n",
       "    <tr>\n",
       "      <th>42</th>\n",
       "      <td>Secondary school (e.g. American high school, G...</td>\n",
       "      <td>8</td>\n",
       "    </tr>\n",
       "    <tr>\n",
       "      <th>86</th>\n",
       "      <td>Some college/university study without earning ...</td>\n",
       "      <td>6</td>\n",
       "    </tr>\n",
       "    <tr>\n",
       "      <th>88</th>\n",
       "      <td>Secondary school (e.g. American high school, G...</td>\n",
       "      <td>9</td>\n",
       "    </tr>\n",
       "    <tr>\n",
       "      <th>...</th>\n",
       "      <td>...</td>\n",
       "      <td>...</td>\n",
       "    </tr>\n",
       "    <tr>\n",
       "      <th>72492</th>\n",
       "      <td>Some college/university study without earning ...</td>\n",
       "      <td>7</td>\n",
       "    </tr>\n",
       "    <tr>\n",
       "      <th>82789</th>\n",
       "      <td>Secondary school (e.g. American high school, G...</td>\n",
       "      <td>9</td>\n",
       "    </tr>\n",
       "    <tr>\n",
       "      <th>83000</th>\n",
       "      <td>Secondary school (e.g. American high school, G...</td>\n",
       "      <td>7</td>\n",
       "    </tr>\n",
       "    <tr>\n",
       "      <th>86566</th>\n",
       "      <td>Some college/university study without earning ...</td>\n",
       "      <td>More than 50 years</td>\n",
       "    </tr>\n",
       "    <tr>\n",
       "      <th>88863</th>\n",
       "      <td>Professional degree (JD, MD, etc.)</td>\n",
       "      <td>8</td>\n",
       "    </tr>\n",
       "  </tbody>\n",
       "</table>\n",
       "<p>6150 rows × 2 columns</p>\n",
       "</div>"
      ],
      "text/plain": [
       "                                                      EdLevel  \\\n",
       "Respondent                                                      \n",
       "27          Some college/university study without earning ...   \n",
       "37                                           Associate degree   \n",
       "42          Secondary school (e.g. American high school, G...   \n",
       "86          Some college/university study without earning ...   \n",
       "88          Secondary school (e.g. American high school, G...   \n",
       "...                                                       ...   \n",
       "72492       Some college/university study without earning ...   \n",
       "82789       Secondary school (e.g. American high school, G...   \n",
       "83000       Secondary school (e.g. American high school, G...   \n",
       "86566       Some college/university study without earning ...   \n",
       "88863                      Professional degree (JD, MD, etc.)   \n",
       "\n",
       "                     YearsCode  \n",
       "Respondent                      \n",
       "27                           7  \n",
       "37                           7  \n",
       "42                           8  \n",
       "86                           6  \n",
       "88                           9  \n",
       "...                        ...  \n",
       "72492                        7  \n",
       "82789                        9  \n",
       "83000                        7  \n",
       "86566       More than 50 years  \n",
       "88863                        8  \n",
       "\n",
       "[6150 rows x 2 columns]"
      ]
     },
     "execution_count": 96,
     "metadata": {},
     "output_type": "execute_result"
    }
   ],
   "source": [
    "filt_years = (df_survey['YearsCode'] > \"5\") & (df_survey['YearsCode'] != \"Less than 1 year\")    # Less than 1 year bizim düzenimizi bozan bir yanıt olduğu için çıkartıyoruz onur\n",
    "filt_education = (df_survey['EdLevel'] == \"Bachelor’s degree (BA, BS, B.Eng., etc.)\") | (df_survey['EdLevel'] == \"Master’s degree (MA, MS, M.Eng., MBA, etc.)\")\n",
    "\n",
    "df_years = df_survey.loc[filt_years]\n",
    "\n",
    "df_final = df_years.loc[~filt_education]        # ÇOK ÖNEMLİ. YUKARIDAKİ filt_education HARİCİNDEKİLERİ SEÇTİK BURADA\n",
    "\n",
    "ads = df_final[['EdLevel', 'YearsCode']]\n",
    "\n",
    "ads     # istediğimiz sonucu veren tablo budur"
   ]
  },
  {
   "cell_type": "markdown",
   "metadata": {},
   "source": [
    "### **▶️ 3.7.3 Farklı Metodlar**"
   ]
  },
  {
   "cell_type": "code",
   "execution_count": 97,
   "metadata": {},
   "outputs": [
    {
     "data": {
      "text/plain": [
       "Index(['MainBranch', 'Hobbyist', 'OpenSourcer', 'OpenSource', 'Employment',\n",
       "       'Country', 'Student', 'EdLevel', 'UndergradMajor', 'EduOther',\n",
       "       'OrgSize', 'DevType', 'YearsCode', 'Age1stCode', 'YearsCodePro',\n",
       "       'CareerSat', 'JobSat', 'MgrIdiot', 'MgrMoney', 'MgrWant', 'JobSeek',\n",
       "       'LastHireDate', 'LastInt', 'FizzBuzz', 'JobFactors', 'ResumeUpdate',\n",
       "       'CurrencySymbol', 'CurrencyDesc', 'CompTotal', 'CompFreq',\n",
       "       'ConvertedComp', 'WorkWeekHrs', 'WorkPlan', 'WorkChallenge',\n",
       "       'WorkRemote', 'WorkLoc', 'ImpSyn', 'CodeRev', 'CodeRevHrs', 'UnitTests',\n",
       "       'PurchaseHow', 'PurchaseWhat', 'LanguageWorkedWith',\n",
       "       'LanguageDesireNextYear', 'DatabaseWorkedWith',\n",
       "       'DatabaseDesireNextYear', 'PlatformWorkedWith',\n",
       "       'PlatformDesireNextYear', 'WebFrameWorkedWith',\n",
       "       'WebFrameDesireNextYear', 'MiscTechWorkedWith',\n",
       "       'MiscTechDesireNextYear', 'DevEnviron', 'OpSys', 'Containers',\n",
       "       'BlockchainOrg', 'BlockchainIs', 'BetterLife', 'ITperson', 'OffOn',\n",
       "       'SocialMedia', 'Extraversion', 'ScreenName', 'SOVisit1st',\n",
       "       'SOVisitFreq', 'SOVisitTo', 'SOFindAnswer', 'SOTimeSaved',\n",
       "       'SOHowMuchTime', 'SOAccount', 'SOPartFreq', 'SOJobs', 'EntTeams',\n",
       "       'SOComm', 'WelcomeChange', 'SONewContent', 'Age', 'Gender', 'Trans',\n",
       "       'Sexuality', 'Ethnicity', 'Dependents', 'SurveyLength', 'SurveyEase'],\n",
       "      dtype='object')"
      ]
     },
     "execution_count": 97,
     "metadata": {},
     "output_type": "execute_result"
    }
   ],
   "source": [
    "df_survey.columns"
   ]
  },
  {
   "cell_type": "code",
   "execution_count": 98,
   "metadata": {},
   "outputs": [
    {
     "data": {
      "text/plain": [
       "Gender\n",
       "Man                                                            77919\n",
       "Woman                                                           6344\n",
       "Non-binary, genderqueer, or gender non-conforming                597\n",
       "Man;Non-binary, genderqueer, or gender non-conforming            181\n",
       "Woman;Non-binary, genderqueer, or gender non-conforming          163\n",
       "Woman;Man                                                        132\n",
       "Woman;Man;Non-binary, genderqueer, or gender non-conforming       70\n",
       "Name: count, dtype: int64"
      ]
     },
     "execution_count": 98,
     "metadata": {},
     "output_type": "execute_result"
    }
   ],
   "source": [
    "df_survey['Gender'].value_counts()"
   ]
  },
  {
   "cell_type": "code",
   "execution_count": 99,
   "metadata": {},
   "outputs": [],
   "source": [
    "genders = ['Man', 'Woman']\n",
    "filt = df_survey['Gender'].isin(genders)"
   ]
  },
  {
   "cell_type": "code",
   "execution_count": 100,
   "metadata": {},
   "outputs": [
    {
     "data": {
      "text/html": [
       "<div>\n",
       "<style scoped>\n",
       "    .dataframe tbody tr th:only-of-type {\n",
       "        vertical-align: middle;\n",
       "    }\n",
       "\n",
       "    .dataframe tbody tr th {\n",
       "        vertical-align: top;\n",
       "    }\n",
       "\n",
       "    .dataframe thead th {\n",
       "        text-align: right;\n",
       "    }\n",
       "</style>\n",
       "<table border=\"1\" class=\"dataframe\">\n",
       "  <thead>\n",
       "    <tr style=\"text-align: right;\">\n",
       "      <th></th>\n",
       "      <th>Country</th>\n",
       "      <th>Gender</th>\n",
       "    </tr>\n",
       "    <tr>\n",
       "      <th>Respondent</th>\n",
       "      <th></th>\n",
       "      <th></th>\n",
       "    </tr>\n",
       "  </thead>\n",
       "  <tbody>\n",
       "    <tr>\n",
       "      <th>1</th>\n",
       "      <td>United Kingdom</td>\n",
       "      <td>Man</td>\n",
       "    </tr>\n",
       "    <tr>\n",
       "      <th>2</th>\n",
       "      <td>Bosnia and Herzegovina</td>\n",
       "      <td>Man</td>\n",
       "    </tr>\n",
       "    <tr>\n",
       "      <th>3</th>\n",
       "      <td>Thailand</td>\n",
       "      <td>Man</td>\n",
       "    </tr>\n",
       "    <tr>\n",
       "      <th>4</th>\n",
       "      <td>United States</td>\n",
       "      <td>Man</td>\n",
       "    </tr>\n",
       "    <tr>\n",
       "      <th>5</th>\n",
       "      <td>Ukraine</td>\n",
       "      <td>Man</td>\n",
       "    </tr>\n",
       "    <tr>\n",
       "      <th>...</th>\n",
       "      <td>...</td>\n",
       "      <td>...</td>\n",
       "    </tr>\n",
       "    <tr>\n",
       "      <th>88182</th>\n",
       "      <td>Pakistan</td>\n",
       "      <td>Man</td>\n",
       "    </tr>\n",
       "    <tr>\n",
       "      <th>88212</th>\n",
       "      <td>Spain</td>\n",
       "      <td>Man</td>\n",
       "    </tr>\n",
       "    <tr>\n",
       "      <th>88282</th>\n",
       "      <td>United States</td>\n",
       "      <td>Man</td>\n",
       "    </tr>\n",
       "    <tr>\n",
       "      <th>88377</th>\n",
       "      <td>Canada</td>\n",
       "      <td>Man</td>\n",
       "    </tr>\n",
       "    <tr>\n",
       "      <th>88863</th>\n",
       "      <td>Spain</td>\n",
       "      <td>Man</td>\n",
       "    </tr>\n",
       "  </tbody>\n",
       "</table>\n",
       "<p>84263 rows × 2 columns</p>\n",
       "</div>"
      ],
      "text/plain": [
       "                           Country Gender\n",
       "Respondent                               \n",
       "1                   United Kingdom    Man\n",
       "2           Bosnia and Herzegovina    Man\n",
       "3                         Thailand    Man\n",
       "4                    United States    Man\n",
       "5                          Ukraine    Man\n",
       "...                            ...    ...\n",
       "88182                     Pakistan    Man\n",
       "88212                        Spain    Man\n",
       "88282                United States    Man\n",
       "88377                       Canada    Man\n",
       "88863                        Spain    Man\n",
       "\n",
       "[84263 rows x 2 columns]"
      ]
     },
     "execution_count": 100,
     "metadata": {},
     "output_type": "execute_result"
    }
   ],
   "source": [
    "df_survey.loc[filt, ['Country', 'Gender']]      # aşağıda sadece Man ve Woman olan bireylerin ülkeleri yer almaktadır."
   ]
  },
  {
   "cell_type": "code",
   "execution_count": 101,
   "metadata": {},
   "outputs": [
    {
     "data": {
      "text/plain": [
       "EdLevel\n",
       "Bachelor’s degree (BA, BS, B.Eng., etc.)                                              521\n",
       "Master’s degree (MA, MS, M.Eng., MBA, etc.)                                           117\n",
       "Secondary school (e.g. American high school, German Realschule or Gymnasium, etc.)    109\n",
       "Some college/university study without earning a degree                                 83\n",
       "Associate degree                                                                       47\n",
       "Other doctoral degree (Ph.D, Ed.D., etc.)                                              23\n",
       "Primary/elementary school                                                              16\n",
       "I never completed any formal education                                                 12\n",
       "Name: count, dtype: int64"
      ]
     },
     "execution_count": 101,
     "metadata": {},
     "output_type": "execute_result"
    }
   ],
   "source": [
    "countries = ['Turkey']\n",
    "filt = df_survey['Country'].isin(countries)\n",
    "df_survey.loc[filt]['EdLevel'].value_counts()"
   ]
  },
  {
   "cell_type": "code",
   "execution_count": 102,
   "metadata": {},
   "outputs": [
    {
     "data": {
      "text/plain": [
       "Country\n",
       "United States        20949\n",
       "India                 9061\n",
       "Germany               5866\n",
       "United Kingdom        5737\n",
       "Canada                3395\n",
       "                     ...  \n",
       "Tonga                    1\n",
       "Timor-Leste              1\n",
       "North Korea              1\n",
       "Brunei Darussalam        1\n",
       "Chad                     1\n",
       "Name: count, Length: 179, dtype: int64"
      ]
     },
     "execution_count": 102,
     "metadata": {},
     "output_type": "execute_result"
    }
   ],
   "source": [
    "df_survey['Country'].value_counts()"
   ]
  },
  {
   "cell_type": "markdown",
   "metadata": {},
   "source": [
    "    ALIŞTIRMA: Ülkelerin Bachelor's Degree alan yazılımcıların tüm yazılımıclarına oranı kaçtır? Ve aynı şekilde Master's Degree için de geçerli."
   ]
  },
  {
   "cell_type": "code",
   "execution_count": null,
   "metadata": {},
   "outputs": [],
   "source": [
    "countries = list(set(df_survey['Country']))\n",
    "countries.pop(0)\n",
    "countries.sort()\n",
    "\n",
    "for country in range(0, len(countries)):\n",
    "    empty_list = []\n",
    "    empty_list.append(country)\n",
    "    filt = df_survey['Country'].isin(empty_list)\n",
    "    filt_All = df_survey.loc[filt]['EdLevel'].shape\n",
    "    filt_ = df_survey.loc[filt]['EdLevel'].value_counts()\n",
    "    filt_Bachelor = filt_.loc['Bachelor’s degree (BA, BS, B.Eng., etc.)']\n",
    "    filt_Bachelor_percant = int((filt_Bachelor / filt_All) * 100)\n",
    "    filt_Bachelor_percant = f\"{filt_Bachelor_percant}%\"\n",
    "    print(f\"Country              : {country[0]}\")\n",
    "    print(f\"Number of Participant: {filt_All[0]}\")\n",
    "    print(f\"Number of Bacheler's : {filt_Bachelor}\")\n",
    "    print(f\"Percant of Bacheler's: {filt_Bachelor_percant}\")\n",
    "    print(\"\\n\")\n"
   ]
  },
  {
   "cell_type": "code",
   "execution_count": 124,
   "metadata": {},
   "outputs": [
    {
     "name": "stdout",
     "output_type": "stream",
     "text": [
      "Country              : Turkey\n",
      "Number of Participant: 10010\n",
      "Number of Bacheler's : 6085\n",
      "Percant of Bacheler's: 60%\n"
     ]
    },
    {
     "name": "stderr",
     "output_type": "stream",
     "text": [
      "C:\\Users\\monstr\\AppData\\Local\\Temp\\ipykernel_8168\\2166731113.py:6: DeprecationWarning: Conversion of an array with ndim > 0 to a scalar is deprecated, and will error in future. Ensure you extract a single element from your array before performing this operation. (Deprecated NumPy 1.25.)\n",
      "  filt_Bachelor_percant = int((filt_Bachelor / filt_All) * 100)\n"
     ]
    }
   ],
   "source": [
    "country = ['Turkey', \"India\"]\n",
    "filt = df_survey['Country'].isin(country)\n",
    "filt_All = df_survey.loc[filt]['EdLevel'].shape\n",
    "filt_ = df_survey.loc[filt]['EdLevel'].value_counts()\n",
    "filt_Bachelor = filt_.loc['Bachelor’s degree (BA, BS, B.Eng., etc.)']\n",
    "filt_Bachelor_percant = int((filt_Bachelor / filt_All) * 100)\n",
    "filt_Bachelor_percant = f\"{filt_Bachelor_percant}%\"\n",
    "print(f\"Country              : {country[0]}\")\n",
    "print(f\"Number of Participant: {filt_All[0]}\")\n",
    "print(f\"Number of Bacheler's : {filt_Bachelor}\")\n",
    "print(f\"Percant of Bacheler's: {filt_Bachelor_percant}\")"
   ]
  },
  {
   "cell_type": "code",
   "execution_count": null,
   "metadata": {},
   "outputs": [],
   "source": [
    "countries = list(set(df_survey['Country']))\n",
    "countries.pop(0)\n",
    "countries.sort()\n",
    "\n",
    "for country in range(0, len(countries)):\n",
    "    empty_list = []\n",
    "    empty_list.append(country)\n",
    "    filt = df_survey['Country'].isin(empty_list)\n",
    "    filt_All = df_survey.loc[filt]['EdLevel'].shape\n",
    "    filt_ = df_survey.loc[filt]['EdLevel'].value_counts()\n",
    "    filt_Bachelor = filt_.loc['Bachelor’s degree (BA, BS, B.Eng., etc.)']\n",
    "    filt_Bachelor_percant = int((filt_Bachelor / filt_All) * 100)\n",
    "    filt_Bachelor_percant = f\"{filt_Bachelor_percant}%\"\n",
    "    print(f\"Country              : {country[0]}\")\n",
    "    print(f\"Number of Participant: {filt_All[0]}\")\n",
    "    print(f\"Number of Bacheler's : {filt_Bachelor}\")\n",
    "    print(f\"Percant of Bacheler's: {filt_Bachelor_percant}\")\n",
    "    print(\"\\n\")\n"
   ]
  },
  {
   "cell_type": "code",
   "execution_count": null,
   "metadata": {},
   "outputs": [],
   "source": [
    "country = ['Turkey', \"India\"]\n",
    "for i in range(2):\n",
    "    empty_list = []\n",
    "    empty_list.append(country)\n",
    "    filt = df_survey['Country'].isin(empty_list)\n",
    "    filt_All = df_survey.loc[filt]['EdLevel'].shape\n",
    "    filt_ = df_survey.loc[filt]['EdLevel'].value_counts()\n",
    "    filt_Bachelor = filt_.loc['Bachelor’s degree (BA, BS, B.Eng., etc.)']\n",
    "    filt_Bachelor_percant = int((filt_Bachelor / filt_All) * 100)\n",
    "    filt_Bachelor_percant = f\"{filt_Bachelor_percant}%\"\n",
    "    print(f\"Country              : {country[0]}\")\n",
    "    print(f\"Number of Participant: {filt_All[0]}\")\n",
    "    print(f\"Number of Bacheler's : {filt_Bachelor}\")\n",
    "    print(f\"Percant of Bacheler's: {filt_Bachelor_percant}\")"
   ]
  },
  {
   "cell_type": "markdown",
   "metadata": {},
   "source": [
    "    ALIŞTIRMA: Ülkelerin Bachelor's Degree alan yazılımcıların tüm yazılımıclarına oranı kaçtır? Ve aynı şekilde Master's Degree için de geçerli."
   ]
  },
  {
   "cell_type": "code",
   "execution_count": null,
   "metadata": {},
   "outputs": [],
   "source": [
    "a = df_survey['Country'].value_counts()\n",
    "a       # burada tüm ülkeleri listeledik unique bir biçimde.\n",
    "\n",
    "my_dict = dict(a)\n",
    "my_dict     # burada ise bir dictionary'e çevirdik.\n",
    "\n",
    "my_list = my_dict.keys()\n",
    "my_list = list(my_list)\n",
    "my_list    # burada ülkeleri liste haline getirdik iterable olması için.\n",
    "\n",
    "for ülke in my_list:\n",
    "\n",
    "    ülke = [ülke]        # filtrelemek istediğimiz şehri bir liste içerisine yazarız\n",
    "\n",
    "    filt = df_survey['Country'].isin(ülke)   # yalnızca Turkey olan row'lar True hale getirildi.\n",
    "\n",
    "    df_survey.loc[filt]         # herhangi bir column belirtmediğimiz için tüm Turkey olan row'lar yazdırıldı.\n",
    "\n",
    "    df_survey.loc[filt]['EdLevel']      # bu şekilde türklerin eğitim durumlarının ne olduğu tablo haline getirildi\n",
    "\n",
    "    list_EdLevel = df_survey.loc[filt]['EdLevel'].value_counts()       # bu şekilde de tüm yanıtlar unique hale getirildi\n",
    "\n",
    "    text = \"Bachelor’s degree (BA, BS, B.Eng., etc.)\"\n",
    "\n",
    "    if text in list_EdLevel:\n",
    "        bachelor_sayısı = list_EdLevel.loc[\"Bachelor’s degree (BA, BS, B.Eng., etc.)\"]\n",
    "\n",
    "        tüm_sayı = df_survey.loc[filt]['EdLevel'].shape\n",
    "        tüm_sayı = tüm_sayı[0]\n",
    "\n",
    "        oran = round((bachelor_sayısı / tüm_sayı) * 100)\n",
    "\n",
    "\n",
    "        print(\"🟢 Ülke Adı:\", ülke[0])\n",
    "        print(\"▶ Katılımcı Sayısı:\", tüm_sayı)\n",
    "        print(\"▶ Lisans Mezunu:\", bachelor_sayısı)\n",
    "        print(\"▶ Mezun Oranı: \" + str(oran) + \"%\" + \"\\n\")"
   ]
  },
  {
   "cell_type": "markdown",
   "metadata": {
    "jp-MarkdownHeadingCollapsed": true
   },
   "source": [
    "## **▶️▶️ 3.9 Column İsmi Değiştirme**"
   ]
  },
  {
   "cell_type": "code",
   "execution_count": 2,
   "metadata": {},
   "outputs": [],
   "source": [
    "import pandas as pd"
   ]
  },
  {
   "cell_type": "code",
   "execution_count": 2,
   "metadata": {},
   "outputs": [],
   "source": [
    "pd.set_option('display.max_columns',5) \n",
    "pd.set_option('display.max_rows', 10)"
   ]
  },
  {
   "cell_type": "code",
   "execution_count": 3,
   "metadata": {},
   "outputs": [],
   "source": [
    "df_survey = pd.read_csv('SOURCES/survey_results_public.csv', index_col = 'Respondent')\n",
    "df_schema = pd.read_csv('SOURCES/survey_results_schema.csv', index_col = 'Column')"
   ]
  },
  {
   "cell_type": "code",
   "execution_count": 3,
   "metadata": {},
   "outputs": [],
   "source": [
    "people = {\n",
    "    \"first\": [\"Emre\", \"İrem\", \"Süheyla\"],\n",
    "    \"last\": [\"Çakır\", \"Çukurlu\", \"Çukurlu\"],\n",
    "    \"email\": [\"emrecakir@gmail.com\", \"iremcukurlu@email.com\", \"suheylacukurlu@email.com\"]\n",
    "}"
   ]
  },
  {
   "cell_type": "code",
   "execution_count": 4,
   "metadata": {},
   "outputs": [],
   "source": [
    "df_people = pd.DataFrame(people)"
   ]
  },
  {
   "cell_type": "code",
   "execution_count": 5,
   "metadata": {},
   "outputs": [
    {
     "data": {
      "text/html": [
       "<div>\n",
       "<style scoped>\n",
       "    .dataframe tbody tr th:only-of-type {\n",
       "        vertical-align: middle;\n",
       "    }\n",
       "\n",
       "    .dataframe tbody tr th {\n",
       "        vertical-align: top;\n",
       "    }\n",
       "\n",
       "    .dataframe thead th {\n",
       "        text-align: right;\n",
       "    }\n",
       "</style>\n",
       "<table border=\"1\" class=\"dataframe\">\n",
       "  <thead>\n",
       "    <tr style=\"text-align: right;\">\n",
       "      <th></th>\n",
       "      <th>first</th>\n",
       "      <th>last</th>\n",
       "      <th>email</th>\n",
       "    </tr>\n",
       "  </thead>\n",
       "  <tbody>\n",
       "    <tr>\n",
       "      <th>0</th>\n",
       "      <td>Emre</td>\n",
       "      <td>Çakır</td>\n",
       "      <td>emrecakir@gmail.com</td>\n",
       "    </tr>\n",
       "    <tr>\n",
       "      <th>1</th>\n",
       "      <td>İrem</td>\n",
       "      <td>Çukurlu</td>\n",
       "      <td>iremcukurlu@email.com</td>\n",
       "    </tr>\n",
       "    <tr>\n",
       "      <th>2</th>\n",
       "      <td>Süheyla</td>\n",
       "      <td>Çukurlu</td>\n",
       "      <td>suheylacukurlu@email.com</td>\n",
       "    </tr>\n",
       "  </tbody>\n",
       "</table>\n",
       "</div>"
      ],
      "text/plain": [
       "     first     last                     email\n",
       "0     Emre    Çakır       emrecakir@gmail.com\n",
       "1     İrem  Çukurlu     iremcukurlu@email.com\n",
       "2  Süheyla  Çukurlu  suheylacukurlu@email.com"
      ]
     },
     "execution_count": 5,
     "metadata": {},
     "output_type": "execute_result"
    }
   ],
   "source": [
    "df_people"
   ]
  },
  {
   "cell_type": "markdown",
   "metadata": {},
   "source": [
    "    people isimli tablonun column isimlerini aşağıdaki gibi değiştirebiliriz"
   ]
  },
  {
   "cell_type": "code",
   "execution_count": 32,
   "metadata": {},
   "outputs": [
    {
     "data": {
      "text/html": [
       "<div>\n",
       "<style scoped>\n",
       "    .dataframe tbody tr th:only-of-type {\n",
       "        vertical-align: middle;\n",
       "    }\n",
       "\n",
       "    .dataframe tbody tr th {\n",
       "        vertical-align: top;\n",
       "    }\n",
       "\n",
       "    .dataframe thead th {\n",
       "        text-align: right;\n",
       "    }\n",
       "</style>\n",
       "<table border=\"1\" class=\"dataframe\">\n",
       "  <thead>\n",
       "    <tr style=\"text-align: right;\">\n",
       "      <th></th>\n",
       "      <th>first_name</th>\n",
       "      <th>last_name</th>\n",
       "      <th>email</th>\n",
       "    </tr>\n",
       "  </thead>\n",
       "  <tbody>\n",
       "    <tr>\n",
       "      <th>0</th>\n",
       "      <td>Emre</td>\n",
       "      <td>Çakır</td>\n",
       "      <td>emrecakir@gmail.com</td>\n",
       "    </tr>\n",
       "    <tr>\n",
       "      <th>1</th>\n",
       "      <td>İrem</td>\n",
       "      <td>Çukurlu</td>\n",
       "      <td>iremcukurlu@email.com</td>\n",
       "    </tr>\n",
       "    <tr>\n",
       "      <th>2</th>\n",
       "      <td>Süheyla</td>\n",
       "      <td>Çukurlu</td>\n",
       "      <td>suheylacukurlu@email.com</td>\n",
       "    </tr>\n",
       "  </tbody>\n",
       "</table>\n",
       "</div>"
      ],
      "text/plain": [
       "  first_name last_name                     email\n",
       "0       Emre     Çakır       emrecakir@gmail.com\n",
       "1       İrem   Çukurlu     iremcukurlu@email.com\n",
       "2    Süheyla   Çukurlu  suheylacukurlu@email.com"
      ]
     },
     "execution_count": 32,
     "metadata": {},
     "output_type": "execute_result"
    }
   ],
   "source": [
    "df_people.columns = ['first_name','last_name','email'] \n",
    "df_people"
   ]
  },
  {
   "cell_type": "code",
   "execution_count": 33,
   "metadata": {},
   "outputs": [
    {
     "data": {
      "text/html": [
       "<div>\n",
       "<style scoped>\n",
       "    .dataframe tbody tr th:only-of-type {\n",
       "        vertical-align: middle;\n",
       "    }\n",
       "\n",
       "    .dataframe tbody tr th {\n",
       "        vertical-align: top;\n",
       "    }\n",
       "\n",
       "    .dataframe thead th {\n",
       "        text-align: right;\n",
       "    }\n",
       "</style>\n",
       "<table border=\"1\" class=\"dataframe\">\n",
       "  <thead>\n",
       "    <tr style=\"text-align: right;\">\n",
       "      <th></th>\n",
       "      <th>FIRST_NAME</th>\n",
       "      <th>LAST_NAME</th>\n",
       "      <th>EMAIL</th>\n",
       "    </tr>\n",
       "  </thead>\n",
       "  <tbody>\n",
       "    <tr>\n",
       "      <th>0</th>\n",
       "      <td>Emre</td>\n",
       "      <td>Çakır</td>\n",
       "      <td>emrecakir@gmail.com</td>\n",
       "    </tr>\n",
       "    <tr>\n",
       "      <th>1</th>\n",
       "      <td>İrem</td>\n",
       "      <td>Çukurlu</td>\n",
       "      <td>iremcukurlu@email.com</td>\n",
       "    </tr>\n",
       "    <tr>\n",
       "      <th>2</th>\n",
       "      <td>Süheyla</td>\n",
       "      <td>Çukurlu</td>\n",
       "      <td>suheylacukurlu@email.com</td>\n",
       "    </tr>\n",
       "  </tbody>\n",
       "</table>\n",
       "</div>"
      ],
      "text/plain": [
       "  FIRST_NAME LAST_NAME                     EMAIL\n",
       "0       Emre     Çakır       emrecakir@gmail.com\n",
       "1       İrem   Çukurlu     iremcukurlu@email.com\n",
       "2    Süheyla   Çukurlu  suheylacukurlu@email.com"
      ]
     },
     "execution_count": 33,
     "metadata": {},
     "output_type": "execute_result"
    }
   ],
   "source": [
    "df_people.columns =  [x.upper() for x in df_people.columns] # burada bütün kolon isimlerini büyük harfle yazdırdık.\n",
    "df_people"
   ]
  },
  {
   "cell_type": "code",
   "execution_count": 34,
   "metadata": {},
   "outputs": [
    {
     "data": {
      "text/html": [
       "<div>\n",
       "<style scoped>\n",
       "    .dataframe tbody tr th:only-of-type {\n",
       "        vertical-align: middle;\n",
       "    }\n",
       "\n",
       "    .dataframe tbody tr th {\n",
       "        vertical-align: top;\n",
       "    }\n",
       "\n",
       "    .dataframe thead th {\n",
       "        text-align: right;\n",
       "    }\n",
       "</style>\n",
       "<table border=\"1\" class=\"dataframe\">\n",
       "  <thead>\n",
       "    <tr style=\"text-align: right;\">\n",
       "      <th></th>\n",
       "      <th>first_name</th>\n",
       "      <th>last_name</th>\n",
       "      <th>email</th>\n",
       "    </tr>\n",
       "  </thead>\n",
       "  <tbody>\n",
       "    <tr>\n",
       "      <th>0</th>\n",
       "      <td>Emre</td>\n",
       "      <td>Çakır</td>\n",
       "      <td>emrecakir@gmail.com</td>\n",
       "    </tr>\n",
       "    <tr>\n",
       "      <th>1</th>\n",
       "      <td>İrem</td>\n",
       "      <td>Çukurlu</td>\n",
       "      <td>iremcukurlu@email.com</td>\n",
       "    </tr>\n",
       "    <tr>\n",
       "      <th>2</th>\n",
       "      <td>Süheyla</td>\n",
       "      <td>Çukurlu</td>\n",
       "      <td>suheylacukurlu@email.com</td>\n",
       "    </tr>\n",
       "  </tbody>\n",
       "</table>\n",
       "</div>"
      ],
      "text/plain": [
       "  first_name last_name                     email\n",
       "0       Emre     Çakır       emrecakir@gmail.com\n",
       "1       İrem   Çukurlu     iremcukurlu@email.com\n",
       "2    Süheyla   Çukurlu  suheylacukurlu@email.com"
      ]
     },
     "execution_count": 34,
     "metadata": {},
     "output_type": "execute_result"
    }
   ],
   "source": [
    "df_people.columns =  [x.lower() for x in df_people.columns] # burada bütün kolon isimlerini küçük harfle yazdırdık.\n",
    "df_people"
   ]
  },
  {
   "cell_type": "code",
   "execution_count": 35,
   "metadata": {},
   "outputs": [
    {
     "data": {
      "text/html": [
       "<div>\n",
       "<style scoped>\n",
       "    .dataframe tbody tr th:only-of-type {\n",
       "        vertical-align: middle;\n",
       "    }\n",
       "\n",
       "    .dataframe tbody tr th {\n",
       "        vertical-align: top;\n",
       "    }\n",
       "\n",
       "    .dataframe thead th {\n",
       "        text-align: right;\n",
       "    }\n",
       "</style>\n",
       "<table border=\"1\" class=\"dataframe\">\n",
       "  <thead>\n",
       "    <tr style=\"text-align: right;\">\n",
       "      <th></th>\n",
       "      <th>first</th>\n",
       "      <th>last</th>\n",
       "      <th>email</th>\n",
       "    </tr>\n",
       "  </thead>\n",
       "  <tbody>\n",
       "    <tr>\n",
       "      <th>0</th>\n",
       "      <td>Emre</td>\n",
       "      <td>Çakır</td>\n",
       "      <td>emrecakir@gmail.com</td>\n",
       "    </tr>\n",
       "    <tr>\n",
       "      <th>1</th>\n",
       "      <td>İrem</td>\n",
       "      <td>Çukurlu</td>\n",
       "      <td>iremcukurlu@email.com</td>\n",
       "    </tr>\n",
       "    <tr>\n",
       "      <th>2</th>\n",
       "      <td>Süheyla</td>\n",
       "      <td>Çukurlu</td>\n",
       "      <td>suheylacukurlu@email.com</td>\n",
       "    </tr>\n",
       "  </tbody>\n",
       "</table>\n",
       "</div>"
      ],
      "text/plain": [
       "     first     last                     email\n",
       "0     Emre    Çakır       emrecakir@gmail.com\n",
       "1     İrem  Çukurlu     iremcukurlu@email.com\n",
       "2  Süheyla  Çukurlu  suheylacukurlu@email.com"
      ]
     },
     "execution_count": 35,
     "metadata": {},
     "output_type": "execute_result"
    }
   ],
   "source": [
    "df_people.columns = df_people.columns.str.replace('_name' , '')  # Burada ise bir nevi first ve last yazmasını sağladık\n",
    "df_people"
   ]
  },
  {
   "cell_type": "markdown",
   "metadata": {},
   "source": [
    "    ÖNEMLİ: Tüm column'ları değiştirmek yerine sadece birkaç tanesini değiştirebiliyoruz:"
   ]
  },
  {
   "cell_type": "code",
   "execution_count": 36,
   "metadata": {},
   "outputs": [
    {
     "data": {
      "text/plain": [
       "Index(['first', 'last', 'email'], dtype='object')"
      ]
     },
     "execution_count": 36,
     "metadata": {},
     "output_type": "execute_result"
    }
   ],
   "source": [
    "df_people.columns"
   ]
  },
  {
   "cell_type": "code",
   "execution_count": 37,
   "metadata": {},
   "outputs": [
    {
     "data": {
      "text/html": [
       "<div>\n",
       "<style scoped>\n",
       "    .dataframe tbody tr th:only-of-type {\n",
       "        vertical-align: middle;\n",
       "    }\n",
       "\n",
       "    .dataframe tbody tr th {\n",
       "        vertical-align: top;\n",
       "    }\n",
       "\n",
       "    .dataframe thead th {\n",
       "        text-align: right;\n",
       "    }\n",
       "</style>\n",
       "<table border=\"1\" class=\"dataframe\">\n",
       "  <thead>\n",
       "    <tr style=\"text-align: right;\">\n",
       "      <th></th>\n",
       "      <th>first_name</th>\n",
       "      <th>last_name</th>\n",
       "      <th>email</th>\n",
       "    </tr>\n",
       "  </thead>\n",
       "  <tbody>\n",
       "    <tr>\n",
       "      <th>0</th>\n",
       "      <td>Emre</td>\n",
       "      <td>Çakır</td>\n",
       "      <td>emrecakir@gmail.com</td>\n",
       "    </tr>\n",
       "    <tr>\n",
       "      <th>1</th>\n",
       "      <td>İrem</td>\n",
       "      <td>Çukurlu</td>\n",
       "      <td>iremcukurlu@email.com</td>\n",
       "    </tr>\n",
       "    <tr>\n",
       "      <th>2</th>\n",
       "      <td>Süheyla</td>\n",
       "      <td>Çukurlu</td>\n",
       "      <td>suheylacukurlu@email.com</td>\n",
       "    </tr>\n",
       "  </tbody>\n",
       "</table>\n",
       "</div>"
      ],
      "text/plain": [
       "  first_name last_name                     email\n",
       "0       Emre     Çakır       emrecakir@gmail.com\n",
       "1       İrem   Çukurlu     iremcukurlu@email.com\n",
       "2    Süheyla   Çukurlu  suheylacukurlu@email.com"
      ]
     },
     "execution_count": 37,
     "metadata": {},
     "output_type": "execute_result"
    }
   ],
   "source": [
    "df = df_people.rename(columns = {'last':'last_name','first':'first_name'})\n",
    "df"
   ]
  },
  {
   "cell_type": "code",
   "execution_count": 41,
   "metadata": {},
   "outputs": [],
   "source": [
    "# eğer df_people tablosunda değişikliğin uygulanmasını istiyorsak:\n",
    "\n",
    "df_people.rename(columns = {'last':'last_name','first':'first_name'}, inplace=True)"
   ]
  },
  {
   "cell_type": "code",
   "execution_count": 42,
   "metadata": {},
   "outputs": [
    {
     "data": {
      "text/html": [
       "<div>\n",
       "<style scoped>\n",
       "    .dataframe tbody tr th:only-of-type {\n",
       "        vertical-align: middle;\n",
       "    }\n",
       "\n",
       "    .dataframe tbody tr th {\n",
       "        vertical-align: top;\n",
       "    }\n",
       "\n",
       "    .dataframe thead th {\n",
       "        text-align: right;\n",
       "    }\n",
       "</style>\n",
       "<table border=\"1\" class=\"dataframe\">\n",
       "  <thead>\n",
       "    <tr style=\"text-align: right;\">\n",
       "      <th></th>\n",
       "      <th>first_name</th>\n",
       "      <th>last_name</th>\n",
       "      <th>email</th>\n",
       "    </tr>\n",
       "  </thead>\n",
       "  <tbody>\n",
       "    <tr>\n",
       "      <th>0</th>\n",
       "      <td>Emre</td>\n",
       "      <td>Çakır</td>\n",
       "      <td>emrecakir@gmail.com</td>\n",
       "    </tr>\n",
       "    <tr>\n",
       "      <th>1</th>\n",
       "      <td>İrem</td>\n",
       "      <td>Çukurlu</td>\n",
       "      <td>iremcukurlu@email.com</td>\n",
       "    </tr>\n",
       "    <tr>\n",
       "      <th>2</th>\n",
       "      <td>Süheyla</td>\n",
       "      <td>Çukurlu</td>\n",
       "      <td>suheylacukurlu@email.com</td>\n",
       "    </tr>\n",
       "  </tbody>\n",
       "</table>\n",
       "</div>"
      ],
      "text/plain": [
       "  first_name last_name                     email\n",
       "0       Emre     Çakır       emrecakir@gmail.com\n",
       "1       İrem   Çukurlu     iremcukurlu@email.com\n",
       "2    Süheyla   Çukurlu  suheylacukurlu@email.com"
      ]
     },
     "execution_count": 42,
     "metadata": {},
     "output_type": "execute_result"
    }
   ],
   "source": [
    "df_people"
   ]
  },
  {
   "cell_type": "markdown",
   "metadata": {
    "jp-MarkdownHeadingCollapsed": true
   },
   "source": [
    "## **▶️▶️ 3.10 Verileri Değiştirme**"
   ]
  },
  {
   "cell_type": "code",
   "execution_count": 5,
   "metadata": {},
   "outputs": [
    {
     "data": {
      "text/html": [
       "<div>\n",
       "<style scoped>\n",
       "    .dataframe tbody tr th:only-of-type {\n",
       "        vertical-align: middle;\n",
       "    }\n",
       "\n",
       "    .dataframe tbody tr th {\n",
       "        vertical-align: top;\n",
       "    }\n",
       "\n",
       "    .dataframe thead th {\n",
       "        text-align: right;\n",
       "    }\n",
       "</style>\n",
       "<table border=\"1\" class=\"dataframe\">\n",
       "  <thead>\n",
       "    <tr style=\"text-align: right;\">\n",
       "      <th></th>\n",
       "      <th>first</th>\n",
       "      <th>last</th>\n",
       "      <th>email</th>\n",
       "    </tr>\n",
       "  </thead>\n",
       "  <tbody>\n",
       "    <tr>\n",
       "      <th>0</th>\n",
       "      <td>Emre</td>\n",
       "      <td>Çakır</td>\n",
       "      <td>emrecakir@gmail.com</td>\n",
       "    </tr>\n",
       "    <tr>\n",
       "      <th>1</th>\n",
       "      <td>İrem</td>\n",
       "      <td>Çukurlu</td>\n",
       "      <td>iremcukurlu@email.com</td>\n",
       "    </tr>\n",
       "    <tr>\n",
       "      <th>2</th>\n",
       "      <td>Süheyla</td>\n",
       "      <td>Çukurlu</td>\n",
       "      <td>suheylacukurlu@email.com</td>\n",
       "    </tr>\n",
       "  </tbody>\n",
       "</table>\n",
       "</div>"
      ],
      "text/plain": [
       "     first     last                     email\n",
       "0     Emre    Çakır       emrecakir@gmail.com\n",
       "1     İrem  Çukurlu     iremcukurlu@email.com\n",
       "2  Süheyla  Çukurlu  suheylacukurlu@email.com"
      ]
     },
     "execution_count": 5,
     "metadata": {},
     "output_type": "execute_result"
    }
   ],
   "source": [
    "df_people"
   ]
  },
  {
   "cell_type": "code",
   "execution_count": 6,
   "metadata": {},
   "outputs": [],
   "source": [
    "df_people.loc[1] = ['İrem Süheyla', 'Çukurlu', 'iremScukurlu@email.com']\n",
    "df_people.loc[2] = ['Ceren İlayda', 'Çukurlu', 'cerenIcukurlu@email.com']"
   ]
  },
  {
   "cell_type": "markdown",
   "metadata": {},
   "source": [
    "    İŞTE BU KADAR KOLAY"
   ]
  },
  {
   "cell_type": "code",
   "execution_count": 7,
   "metadata": {},
   "outputs": [
    {
     "data": {
      "text/html": [
       "<div>\n",
       "<style scoped>\n",
       "    .dataframe tbody tr th:only-of-type {\n",
       "        vertical-align: middle;\n",
       "    }\n",
       "\n",
       "    .dataframe tbody tr th {\n",
       "        vertical-align: top;\n",
       "    }\n",
       "\n",
       "    .dataframe thead th {\n",
       "        text-align: right;\n",
       "    }\n",
       "</style>\n",
       "<table border=\"1\" class=\"dataframe\">\n",
       "  <thead>\n",
       "    <tr style=\"text-align: right;\">\n",
       "      <th></th>\n",
       "      <th>first</th>\n",
       "      <th>last</th>\n",
       "      <th>email</th>\n",
       "    </tr>\n",
       "  </thead>\n",
       "  <tbody>\n",
       "    <tr>\n",
       "      <th>0</th>\n",
       "      <td>Emre</td>\n",
       "      <td>Çakır</td>\n",
       "      <td>emrecakir@gmail.com</td>\n",
       "    </tr>\n",
       "    <tr>\n",
       "      <th>1</th>\n",
       "      <td>İrem Süheyla</td>\n",
       "      <td>Çukurlu</td>\n",
       "      <td>iremScukurlu@email.com</td>\n",
       "    </tr>\n",
       "    <tr>\n",
       "      <th>2</th>\n",
       "      <td>Ceren İlayda</td>\n",
       "      <td>Çukurlu</td>\n",
       "      <td>cerenIcukurlu@email.com</td>\n",
       "    </tr>\n",
       "  </tbody>\n",
       "</table>\n",
       "</div>"
      ],
      "text/plain": [
       "          first     last                    email\n",
       "0          Emre    Çakır      emrecakir@gmail.com\n",
       "1  İrem Süheyla  Çukurlu   iremScukurlu@email.com\n",
       "2  Ceren İlayda  Çukurlu  cerenIcukurlu@email.com"
      ]
     },
     "execution_count": 7,
     "metadata": {},
     "output_type": "execute_result"
    }
   ],
   "source": [
    "df_people"
   ]
  },
  {
   "cell_type": "markdown",
   "metadata": {},
   "source": [
    "    ANCAK DAHA DA KOLAYI VAR:\n",
    "\n",
    "    Eğer 3 tane değil de 100 tane column olsaydı, yukarıdaki yöntem yetersiz kalırdı çünkü bütün column'ları tek tek girmeniz gerekirdi. Ancak aşağıdaki yöntem mükemmel pratik:"
   ]
  },
  {
   "cell_type": "code",
   "execution_count": 8,
   "metadata": {},
   "outputs": [],
   "source": [
    "df_people.loc[1 , ['last','email']] = ['Çakır','iremSçakır@email.com']  # işte böyle :)"
   ]
  },
  {
   "cell_type": "code",
   "execution_count": 9,
   "metadata": {},
   "outputs": [
    {
     "data": {
      "text/html": [
       "<div>\n",
       "<style scoped>\n",
       "    .dataframe tbody tr th:only-of-type {\n",
       "        vertical-align: middle;\n",
       "    }\n",
       "\n",
       "    .dataframe tbody tr th {\n",
       "        vertical-align: top;\n",
       "    }\n",
       "\n",
       "    .dataframe thead th {\n",
       "        text-align: right;\n",
       "    }\n",
       "</style>\n",
       "<table border=\"1\" class=\"dataframe\">\n",
       "  <thead>\n",
       "    <tr style=\"text-align: right;\">\n",
       "      <th></th>\n",
       "      <th>first</th>\n",
       "      <th>last</th>\n",
       "      <th>email</th>\n",
       "    </tr>\n",
       "  </thead>\n",
       "  <tbody>\n",
       "    <tr>\n",
       "      <th>0</th>\n",
       "      <td>Emre</td>\n",
       "      <td>Çakır</td>\n",
       "      <td>emrecakir@gmail.com</td>\n",
       "    </tr>\n",
       "    <tr>\n",
       "      <th>1</th>\n",
       "      <td>İrem Süheyla</td>\n",
       "      <td>Çakır</td>\n",
       "      <td>iremSçakır@email.com</td>\n",
       "    </tr>\n",
       "    <tr>\n",
       "      <th>2</th>\n",
       "      <td>Ceren İlayda</td>\n",
       "      <td>Çukurlu</td>\n",
       "      <td>cerenIcukurlu@email.com</td>\n",
       "    </tr>\n",
       "  </tbody>\n",
       "</table>\n",
       "</div>"
      ],
      "text/plain": [
       "          first     last                    email\n",
       "0          Emre    Çakır      emrecakir@gmail.com\n",
       "1  İrem Süheyla    Çakır     iremSçakır@email.com\n",
       "2  Ceren İlayda  Çukurlu  cerenIcukurlu@email.com"
      ]
     },
     "execution_count": 9,
     "metadata": {},
     "output_type": "execute_result"
    }
   ],
   "source": [
    "df_people"
   ]
  },
  {
   "cell_type": "code",
   "execution_count": 10,
   "metadata": {},
   "outputs": [],
   "source": [
    "filt = (df_people['email'] == 'iremSçakır@email.com')\n",
    "df_people.loc[filt,'last'] = 'Çukurlu' \n",
    "# Burada Çakır soysimini Çukurlu ile değiştirmiş olduk."
   ]
  },
  {
   "cell_type": "code",
   "execution_count": 11,
   "metadata": {},
   "outputs": [
    {
     "data": {
      "text/html": [
       "<div>\n",
       "<style scoped>\n",
       "    .dataframe tbody tr th:only-of-type {\n",
       "        vertical-align: middle;\n",
       "    }\n",
       "\n",
       "    .dataframe tbody tr th {\n",
       "        vertical-align: top;\n",
       "    }\n",
       "\n",
       "    .dataframe thead th {\n",
       "        text-align: right;\n",
       "    }\n",
       "</style>\n",
       "<table border=\"1\" class=\"dataframe\">\n",
       "  <thead>\n",
       "    <tr style=\"text-align: right;\">\n",
       "      <th></th>\n",
       "      <th>first</th>\n",
       "      <th>last</th>\n",
       "      <th>email</th>\n",
       "    </tr>\n",
       "  </thead>\n",
       "  <tbody>\n",
       "    <tr>\n",
       "      <th>0</th>\n",
       "      <td>Emre</td>\n",
       "      <td>Çakır</td>\n",
       "      <td>emrecakir@gmail.com</td>\n",
       "    </tr>\n",
       "    <tr>\n",
       "      <th>1</th>\n",
       "      <td>İrem Süheyla</td>\n",
       "      <td>Çukurlu</td>\n",
       "      <td>iremSçakır@email.com</td>\n",
       "    </tr>\n",
       "    <tr>\n",
       "      <th>2</th>\n",
       "      <td>Ceren İlayda</td>\n",
       "      <td>Çukurlu</td>\n",
       "      <td>cerenIcukurlu@email.com</td>\n",
       "    </tr>\n",
       "  </tbody>\n",
       "</table>\n",
       "</div>"
      ],
      "text/plain": [
       "          first     last                    email\n",
       "0          Emre    Çakır      emrecakir@gmail.com\n",
       "1  İrem Süheyla  Çukurlu     iremSçakır@email.com\n",
       "2  Ceren İlayda  Çukurlu  cerenIcukurlu@email.com"
      ]
     },
     "execution_count": 11,
     "metadata": {},
     "output_type": "execute_result"
    }
   ],
   "source": [
    "df_people"
   ]
  },
  {
   "cell_type": "code",
   "execution_count": 12,
   "metadata": {},
   "outputs": [
    {
     "data": {
      "text/plain": [
       "0      ÇAKIR\n",
       "1    ÇUKURLU\n",
       "2    ÇUKURLU\n",
       "Name: last, dtype: object"
      ]
     },
     "execution_count": 12,
     "metadata": {},
     "output_type": "execute_result"
    }
   ],
   "source": [
    "df_people['last'].str.upper() # bütün soyisimleri büyüttük. Ama ana tabloya işlemesi içn bir sonraki hücreye bak."
   ]
  },
  {
   "cell_type": "code",
   "execution_count": 13,
   "metadata": {},
   "outputs": [
    {
     "data": {
      "text/html": [
       "<div>\n",
       "<style scoped>\n",
       "    .dataframe tbody tr th:only-of-type {\n",
       "        vertical-align: middle;\n",
       "    }\n",
       "\n",
       "    .dataframe tbody tr th {\n",
       "        vertical-align: top;\n",
       "    }\n",
       "\n",
       "    .dataframe thead th {\n",
       "        text-align: right;\n",
       "    }\n",
       "</style>\n",
       "<table border=\"1\" class=\"dataframe\">\n",
       "  <thead>\n",
       "    <tr style=\"text-align: right;\">\n",
       "      <th></th>\n",
       "      <th>first</th>\n",
       "      <th>last</th>\n",
       "      <th>email</th>\n",
       "    </tr>\n",
       "  </thead>\n",
       "  <tbody>\n",
       "    <tr>\n",
       "      <th>0</th>\n",
       "      <td>Emre</td>\n",
       "      <td>ÇAKIR</td>\n",
       "      <td>emrecakir@gmail.com</td>\n",
       "    </tr>\n",
       "    <tr>\n",
       "      <th>1</th>\n",
       "      <td>İrem Süheyla</td>\n",
       "      <td>ÇUKURLU</td>\n",
       "      <td>iremSçakır@email.com</td>\n",
       "    </tr>\n",
       "    <tr>\n",
       "      <th>2</th>\n",
       "      <td>Ceren İlayda</td>\n",
       "      <td>ÇUKURLU</td>\n",
       "      <td>cerenIcukurlu@email.com</td>\n",
       "    </tr>\n",
       "  </tbody>\n",
       "</table>\n",
       "</div>"
      ],
      "text/plain": [
       "          first     last                    email\n",
       "0          Emre    ÇAKIR      emrecakir@gmail.com\n",
       "1  İrem Süheyla  ÇUKURLU     iremSçakır@email.com\n",
       "2  Ceren İlayda  ÇUKURLU  cerenIcukurlu@email.com"
      ]
     },
     "execution_count": 13,
     "metadata": {},
     "output_type": "execute_result"
    }
   ],
   "source": [
    "df_people['last'] = df_people['last'].str.upper()\n",
    "df_people"
   ]
  },
  {
   "cell_type": "markdown",
   "metadata": {
    "jp-MarkdownHeadingCollapsed": true
   },
   "source": [
    "## **▶️▶️ 3.11 apply() Metodu**"
   ]
  },
  {
   "cell_type": "code",
   "execution_count": 14,
   "metadata": {},
   "outputs": [
    {
     "data": {
      "text/plain": [
       "0    19\n",
       "1    20\n",
       "2    23\n",
       "Name: email, dtype: int64"
      ]
     },
     "execution_count": 14,
     "metadata": {},
     "output_type": "execute_result"
    }
   ],
   "source": [
    "df_people['email'].apply(len) # len() metodunu tüm 'email' column'una uyguladık ve sonucu yazdırdık"
   ]
  },
  {
   "cell_type": "code",
   "execution_count": 15,
   "metadata": {},
   "outputs": [
    {
     "data": {
      "text/html": [
       "<div>\n",
       "<style scoped>\n",
       "    .dataframe tbody tr th:only-of-type {\n",
       "        vertical-align: middle;\n",
       "    }\n",
       "\n",
       "    .dataframe tbody tr th {\n",
       "        vertical-align: top;\n",
       "    }\n",
       "\n",
       "    .dataframe thead th {\n",
       "        text-align: right;\n",
       "    }\n",
       "</style>\n",
       "<table border=\"1\" class=\"dataframe\">\n",
       "  <thead>\n",
       "    <tr style=\"text-align: right;\">\n",
       "      <th></th>\n",
       "      <th>first</th>\n",
       "      <th>last</th>\n",
       "      <th>email</th>\n",
       "    </tr>\n",
       "  </thead>\n",
       "  <tbody>\n",
       "    <tr>\n",
       "      <th>0</th>\n",
       "      <td>Emre</td>\n",
       "      <td>ÇAKIR</td>\n",
       "      <td>emrecakir@gmail.com</td>\n",
       "    </tr>\n",
       "    <tr>\n",
       "      <th>1</th>\n",
       "      <td>İrem Süheyla</td>\n",
       "      <td>ÇUKURLU</td>\n",
       "      <td>iremSçakır@email.com</td>\n",
       "    </tr>\n",
       "    <tr>\n",
       "      <th>2</th>\n",
       "      <td>Ceren İlayda</td>\n",
       "      <td>ÇUKURLU</td>\n",
       "      <td>cerenIcukurlu@email.com</td>\n",
       "    </tr>\n",
       "  </tbody>\n",
       "</table>\n",
       "</div>"
      ],
      "text/plain": [
       "          first     last                    email\n",
       "0          Emre    ÇAKIR      emrecakir@gmail.com\n",
       "1  İrem Süheyla  ÇUKURLU     iremSçakır@email.com\n",
       "2  Ceren İlayda  ÇUKURLU  cerenIcukurlu@email.com"
      ]
     },
     "execution_count": 15,
     "metadata": {},
     "output_type": "execute_result"
    }
   ],
   "source": [
    "df_people       # bir önceki işlem ana tabloyu etkilenmez."
   ]
  },
  {
   "cell_type": "code",
   "execution_count": 16,
   "metadata": {},
   "outputs": [
    {
     "data": {
      "text/html": [
       "<div>\n",
       "<style scoped>\n",
       "    .dataframe tbody tr th:only-of-type {\n",
       "        vertical-align: middle;\n",
       "    }\n",
       "\n",
       "    .dataframe tbody tr th {\n",
       "        vertical-align: top;\n",
       "    }\n",
       "\n",
       "    .dataframe thead th {\n",
       "        text-align: right;\n",
       "    }\n",
       "</style>\n",
       "<table border=\"1\" class=\"dataframe\">\n",
       "  <thead>\n",
       "    <tr style=\"text-align: right;\">\n",
       "      <th></th>\n",
       "      <th>first</th>\n",
       "      <th>last</th>\n",
       "      <th>email</th>\n",
       "    </tr>\n",
       "  </thead>\n",
       "  <tbody>\n",
       "    <tr>\n",
       "      <th>0</th>\n",
       "      <td>Emre</td>\n",
       "      <td>ÇAKIR</td>\n",
       "      <td>19</td>\n",
       "    </tr>\n",
       "    <tr>\n",
       "      <th>1</th>\n",
       "      <td>İrem Süheyla</td>\n",
       "      <td>ÇUKURLU</td>\n",
       "      <td>20</td>\n",
       "    </tr>\n",
       "    <tr>\n",
       "      <th>2</th>\n",
       "      <td>Ceren İlayda</td>\n",
       "      <td>ÇUKURLU</td>\n",
       "      <td>23</td>\n",
       "    </tr>\n",
       "  </tbody>\n",
       "</table>\n",
       "</div>"
      ],
      "text/plain": [
       "          first     last  email\n",
       "0          Emre    ÇAKIR     19\n",
       "1  İrem Süheyla  ÇUKURLU     20\n",
       "2  Ceren İlayda  ÇUKURLU     23"
      ]
     },
     "execution_count": 16,
     "metadata": {},
     "output_type": "execute_result"
    }
   ],
   "source": [
    "df_people['email']= df_people['email'].apply(len) # bu kodu çalıştırarak ana tabloya etki etmiş olduk\n",
    "df_people"
   ]
  },
  {
   "cell_type": "code",
   "execution_count": 17,
   "metadata": {},
   "outputs": [
    {
     "name": "stderr",
     "output_type": "stream",
     "text": [
      "C:\\Users\\monstr\\AppData\\Local\\Temp\\ipykernel_17164\\4251753290.py:1: FutureWarning: Setting an item of incompatible dtype is deprecated and will raise in a future error of pandas. Value 'emrecakir@gmail.com' has dtype incompatible with int64, please explicitly cast to a compatible dtype first.\n",
      "  df_people.loc[0, \"email\"] =  \"emrecakir@gmail.com\"\n"
     ]
    },
    {
     "data": {
      "text/html": [
       "<div>\n",
       "<style scoped>\n",
       "    .dataframe tbody tr th:only-of-type {\n",
       "        vertical-align: middle;\n",
       "    }\n",
       "\n",
       "    .dataframe tbody tr th {\n",
       "        vertical-align: top;\n",
       "    }\n",
       "\n",
       "    .dataframe thead th {\n",
       "        text-align: right;\n",
       "    }\n",
       "</style>\n",
       "<table border=\"1\" class=\"dataframe\">\n",
       "  <thead>\n",
       "    <tr style=\"text-align: right;\">\n",
       "      <th></th>\n",
       "      <th>first</th>\n",
       "      <th>last</th>\n",
       "      <th>email</th>\n",
       "    </tr>\n",
       "  </thead>\n",
       "  <tbody>\n",
       "    <tr>\n",
       "      <th>0</th>\n",
       "      <td>Emre</td>\n",
       "      <td>ÇAKIR</td>\n",
       "      <td>emrecakir@gmail.com</td>\n",
       "    </tr>\n",
       "    <tr>\n",
       "      <th>1</th>\n",
       "      <td>İrem Süheyla</td>\n",
       "      <td>ÇUKURLU</td>\n",
       "      <td>iremSçakır@email.com</td>\n",
       "    </tr>\n",
       "    <tr>\n",
       "      <th>2</th>\n",
       "      <td>Ceren İlayda</td>\n",
       "      <td>ÇUKURLU</td>\n",
       "      <td>cerenIcukurlu@email.com</td>\n",
       "    </tr>\n",
       "  </tbody>\n",
       "</table>\n",
       "</div>"
      ],
      "text/plain": [
       "          first     last                    email\n",
       "0          Emre    ÇAKIR      emrecakir@gmail.com\n",
       "1  İrem Süheyla  ÇUKURLU     iremSçakır@email.com\n",
       "2  Ceren İlayda  ÇUKURLU  cerenIcukurlu@email.com"
      ]
     },
     "execution_count": 17,
     "metadata": {},
     "output_type": "execute_result"
    }
   ],
   "source": [
    "df_people.loc[0, \"email\"] =  \"emrecakir@gmail.com\"\n",
    "df_people.loc[1, \"email\"] =  \"iremSçakır@email.com\"\n",
    "df_people.loc[2, \"email\"] =  \"cerenIcukurlu@email.com\"\n",
    "\n",
    "df_people"
   ]
  },
  {
   "cell_type": "code",
   "execution_count": 18,
   "metadata": {},
   "outputs": [
    {
     "data": {
      "text/html": [
       "<div>\n",
       "<style scoped>\n",
       "    .dataframe tbody tr th:only-of-type {\n",
       "        vertical-align: middle;\n",
       "    }\n",
       "\n",
       "    .dataframe tbody tr th {\n",
       "        vertical-align: top;\n",
       "    }\n",
       "\n",
       "    .dataframe thead th {\n",
       "        text-align: right;\n",
       "    }\n",
       "</style>\n",
       "<table border=\"1\" class=\"dataframe\">\n",
       "  <thead>\n",
       "    <tr style=\"text-align: right;\">\n",
       "      <th></th>\n",
       "      <th>first</th>\n",
       "      <th>last</th>\n",
       "      <th>email</th>\n",
       "    </tr>\n",
       "  </thead>\n",
       "  <tbody>\n",
       "    <tr>\n",
       "      <th>0</th>\n",
       "      <td>EMRE</td>\n",
       "      <td>ÇAKIR</td>\n",
       "      <td>emrecakir@gmail.com</td>\n",
       "    </tr>\n",
       "    <tr>\n",
       "      <th>1</th>\n",
       "      <td>İREM SÜHEYLA</td>\n",
       "      <td>ÇUKURLU</td>\n",
       "      <td>iremSçakır@email.com</td>\n",
       "    </tr>\n",
       "    <tr>\n",
       "      <th>2</th>\n",
       "      <td>CEREN İLAYDA</td>\n",
       "      <td>ÇUKURLU</td>\n",
       "      <td>cerenIcukurlu@email.com</td>\n",
       "    </tr>\n",
       "  </tbody>\n",
       "</table>\n",
       "</div>"
      ],
      "text/plain": [
       "          first     last                    email\n",
       "0          EMRE    ÇAKIR      emrecakir@gmail.com\n",
       "1  İREM SÜHEYLA  ÇUKURLU     iremSçakır@email.com\n",
       "2  CEREN İLAYDA  ÇUKURLU  cerenIcukurlu@email.com"
      ]
     },
     "execution_count": 18,
     "metadata": {},
     "output_type": "execute_result"
    }
   ],
   "source": [
    "def update_first(first):\n",
    "    return first.upper()\n",
    "\n",
    "df_people['first'] = df_people['first'].apply(update_first)\n",
    "\n",
    "df_people"
   ]
  },
  {
   "cell_type": "code",
   "execution_count": 19,
   "metadata": {},
   "outputs": [
    {
     "data": {
      "text/html": [
       "<div>\n",
       "<style scoped>\n",
       "    .dataframe tbody tr th:only-of-type {\n",
       "        vertical-align: middle;\n",
       "    }\n",
       "\n",
       "    .dataframe tbody tr th {\n",
       "        vertical-align: top;\n",
       "    }\n",
       "\n",
       "    .dataframe thead th {\n",
       "        text-align: right;\n",
       "    }\n",
       "</style>\n",
       "<table border=\"1\" class=\"dataframe\">\n",
       "  <thead>\n",
       "    <tr style=\"text-align: right;\">\n",
       "      <th></th>\n",
       "      <th>first</th>\n",
       "      <th>last</th>\n",
       "      <th>email</th>\n",
       "    </tr>\n",
       "  </thead>\n",
       "  <tbody>\n",
       "    <tr>\n",
       "      <th>0</th>\n",
       "      <td>EMRE</td>\n",
       "      <td>ÇAKIR</td>\n",
       "      <td>EMRECAKIR@GMAIL.COM</td>\n",
       "    </tr>\n",
       "    <tr>\n",
       "      <th>1</th>\n",
       "      <td>İREM SÜHEYLA</td>\n",
       "      <td>ÇUKURLU</td>\n",
       "      <td>IREMSÇAKIR@EMAIL.COM</td>\n",
       "    </tr>\n",
       "    <tr>\n",
       "      <th>2</th>\n",
       "      <td>CEREN İLAYDA</td>\n",
       "      <td>ÇUKURLU</td>\n",
       "      <td>CERENICUKURLU@EMAIL.COM</td>\n",
       "    </tr>\n",
       "  </tbody>\n",
       "</table>\n",
       "</div>"
      ],
      "text/plain": [
       "          first     last                    email\n",
       "0          EMRE    ÇAKIR      EMRECAKIR@GMAIL.COM\n",
       "1  İREM SÜHEYLA  ÇUKURLU     IREMSÇAKIR@EMAIL.COM\n",
       "2  CEREN İLAYDA  ÇUKURLU  CERENICUKURLU@EMAIL.COM"
      ]
     },
     "execution_count": 19,
     "metadata": {},
     "output_type": "execute_result"
    }
   ],
   "source": [
    "df_people['email'] = df_people['email'].apply(update_first)\n",
    "df_people"
   ]
  },
  {
   "cell_type": "code",
   "execution_count": 20,
   "metadata": {},
   "outputs": [
    {
     "data": {
      "text/html": [
       "<div>\n",
       "<style scoped>\n",
       "    .dataframe tbody tr th:only-of-type {\n",
       "        vertical-align: middle;\n",
       "    }\n",
       "\n",
       "    .dataframe tbody tr th {\n",
       "        vertical-align: top;\n",
       "    }\n",
       "\n",
       "    .dataframe thead th {\n",
       "        text-align: right;\n",
       "    }\n",
       "</style>\n",
       "<table border=\"1\" class=\"dataframe\">\n",
       "  <thead>\n",
       "    <tr style=\"text-align: right;\">\n",
       "      <th></th>\n",
       "      <th>first</th>\n",
       "      <th>last</th>\n",
       "      <th>email</th>\n",
       "    </tr>\n",
       "  </thead>\n",
       "  <tbody>\n",
       "    <tr>\n",
       "      <th>0</th>\n",
       "      <td>Emre</td>\n",
       "      <td>Çakir</td>\n",
       "      <td>Emrecakir@Gmail.Com</td>\n",
       "    </tr>\n",
       "    <tr>\n",
       "      <th>1</th>\n",
       "      <td>İrem Süheyla</td>\n",
       "      <td>Çukurlu</td>\n",
       "      <td>Iremsçakir@Email.Com</td>\n",
       "    </tr>\n",
       "    <tr>\n",
       "      <th>2</th>\n",
       "      <td>Ceren İlayda</td>\n",
       "      <td>Çukurlu</td>\n",
       "      <td>Cerenicukurlu@Email.Com</td>\n",
       "    </tr>\n",
       "  </tbody>\n",
       "</table>\n",
       "</div>"
      ],
      "text/plain": [
       "          first     last                    email\n",
       "0          Emre    Çakir      Emrecakir@Gmail.Com\n",
       "1  İrem Süheyla  Çukurlu     Iremsçakir@Email.Com\n",
       "2  Ceren İlayda  Çukurlu  Cerenicukurlu@Email.Com"
      ]
     },
     "execution_count": 20,
     "metadata": {},
     "output_type": "execute_result"
    }
   ],
   "source": [
    "df_people.loc[0] = df_people.loc[0].str.title()\n",
    "df_people.loc[1] = df_people.loc[1].str.title()\n",
    "df_people.loc[2] = df_people.loc[2].str.title()\n",
    "\n",
    "df_people"
   ]
  },
  {
   "cell_type": "code",
   "execution_count": 21,
   "metadata": {},
   "outputs": [
    {
     "data": {
      "text/html": [
       "<div>\n",
       "<style scoped>\n",
       "    .dataframe tbody tr th:only-of-type {\n",
       "        vertical-align: middle;\n",
       "    }\n",
       "\n",
       "    .dataframe tbody tr th {\n",
       "        vertical-align: top;\n",
       "    }\n",
       "\n",
       "    .dataframe thead th {\n",
       "        text-align: right;\n",
       "    }\n",
       "</style>\n",
       "<table border=\"1\" class=\"dataframe\">\n",
       "  <thead>\n",
       "    <tr style=\"text-align: right;\">\n",
       "      <th></th>\n",
       "      <th>first</th>\n",
       "      <th>last</th>\n",
       "      <th>email</th>\n",
       "    </tr>\n",
       "  </thead>\n",
       "  <tbody>\n",
       "    <tr>\n",
       "      <th>0</th>\n",
       "      <td>Emre</td>\n",
       "      <td>Çakir</td>\n",
       "      <td>emrecakir@gmail.com</td>\n",
       "    </tr>\n",
       "    <tr>\n",
       "      <th>1</th>\n",
       "      <td>İrem Süheyla</td>\n",
       "      <td>Çukurlu</td>\n",
       "      <td>iremSçakır@email.com</td>\n",
       "    </tr>\n",
       "    <tr>\n",
       "      <th>2</th>\n",
       "      <td>Ceren İlayda</td>\n",
       "      <td>Çukurlu</td>\n",
       "      <td>cerenIcukurlu@email.com</td>\n",
       "    </tr>\n",
       "  </tbody>\n",
       "</table>\n",
       "</div>"
      ],
      "text/plain": [
       "          first     last                    email\n",
       "0          Emre    Çakir      emrecakir@gmail.com\n",
       "1  İrem Süheyla  Çukurlu     iremSçakır@email.com\n",
       "2  Ceren İlayda  Çukurlu  cerenIcukurlu@email.com"
      ]
     },
     "execution_count": 21,
     "metadata": {},
     "output_type": "execute_result"
    }
   ],
   "source": [
    "df_people.loc[0, \"email\"] =  \"emrecakir@gmail.com\"\n",
    "df_people.loc[1, \"email\"] =  \"iremSçakır@email.com\"\n",
    "df_people.loc[2, \"email\"] =  \"cerenIcukurlu@email.com\"\n",
    "df_people"
   ]
  },
  {
   "cell_type": "markdown",
   "metadata": {
    "jp-MarkdownHeadingCollapsed": true
   },
   "source": [
    "## **▶️▶️ 3.12 map() Metodu**"
   ]
  },
  {
   "cell_type": "code",
   "execution_count": 22,
   "metadata": {},
   "outputs": [
    {
     "data": {
      "text/html": [
       "<div>\n",
       "<style scoped>\n",
       "    .dataframe tbody tr th:only-of-type {\n",
       "        vertical-align: middle;\n",
       "    }\n",
       "\n",
       "    .dataframe tbody tr th {\n",
       "        vertical-align: top;\n",
       "    }\n",
       "\n",
       "    .dataframe thead th {\n",
       "        text-align: right;\n",
       "    }\n",
       "</style>\n",
       "<table border=\"1\" class=\"dataframe\">\n",
       "  <thead>\n",
       "    <tr style=\"text-align: right;\">\n",
       "      <th></th>\n",
       "      <th>first</th>\n",
       "      <th>last</th>\n",
       "      <th>email</th>\n",
       "    </tr>\n",
       "  </thead>\n",
       "  <tbody>\n",
       "    <tr>\n",
       "      <th>0</th>\n",
       "      <td>Emre</td>\n",
       "      <td>Çakir</td>\n",
       "      <td>emrecakir@gmail.com</td>\n",
       "    </tr>\n",
       "    <tr>\n",
       "      <th>1</th>\n",
       "      <td>İrem Süheyla</td>\n",
       "      <td>Çukurlu</td>\n",
       "      <td>iremSçakır@email.com</td>\n",
       "    </tr>\n",
       "    <tr>\n",
       "      <th>2</th>\n",
       "      <td>Ceren İlayda</td>\n",
       "      <td>Çukurlu</td>\n",
       "      <td>cerenIcukurlu@email.com</td>\n",
       "    </tr>\n",
       "  </tbody>\n",
       "</table>\n",
       "</div>"
      ],
      "text/plain": [
       "          first     last                    email\n",
       "0          Emre    Çakir      emrecakir@gmail.com\n",
       "1  İrem Süheyla  Çukurlu     iremSçakır@email.com\n",
       "2  Ceren İlayda  Çukurlu  cerenIcukurlu@email.com"
      ]
     },
     "execution_count": 22,
     "metadata": {},
     "output_type": "execute_result"
    }
   ],
   "source": [
    "df_people"
   ]
  },
  {
   "cell_type": "code",
   "execution_count": 23,
   "metadata": {},
   "outputs": [
    {
     "data": {
      "text/html": [
       "<div>\n",
       "<style scoped>\n",
       "    .dataframe tbody tr th:only-of-type {\n",
       "        vertical-align: middle;\n",
       "    }\n",
       "\n",
       "    .dataframe tbody tr th {\n",
       "        vertical-align: top;\n",
       "    }\n",
       "\n",
       "    .dataframe thead th {\n",
       "        text-align: right;\n",
       "    }\n",
       "</style>\n",
       "<table border=\"1\" class=\"dataframe\">\n",
       "  <thead>\n",
       "    <tr style=\"text-align: right;\">\n",
       "      <th></th>\n",
       "      <th>first</th>\n",
       "      <th>last</th>\n",
       "      <th>email</th>\n",
       "    </tr>\n",
       "  </thead>\n",
       "  <tbody>\n",
       "    <tr>\n",
       "      <th>0</th>\n",
       "      <td>4</td>\n",
       "      <td>5</td>\n",
       "      <td>19</td>\n",
       "    </tr>\n",
       "    <tr>\n",
       "      <th>1</th>\n",
       "      <td>12</td>\n",
       "      <td>7</td>\n",
       "      <td>20</td>\n",
       "    </tr>\n",
       "    <tr>\n",
       "      <th>2</th>\n",
       "      <td>12</td>\n",
       "      <td>7</td>\n",
       "      <td>23</td>\n",
       "    </tr>\n",
       "  </tbody>\n",
       "</table>\n",
       "</div>"
      ],
      "text/plain": [
       "   first  last  email\n",
       "0      4     5     19\n",
       "1     12     7     20\n",
       "2     12     7     23"
      ]
     },
     "execution_count": 23,
     "metadata": {},
     "output_type": "execute_result"
    }
   ],
   "source": [
    "df_people.map(len)"
   ]
  },
  {
   "cell_type": "code",
   "execution_count": 24,
   "metadata": {},
   "outputs": [
    {
     "data": {
      "text/html": [
       "<div>\n",
       "<style scoped>\n",
       "    .dataframe tbody tr th:only-of-type {\n",
       "        vertical-align: middle;\n",
       "    }\n",
       "\n",
       "    .dataframe tbody tr th {\n",
       "        vertical-align: top;\n",
       "    }\n",
       "\n",
       "    .dataframe thead th {\n",
       "        text-align: right;\n",
       "    }\n",
       "</style>\n",
       "<table border=\"1\" class=\"dataframe\">\n",
       "  <thead>\n",
       "    <tr style=\"text-align: right;\">\n",
       "      <th></th>\n",
       "      <th>first</th>\n",
       "      <th>last</th>\n",
       "      <th>email</th>\n",
       "    </tr>\n",
       "  </thead>\n",
       "  <tbody>\n",
       "    <tr>\n",
       "      <th>0</th>\n",
       "      <td>Emre</td>\n",
       "      <td>Çakir</td>\n",
       "      <td>emrecakir@gmail.com</td>\n",
       "    </tr>\n",
       "    <tr>\n",
       "      <th>1</th>\n",
       "      <td>İrem Süheyla</td>\n",
       "      <td>Çukurlu</td>\n",
       "      <td>iremSçakır@email.com</td>\n",
       "    </tr>\n",
       "    <tr>\n",
       "      <th>2</th>\n",
       "      <td>Ceren İlayda</td>\n",
       "      <td>Çukurlu</td>\n",
       "      <td>cerenIcukurlu@email.com</td>\n",
       "    </tr>\n",
       "  </tbody>\n",
       "</table>\n",
       "</div>"
      ],
      "text/plain": [
       "          first     last                    email\n",
       "0          Emre    Çakir      emrecakir@gmail.com\n",
       "1  İrem Süheyla  Çukurlu     iremSçakır@email.com\n",
       "2  Ceren İlayda  Çukurlu  cerenIcukurlu@email.com"
      ]
     },
     "execution_count": 24,
     "metadata": {},
     "output_type": "execute_result"
    }
   ],
   "source": [
    "df_people"
   ]
  },
  {
   "cell_type": "code",
   "execution_count": 25,
   "metadata": {},
   "outputs": [
    {
     "data": {
      "text/html": [
       "<div>\n",
       "<style scoped>\n",
       "    .dataframe tbody tr th:only-of-type {\n",
       "        vertical-align: middle;\n",
       "    }\n",
       "\n",
       "    .dataframe tbody tr th {\n",
       "        vertical-align: top;\n",
       "    }\n",
       "\n",
       "    .dataframe thead th {\n",
       "        text-align: right;\n",
       "    }\n",
       "</style>\n",
       "<table border=\"1\" class=\"dataframe\">\n",
       "  <thead>\n",
       "    <tr style=\"text-align: right;\">\n",
       "      <th></th>\n",
       "      <th>first</th>\n",
       "      <th>last</th>\n",
       "      <th>email</th>\n",
       "    </tr>\n",
       "  </thead>\n",
       "  <tbody>\n",
       "    <tr>\n",
       "      <th>0</th>\n",
       "      <td>EMRE</td>\n",
       "      <td>ÇAKIR</td>\n",
       "      <td>EMRECAKIR@GMAIL.COM</td>\n",
       "    </tr>\n",
       "    <tr>\n",
       "      <th>1</th>\n",
       "      <td>İREM SÜHEYLA</td>\n",
       "      <td>ÇUKURLU</td>\n",
       "      <td>IREMSÇAKIR@EMAIL.COM</td>\n",
       "    </tr>\n",
       "    <tr>\n",
       "      <th>2</th>\n",
       "      <td>CEREN İLAYDA</td>\n",
       "      <td>ÇUKURLU</td>\n",
       "      <td>CERENICUKURLU@EMAIL.COM</td>\n",
       "    </tr>\n",
       "  </tbody>\n",
       "</table>\n",
       "</div>"
      ],
      "text/plain": [
       "          first     last                    email\n",
       "0          EMRE    ÇAKIR      EMRECAKIR@GMAIL.COM\n",
       "1  İREM SÜHEYLA  ÇUKURLU     IREMSÇAKIR@EMAIL.COM\n",
       "2  CEREN İLAYDA  ÇUKURLU  CERENICUKURLU@EMAIL.COM"
      ]
     },
     "execution_count": 25,
     "metadata": {},
     "output_type": "execute_result"
    }
   ],
   "source": [
    "df_people.map(str.upper)        # ana tabloya uygulamadık"
   ]
  },
  {
   "cell_type": "code",
   "execution_count": 26,
   "metadata": {},
   "outputs": [
    {
     "data": {
      "text/html": [
       "<div>\n",
       "<style scoped>\n",
       "    .dataframe tbody tr th:only-of-type {\n",
       "        vertical-align: middle;\n",
       "    }\n",
       "\n",
       "    .dataframe tbody tr th {\n",
       "        vertical-align: top;\n",
       "    }\n",
       "\n",
       "    .dataframe thead th {\n",
       "        text-align: right;\n",
       "    }\n",
       "</style>\n",
       "<table border=\"1\" class=\"dataframe\">\n",
       "  <thead>\n",
       "    <tr style=\"text-align: right;\">\n",
       "      <th></th>\n",
       "      <th>first</th>\n",
       "      <th>last</th>\n",
       "      <th>email</th>\n",
       "    </tr>\n",
       "  </thead>\n",
       "  <tbody>\n",
       "    <tr>\n",
       "      <th>0</th>\n",
       "      <td>Erkin</td>\n",
       "      <td>Çakir</td>\n",
       "      <td>emrecakir@gmail.com</td>\n",
       "    </tr>\n",
       "    <tr>\n",
       "      <th>1</th>\n",
       "      <td>NaN</td>\n",
       "      <td>Çukurlu</td>\n",
       "      <td>iremSçakır@email.com</td>\n",
       "    </tr>\n",
       "    <tr>\n",
       "      <th>2</th>\n",
       "      <td>NaN</td>\n",
       "      <td>Çukurlu</td>\n",
       "      <td>cerenIcukurlu@email.com</td>\n",
       "    </tr>\n",
       "  </tbody>\n",
       "</table>\n",
       "</div>"
      ],
      "text/plain": [
       "   first     last                    email\n",
       "0  Erkin    Çakir      emrecakir@gmail.com\n",
       "1    NaN  Çukurlu     iremSçakır@email.com\n",
       "2    NaN  Çukurlu  cerenIcukurlu@email.com"
      ]
     },
     "execution_count": 26,
     "metadata": {},
     "output_type": "execute_result"
    }
   ],
   "source": [
    "df_people['first'] = df_people['first'].map({'Emre':'Erkin','İRem Süheyla':'Ozan', 'Ceren İLayda':'Emre'})\n",
    "df_people"
   ]
  },
  {
   "cell_type": "code",
   "execution_count": 27,
   "metadata": {},
   "outputs": [
    {
     "data": {
      "text/html": [
       "<div>\n",
       "<style scoped>\n",
       "    .dataframe tbody tr th:only-of-type {\n",
       "        vertical-align: middle;\n",
       "    }\n",
       "\n",
       "    .dataframe tbody tr th {\n",
       "        vertical-align: top;\n",
       "    }\n",
       "\n",
       "    .dataframe thead th {\n",
       "        text-align: right;\n",
       "    }\n",
       "</style>\n",
       "<table border=\"1\" class=\"dataframe\">\n",
       "  <thead>\n",
       "    <tr style=\"text-align: right;\">\n",
       "      <th></th>\n",
       "      <th>first</th>\n",
       "      <th>last</th>\n",
       "      <th>email</th>\n",
       "    </tr>\n",
       "  </thead>\n",
       "  <tbody>\n",
       "    <tr>\n",
       "      <th>0</th>\n",
       "      <td>Erkin</td>\n",
       "      <td>Çakır</td>\n",
       "      <td>emrecakir@gmail.com</td>\n",
       "    </tr>\n",
       "    <tr>\n",
       "      <th>1</th>\n",
       "      <td>NaN</td>\n",
       "      <td>Çakır</td>\n",
       "      <td>iremSçakır@email.com</td>\n",
       "    </tr>\n",
       "    <tr>\n",
       "      <th>2</th>\n",
       "      <td>NaN</td>\n",
       "      <td>Çakır</td>\n",
       "      <td>cerenIcukurlu@email.com</td>\n",
       "    </tr>\n",
       "  </tbody>\n",
       "</table>\n",
       "</div>"
      ],
      "text/plain": [
       "   first   last                    email\n",
       "0  Erkin  Çakır      emrecakir@gmail.com\n",
       "1    NaN  Çakır     iremSçakır@email.com\n",
       "2    NaN  Çakır  cerenIcukurlu@email.com"
      ]
     },
     "execution_count": 27,
     "metadata": {},
     "output_type": "execute_result"
    }
   ],
   "source": [
    "df_people.loc[0,'last'] = \"Çakır\"\n",
    "df_people.loc[1,'last'] = \"Çakır\"\n",
    "df_people.loc[2,'last'] = \"Çakır\"\n",
    "df_people"
   ]
  },
  {
   "cell_type": "markdown",
   "metadata": {
    "jp-MarkdownHeadingCollapsed": true
   },
   "source": [
    "## **▶️▶️ 3.13 replace() Metodu**"
   ]
  },
  {
   "cell_type": "code",
   "execution_count": 28,
   "metadata": {},
   "outputs": [
    {
     "data": {
      "text/html": [
       "<div>\n",
       "<style scoped>\n",
       "    .dataframe tbody tr th:only-of-type {\n",
       "        vertical-align: middle;\n",
       "    }\n",
       "\n",
       "    .dataframe tbody tr th {\n",
       "        vertical-align: top;\n",
       "    }\n",
       "\n",
       "    .dataframe thead th {\n",
       "        text-align: right;\n",
       "    }\n",
       "</style>\n",
       "<table border=\"1\" class=\"dataframe\">\n",
       "  <thead>\n",
       "    <tr style=\"text-align: right;\">\n",
       "      <th></th>\n",
       "      <th>first</th>\n",
       "      <th>last</th>\n",
       "      <th>email</th>\n",
       "    </tr>\n",
       "  </thead>\n",
       "  <tbody>\n",
       "    <tr>\n",
       "      <th>0</th>\n",
       "      <td>Emre</td>\n",
       "      <td>Çakır</td>\n",
       "      <td>emrecakir@gmail.com</td>\n",
       "    </tr>\n",
       "    <tr>\n",
       "      <th>1</th>\n",
       "      <td>NaN</td>\n",
       "      <td>Çakır</td>\n",
       "      <td>iremSçakır@email.com</td>\n",
       "    </tr>\n",
       "    <tr>\n",
       "      <th>2</th>\n",
       "      <td>NaN</td>\n",
       "      <td>Çakır</td>\n",
       "      <td>cerenIcukurlu@email.com</td>\n",
       "    </tr>\n",
       "  </tbody>\n",
       "</table>\n",
       "</div>"
      ],
      "text/plain": [
       "  first   last                    email\n",
       "0  Emre  Çakır      emrecakir@gmail.com\n",
       "1   NaN  Çakır     iremSçakır@email.com\n",
       "2   NaN  Çakır  cerenIcukurlu@email.com"
      ]
     },
     "execution_count": 28,
     "metadata": {},
     "output_type": "execute_result"
    }
   ],
   "source": [
    "df_people['first'] = df_people['first'].replace({'Erkin':'Emre','Ozan':'Emre'})\n",
    "\n",
    "df_people"
   ]
  },
  {
   "cell_type": "code",
   "execution_count": 29,
   "metadata": {},
   "outputs": [
    {
     "data": {
      "text/html": [
       "<div>\n",
       "<style scoped>\n",
       "    .dataframe tbody tr th:only-of-type {\n",
       "        vertical-align: middle;\n",
       "    }\n",
       "\n",
       "    .dataframe tbody tr th {\n",
       "        vertical-align: top;\n",
       "    }\n",
       "\n",
       "    .dataframe thead th {\n",
       "        text-align: right;\n",
       "    }\n",
       "</style>\n",
       "<table border=\"1\" class=\"dataframe\">\n",
       "  <thead>\n",
       "    <tr style=\"text-align: right;\">\n",
       "      <th></th>\n",
       "      <th>first</th>\n",
       "      <th>last</th>\n",
       "      <th>email</th>\n",
       "    </tr>\n",
       "  </thead>\n",
       "  <tbody>\n",
       "    <tr>\n",
       "      <th>0</th>\n",
       "      <td>Emre</td>\n",
       "      <td>ÇAKIR</td>\n",
       "      <td>emrecakir@gmail.com</td>\n",
       "    </tr>\n",
       "    <tr>\n",
       "      <th>1</th>\n",
       "      <td>NaN</td>\n",
       "      <td>ÇAKIR</td>\n",
       "      <td>iremSçakır@email.com</td>\n",
       "    </tr>\n",
       "    <tr>\n",
       "      <th>2</th>\n",
       "      <td>NaN</td>\n",
       "      <td>ÇAKIR</td>\n",
       "      <td>cerenIcukurlu@email.com</td>\n",
       "    </tr>\n",
       "  </tbody>\n",
       "</table>\n",
       "</div>"
      ],
      "text/plain": [
       "  first   last                    email\n",
       "0  Emre  ÇAKIR      emrecakir@gmail.com\n",
       "1   NaN  ÇAKIR     iremSçakır@email.com\n",
       "2   NaN  ÇAKIR  cerenIcukurlu@email.com"
      ]
     },
     "execution_count": 29,
     "metadata": {},
     "output_type": "execute_result"
    }
   ],
   "source": [
    "df_people['last'] = df_people['last'].replace({'Çakır':'ÇAKIR'})\n",
    "df_people"
   ]
  },
  {
   "cell_type": "markdown",
   "metadata": {
    "jp-MarkdownHeadingCollapsed": true
   },
   "source": [
    "## **▶️▶️ 3.14 Column Ekleme**"
   ]
  },
  {
   "cell_type": "code",
   "execution_count": 30,
   "metadata": {},
   "outputs": [
    {
     "data": {
      "text/plain": [
       "0    EmreÇAKIR\n",
       "1          NaN\n",
       "2          NaN\n",
       "dtype: object"
      ]
     },
     "execution_count": 30,
     "metadata": {},
     "output_type": "execute_result"
    }
   ],
   "source": [
    "df_people['first'] + df_people['last']"
   ]
  },
  {
   "cell_type": "code",
   "execution_count": 31,
   "metadata": {},
   "outputs": [
    {
     "data": {
      "text/plain": [
       "0    Emre ÇAKIR\n",
       "1           NaN\n",
       "2           NaN\n",
       "dtype: object"
      ]
     },
     "execution_count": 31,
     "metadata": {},
     "output_type": "execute_result"
    }
   ],
   "source": [
    "df_people['first'] + \" \" + df_people['last']\n"
   ]
  },
  {
   "cell_type": "markdown",
   "metadata": {},
   "source": [
    "    ÇOK ÖNEMLİ AŞAĞIDAKİ:"
   ]
  },
  {
   "cell_type": "code",
   "execution_count": 32,
   "metadata": {},
   "outputs": [
    {
     "data": {
      "text/html": [
       "<div>\n",
       "<style scoped>\n",
       "    .dataframe tbody tr th:only-of-type {\n",
       "        vertical-align: middle;\n",
       "    }\n",
       "\n",
       "    .dataframe tbody tr th {\n",
       "        vertical-align: top;\n",
       "    }\n",
       "\n",
       "    .dataframe thead th {\n",
       "        text-align: right;\n",
       "    }\n",
       "</style>\n",
       "<table border=\"1\" class=\"dataframe\">\n",
       "  <thead>\n",
       "    <tr style=\"text-align: right;\">\n",
       "      <th></th>\n",
       "      <th>first</th>\n",
       "      <th>last</th>\n",
       "      <th>email</th>\n",
       "      <th>full_name</th>\n",
       "    </tr>\n",
       "  </thead>\n",
       "  <tbody>\n",
       "    <tr>\n",
       "      <th>0</th>\n",
       "      <td>Emre</td>\n",
       "      <td>ÇAKIR</td>\n",
       "      <td>emrecakir@gmail.com</td>\n",
       "      <td>Emre ÇAKIR</td>\n",
       "    </tr>\n",
       "    <tr>\n",
       "      <th>1</th>\n",
       "      <td>NaN</td>\n",
       "      <td>ÇAKIR</td>\n",
       "      <td>iremSçakır@email.com</td>\n",
       "      <td>NaN</td>\n",
       "    </tr>\n",
       "    <tr>\n",
       "      <th>2</th>\n",
       "      <td>NaN</td>\n",
       "      <td>ÇAKIR</td>\n",
       "      <td>cerenIcukurlu@email.com</td>\n",
       "      <td>NaN</td>\n",
       "    </tr>\n",
       "  </tbody>\n",
       "</table>\n",
       "</div>"
      ],
      "text/plain": [
       "  first   last                    email   full_name\n",
       "0  Emre  ÇAKIR      emrecakir@gmail.com  Emre ÇAKIR\n",
       "1   NaN  ÇAKIR     iremSçakır@email.com         NaN\n",
       "2   NaN  ÇAKIR  cerenIcukurlu@email.com         NaN"
      ]
     },
     "execution_count": 32,
     "metadata": {},
     "output_type": "execute_result"
    }
   ],
   "source": [
    "df_people['full_name'] = df_people['first'] + \" \" + df_people['last']\n",
    "df_people"
   ]
  },
  {
   "cell_type": "markdown",
   "metadata": {
    "jp-MarkdownHeadingCollapsed": true
   },
   "source": [
    "## **▶️▶️ 3.15 Column Silme**"
   ]
  },
  {
   "cell_type": "code",
   "execution_count": 33,
   "metadata": {},
   "outputs": [
    {
     "data": {
      "text/html": [
       "<div>\n",
       "<style scoped>\n",
       "    .dataframe tbody tr th:only-of-type {\n",
       "        vertical-align: middle;\n",
       "    }\n",
       "\n",
       "    .dataframe tbody tr th {\n",
       "        vertical-align: top;\n",
       "    }\n",
       "\n",
       "    .dataframe thead th {\n",
       "        text-align: right;\n",
       "    }\n",
       "</style>\n",
       "<table border=\"1\" class=\"dataframe\">\n",
       "  <thead>\n",
       "    <tr style=\"text-align: right;\">\n",
       "      <th></th>\n",
       "      <th>first</th>\n",
       "      <th>last</th>\n",
       "      <th>email</th>\n",
       "      <th>full_name</th>\n",
       "      <th>DENEME</th>\n",
       "    </tr>\n",
       "  </thead>\n",
       "  <tbody>\n",
       "    <tr>\n",
       "      <th>0</th>\n",
       "      <td>Emre</td>\n",
       "      <td>ÇAKIR</td>\n",
       "      <td>emrecakir@gmail.com</td>\n",
       "      <td>Emre ÇAKIR</td>\n",
       "      <td>emrecakir@gmail.com</td>\n",
       "    </tr>\n",
       "    <tr>\n",
       "      <th>1</th>\n",
       "      <td>NaN</td>\n",
       "      <td>ÇAKIR</td>\n",
       "      <td>iremSçakır@email.com</td>\n",
       "      <td>NaN</td>\n",
       "      <td>iremSçakır@email.com</td>\n",
       "    </tr>\n",
       "    <tr>\n",
       "      <th>2</th>\n",
       "      <td>NaN</td>\n",
       "      <td>ÇAKIR</td>\n",
       "      <td>cerenIcukurlu@email.com</td>\n",
       "      <td>NaN</td>\n",
       "      <td>cerenIcukurlu@email.com</td>\n",
       "    </tr>\n",
       "  </tbody>\n",
       "</table>\n",
       "</div>"
      ],
      "text/plain": [
       "  first   last                    email   full_name                   DENEME\n",
       "0  Emre  ÇAKIR      emrecakir@gmail.com  Emre ÇAKIR      emrecakir@gmail.com\n",
       "1   NaN  ÇAKIR     iremSçakır@email.com         NaN     iremSçakır@email.com\n",
       "2   NaN  ÇAKIR  cerenIcukurlu@email.com         NaN  cerenIcukurlu@email.com"
      ]
     },
     "execution_count": 33,
     "metadata": {},
     "output_type": "execute_result"
    }
   ],
   "source": [
    "df_people['DENEME'] = df_people['email'][0:3]\n",
    "df_people"
   ]
  },
  {
   "cell_type": "code",
   "execution_count": 34,
   "metadata": {},
   "outputs": [
    {
     "data": {
      "text/html": [
       "<div>\n",
       "<style scoped>\n",
       "    .dataframe tbody tr th:only-of-type {\n",
       "        vertical-align: middle;\n",
       "    }\n",
       "\n",
       "    .dataframe tbody tr th {\n",
       "        vertical-align: top;\n",
       "    }\n",
       "\n",
       "    .dataframe thead th {\n",
       "        text-align: right;\n",
       "    }\n",
       "</style>\n",
       "<table border=\"1\" class=\"dataframe\">\n",
       "  <thead>\n",
       "    <tr style=\"text-align: right;\">\n",
       "      <th></th>\n",
       "      <th>first</th>\n",
       "      <th>last</th>\n",
       "      <th>email</th>\n",
       "    </tr>\n",
       "  </thead>\n",
       "  <tbody>\n",
       "    <tr>\n",
       "      <th>0</th>\n",
       "      <td>Emre</td>\n",
       "      <td>ÇAKIR</td>\n",
       "      <td>emrecakir@gmail.com</td>\n",
       "    </tr>\n",
       "    <tr>\n",
       "      <th>1</th>\n",
       "      <td>NaN</td>\n",
       "      <td>ÇAKIR</td>\n",
       "      <td>iremSçakır@email.com</td>\n",
       "    </tr>\n",
       "    <tr>\n",
       "      <th>2</th>\n",
       "      <td>NaN</td>\n",
       "      <td>ÇAKIR</td>\n",
       "      <td>cerenIcukurlu@email.com</td>\n",
       "    </tr>\n",
       "  </tbody>\n",
       "</table>\n",
       "</div>"
      ],
      "text/plain": [
       "  first   last                    email\n",
       "0  Emre  ÇAKIR      emrecakir@gmail.com\n",
       "1   NaN  ÇAKIR     iremSçakır@email.com\n",
       "2   NaN  ÇAKIR  cerenIcukurlu@email.com"
      ]
     },
     "execution_count": 34,
     "metadata": {},
     "output_type": "execute_result"
    }
   ],
   "source": [
    "df_people.drop(columns=['full_name','DENEME'], inplace=True)\n",
    "df_people"
   ]
  },
  {
   "cell_type": "code",
   "execution_count": 35,
   "metadata": {},
   "outputs": [
    {
     "data": {
      "text/html": [
       "<div>\n",
       "<style scoped>\n",
       "    .dataframe tbody tr th:only-of-type {\n",
       "        vertical-align: middle;\n",
       "    }\n",
       "\n",
       "    .dataframe tbody tr th {\n",
       "        vertical-align: top;\n",
       "    }\n",
       "\n",
       "    .dataframe thead th {\n",
       "        text-align: right;\n",
       "    }\n",
       "</style>\n",
       "<table border=\"1\" class=\"dataframe\">\n",
       "  <thead>\n",
       "    <tr style=\"text-align: right;\">\n",
       "      <th></th>\n",
       "      <th>0</th>\n",
       "      <th>1</th>\n",
       "    </tr>\n",
       "  </thead>\n",
       "  <tbody>\n",
       "    <tr>\n",
       "      <th>0</th>\n",
       "      <td>emrecakir</td>\n",
       "      <td>gmail.com</td>\n",
       "    </tr>\n",
       "    <tr>\n",
       "      <th>1</th>\n",
       "      <td>iremSçakır</td>\n",
       "      <td>email.com</td>\n",
       "    </tr>\n",
       "    <tr>\n",
       "      <th>2</th>\n",
       "      <td>cerenIcukurlu</td>\n",
       "      <td>email.com</td>\n",
       "    </tr>\n",
       "  </tbody>\n",
       "</table>\n",
       "</div>"
      ],
      "text/plain": [
       "               0          1\n",
       "0      emrecakir  gmail.com\n",
       "1     iremSçakır  email.com\n",
       "2  cerenIcukurlu  email.com"
      ]
     },
     "execution_count": 35,
     "metadata": {},
     "output_type": "execute_result"
    }
   ],
   "source": [
    "df_people['email'].str.split('@', expand=True)    # uygulanmadı ana tabloya"
   ]
  },
  {
   "cell_type": "code",
   "execution_count": 36,
   "metadata": {},
   "outputs": [
    {
     "data": {
      "text/html": [
       "<div>\n",
       "<style scoped>\n",
       "    .dataframe tbody tr th:only-of-type {\n",
       "        vertical-align: middle;\n",
       "    }\n",
       "\n",
       "    .dataframe tbody tr th {\n",
       "        vertical-align: top;\n",
       "    }\n",
       "\n",
       "    .dataframe thead th {\n",
       "        text-align: right;\n",
       "    }\n",
       "</style>\n",
       "<table border=\"1\" class=\"dataframe\">\n",
       "  <thead>\n",
       "    <tr style=\"text-align: right;\">\n",
       "      <th></th>\n",
       "      <th>first</th>\n",
       "      <th>last</th>\n",
       "      <th>email</th>\n",
       "    </tr>\n",
       "  </thead>\n",
       "  <tbody>\n",
       "    <tr>\n",
       "      <th>0</th>\n",
       "      <td>Emre</td>\n",
       "      <td>ÇAKIR</td>\n",
       "      <td>emrecakir@gmail.com</td>\n",
       "    </tr>\n",
       "    <tr>\n",
       "      <th>1</th>\n",
       "      <td>NaN</td>\n",
       "      <td>ÇAKIR</td>\n",
       "      <td>iremSçakır@email.com</td>\n",
       "    </tr>\n",
       "    <tr>\n",
       "      <th>2</th>\n",
       "      <td>NaN</td>\n",
       "      <td>ÇAKIR</td>\n",
       "      <td>cerenIcukurlu@email.com</td>\n",
       "    </tr>\n",
       "  </tbody>\n",
       "</table>\n",
       "</div>"
      ],
      "text/plain": [
       "  first   last                    email\n",
       "0  Emre  ÇAKIR      emrecakir@gmail.com\n",
       "1   NaN  ÇAKIR     iremSçakır@email.com\n",
       "2   NaN  ÇAKIR  cerenIcukurlu@email.com"
      ]
     },
     "execution_count": 36,
     "metadata": {},
     "output_type": "execute_result"
    }
   ],
   "source": [
    "df_people"
   ]
  },
  {
   "cell_type": "code",
   "execution_count": 37,
   "metadata": {},
   "outputs": [
    {
     "data": {
      "text/html": [
       "<div>\n",
       "<style scoped>\n",
       "    .dataframe tbody tr th:only-of-type {\n",
       "        vertical-align: middle;\n",
       "    }\n",
       "\n",
       "    .dataframe tbody tr th {\n",
       "        vertical-align: top;\n",
       "    }\n",
       "\n",
       "    .dataframe thead th {\n",
       "        text-align: right;\n",
       "    }\n",
       "</style>\n",
       "<table border=\"1\" class=\"dataframe\">\n",
       "  <thead>\n",
       "    <tr style=\"text-align: right;\">\n",
       "      <th></th>\n",
       "      <th>first</th>\n",
       "      <th>last</th>\n",
       "      <th>email</th>\n",
       "      <th>new</th>\n",
       "      <th>new2</th>\n",
       "    </tr>\n",
       "  </thead>\n",
       "  <tbody>\n",
       "    <tr>\n",
       "      <th>0</th>\n",
       "      <td>Emre</td>\n",
       "      <td>ÇAKIR</td>\n",
       "      <td>emrecakir@gmail.com</td>\n",
       "      <td>emrecakir</td>\n",
       "      <td>gmail.com</td>\n",
       "    </tr>\n",
       "    <tr>\n",
       "      <th>1</th>\n",
       "      <td>NaN</td>\n",
       "      <td>ÇAKIR</td>\n",
       "      <td>iremSçakır@email.com</td>\n",
       "      <td>iremSçakır</td>\n",
       "      <td>email.com</td>\n",
       "    </tr>\n",
       "    <tr>\n",
       "      <th>2</th>\n",
       "      <td>NaN</td>\n",
       "      <td>ÇAKIR</td>\n",
       "      <td>cerenIcukurlu@email.com</td>\n",
       "      <td>cerenIcukurlu</td>\n",
       "      <td>email.com</td>\n",
       "    </tr>\n",
       "  </tbody>\n",
       "</table>\n",
       "</div>"
      ],
      "text/plain": [
       "  first   last                    email            new       new2\n",
       "0  Emre  ÇAKIR      emrecakir@gmail.com      emrecakir  gmail.com\n",
       "1   NaN  ÇAKIR     iremSçakır@email.com     iremSçakır  email.com\n",
       "2   NaN  ÇAKIR  cerenIcukurlu@email.com  cerenIcukurlu  email.com"
      ]
     },
     "execution_count": 37,
     "metadata": {},
     "output_type": "execute_result"
    }
   ],
   "source": [
    "df_people[['new', 'new2']] = df_people['email'].str.split('@', expand=True)\n",
    "df_people"
   ]
  },
  {
   "cell_type": "code",
   "execution_count": 38,
   "metadata": {},
   "outputs": [
    {
     "data": {
      "text/html": [
       "<div>\n",
       "<style scoped>\n",
       "    .dataframe tbody tr th:only-of-type {\n",
       "        vertical-align: middle;\n",
       "    }\n",
       "\n",
       "    .dataframe tbody tr th {\n",
       "        vertical-align: top;\n",
       "    }\n",
       "\n",
       "    .dataframe thead th {\n",
       "        text-align: right;\n",
       "    }\n",
       "</style>\n",
       "<table border=\"1\" class=\"dataframe\">\n",
       "  <thead>\n",
       "    <tr style=\"text-align: right;\">\n",
       "      <th></th>\n",
       "      <th>first</th>\n",
       "      <th>last</th>\n",
       "      <th>email</th>\n",
       "      <th>new</th>\n",
       "    </tr>\n",
       "  </thead>\n",
       "  <tbody>\n",
       "    <tr>\n",
       "      <th>0</th>\n",
       "      <td>Emre</td>\n",
       "      <td>ÇAKIR</td>\n",
       "      <td>emrecakir@gmail.com</td>\n",
       "      <td>emrecakir</td>\n",
       "    </tr>\n",
       "    <tr>\n",
       "      <th>1</th>\n",
       "      <td>NaN</td>\n",
       "      <td>ÇAKIR</td>\n",
       "      <td>iremSçakır@email.com</td>\n",
       "      <td>iremSçakır</td>\n",
       "    </tr>\n",
       "    <tr>\n",
       "      <th>2</th>\n",
       "      <td>NaN</td>\n",
       "      <td>ÇAKIR</td>\n",
       "      <td>cerenIcukurlu@email.com</td>\n",
       "      <td>cerenIcukurlu</td>\n",
       "    </tr>\n",
       "  </tbody>\n",
       "</table>\n",
       "</div>"
      ],
      "text/plain": [
       "  first   last                    email            new\n",
       "0  Emre  ÇAKIR      emrecakir@gmail.com      emrecakir\n",
       "1   NaN  ÇAKIR     iremSçakır@email.com     iremSçakır\n",
       "2   NaN  ÇAKIR  cerenIcukurlu@email.com  cerenIcukurlu"
      ]
     },
     "execution_count": 38,
     "metadata": {},
     "output_type": "execute_result"
    }
   ],
   "source": [
    "df_people.drop(columns=['new2'], inplace=True)\n",
    "df_people"
   ]
  },
  {
   "cell_type": "markdown",
   "metadata": {
    "jp-MarkdownHeadingCollapsed": true
   },
   "source": [
    "## **▶️▶️ 3.16 Row Ekleme**"
   ]
  },
  {
   "cell_type": "code",
   "execution_count": 39,
   "metadata": {},
   "outputs": [
    {
     "data": {
      "text/html": [
       "<div>\n",
       "<style scoped>\n",
       "    .dataframe tbody tr th:only-of-type {\n",
       "        vertical-align: middle;\n",
       "    }\n",
       "\n",
       "    .dataframe tbody tr th {\n",
       "        vertical-align: top;\n",
       "    }\n",
       "\n",
       "    .dataframe thead th {\n",
       "        text-align: right;\n",
       "    }\n",
       "</style>\n",
       "<table border=\"1\" class=\"dataframe\">\n",
       "  <thead>\n",
       "    <tr style=\"text-align: right;\">\n",
       "      <th></th>\n",
       "      <th>first</th>\n",
       "      <th>last</th>\n",
       "      <th>email</th>\n",
       "      <th>new</th>\n",
       "    </tr>\n",
       "  </thead>\n",
       "  <tbody>\n",
       "    <tr>\n",
       "      <th>0</th>\n",
       "      <td>Emre</td>\n",
       "      <td>ÇAKIR</td>\n",
       "      <td>emrecakir@gmail.com</td>\n",
       "      <td>emrecakir</td>\n",
       "    </tr>\n",
       "    <tr>\n",
       "      <th>1</th>\n",
       "      <td>NaN</td>\n",
       "      <td>ÇAKIR</td>\n",
       "      <td>iremSçakır@email.com</td>\n",
       "      <td>iremSçakır</td>\n",
       "    </tr>\n",
       "    <tr>\n",
       "      <th>2</th>\n",
       "      <td>NaN</td>\n",
       "      <td>ÇAKIR</td>\n",
       "      <td>cerenIcukurlu@email.com</td>\n",
       "      <td>cerenIcukurlu</td>\n",
       "    </tr>\n",
       "    <tr>\n",
       "      <th>3</th>\n",
       "      <td>İrem</td>\n",
       "      <td>NaN</td>\n",
       "      <td>NaN</td>\n",
       "      <td>NaN</td>\n",
       "    </tr>\n",
       "  </tbody>\n",
       "</table>\n",
       "</div>"
      ],
      "text/plain": [
       "  first   last                    email            new\n",
       "0  Emre  ÇAKIR      emrecakir@gmail.com      emrecakir\n",
       "1   NaN  ÇAKIR     iremSçakır@email.com     iremSçakır\n",
       "2   NaN  ÇAKIR  cerenIcukurlu@email.com  cerenIcukurlu\n",
       "3  İrem    NaN                      NaN            NaN"
      ]
     },
     "execution_count": 39,
     "metadata": {},
     "output_type": "execute_result"
    }
   ],
   "source": [
    "df_people = df_people._append({'first' : 'İrem'}, ignore_index=True)\n",
    "df_people"
   ]
  },
  {
   "cell_type": "code",
   "execution_count": 40,
   "metadata": {},
   "outputs": [
    {
     "data": {
      "text/html": [
       "<div>\n",
       "<style scoped>\n",
       "    .dataframe tbody tr th:only-of-type {\n",
       "        vertical-align: middle;\n",
       "    }\n",
       "\n",
       "    .dataframe tbody tr th {\n",
       "        vertical-align: top;\n",
       "    }\n",
       "\n",
       "    .dataframe thead th {\n",
       "        text-align: right;\n",
       "    }\n",
       "</style>\n",
       "<table border=\"1\" class=\"dataframe\">\n",
       "  <thead>\n",
       "    <tr style=\"text-align: right;\">\n",
       "      <th></th>\n",
       "      <th>first</th>\n",
       "      <th>last</th>\n",
       "      <th>email</th>\n",
       "      <th>new</th>\n",
       "    </tr>\n",
       "  </thead>\n",
       "  <tbody>\n",
       "    <tr>\n",
       "      <th>0</th>\n",
       "      <td>Emre</td>\n",
       "      <td>ÇAKIR</td>\n",
       "      <td>emrecakir@gmail.com</td>\n",
       "      <td>emrecakir</td>\n",
       "    </tr>\n",
       "    <tr>\n",
       "      <th>1</th>\n",
       "      <td>NaN</td>\n",
       "      <td>ÇAKIR</td>\n",
       "      <td>iremSçakır@email.com</td>\n",
       "      <td>iremSçakır</td>\n",
       "    </tr>\n",
       "    <tr>\n",
       "      <th>2</th>\n",
       "      <td>NaN</td>\n",
       "      <td>ÇAKIR</td>\n",
       "      <td>cerenIcukurlu@email.com</td>\n",
       "      <td>cerenIcukurlu</td>\n",
       "    </tr>\n",
       "    <tr>\n",
       "      <th>3</th>\n",
       "      <td>İrem</td>\n",
       "      <td>Çukurlu</td>\n",
       "      <td>iremnew@email.com</td>\n",
       "      <td>iremnew</td>\n",
       "    </tr>\n",
       "  </tbody>\n",
       "</table>\n",
       "</div>"
      ],
      "text/plain": [
       "  first     last                    email            new\n",
       "0  Emre    ÇAKIR      emrecakir@gmail.com      emrecakir\n",
       "1   NaN    ÇAKIR     iremSçakır@email.com     iremSçakır\n",
       "2   NaN    ÇAKIR  cerenIcukurlu@email.com  cerenIcukurlu\n",
       "3  İrem  Çukurlu        iremnew@email.com        iremnew"
      ]
     },
     "execution_count": 40,
     "metadata": {},
     "output_type": "execute_result"
    }
   ],
   "source": [
    "df_people.loc[3,['last', 'email', 'new']] = ['Çukurlu', 'iremnew@email.com','iremnew']\n",
    "df_people"
   ]
  },
  {
   "cell_type": "markdown",
   "metadata": {
    "jp-MarkdownHeadingCollapsed": true
   },
   "source": [
    "## **▶️▶️ 3.17 Tabloları Birleştirme**"
   ]
  },
  {
   "cell_type": "code",
   "execution_count": 41,
   "metadata": {},
   "outputs": [],
   "source": [
    "new_people = {\n",
    "    \"first\" : [\"Hacer\",'Halise'],\n",
    "    \"last\" : [\"Çakır\",'Çukurlu'],\n",
    "    \"email\" : [\"yok\",'yok']\n",
    "}    \n",
    "\n",
    "df_new_people = pd.DataFrame(new_people)"
   ]
  },
  {
   "cell_type": "code",
   "execution_count": 42,
   "metadata": {},
   "outputs": [
    {
     "data": {
      "text/html": [
       "<div>\n",
       "<style scoped>\n",
       "    .dataframe tbody tr th:only-of-type {\n",
       "        vertical-align: middle;\n",
       "    }\n",
       "\n",
       "    .dataframe tbody tr th {\n",
       "        vertical-align: top;\n",
       "    }\n",
       "\n",
       "    .dataframe thead th {\n",
       "        text-align: right;\n",
       "    }\n",
       "</style>\n",
       "<table border=\"1\" class=\"dataframe\">\n",
       "  <thead>\n",
       "    <tr style=\"text-align: right;\">\n",
       "      <th></th>\n",
       "      <th>first</th>\n",
       "      <th>last</th>\n",
       "      <th>email</th>\n",
       "      <th>new</th>\n",
       "    </tr>\n",
       "  </thead>\n",
       "  <tbody>\n",
       "    <tr>\n",
       "      <th>0</th>\n",
       "      <td>Emre</td>\n",
       "      <td>ÇAKIR</td>\n",
       "      <td>emrecakir@gmail.com</td>\n",
       "      <td>emrecakir</td>\n",
       "    </tr>\n",
       "    <tr>\n",
       "      <th>1</th>\n",
       "      <td>NaN</td>\n",
       "      <td>ÇAKIR</td>\n",
       "      <td>iremSçakır@email.com</td>\n",
       "      <td>iremSçakır</td>\n",
       "    </tr>\n",
       "    <tr>\n",
       "      <th>2</th>\n",
       "      <td>NaN</td>\n",
       "      <td>ÇAKIR</td>\n",
       "      <td>cerenIcukurlu@email.com</td>\n",
       "      <td>cerenIcukurlu</td>\n",
       "    </tr>\n",
       "    <tr>\n",
       "      <th>3</th>\n",
       "      <td>İrem</td>\n",
       "      <td>Çukurlu</td>\n",
       "      <td>iremnew@email.com</td>\n",
       "      <td>iremnew</td>\n",
       "    </tr>\n",
       "    <tr>\n",
       "      <th>4</th>\n",
       "      <td>Hacer</td>\n",
       "      <td>Çakır</td>\n",
       "      <td>yok</td>\n",
       "      <td>NaN</td>\n",
       "    </tr>\n",
       "    <tr>\n",
       "      <th>5</th>\n",
       "      <td>Halise</td>\n",
       "      <td>Çukurlu</td>\n",
       "      <td>yok</td>\n",
       "      <td>NaN</td>\n",
       "    </tr>\n",
       "  </tbody>\n",
       "</table>\n",
       "</div>"
      ],
      "text/plain": [
       "    first     last                    email            new\n",
       "0    Emre    ÇAKIR      emrecakir@gmail.com      emrecakir\n",
       "1     NaN    ÇAKIR     iremSçakır@email.com     iremSçakır\n",
       "2     NaN    ÇAKIR  cerenIcukurlu@email.com  cerenIcukurlu\n",
       "3    İrem  Çukurlu        iremnew@email.com        iremnew\n",
       "4   Hacer    Çakır                      yok            NaN\n",
       "5  Halise  Çukurlu                      yok            NaN"
      ]
     },
     "execution_count": 42,
     "metadata": {},
     "output_type": "execute_result"
    }
   ],
   "source": [
    "df_people = df_people._append(df_new_people, ignore_index=True, sort=False) \n",
    "# Burada \"sort = False\" kısmı ne işe yarıyor ben de anlamadım. Yapmasak da oluyor bizde. \n",
    "df_people"
   ]
  },
  {
   "cell_type": "markdown",
   "metadata": {
    "jp-MarkdownHeadingCollapsed": true
   },
   "source": [
    "## **▶️▶️ 3.18 Row Silme**"
   ]
  },
  {
   "cell_type": "code",
   "execution_count": 44,
   "metadata": {},
   "outputs": [
    {
     "data": {
      "text/html": [
       "<div>\n",
       "<style scoped>\n",
       "    .dataframe tbody tr th:only-of-type {\n",
       "        vertical-align: middle;\n",
       "    }\n",
       "\n",
       "    .dataframe tbody tr th {\n",
       "        vertical-align: top;\n",
       "    }\n",
       "\n",
       "    .dataframe thead th {\n",
       "        text-align: right;\n",
       "    }\n",
       "</style>\n",
       "<table border=\"1\" class=\"dataframe\">\n",
       "  <thead>\n",
       "    <tr style=\"text-align: right;\">\n",
       "      <th></th>\n",
       "      <th>first</th>\n",
       "      <th>last</th>\n",
       "      <th>email</th>\n",
       "      <th>new</th>\n",
       "    </tr>\n",
       "  </thead>\n",
       "  <tbody>\n",
       "    <tr>\n",
       "      <th>0</th>\n",
       "      <td>Emre</td>\n",
       "      <td>ÇAKIR</td>\n",
       "      <td>emrecakir@gmail.com</td>\n",
       "      <td>emrecakir</td>\n",
       "    </tr>\n",
       "    <tr>\n",
       "      <th>1</th>\n",
       "      <td>NaN</td>\n",
       "      <td>ÇAKIR</td>\n",
       "      <td>iremSçakır@email.com</td>\n",
       "      <td>iremSçakır</td>\n",
       "    </tr>\n",
       "    <tr>\n",
       "      <th>2</th>\n",
       "      <td>NaN</td>\n",
       "      <td>ÇAKIR</td>\n",
       "      <td>cerenIcukurlu@email.com</td>\n",
       "      <td>cerenIcukurlu</td>\n",
       "    </tr>\n",
       "    <tr>\n",
       "      <th>3</th>\n",
       "      <td>İrem</td>\n",
       "      <td>Çukurlu</td>\n",
       "      <td>iremnew@email.com</td>\n",
       "      <td>iremnew</td>\n",
       "    </tr>\n",
       "    <tr>\n",
       "      <th>5</th>\n",
       "      <td>Halise</td>\n",
       "      <td>Çukurlu</td>\n",
       "      <td>yok</td>\n",
       "      <td>NaN</td>\n",
       "    </tr>\n",
       "  </tbody>\n",
       "</table>\n",
       "</div>"
      ],
      "text/plain": [
       "    first     last                    email            new\n",
       "0    Emre    ÇAKIR      emrecakir@gmail.com      emrecakir\n",
       "1     NaN    ÇAKIR     iremSçakır@email.com     iremSçakır\n",
       "2     NaN    ÇAKIR  cerenIcukurlu@email.com  cerenIcukurlu\n",
       "3    İrem  Çukurlu        iremnew@email.com        iremnew\n",
       "5  Halise  Çukurlu                      yok            NaN"
      ]
     },
     "execution_count": 44,
     "metadata": {},
     "output_type": "execute_result"
    }
   ],
   "source": [
    "df_people = df_people.drop(index = 4)\n",
    "\n",
    "df_people       # 4. index silindi"
   ]
  },
  {
   "cell_type": "code",
   "execution_count": 47,
   "metadata": {},
   "outputs": [
    {
     "data": {
      "text/html": [
       "<div>\n",
       "<style scoped>\n",
       "    .dataframe tbody tr th:only-of-type {\n",
       "        vertical-align: middle;\n",
       "    }\n",
       "\n",
       "    .dataframe tbody tr th {\n",
       "        vertical-align: top;\n",
       "    }\n",
       "\n",
       "    .dataframe thead th {\n",
       "        text-align: right;\n",
       "    }\n",
       "</style>\n",
       "<table border=\"1\" class=\"dataframe\">\n",
       "  <thead>\n",
       "    <tr style=\"text-align: right;\">\n",
       "      <th></th>\n",
       "      <th>first</th>\n",
       "      <th>last</th>\n",
       "      <th>email</th>\n",
       "      <th>new</th>\n",
       "    </tr>\n",
       "  </thead>\n",
       "  <tbody>\n",
       "    <tr>\n",
       "      <th>0</th>\n",
       "      <td>Emre</td>\n",
       "      <td>ÇAKIR</td>\n",
       "      <td>emrecakir@gmail.com</td>\n",
       "      <td>emrecakir</td>\n",
       "    </tr>\n",
       "    <tr>\n",
       "      <th>1</th>\n",
       "      <td>NaN</td>\n",
       "      <td>ÇAKIR</td>\n",
       "      <td>iremSçakır@email.com</td>\n",
       "      <td>iremSçakır</td>\n",
       "    </tr>\n",
       "    <tr>\n",
       "      <th>2</th>\n",
       "      <td>NaN</td>\n",
       "      <td>ÇAKIR</td>\n",
       "      <td>cerenIcukurlu@email.com</td>\n",
       "      <td>cerenIcukurlu</td>\n",
       "    </tr>\n",
       "  </tbody>\n",
       "</table>\n",
       "</div>"
      ],
      "text/plain": [
       "  first   last                    email            new\n",
       "0  Emre  ÇAKIR      emrecakir@gmail.com      emrecakir\n",
       "1   NaN  ÇAKIR     iremSçakır@email.com     iremSçakır\n",
       "2   NaN  ÇAKIR  cerenIcukurlu@email.com  cerenIcukurlu"
      ]
     },
     "execution_count": 47,
     "metadata": {},
     "output_type": "execute_result"
    }
   ],
   "source": [
    "filt = df_people['last'] == 'Çukurlu'\n",
    "df_people = df_people.drop(index = df_people[filt].index)\n",
    "df_people"
   ]
  },
  {
   "cell_type": "markdown",
   "metadata": {
    "jp-MarkdownHeadingCollapsed": true
   },
   "source": [
    "## **▶️▶️ 3.19 sort_values()**"
   ]
  },
  {
   "cell_type": "code",
   "execution_count": 48,
   "metadata": {},
   "outputs": [
    {
     "data": {
      "text/html": [
       "<div>\n",
       "<style scoped>\n",
       "    .dataframe tbody tr th:only-of-type {\n",
       "        vertical-align: middle;\n",
       "    }\n",
       "\n",
       "    .dataframe tbody tr th {\n",
       "        vertical-align: top;\n",
       "    }\n",
       "\n",
       "    .dataframe thead th {\n",
       "        text-align: right;\n",
       "    }\n",
       "</style>\n",
       "<table border=\"1\" class=\"dataframe\">\n",
       "  <thead>\n",
       "    <tr style=\"text-align: right;\">\n",
       "      <th></th>\n",
       "      <th>first</th>\n",
       "      <th>last</th>\n",
       "      <th>email</th>\n",
       "      <th>new</th>\n",
       "    </tr>\n",
       "  </thead>\n",
       "  <tbody>\n",
       "    <tr>\n",
       "      <th>1</th>\n",
       "      <td>NaN</td>\n",
       "      <td>ÇAKIR</td>\n",
       "      <td>iremSçakır@email.com</td>\n",
       "      <td>iremSçakır</td>\n",
       "    </tr>\n",
       "    <tr>\n",
       "      <th>0</th>\n",
       "      <td>Emre</td>\n",
       "      <td>ÇAKIR</td>\n",
       "      <td>emrecakir@gmail.com</td>\n",
       "      <td>emrecakir</td>\n",
       "    </tr>\n",
       "    <tr>\n",
       "      <th>2</th>\n",
       "      <td>NaN</td>\n",
       "      <td>ÇAKIR</td>\n",
       "      <td>cerenIcukurlu@email.com</td>\n",
       "      <td>cerenIcukurlu</td>\n",
       "    </tr>\n",
       "  </tbody>\n",
       "</table>\n",
       "</div>"
      ],
      "text/plain": [
       "  first   last                    email            new\n",
       "1   NaN  ÇAKIR     iremSçakır@email.com     iremSçakır\n",
       "0  Emre  ÇAKIR      emrecakir@gmail.com      emrecakir\n",
       "2   NaN  ÇAKIR  cerenIcukurlu@email.com  cerenIcukurlu"
      ]
     },
     "execution_count": 48,
     "metadata": {},
     "output_type": "execute_result"
    }
   ],
   "source": [
    "df_people = df_people.sort_values(by = 'email', ascending = False )\n",
    "\n",
    "df_people"
   ]
  },
  {
   "cell_type": "code",
   "execution_count": 49,
   "metadata": {},
   "outputs": [
    {
     "data": {
      "text/html": [
       "<div>\n",
       "<style scoped>\n",
       "    .dataframe tbody tr th:only-of-type {\n",
       "        vertical-align: middle;\n",
       "    }\n",
       "\n",
       "    .dataframe tbody tr th {\n",
       "        vertical-align: top;\n",
       "    }\n",
       "\n",
       "    .dataframe thead th {\n",
       "        text-align: right;\n",
       "    }\n",
       "</style>\n",
       "<table border=\"1\" class=\"dataframe\">\n",
       "  <thead>\n",
       "    <tr style=\"text-align: right;\">\n",
       "      <th></th>\n",
       "      <th>first</th>\n",
       "      <th>last</th>\n",
       "      <th>email</th>\n",
       "      <th>new</th>\n",
       "    </tr>\n",
       "  </thead>\n",
       "  <tbody>\n",
       "    <tr>\n",
       "      <th>0</th>\n",
       "      <td>Emre</td>\n",
       "      <td>ÇAKIR</td>\n",
       "      <td>emrecakir@gmail.com</td>\n",
       "      <td>emrecakir</td>\n",
       "    </tr>\n",
       "    <tr>\n",
       "      <th>1</th>\n",
       "      <td>NaN</td>\n",
       "      <td>ÇAKIR</td>\n",
       "      <td>iremSçakır@email.com</td>\n",
       "      <td>iremSçakır</td>\n",
       "    </tr>\n",
       "    <tr>\n",
       "      <th>2</th>\n",
       "      <td>NaN</td>\n",
       "      <td>ÇAKIR</td>\n",
       "      <td>cerenIcukurlu@email.com</td>\n",
       "      <td>cerenIcukurlu</td>\n",
       "    </tr>\n",
       "  </tbody>\n",
       "</table>\n",
       "</div>"
      ],
      "text/plain": [
       "  first   last                    email            new\n",
       "0  Emre  ÇAKIR      emrecakir@gmail.com      emrecakir\n",
       "1   NaN  ÇAKIR     iremSçakır@email.com     iremSçakır\n",
       "2   NaN  ÇAKIR  cerenIcukurlu@email.com  cerenIcukurlu"
      ]
     },
     "execution_count": 49,
     "metadata": {},
     "output_type": "execute_result"
    }
   ],
   "source": [
    "df_people = df_people.sort_values(by = ['last' , 'first'], ascending = False )\n",
    "\n",
    "df_people"
   ]
  },
  {
   "cell_type": "code",
   "execution_count": 50,
   "metadata": {},
   "outputs": [
    {
     "data": {
      "text/html": [
       "<div>\n",
       "<style scoped>\n",
       "    .dataframe tbody tr th:only-of-type {\n",
       "        vertical-align: middle;\n",
       "    }\n",
       "\n",
       "    .dataframe tbody tr th {\n",
       "        vertical-align: top;\n",
       "    }\n",
       "\n",
       "    .dataframe thead th {\n",
       "        text-align: right;\n",
       "    }\n",
       "</style>\n",
       "<table border=\"1\" class=\"dataframe\">\n",
       "  <thead>\n",
       "    <tr style=\"text-align: right;\">\n",
       "      <th></th>\n",
       "      <th>first</th>\n",
       "      <th>last</th>\n",
       "      <th>email</th>\n",
       "      <th>new</th>\n",
       "    </tr>\n",
       "  </thead>\n",
       "  <tbody>\n",
       "    <tr>\n",
       "      <th>0</th>\n",
       "      <td>Emre</td>\n",
       "      <td>ÇAKIR</td>\n",
       "      <td>emrecakir@gmail.com</td>\n",
       "      <td>emrecakir</td>\n",
       "    </tr>\n",
       "    <tr>\n",
       "      <th>1</th>\n",
       "      <td>NaN</td>\n",
       "      <td>ÇAKIR</td>\n",
       "      <td>iremSçakır@email.com</td>\n",
       "      <td>iremSçakır</td>\n",
       "    </tr>\n",
       "    <tr>\n",
       "      <th>2</th>\n",
       "      <td>NaN</td>\n",
       "      <td>ÇAKIR</td>\n",
       "      <td>cerenIcukurlu@email.com</td>\n",
       "      <td>cerenIcukurlu</td>\n",
       "    </tr>\n",
       "  </tbody>\n",
       "</table>\n",
       "</div>"
      ],
      "text/plain": [
       "  first   last                    email            new\n",
       "0  Emre  ÇAKIR      emrecakir@gmail.com      emrecakir\n",
       "1   NaN  ÇAKIR     iremSçakır@email.com     iremSçakır\n",
       "2   NaN  ÇAKIR  cerenIcukurlu@email.com  cerenIcukurlu"
      ]
     },
     "execution_count": 50,
     "metadata": {},
     "output_type": "execute_result"
    }
   ],
   "source": [
    "df_people.sort_values(by = ['last' , 'first'], ascending = [False, True], inplace = True )\n",
    "df_people"
   ]
  },
  {
   "cell_type": "code",
   "execution_count": 53,
   "metadata": {},
   "outputs": [
    {
     "data": {
      "text/plain": [
       "2    cerenIcukurlu\n",
       "0        emrecakir\n",
       "1       iremSçakır\n",
       "Name: new, dtype: object"
      ]
     },
     "execution_count": 53,
     "metadata": {},
     "output_type": "execute_result"
    }
   ],
   "source": [
    "df_people['new'].sort_values()"
   ]
  }
 ],
 "metadata": {
  "kernelspec": {
   "display_name": "Python 3 (ipykernel)",
   "language": "python",
   "name": "python3"
  },
  "language_info": {
   "codemirror_mode": {
    "name": "ipython",
    "version": 3
   },
   "file_extension": ".py",
   "mimetype": "text/x-python",
   "name": "python",
   "nbconvert_exporter": "python",
   "pygments_lexer": "ipython3",
   "version": "3.11.9"
  }
 },
 "nbformat": 4,
 "nbformat_minor": 4
}
